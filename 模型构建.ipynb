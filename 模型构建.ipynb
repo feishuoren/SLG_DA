{
 "cells": [
  {
   "cell_type": "markdown",
   "id": "8b5af062-301f-4158-bc8c-db21c4689e6f",
   "metadata": {},
   "source": [
    "# 模型构筑：从0实现用户氪金行为预测\n",
    "\n",
    "## 1 导库，整合数据"
   ]
  },
  {
   "cell_type": "code",
   "execution_count": 1,
   "id": "808a99f5-7c4b-444b-adcc-973503e087ad",
   "metadata": {
    "tags": []
   },
   "outputs": [],
   "source": [
    "import pandas as pd\n",
    "import numpy as np\n",
    "import matplotlib.pyplot as plt\n",
    "import sklearn\n",
    "%matplotlib inline\n",
    "plt.rcParams['font.sans-serif']=['Simhei']\n",
    "plt.rcParams['axes.unicode_minus']=False"
   ]
  },
  {
   "cell_type": "code",
   "execution_count": 2,
   "id": "fdf246ee-9b4a-4090-9c4c-d0c4d9a6fcd8",
   "metadata": {
    "tags": []
   },
   "outputs": [],
   "source": [
    "#更改列名为中文\n",
    "data = pd.read_csv(r\".\\数据\\tap4fun竞赛数据\\tap_fun_train.csv\")\n",
    "column_name = pd.read_excel(r\".\\数据\\tap4fun竞赛数据\\tap4fun 数据字段解释.xlsx\")\n",
    "data.columns = column_name[\"字段解释\"]"
   ]
  },
  {
   "cell_type": "code",
   "execution_count": 3,
   "id": "91131d46-9bf1-4b40-ab82-029f28c11fdf",
   "metadata": {
    "tags": []
   },
   "outputs": [
    {
     "data": {
      "text/html": [
       "<div>\n",
       "<style scoped>\n",
       "    .dataframe tbody tr th:only-of-type {\n",
       "        vertical-align: middle;\n",
       "    }\n",
       "\n",
       "    .dataframe tbody tr th {\n",
       "        vertical-align: top;\n",
       "    }\n",
       "\n",
       "    .dataframe thead th {\n",
       "        text-align: right;\n",
       "    }\n",
       "</style>\n",
       "<table border=\"1\" class=\"dataframe\">\n",
       "  <thead>\n",
       "    <tr style=\"text-align: right;\">\n",
       "      <th>字段解释</th>\n",
       "      <th>玩家唯一ID</th>\n",
       "      <th>玩家注册时间</th>\n",
       "      <th>木头获取数量</th>\n",
       "      <th>木头消耗数量</th>\n",
       "      <th>石头获取数量</th>\n",
       "      <th>石头消耗数量</th>\n",
       "      <th>象牙获取数量</th>\n",
       "      <th>象牙消耗数量</th>\n",
       "      <th>肉获取数量</th>\n",
       "      <th>肉消耗数量</th>\n",
       "      <th>...</th>\n",
       "      <th>PVP次数</th>\n",
       "      <th>主动发起PVP次数</th>\n",
       "      <th>PVP胜利次数</th>\n",
       "      <th>PVE次数</th>\n",
       "      <th>主动发起PVE次数</th>\n",
       "      <th>PVE胜利次数</th>\n",
       "      <th>在线时长</th>\n",
       "      <th>付费金额</th>\n",
       "      <th>付费次数</th>\n",
       "      <th>45日付费金额</th>\n",
       "    </tr>\n",
       "  </thead>\n",
       "  <tbody>\n",
       "    <tr>\n",
       "      <th>0</th>\n",
       "      <td>1</td>\n",
       "      <td>2018-02-02 19:47:15</td>\n",
       "      <td>20125.0</td>\n",
       "      <td>3700.0</td>\n",
       "      <td>0.0</td>\n",
       "      <td>0.0</td>\n",
       "      <td>0.0</td>\n",
       "      <td>0.0</td>\n",
       "      <td>16375.0</td>\n",
       "      <td>2000.0</td>\n",
       "      <td>...</td>\n",
       "      <td>0</td>\n",
       "      <td>0</td>\n",
       "      <td>0</td>\n",
       "      <td>0</td>\n",
       "      <td>0</td>\n",
       "      <td>0</td>\n",
       "      <td>0.333333</td>\n",
       "      <td>0.0</td>\n",
       "      <td>0</td>\n",
       "      <td>0.0</td>\n",
       "    </tr>\n",
       "    <tr>\n",
       "      <th>1</th>\n",
       "      <td>1593</td>\n",
       "      <td>2018-01-26 00:01:05</td>\n",
       "      <td>0.0</td>\n",
       "      <td>0.0</td>\n",
       "      <td>0.0</td>\n",
       "      <td>0.0</td>\n",
       "      <td>0.0</td>\n",
       "      <td>0.0</td>\n",
       "      <td>0.0</td>\n",
       "      <td>0.0</td>\n",
       "      <td>...</td>\n",
       "      <td>0</td>\n",
       "      <td>0</td>\n",
       "      <td>0</td>\n",
       "      <td>0</td>\n",
       "      <td>0</td>\n",
       "      <td>0</td>\n",
       "      <td>0.333333</td>\n",
       "      <td>0.0</td>\n",
       "      <td>0</td>\n",
       "      <td>0.0</td>\n",
       "    </tr>\n",
       "    <tr>\n",
       "      <th>2</th>\n",
       "      <td>1594</td>\n",
       "      <td>2018-01-26 00:01:58</td>\n",
       "      <td>0.0</td>\n",
       "      <td>0.0</td>\n",
       "      <td>0.0</td>\n",
       "      <td>0.0</td>\n",
       "      <td>0.0</td>\n",
       "      <td>0.0</td>\n",
       "      <td>0.0</td>\n",
       "      <td>0.0</td>\n",
       "      <td>...</td>\n",
       "      <td>0</td>\n",
       "      <td>0</td>\n",
       "      <td>0</td>\n",
       "      <td>0</td>\n",
       "      <td>0</td>\n",
       "      <td>0</td>\n",
       "      <td>1.166667</td>\n",
       "      <td>0.0</td>\n",
       "      <td>0</td>\n",
       "      <td>0.0</td>\n",
       "    </tr>\n",
       "    <tr>\n",
       "      <th>3</th>\n",
       "      <td>1595</td>\n",
       "      <td>2018-01-26 00:02:13</td>\n",
       "      <td>0.0</td>\n",
       "      <td>0.0</td>\n",
       "      <td>0.0</td>\n",
       "      <td>0.0</td>\n",
       "      <td>0.0</td>\n",
       "      <td>0.0</td>\n",
       "      <td>0.0</td>\n",
       "      <td>0.0</td>\n",
       "      <td>...</td>\n",
       "      <td>0</td>\n",
       "      <td>0</td>\n",
       "      <td>0</td>\n",
       "      <td>0</td>\n",
       "      <td>0</td>\n",
       "      <td>0</td>\n",
       "      <td>3.166667</td>\n",
       "      <td>0.0</td>\n",
       "      <td>0</td>\n",
       "      <td>0.0</td>\n",
       "    </tr>\n",
       "    <tr>\n",
       "      <th>4</th>\n",
       "      <td>1596</td>\n",
       "      <td>2018-01-26 00:02:46</td>\n",
       "      <td>0.0</td>\n",
       "      <td>0.0</td>\n",
       "      <td>0.0</td>\n",
       "      <td>0.0</td>\n",
       "      <td>0.0</td>\n",
       "      <td>0.0</td>\n",
       "      <td>0.0</td>\n",
       "      <td>0.0</td>\n",
       "      <td>...</td>\n",
       "      <td>0</td>\n",
       "      <td>0</td>\n",
       "      <td>0</td>\n",
       "      <td>0</td>\n",
       "      <td>0</td>\n",
       "      <td>0</td>\n",
       "      <td>2.333333</td>\n",
       "      <td>0.0</td>\n",
       "      <td>0</td>\n",
       "      <td>0.0</td>\n",
       "    </tr>\n",
       "  </tbody>\n",
       "</table>\n",
       "<p>5 rows × 109 columns</p>\n",
       "</div>"
      ],
      "text/plain": [
       "字段解释  玩家唯一ID               玩家注册时间   木头获取数量  木头消耗数量  石头获取数量  石头消耗数量  象牙获取数量  \\\n",
       "0          1  2018-02-02 19:47:15  20125.0  3700.0     0.0     0.0     0.0   \n",
       "1       1593  2018-01-26 00:01:05      0.0     0.0     0.0     0.0     0.0   \n",
       "2       1594  2018-01-26 00:01:58      0.0     0.0     0.0     0.0     0.0   \n",
       "3       1595  2018-01-26 00:02:13      0.0     0.0     0.0     0.0     0.0   \n",
       "4       1596  2018-01-26 00:02:46      0.0     0.0     0.0     0.0     0.0   \n",
       "\n",
       "字段解释  象牙消耗数量    肉获取数量   肉消耗数量  ...  PVP次数  主动发起PVP次数  PVP胜利次数  PVE次数  \\\n",
       "0        0.0  16375.0  2000.0  ...      0          0        0      0   \n",
       "1        0.0      0.0     0.0  ...      0          0        0      0   \n",
       "2        0.0      0.0     0.0  ...      0          0        0      0   \n",
       "3        0.0      0.0     0.0  ...      0          0        0      0   \n",
       "4        0.0      0.0     0.0  ...      0          0        0      0   \n",
       "\n",
       "字段解释  主动发起PVE次数  PVE胜利次数      在线时长  付费金额  付费次数  45日付费金额  \n",
       "0             0        0  0.333333   0.0     0      0.0  \n",
       "1             0        0  0.333333   0.0     0      0.0  \n",
       "2             0        0  1.166667   0.0     0      0.0  \n",
       "3             0        0  3.166667   0.0     0      0.0  \n",
       "4             0        0  2.333333   0.0     0      0.0  \n",
       "\n",
       "[5 rows x 109 columns]"
      ]
     },
     "execution_count": 3,
     "metadata": {},
     "output_type": "execute_result"
    }
   ],
   "source": [
    "data.head()"
   ]
  },
  {
   "cell_type": "markdown",
   "id": "07765369-950a-414c-ae1e-edee440fb09c",
   "metadata": {},
   "source": [
    "## 2. 数据预处理：注册时间与氪金状况有关吗？"
   ]
  },
  {
   "cell_type": "markdown",
   "id": "099ad07a-efe7-4899-9053-e4fb944394f6",
   "metadata": {},
   "source": [
    "从游戏世界的常识以及之前的分析结果来看，资源量的累计、在线时长等特征与用户体验的深度有较大的关联，也就与是否氪金、氪多少金额有较大的关联。但在我们的特征矩阵中，还有一类尚未分析的特征，玩家注册时间，这是全数据集中唯一一个object类型的对象。"
   ]
  },
  {
   "cell_type": "code",
   "execution_count": 4,
   "id": "3ab45112-495f-4d15-bb38-da967a169f2d",
   "metadata": {
    "tags": []
   },
   "outputs": [
    {
     "data": {
      "text/plain": [
       "0          2018-02-02 19:47:15\n",
       "1          2018-01-26 00:01:05\n",
       "2          2018-01-26 00:01:58\n",
       "3          2018-01-26 00:02:13\n",
       "4          2018-01-26 00:02:46\n",
       "                  ...         \n",
       "2288002    2018-02-03 14:54:10\n",
       "2288003    2018-02-03 14:55:21\n",
       "2288004    2018-02-03 14:56:35\n",
       "2288005    2018-02-03 14:57:51\n",
       "2288006    2018-02-03 14:58:45\n",
       "Name: 玩家注册时间, Length: 2288007, dtype: object"
      ]
     },
     "execution_count": 4,
     "metadata": {},
     "output_type": "execute_result"
    }
   ],
   "source": [
    "data.loc[:,\"玩家注册时间\"]"
   ]
  },
  {
   "cell_type": "markdown",
   "id": "ad95c001-8ebd-46a5-8c0a-7d46784622f1",
   "metadata": {},
   "source": [
    "从常识来看，一般注册时间与用户的氪金行为应该关系不大，在这里我们将时间分成日期和时刻来考虑，分别绘制横坐标为注册日期/注册时刻、纵坐标为该日期/该时刻注册用户氪金均值的关系图，以此来观察注册日期、时刻与氪金是否有关。"
   ]
  },
  {
   "cell_type": "code",
   "execution_count": 5,
   "id": "8e0237ab-f3f0-411c-ab8a-78b569682898",
   "metadata": {
    "tags": []
   },
   "outputs": [],
   "source": [
    "import time\n",
    "import datetime"
   ]
  },
  {
   "cell_type": "code",
   "execution_count": 6,
   "id": "f47d33bf-0d91-4f8c-a776-93c8e7d5f145",
   "metadata": {
    "tags": []
   },
   "outputs": [
    {
     "data": {
      "text/plain": [
       "0          2018-02-02\n",
       "1          2018-01-26\n",
       "2          2018-01-26\n",
       "3          2018-01-26\n",
       "4          2018-01-26\n",
       "              ...    \n",
       "2288002    2018-02-03\n",
       "2288003    2018-02-03\n",
       "2288004    2018-02-03\n",
       "2288005    2018-02-03\n",
       "2288006    2018-02-03\n",
       "Name: 玩家注册时间, Length: 2288007, dtype: object"
      ]
     },
     "execution_count": 6,
     "metadata": {},
     "output_type": "execute_result"
    }
   ],
   "source": [
    "# 首先将玩家注册日期提取出来作为新的一列\n",
    "RegisterDate = data.loc[:,\"玩家注册时间\"].apply(lambda x: x[:10])\n",
    "RegisterDate"
   ]
  },
  {
   "cell_type": "code",
   "execution_count": 7,
   "id": "167a5a1f-9bf5-4195-ba75-cc7f78d45e38",
   "metadata": {
    "tags": []
   },
   "outputs": [
    {
     "data": {
      "text/plain": [
       "玩家注册时间\n",
       "2018-01-26    0.828631\n",
       "2018-01-27    0.411715\n",
       "2018-01-28    0.424587\n",
       "2018-01-29    0.565344\n",
       "2018-01-30    0.776891\n",
       "2018-01-31    0.353800\n",
       "2018-02-01    0.304698\n",
       "2018-02-02    0.846928\n",
       "2018-02-03    0.741158\n",
       "2018-02-04    0.440295\n",
       "2018-02-05    0.684033\n",
       "2018-02-06    0.413324\n",
       "2018-02-07    0.454560\n",
       "2018-02-08    0.478379\n",
       "2018-02-09    0.653726\n",
       "2018-02-10    0.682243\n",
       "2018-02-11    0.405305\n",
       "2018-02-12    0.820042\n",
       "2018-02-13    0.459915\n",
       "2018-02-14    0.484836\n",
       "2018-02-15    0.252700\n",
       "2018-02-16    0.811025\n",
       "2018-02-17    0.399717\n",
       "2018-02-18    0.396659\n",
       "2018-02-19    0.370515\n",
       "2018-02-20    0.271209\n",
       "2018-02-21    0.435525\n",
       "2018-02-22    0.477723\n",
       "2018-02-23    1.041871\n",
       "2018-02-24    0.702184\n",
       "2018-02-25    0.515020\n",
       "2018-02-26    0.956741\n",
       "2018-02-27    0.413218\n",
       "2018-02-28    0.527081\n",
       "2018-03-01    0.503308\n",
       "2018-03-02    0.702079\n",
       "2018-03-03    0.389855\n",
       "2018-03-04    0.381600\n",
       "2018-03-05    0.695222\n",
       "2018-03-06    0.807820\n",
       "Name: 付费金额, dtype: float64"
      ]
     },
     "execution_count": 7,
     "metadata": {},
     "output_type": "execute_result"
    }
   ],
   "source": [
    "#按照玩家注册日期对付费金额进行聚合平均计算\n",
    "RegisterDateMean = data[\"付费金额\"].groupby(RegisterDate).mean()\n",
    "RegisterDateMean"
   ]
  },
  {
   "cell_type": "code",
   "execution_count": 8,
   "id": "da6090b9-4846-409c-95a9-e26156925e4d",
   "metadata": {
    "tags": []
   },
   "outputs": [
    {
     "data": {
      "image/png": "[encoded data removed]",
      "text/plain": [
       "<Figure size 1500x300 with 1 Axes>"
      ]
     },
     "metadata": {},
     "output_type": "display_data"
    }
   ],
   "source": [
    "#绘制图像\n",
    "plt.figure(figsize=(15,3),dpi=100)\n",
    "plt.title(\"不同注册日期的用户氪金均值\")\n",
    "plt.bar(RegisterDateMean.index, RegisterDateMean.values)\n",
    "plt.xticks(RegisterDateMean.index,rotation=60,ha=\"right\");"
   ]
  },
  {
   "cell_type": "markdown",
   "id": "95d25a49-aaac-4e2d-b4ad-0bce12376cde",
   "metadata": {},
   "source": [
    "从图上来看，几乎无法看出日期与氪金数额有所联系。看起来整体是比较随机而且杂乱的，但是每隔几天就会有一个高峰。我们可以试试看将日期转化为一星期中的七天，观察一下星期和氪金数额是否有明显的关系。"
   ]
  },
  {
   "cell_type": "code",
   "execution_count": 9,
   "id": "5a94e587-c8b6-49e8-b5af-ed51a16131c0",
   "metadata": {
    "tags": []
   },
   "outputs": [
    {
     "data": {
      "text/plain": [
       "4"
      ]
     },
     "execution_count": 9,
     "metadata": {},
     "output_type": "execute_result"
    }
   ],
   "source": [
    "#必须要将字符串转化为python可以读取的时间格式，这样python才能够基于日期帮助我辨别，这个日期是星期几\n",
    "#weekday - [0,1,2,3,4,5,6]\n",
    "datetime.datetime.strptime(data.loc[0,\"玩家注册时间\"][:10],\"%Y-%m-%d\").weekday()"
   ]
  },
  {
   "cell_type": "code",
   "execution_count": 10,
   "id": "822846d9-eb58-4b9b-856e-e69addbf8b85",
   "metadata": {
    "tags": []
   },
   "outputs": [],
   "source": [
    "RegisterWeekday = data.loc[:,\"玩家注册时间\"].apply(lambda x: datetime.datetime.strptime(x[:10],\"%Y-%m-%d\").weekday()+1) #1~7分别代表周一到周日"
   ]
  },
  {
   "cell_type": "code",
   "execution_count": 11,
   "id": "13069a6e-335d-40cb-a783-8c3e458afa8e",
   "metadata": {
    "tags": []
   },
   "outputs": [
    {
     "data": {
      "text/plain": [
       "0          5\n",
       "1          5\n",
       "2          5\n",
       "3          5\n",
       "4          5\n",
       "          ..\n",
       "2288002    6\n",
       "2288003    6\n",
       "2288004    6\n",
       "2288005    6\n",
       "2288006    6\n",
       "Name: 玩家注册时间, Length: 2288007, dtype: int64"
      ]
     },
     "execution_count": 11,
     "metadata": {},
     "output_type": "execute_result"
    }
   ],
   "source": [
    "RegisterWeekday"
   ]
  },
  {
   "cell_type": "code",
   "execution_count": 12,
   "id": "8a61b8a3-49d1-48ee-8f9a-1854d58844ec",
   "metadata": {
    "tags": []
   },
   "outputs": [
    {
     "data": {
      "text/plain": [
       "玩家注册时间\n",
       "1    0.618232\n",
       "2    0.484993\n",
       "3    0.447997\n",
       "4    0.378135\n",
       "5    0.814581\n",
       "6    0.548842\n",
       "7    0.426176\n",
       "Name: 付费金额, dtype: float64"
      ]
     },
     "execution_count": 12,
     "metadata": {},
     "output_type": "execute_result"
    }
   ],
   "source": [
    "RegisterWeekDayMean = data[\"付费金额\"].groupby(RegisterWeekday).mean()\n",
    "\n",
    "RegisterWeekDayMean"
   ]
  },
  {
   "cell_type": "code",
   "execution_count": 13,
   "id": "4d7b7b6a-4984-4912-9106-de7d0450beb7",
   "metadata": {
    "tags": []
   },
   "outputs": [
    {
     "data": {
      "image/png": "[encoded data removed]",
      "text/plain": [
       "<Figure size 400x400 with 1 Axes>"
      ]
     },
     "metadata": {},
     "output_type": "display_data"
    }
   ],
   "source": [
    "#绘制图像\n",
    "plt.figure(figsize=(4,4),dpi=100)\n",
    "plt.title(\"不同注册日期（星期）的用户氪金均值\")\n",
    "plt.bar(RegisterWeekDayMean.index, RegisterWeekDayMean.values)\n",
    "plt.xticks(RegisterWeekDayMean.index,rotation=60,ha=\"right\");"
   ]
  },
  {
   "cell_type": "markdown",
   "id": "fd38970e-2da2-45e9-84ec-7d3ba55f2542",
   "metadata": {},
   "source": [
    "很明显，周五、周一注册的人有较高的氪金金额，并且在高峰之后会逐渐下降。这个趋势看起来是氪金金额与星期相关，但实际上更可能是跟游戏买量、投放的节奏和渠道有关。或许每周五、每周一都可以排到质量较高的用户所在的渠道，或者周五会吸引到大量准备过周末的玩家的注意、周一则会吸引到大量还不想投入工作的玩家的注意。周五与周一的高峰暗示这两天进入的流量可能是有规律工作、有经济收入的人。但无论真相是什么，从特征的角度来看，我们可以计算一下星期与45日付费金额的相关系数："
   ]
  },
  {
   "cell_type": "code",
   "execution_count": 14,
   "id": "2ec0a8bc-23f1-4bb3-a549-f972780451ab",
   "metadata": {
    "tags": []
   },
   "outputs": [
    {
     "data": {
      "text/html": [
       "<div>\n",
       "<style scoped>\n",
       "    .dataframe tbody tr th:only-of-type {\n",
       "        vertical-align: middle;\n",
       "    }\n",
       "\n",
       "    .dataframe tbody tr th {\n",
       "        vertical-align: top;\n",
       "    }\n",
       "\n",
       "    .dataframe thead th {\n",
       "        text-align: right;\n",
       "    }\n",
       "</style>\n",
       "<table border=\"1\" class=\"dataframe\">\n",
       "  <thead>\n",
       "    <tr style=\"text-align: right;\">\n",
       "      <th></th>\n",
       "      <th>45日付费金额</th>\n",
       "      <th>玩家注册时间</th>\n",
       "    </tr>\n",
       "  </thead>\n",
       "  <tbody>\n",
       "    <tr>\n",
       "      <th>45日付费金额</th>\n",
       "      <td>1.00000</td>\n",
       "      <td>0.00017</td>\n",
       "    </tr>\n",
       "    <tr>\n",
       "      <th>玩家注册时间</th>\n",
       "      <td>0.00017</td>\n",
       "      <td>1.00000</td>\n",
       "    </tr>\n",
       "  </tbody>\n",
       "</table>\n",
       "</div>"
      ],
      "text/plain": [
       "         45日付费金额   玩家注册时间\n",
       "45日付费金额  1.00000  0.00017\n",
       "玩家注册时间   0.00017  1.00000"
      ]
     },
     "execution_count": 14,
     "metadata": {},
     "output_type": "execute_result"
    }
   ],
   "source": [
    "pd.concat([data[\"45日付费金额\"],RegisterWeekday],axis=1).corr()"
   ]
  },
  {
   "cell_type": "markdown",
   "id": "975671e3-748b-4eee-8673-f2c1d9d86d6e",
   "metadata": {},
   "source": [
    "相关系数非常非常小，两者几乎不相关，我们可以不将**星期**放入特征矩阵了。\n",
    "\n",
    "判断**时刻**是否有影响"
   ]
  },
  {
   "cell_type": "code",
   "execution_count": 15,
   "id": "5ff16cbb-ab10-41d9-9ffa-a0df21686258",
   "metadata": {
    "tags": []
   },
   "outputs": [
    {
     "data": {
      "text/plain": [
       "0          19\n",
       "1           0\n",
       "2           0\n",
       "3           0\n",
       "4           0\n",
       "           ..\n",
       "2288002    14\n",
       "2288003    14\n",
       "2288004    14\n",
       "2288005    14\n",
       "2288006    14\n",
       "Name: 玩家注册时间, Length: 2288007, dtype: int64"
      ]
     },
     "execution_count": 15,
     "metadata": {},
     "output_type": "execute_result"
    }
   ],
   "source": [
    "#将时刻也单独列一列，提取小时数作为特征\n",
    "RegisterTime = data.loc[:,\"玩家注册时间\"].apply(lambda x: int(x[11:13]))\n",
    "RegisterTime"
   ]
  },
  {
   "cell_type": "code",
   "execution_count": 16,
   "id": "cfa232e0-99fb-4ba2-9a46-1a0cc688d0d0",
   "metadata": {
    "tags": []
   },
   "outputs": [
    {
     "data": {
      "text/plain": [
       "玩家注册时间\n",
       "0     0.542833\n",
       "1     0.432465\n",
       "2     0.350108\n",
       "3     0.400207\n",
       "4     0.390398\n",
       "5     0.426960\n",
       "6     0.427454\n",
       "7     0.363325\n",
       "8     0.370818\n",
       "9     0.334605\n",
       "10    1.268075\n",
       "11    1.027658\n",
       "12    0.726206\n",
       "13    0.520226\n",
       "14    0.570217\n",
       "15    0.640136\n",
       "16    0.725031\n",
       "17    0.449590\n",
       "18    0.464896\n",
       "19    0.382819\n",
       "20    0.388107\n",
       "21    0.432118\n",
       "22    0.598543\n",
       "23    0.570575\n",
       "Name: 付费金额, dtype: float64"
      ]
     },
     "execution_count": 16,
     "metadata": {},
     "output_type": "execute_result"
    }
   ],
   "source": [
    "#按玩家注册时刻进行聚合，求均值\n",
    "RegisterTimeMean = data[\"付费金额\"].groupby(RegisterTime).mean()\n",
    "RegisterTimeMean"
   ]
  },
  {
   "cell_type": "code",
   "execution_count": 17,
   "id": "8c1a760c-af98-45f5-8cd1-ec01af9ec6fe",
   "metadata": {
    "tags": []
   },
   "outputs": [
    {
     "data": {
      "image/png": "[encoded data removed]",
      "text/plain": [
       "<Figure size 1500x300 with 1 Axes>"
      ]
     },
     "metadata": {},
     "output_type": "display_data"
    }
   ],
   "source": [
    "#绘制图像\n",
    "plt.figure(figsize=(15,3),dpi=100)\n",
    "plt.title(\"不同注册时刻的用户氪金均值\")\n",
    "plt.bar(RegisterTimeMean.index, RegisterTimeMean.values)\n",
    "plt.xticks(RegisterTimeMean.index,rotation=60,ha=\"right\");"
   ]
  },
  {
   "cell_type": "markdown",
   "id": "d62e529d-e0cf-4ef2-abd7-e82aa7b92e8f",
   "metadata": {},
   "source": [
    "早上10点-12点之间注册的用户、以及下午4点-5点之间表现出比其他时段注册的用户更高的氪金能力，这可能是与推广渠道有关，也可能真的是注册时刻与氪金金额有关。巧合的是，上午10点与下午4点正是上班时间中摸鱼喝茶的时间，如果能够确定这个时间在推广的是哪些渠道，就能够确定相关用户的画像，来判断是否真是时间与氪金数额有关了。同时，也来看看相关系数："
   ]
  },
  {
   "cell_type": "code",
   "execution_count": 18,
   "id": "fc9ed494-42bd-4d19-9f25-88e88088311c",
   "metadata": {
    "tags": []
   },
   "outputs": [
    {
     "data": {
      "text/html": [
       "<div>\n",
       "<style scoped>\n",
       "    .dataframe tbody tr th:only-of-type {\n",
       "        vertical-align: middle;\n",
       "    }\n",
       "\n",
       "    .dataframe tbody tr th {\n",
       "        vertical-align: top;\n",
       "    }\n",
       "\n",
       "    .dataframe thead th {\n",
       "        text-align: right;\n",
       "    }\n",
       "</style>\n",
       "<table border=\"1\" class=\"dataframe\">\n",
       "  <thead>\n",
       "    <tr style=\"text-align: right;\">\n",
       "      <th></th>\n",
       "      <th>45日付费金额</th>\n",
       "      <th>玩家注册时间</th>\n",
       "    </tr>\n",
       "  </thead>\n",
       "  <tbody>\n",
       "    <tr>\n",
       "      <th>45日付费金额</th>\n",
       "      <td>1.000000</td>\n",
       "      <td>0.000708</td>\n",
       "    </tr>\n",
       "    <tr>\n",
       "      <th>玩家注册时间</th>\n",
       "      <td>0.000708</td>\n",
       "      <td>1.000000</td>\n",
       "    </tr>\n",
       "  </tbody>\n",
       "</table>\n",
       "</div>"
      ],
      "text/plain": [
       "          45日付费金额    玩家注册时间\n",
       "45日付费金额  1.000000  0.000708\n",
       "玩家注册时间   0.000708  1.000000"
      ]
     },
     "execution_count": 18,
     "metadata": {},
     "output_type": "execute_result"
    }
   ],
   "source": [
    "pd.concat([data[\"45日付费金额\"],RegisterTime],axis=1).corr()"
   ]
  },
  {
   "cell_type": "markdown",
   "id": "c33d3e40-e6ab-4413-87dc-41d11527c38d",
   "metadata": {},
   "source": [
    "看起来注册时刻与付费金额有一点点关系（非常微弱），我们可以保留注册时刻为建模用。"
   ]
  },
  {
   "cell_type": "markdown",
   "id": "cb49e623-463c-472f-8579-9909a08c7998",
   "metadata": {},
   "source": [
    "增加玩家注册时刻作为特征，注意要添加到标签的前面，维持标签是最后一列"
   ]
  },
  {
   "cell_type": "code",
   "execution_count": 19,
   "id": "596463c2-b6ea-481f-a62e-ce08c0bda6e2",
   "metadata": {
    "tags": []
   },
   "outputs": [
    {
     "data": {
      "text/plain": [
       "109"
      ]
     },
     "execution_count": 19,
     "metadata": {},
     "output_type": "execute_result"
    }
   ],
   "source": [
    "data.shape[1]"
   ]
  },
  {
   "cell_type": "code",
   "execution_count": 20,
   "id": "9d2ccfb5-3c78-4c42-8443-a2caaf290992",
   "metadata": {
    "tags": []
   },
   "outputs": [],
   "source": [
    "data.insert(data.shape[1]-1,\"玩家注册时刻\",RegisterTime)"
   ]
  },
  {
   "cell_type": "markdown",
   "id": "e9ba8551-c03f-4c8c-bb09-0ccc43899458",
   "metadata": {},
   "source": [
    "现在我们可以删除最初的“注册时间”这个特征了，同时，我们也可以将玩家唯一ID删除，因为ID应当不是有助于建模的特征。"
   ]
  },
  {
   "cell_type": "code",
   "execution_count": 21,
   "id": "a3c269e2-b106-499c-9db0-baefd16694a3",
   "metadata": {
    "tags": []
   },
   "outputs": [],
   "source": [
    "data.drop(columns=[\"玩家注册时间\",\"玩家唯一ID\"],inplace=True) #删除不需要的特征"
   ]
  },
  {
   "cell_type": "code",
   "execution_count": 22,
   "id": "4f83ff72-6c4d-4b2d-bf48-4390357c3824",
   "metadata": {
    "tags": []
   },
   "outputs": [
    {
     "data": {
      "text/plain": [
       "Index(['木头获取数量', '木头消耗数量', '石头获取数量', '石头消耗数量', '象牙获取数量', '象牙消耗数量', '肉获取数量',\n",
       "       '肉消耗数量', '魔法获取数量', '魔法消耗数量',\n",
       "       ...\n",
       "       '主动发起PVP次数', 'PVP胜利次数', 'PVE次数', '主动发起PVE次数', 'PVE胜利次数', '在线时长', '付费金额',\n",
       "       '付费次数', '玩家注册时刻', '45日付费金额'],\n",
       "      dtype='object', name='字段解释', length=108)"
      ]
     },
     "execution_count": 22,
     "metadata": {},
     "output_type": "execute_result"
    }
   ],
   "source": [
    "data.columns"
   ]
  },
  {
   "cell_type": "markdown",
   "id": "0c617576-cfa0-4992-8850-0972ea01e8a8",
   "metadata": {},
   "source": [
    "## 3. 模型选择与benchmark"
   ]
  },
  {
   "cell_type": "markdown",
   "id": "1220bb73-2a53-4994-a0c1-fb4fd489d441",
   "metadata": {},
   "source": [
    "在2018年DC竞赛上，《野蛮时代》数据集上拿到冠军的团队实现了RMSE=40，前10名的RMSE值为55.444，前20名的RMSE值为57.67，我们可以以50为目标来进行调整。在建模之前，我们需要构建自己的benchmark，来对比我们的优化流程是否有效。<br>\n",
    "竞赛benchmark走这里：https://js.dclab.run/v2/cmptDetail.html?id=226"
   ]
  },
  {
   "cell_type": "code",
   "execution_count": 23,
   "id": "80943ac6-7ac2-4814-92d9-9afed10a36aa",
   "metadata": {
    "tags": []
   },
   "outputs": [
    {
     "data": {
      "text/html": [
       "<div>\n",
       "<style scoped>\n",
       "    .dataframe tbody tr th:only-of-type {\n",
       "        vertical-align: middle;\n",
       "    }\n",
       "\n",
       "    .dataframe tbody tr th {\n",
       "        vertical-align: top;\n",
       "    }\n",
       "\n",
       "    .dataframe thead th {\n",
       "        text-align: right;\n",
       "    }\n",
       "</style>\n",
       "<table border=\"1\" class=\"dataframe\">\n",
       "  <thead>\n",
       "    <tr style=\"text-align: right;\">\n",
       "      <th>字段解释</th>\n",
       "      <th>木头获取数量</th>\n",
       "      <th>木头消耗数量</th>\n",
       "      <th>石头获取数量</th>\n",
       "      <th>石头消耗数量</th>\n",
       "      <th>象牙获取数量</th>\n",
       "      <th>象牙消耗数量</th>\n",
       "      <th>肉获取数量</th>\n",
       "      <th>肉消耗数量</th>\n",
       "      <th>魔法获取数量</th>\n",
       "      <th>魔法消耗数量</th>\n",
       "      <th>...</th>\n",
       "      <th>主动发起PVP次数</th>\n",
       "      <th>PVP胜利次数</th>\n",
       "      <th>PVE次数</th>\n",
       "      <th>主动发起PVE次数</th>\n",
       "      <th>PVE胜利次数</th>\n",
       "      <th>在线时长</th>\n",
       "      <th>付费金额</th>\n",
       "      <th>付费次数</th>\n",
       "      <th>玩家注册时刻</th>\n",
       "      <th>45日付费金额</th>\n",
       "    </tr>\n",
       "  </thead>\n",
       "  <tbody>\n",
       "    <tr>\n",
       "      <th>0</th>\n",
       "      <td>20125.0</td>\n",
       "      <td>3700.0</td>\n",
       "      <td>0.0</td>\n",
       "      <td>0.0</td>\n",
       "      <td>0.0</td>\n",
       "      <td>0.0</td>\n",
       "      <td>16375.0</td>\n",
       "      <td>2000.0</td>\n",
       "      <td>0.0</td>\n",
       "      <td>0.0</td>\n",
       "      <td>...</td>\n",
       "      <td>0</td>\n",
       "      <td>0</td>\n",
       "      <td>0</td>\n",
       "      <td>0</td>\n",
       "      <td>0</td>\n",
       "      <td>0.333333</td>\n",
       "      <td>0.0</td>\n",
       "      <td>0</td>\n",
       "      <td>19</td>\n",
       "      <td>0.0</td>\n",
       "    </tr>\n",
       "    <tr>\n",
       "      <th>1</th>\n",
       "      <td>0.0</td>\n",
       "      <td>0.0</td>\n",
       "      <td>0.0</td>\n",
       "      <td>0.0</td>\n",
       "      <td>0.0</td>\n",
       "      <td>0.0</td>\n",
       "      <td>0.0</td>\n",
       "      <td>0.0</td>\n",
       "      <td>0.0</td>\n",
       "      <td>0.0</td>\n",
       "      <td>...</td>\n",
       "      <td>0</td>\n",
       "      <td>0</td>\n",
       "      <td>0</td>\n",
       "      <td>0</td>\n",
       "      <td>0</td>\n",
       "      <td>0.333333</td>\n",
       "      <td>0.0</td>\n",
       "      <td>0</td>\n",
       "      <td>0</td>\n",
       "      <td>0.0</td>\n",
       "    </tr>\n",
       "    <tr>\n",
       "      <th>2</th>\n",
       "      <td>0.0</td>\n",
       "      <td>0.0</td>\n",
       "      <td>0.0</td>\n",
       "      <td>0.0</td>\n",
       "      <td>0.0</td>\n",
       "      <td>0.0</td>\n",
       "      <td>0.0</td>\n",
       "      <td>0.0</td>\n",
       "      <td>0.0</td>\n",
       "      <td>0.0</td>\n",
       "      <td>...</td>\n",
       "      <td>0</td>\n",
       "      <td>0</td>\n",
       "      <td>0</td>\n",
       "      <td>0</td>\n",
       "      <td>0</td>\n",
       "      <td>1.166667</td>\n",
       "      <td>0.0</td>\n",
       "      <td>0</td>\n",
       "      <td>0</td>\n",
       "      <td>0.0</td>\n",
       "    </tr>\n",
       "    <tr>\n",
       "      <th>3</th>\n",
       "      <td>0.0</td>\n",
       "      <td>0.0</td>\n",
       "      <td>0.0</td>\n",
       "      <td>0.0</td>\n",
       "      <td>0.0</td>\n",
       "      <td>0.0</td>\n",
       "      <td>0.0</td>\n",
       "      <td>0.0</td>\n",
       "      <td>0.0</td>\n",
       "      <td>0.0</td>\n",
       "      <td>...</td>\n",
       "      <td>0</td>\n",
       "      <td>0</td>\n",
       "      <td>0</td>\n",
       "      <td>0</td>\n",
       "      <td>0</td>\n",
       "      <td>3.166667</td>\n",
       "      <td>0.0</td>\n",
       "      <td>0</td>\n",
       "      <td>0</td>\n",
       "      <td>0.0</td>\n",
       "    </tr>\n",
       "    <tr>\n",
       "      <th>4</th>\n",
       "      <td>0.0</td>\n",
       "      <td>0.0</td>\n",
       "      <td>0.0</td>\n",
       "      <td>0.0</td>\n",
       "      <td>0.0</td>\n",
       "      <td>0.0</td>\n",
       "      <td>0.0</td>\n",
       "      <td>0.0</td>\n",
       "      <td>0.0</td>\n",
       "      <td>0.0</td>\n",
       "      <td>...</td>\n",
       "      <td>0</td>\n",
       "      <td>0</td>\n",
       "      <td>0</td>\n",
       "      <td>0</td>\n",
       "      <td>0</td>\n",
       "      <td>2.333333</td>\n",
       "      <td>0.0</td>\n",
       "      <td>0</td>\n",
       "      <td>0</td>\n",
       "      <td>0.0</td>\n",
       "    </tr>\n",
       "  </tbody>\n",
       "</table>\n",
       "<p>5 rows × 108 columns</p>\n",
       "</div>"
      ],
      "text/plain": [
       "字段解释   木头获取数量  木头消耗数量  石头获取数量  石头消耗数量  象牙获取数量  象牙消耗数量    肉获取数量   肉消耗数量  \\\n",
       "0     20125.0  3700.0     0.0     0.0     0.0     0.0  16375.0  2000.0   \n",
       "1         0.0     0.0     0.0     0.0     0.0     0.0      0.0     0.0   \n",
       "2         0.0     0.0     0.0     0.0     0.0     0.0      0.0     0.0   \n",
       "3         0.0     0.0     0.0     0.0     0.0     0.0      0.0     0.0   \n",
       "4         0.0     0.0     0.0     0.0     0.0     0.0      0.0     0.0   \n",
       "\n",
       "字段解释  魔法获取数量  魔法消耗数量  ...  主动发起PVP次数  PVP胜利次数  PVE次数  主动发起PVE次数  PVE胜利次数  \\\n",
       "0        0.0     0.0  ...          0        0      0          0        0   \n",
       "1        0.0     0.0  ...          0        0      0          0        0   \n",
       "2        0.0     0.0  ...          0        0      0          0        0   \n",
       "3        0.0     0.0  ...          0        0      0          0        0   \n",
       "4        0.0     0.0  ...          0        0      0          0        0   \n",
       "\n",
       "字段解释      在线时长  付费金额  付费次数  玩家注册时刻  45日付费金额  \n",
       "0     0.333333   0.0     0      19      0.0  \n",
       "1     0.333333   0.0     0       0      0.0  \n",
       "2     1.166667   0.0     0       0      0.0  \n",
       "3     3.166667   0.0     0       0      0.0  \n",
       "4     2.333333   0.0     0       0      0.0  \n",
       "\n",
       "[5 rows x 108 columns]"
      ]
     },
     "execution_count": 23,
     "metadata": {},
     "output_type": "execute_result"
    }
   ],
   "source": [
    "data.head()"
   ]
  },
  {
   "cell_type": "code",
   "execution_count": 24,
   "id": "bd0ea082-202c-4252-b94f-3755a5a31aba",
   "metadata": {
    "tags": []
   },
   "outputs": [],
   "source": [
    "# 将标签提取出来，分割标签与特征\n",
    "X = data.iloc[:, :-1]\n",
    "y = data.iloc[:, -1]"
   ]
  },
  {
   "cell_type": "code",
   "execution_count": 25,
   "id": "51e77092-6ab1-45df-87c6-49f8c7969dd1",
   "metadata": {
    "tags": []
   },
   "outputs": [
    {
     "data": {
      "text/plain": [
       "((2288007, 107), (2288007,))"
      ]
     },
     "execution_count": 25,
     "metadata": {},
     "output_type": "execute_result"
    }
   ],
   "source": [
    "X.shape, y.shape"
   ]
  },
  {
   "cell_type": "code",
   "execution_count": 26,
   "id": "bdde0163-a96a-4c72-a81d-f5a9b47b8646",
   "metadata": {
    "tags": []
   },
   "outputs": [
    {
     "data": {
      "text/plain": [
       "0    0.0\n",
       "1    0.0\n",
       "2    0.0\n",
       "3    0.0\n",
       "4    0.0\n",
       "Name: 45日付费金额, dtype: float64"
      ]
     },
     "execution_count": 26,
     "metadata": {},
     "output_type": "execute_result"
    }
   ],
   "source": [
    "y.head()"
   ]
  },
  {
   "cell_type": "markdown",
   "id": "7a7d960d-3a1b-4cba-a26d-a7c6014537d5",
   "metadata": {},
   "source": [
    "在现有数据量的要求下，我们首先要考虑计算迅速且简单的线性模型：线性回归。\n",
    "\n",
    "经测试，200w数据集在100棵树的随机森林上跑一次大约需要半小时时间，在100棵树的XGBoost上跑一次大约需要40分钟时间，大家可以根据自己的需求更换为**树模型**，但课程中建议使用速度较快的**线性模型**，方便跑模型和讲解优化过程。"
   ]
  },
  {
   "cell_type": "markdown",
   "id": "81f1c34c-6b03-4815-8957-3bd0d4a10380",
   "metadata": {},
   "source": [
    "**建立benchmark**"
   ]
  },
  {
   "cell_type": "code",
   "execution_count": 27,
   "id": "d2795a22-a5c8-49a4-8d56-3245b19be941",
   "metadata": {
    "tags": []
   },
   "outputs": [],
   "source": [
    "from sklearn.linear_model import LinearRegression as LR #线性回归\n",
    "from sklearn.model_selection import train_test_split as TTS #分割训练集与测试集的类\n",
    "from sklearn.metrics import mean_squared_error as MSE #模型评估指标"
   ]
  },
  {
   "cell_type": "code",
   "execution_count": 28,
   "id": "a6e2f2f8-9848-4e00-92a6-a6657cbc1947",
   "metadata": {
    "tags": []
   },
   "outputs": [],
   "source": [
    "#数据分割\n",
    "Xtrain, Xtest, Ytrain, Ytest = TTS(X,y,test_size=0.3,random_state=1412)"
   ]
  },
  {
   "cell_type": "code",
   "execution_count": 29,
   "id": "7a26cca8-996e-4e83-af45-88f020cdfa48",
   "metadata": {
    "tags": []
   },
   "outputs": [
    {
     "data": {
      "text/plain": [
       "(1601604, 107)"
      ]
     },
     "execution_count": 29,
     "metadata": {},
     "output_type": "execute_result"
    }
   ],
   "source": [
    "Xtrain.shape"
   ]
  },
  {
   "cell_type": "code",
   "execution_count": 30,
   "id": "9ddd6bae-a211-4541-bd11-4043d39af8ff",
   "metadata": {
    "tags": []
   },
   "outputs": [
    {
     "data": {
      "text/plain": [
       "(686403, 107)"
      ]
     },
     "execution_count": 30,
     "metadata": {},
     "output_type": "execute_result"
    }
   ],
   "source": [
    "Xtest.shape"
   ]
  },
  {
   "cell_type": "code",
   "execution_count": 31,
   "id": "36eff6f8-ac94-4ece-9eda-2567a69de631",
   "metadata": {
    "tags": []
   },
   "outputs": [
    {
     "data": {
      "text/html": [
       "<div>\n",
       "<style scoped>\n",
       "    .dataframe tbody tr th:only-of-type {\n",
       "        vertical-align: middle;\n",
       "    }\n",
       "\n",
       "    .dataframe tbody tr th {\n",
       "        vertical-align: top;\n",
       "    }\n",
       "\n",
       "    .dataframe thead th {\n",
       "        text-align: right;\n",
       "    }\n",
       "</style>\n",
       "<table border=\"1\" class=\"dataframe\">\n",
       "  <thead>\n",
       "    <tr style=\"text-align: right;\">\n",
       "      <th>字段解释</th>\n",
       "      <th>木头获取数量</th>\n",
       "      <th>木头消耗数量</th>\n",
       "      <th>石头获取数量</th>\n",
       "      <th>石头消耗数量</th>\n",
       "      <th>象牙获取数量</th>\n",
       "      <th>象牙消耗数量</th>\n",
       "      <th>肉获取数量</th>\n",
       "      <th>肉消耗数量</th>\n",
       "      <th>魔法获取数量</th>\n",
       "      <th>魔法消耗数量</th>\n",
       "      <th>...</th>\n",
       "      <th>PVP次数</th>\n",
       "      <th>主动发起PVP次数</th>\n",
       "      <th>PVP胜利次数</th>\n",
       "      <th>PVE次数</th>\n",
       "      <th>主动发起PVE次数</th>\n",
       "      <th>PVE胜利次数</th>\n",
       "      <th>在线时长</th>\n",
       "      <th>付费金额</th>\n",
       "      <th>付费次数</th>\n",
       "      <th>玩家注册时刻</th>\n",
       "    </tr>\n",
       "  </thead>\n",
       "  <tbody>\n",
       "    <tr>\n",
       "      <th>243592</th>\n",
       "      <td>10000.0</td>\n",
       "      <td>600.0</td>\n",
       "      <td>0.0</td>\n",
       "      <td>0.0</td>\n",
       "      <td>0.0</td>\n",
       "      <td>0.0</td>\n",
       "      <td>10000.0</td>\n",
       "      <td>400.0</td>\n",
       "      <td>0.0</td>\n",
       "      <td>0.0</td>\n",
       "      <td>...</td>\n",
       "      <td>0</td>\n",
       "      <td>0</td>\n",
       "      <td>0</td>\n",
       "      <td>0</td>\n",
       "      <td>0</td>\n",
       "      <td>0</td>\n",
       "      <td>0.166667</td>\n",
       "      <td>0.0</td>\n",
       "      <td>0</td>\n",
       "      <td>19</td>\n",
       "    </tr>\n",
       "    <tr>\n",
       "      <th>361662</th>\n",
       "      <td>39038.0</td>\n",
       "      <td>8750.0</td>\n",
       "      <td>0.0</td>\n",
       "      <td>0.0</td>\n",
       "      <td>3000.0</td>\n",
       "      <td>0.0</td>\n",
       "      <td>42434.0</td>\n",
       "      <td>6060.0</td>\n",
       "      <td>0.0</td>\n",
       "      <td>0.0</td>\n",
       "      <td>...</td>\n",
       "      <td>1</td>\n",
       "      <td>0</td>\n",
       "      <td>0</td>\n",
       "      <td>1</td>\n",
       "      <td>1</td>\n",
       "      <td>1</td>\n",
       "      <td>0.833333</td>\n",
       "      <td>0.0</td>\n",
       "      <td>0</td>\n",
       "      <td>12</td>\n",
       "    </tr>\n",
       "    <tr>\n",
       "      <th>1319519</th>\n",
       "      <td>10000.0</td>\n",
       "      <td>1600.0</td>\n",
       "      <td>0.0</td>\n",
       "      <td>0.0</td>\n",
       "      <td>0.0</td>\n",
       "      <td>0.0</td>\n",
       "      <td>10000.0</td>\n",
       "      <td>900.0</td>\n",
       "      <td>0.0</td>\n",
       "      <td>0.0</td>\n",
       "      <td>...</td>\n",
       "      <td>0</td>\n",
       "      <td>0</td>\n",
       "      <td>0</td>\n",
       "      <td>0</td>\n",
       "      <td>0</td>\n",
       "      <td>0</td>\n",
       "      <td>0.166667</td>\n",
       "      <td>0.0</td>\n",
       "      <td>0</td>\n",
       "      <td>15</td>\n",
       "    </tr>\n",
       "    <tr>\n",
       "      <th>276423</th>\n",
       "      <td>26625.0</td>\n",
       "      <td>6900.0</td>\n",
       "      <td>0.0</td>\n",
       "      <td>0.0</td>\n",
       "      <td>0.0</td>\n",
       "      <td>0.0</td>\n",
       "      <td>31625.0</td>\n",
       "      <td>3900.0</td>\n",
       "      <td>0.0</td>\n",
       "      <td>0.0</td>\n",
       "      <td>...</td>\n",
       "      <td>1</td>\n",
       "      <td>1</td>\n",
       "      <td>0</td>\n",
       "      <td>0</td>\n",
       "      <td>0</td>\n",
       "      <td>0</td>\n",
       "      <td>4.500000</td>\n",
       "      <td>0.0</td>\n",
       "      <td>0</td>\n",
       "      <td>9</td>\n",
       "    </tr>\n",
       "    <tr>\n",
       "      <th>1060863</th>\n",
       "      <td>0.0</td>\n",
       "      <td>0.0</td>\n",
       "      <td>0.0</td>\n",
       "      <td>0.0</td>\n",
       "      <td>0.0</td>\n",
       "      <td>0.0</td>\n",
       "      <td>0.0</td>\n",
       "      <td>0.0</td>\n",
       "      <td>0.0</td>\n",
       "      <td>0.0</td>\n",
       "      <td>...</td>\n",
       "      <td>0</td>\n",
       "      <td>0</td>\n",
       "      <td>0</td>\n",
       "      <td>0</td>\n",
       "      <td>0</td>\n",
       "      <td>0</td>\n",
       "      <td>0.666667</td>\n",
       "      <td>0.0</td>\n",
       "      <td>0</td>\n",
       "      <td>4</td>\n",
       "    </tr>\n",
       "  </tbody>\n",
       "</table>\n",
       "<p>5 rows × 107 columns</p>\n",
       "</div>"
      ],
      "text/plain": [
       "字段解释      木头获取数量  木头消耗数量  石头获取数量  石头消耗数量  象牙获取数量  象牙消耗数量    肉获取数量   肉消耗数量  \\\n",
       "243592   10000.0   600.0     0.0     0.0     0.0     0.0  10000.0   400.0   \n",
       "361662   39038.0  8750.0     0.0     0.0  3000.0     0.0  42434.0  6060.0   \n",
       "1319519  10000.0  1600.0     0.0     0.0     0.0     0.0  10000.0   900.0   \n",
       "276423   26625.0  6900.0     0.0     0.0     0.0     0.0  31625.0  3900.0   \n",
       "1060863      0.0     0.0     0.0     0.0     0.0     0.0      0.0     0.0   \n",
       "\n",
       "字段解释     魔法获取数量  魔法消耗数量  ...  PVP次数  主动发起PVP次数  PVP胜利次数  PVE次数  主动发起PVE次数  \\\n",
       "243592      0.0     0.0  ...      0          0        0      0          0   \n",
       "361662      0.0     0.0  ...      1          0        0      1          1   \n",
       "1319519     0.0     0.0  ...      0          0        0      0          0   \n",
       "276423      0.0     0.0  ...      1          1        0      0          0   \n",
       "1060863     0.0     0.0  ...      0          0        0      0          0   \n",
       "\n",
       "字段解释     PVE胜利次数      在线时长  付费金额  付费次数  玩家注册时刻  \n",
       "243592         0  0.166667   0.0     0      19  \n",
       "361662         1  0.833333   0.0     0      12  \n",
       "1319519        0  0.166667   0.0     0      15  \n",
       "276423         0  4.500000   0.0     0       9  \n",
       "1060863        0  0.666667   0.0     0       4  \n",
       "\n",
       "[5 rows x 107 columns]"
      ]
     },
     "execution_count": 31,
     "metadata": {},
     "output_type": "execute_result"
    }
   ],
   "source": [
    "Xtrain.head()"
   ]
  },
  {
   "cell_type": "code",
   "execution_count": 32,
   "id": "f6ac371a-415a-4b67-82a9-1d489d7c031c",
   "metadata": {
    "tags": []
   },
   "outputs": [],
   "source": [
    "# 建模\n",
    "reg = LR() # 实例化"
   ]
  },
  {
   "cell_type": "code",
   "execution_count": 33,
   "id": "96c24623-ce88-4359-b679-892adb523b0e",
   "metadata": {
    "tags": []
   },
   "outputs": [],
   "source": [
    "reg_benchmark = reg.fit(Xtrain,Ytrain) # 训练"
   ]
  },
  {
   "cell_type": "code",
   "execution_count": 34,
   "id": "93cef9e1-51c2-41c0-b9c0-9f1bee0a09af",
   "metadata": {
    "tags": []
   },
   "outputs": [
    {
     "data": {
      "text/plain": [
       "0.5604160157526336"
      ]
     },
     "execution_count": 34,
     "metadata": {},
     "output_type": "execute_result"
    }
   ],
   "source": [
    "reg_benchmark.score(Xtrain,Ytrain) # 训练集上的分数"
   ]
  },
  {
   "cell_type": "code",
   "execution_count": 35,
   "id": "0fe8148b-e659-4f0e-8842-f4c297d84da0",
   "metadata": {
    "tags": []
   },
   "outputs": [
    {
     "data": {
      "text/plain": [
       "0.5581998030190547"
      ]
     },
     "execution_count": 35,
     "metadata": {},
     "output_type": "execute_result"
    }
   ],
   "source": [
    "reg_benchmark.score(Xtest,Ytest) # 测试集上的分数"
   ]
  },
  {
   "cell_type": "code",
   "execution_count": 36,
   "id": "2a7dcdd7-767a-41c1-bddd-b2cdd7f1e4c8",
   "metadata": {
    "tags": []
   },
   "outputs": [],
   "source": [
    "# 模型处于欠拟合状态——在训练集和测试集上的分数都不是很高，并且两者分数相似\n",
    "# 简单的线性模型在学习能力上略显不足"
   ]
  },
  {
   "cell_type": "code",
   "execution_count": 37,
   "id": "6a9420d9-b9f8-4fc6-9f65-1e257953f499",
   "metadata": {
    "tags": []
   },
   "outputs": [],
   "source": [
    "y_pred = reg_benchmark.predict(Xtest) # 测试集上的预测标签"
   ]
  },
  {
   "cell_type": "code",
   "execution_count": 38,
   "id": "82de15e7-012c-409d-9827-fba0f55bc3ac",
   "metadata": {
    "tags": []
   },
   "outputs": [
    {
     "data": {
      "text/plain": [
       "62.00116183660688"
      ]
     },
     "execution_count": 38,
     "metadata": {},
     "output_type": "execute_result"
    }
   ],
   "source": [
    "# 根均方误差RMSE\n",
    "np.sqrt(MSE(Ytest,y_pred)) "
   ]
  },
  {
   "cell_type": "markdown",
   "id": "7fc7a1bc-353b-4c8e-b67a-9274f00a9c6f",
   "metadata": {},
   "source": [
    "benchmark：\n",
    "62的RMSE，以及55.8%的r^2\n",
    "\n",
    "之后应该提升R^2，降低RMSE"
   ]
  },
  {
   "cell_type": "markdown",
   "id": "af9a8b85-1615-49e5-b270-285883f32423",
   "metadata": {},
   "source": [
    "试着使用其他模型进行预测。现在的数据量对于树的集成模型来说过于巨大，因此我们只能够在有限的条件下进行尝试："
   ]
  },
  {
   "cell_type": "code",
   "execution_count": 39,
   "id": "f4ce849e-3323-46ed-b7ca-87d8db6c160c",
   "metadata": {
    "tags": []
   },
   "outputs": [],
   "source": [
    "from sklearn.ensemble import RandomForestRegressor as RFR"
   ]
  },
  {
   "cell_type": "code",
   "execution_count": 40,
   "id": "a4748694-4d8f-4f80-98f4-777d528e9ce3",
   "metadata": {
    "tags": []
   },
   "outputs": [],
   "source": [
    "#给出非常少的树的数量，以及限制每次分枝所使用的最大特征量\n",
    "reg_tree = RFR(n_estimators=10,max_features=5) #100+，max_features=5"
   ]
  },
  {
   "cell_type": "code",
   "execution_count": 41,
   "id": "c3d71901-351a-48a9-8e57-99b8bc612bd9",
   "metadata": {
    "tags": []
   },
   "outputs": [
    {
     "data": {
      "text/html": [
       "<style>#sk-container-id-1 {color: black;}#sk-container-id-1 pre{padding: 0;}#sk-container-id-1 div.sk-toggleable {background-color: white;}#sk-container-id-1 label.sk-toggleable__label {cursor: pointer;display: block;width: 100%;margin-bottom: 0;padding: 0.3em;box-sizing: border-box;text-align: center;}#sk-container-id-1 label.sk-toggleable__label-arrow:before {content: \"▸\";float: left;margin-right: 0.25em;color: #696969;}#sk-container-id-1 label.sk-toggleable__label-arrow:hover:before {color: black;}#sk-container-id-1 div.sk-estimator:hover label.sk-toggleable__label-arrow:before {color: black;}#sk-container-id-1 div.sk-toggleable__content {max-height: 0;max-width: 0;overflow: hidden;text-align: left;background-color: #f0f8ff;}#sk-container-id-1 div.sk-toggleable__content pre {margin: 0.2em;color: black;border-radius: 0.25em;background-color: #f0f8ff;}#sk-container-id-1 input.sk-toggleable__control:checked~div.sk-toggleable__content {max-height: 200px;max-width: 100%;overflow: auto;}#sk-container-id-1 input.sk-toggleable__control:checked~label.sk-toggleable__label-arrow:before {content: \"▾\";}#sk-container-id-1 div.sk-estimator input.sk-toggleable__control:checked~label.sk-toggleable__label {background-color: #d4ebff;}#sk-container-id-1 div.sk-label input.sk-toggleable__control:checked~label.sk-toggleable__label {background-color: #d4ebff;}#sk-container-id-1 input.sk-hidden--visually {border: 0;clip: rect(1px 1px 1px 1px);clip: rect(1px, 1px, 1px, 1px);height: 1px;margin: -1px;overflow: hidden;padding: 0;position: absolute;width: 1px;}#sk-container-id-1 div.sk-estimator {font-family: monospace;background-color: #f0f8ff;border: 1px dotted black;border-radius: 0.25em;box-sizing: border-box;margin-bottom: 0.5em;}#sk-container-id-1 div.sk-estimator:hover {background-color: #d4ebff;}#sk-container-id-1 div.sk-parallel-item::after {content: \"\";width: 100%;border-bottom: 1px solid gray;flex-grow: 1;}#sk-container-id-1 div.sk-label:hover label.sk-toggleable__label {background-color: #d4ebff;}#sk-container-id-1 div.sk-serial::before {content: \"\";position: absolute;border-left: 1px solid gray;box-sizing: border-box;top: 0;bottom: 0;left: 50%;z-index: 0;}#sk-container-id-1 div.sk-serial {display: flex;flex-direction: column;align-items: center;background-color: white;padding-right: 0.2em;padding-left: 0.2em;position: relative;}#sk-container-id-1 div.sk-item {position: relative;z-index: 1;}#sk-container-id-1 div.sk-parallel {display: flex;align-items: stretch;justify-content: center;background-color: white;position: relative;}#sk-container-id-1 div.sk-item::before, #sk-container-id-1 div.sk-parallel-item::before {content: \"\";position: absolute;border-left: 1px solid gray;box-sizing: border-box;top: 0;bottom: 0;left: 50%;z-index: -1;}#sk-container-id-1 div.sk-parallel-item {display: flex;flex-direction: column;z-index: 1;position: relative;background-color: white;}#sk-container-id-1 div.sk-parallel-item:first-child::after {align-self: flex-end;width: 50%;}#sk-container-id-1 div.sk-parallel-item:last-child::after {align-self: flex-start;width: 50%;}#sk-container-id-1 div.sk-parallel-item:only-child::after {width: 0;}#sk-container-id-1 div.sk-dashed-wrapped {border: 1px dashed gray;margin: 0 0.4em 0.5em 0.4em;box-sizing: border-box;padding-bottom: 0.4em;background-color: white;}#sk-container-id-1 div.sk-label label {font-family: monospace;font-weight: bold;display: inline-block;line-height: 1.2em;}#sk-container-id-1 div.sk-label-container {text-align: center;}#sk-container-id-1 div.sk-container {/* jupyter's `normalize.less` sets `[hidden] { display: none; }` but bootstrap.min.css set `[hidden] { display: none !important; }` so we also need the `!important` here to be able to override the default hidden behavior on the sphinx rendered scikit-learn.org. See: https://github.com/scikit-learn/scikit-learn/issues/21755 */display: inline-block !important;position: relative;}#sk-container-id-1 div.sk-text-repr-fallback {display: none;}</style><div id=\"sk-container-id-1\" class=\"sk-top-container\"><div class=\"sk-text-repr-fallback\"><pre>RandomForestRegressor(max_features=5, n_estimators=10)</pre><b>In a Jupyter environment, please rerun this cell to show the HTML representation or trust the notebook. <br />On GitHub, the HTML representation is unable to render, please try loading this page with nbviewer.org.</b></div><div class=\"sk-container\" hidden><div class=\"sk-item\"><div class=\"sk-estimator sk-toggleable\"><input class=\"sk-toggleable__control sk-hidden--visually\" id=\"sk-estimator-id-1\" type=\"checkbox\" checked><label for=\"sk-estimator-id-1\" class=\"sk-toggleable__label sk-toggleable__label-arrow\">RandomForestRegressor</label><div class=\"sk-toggleable__content\"><pre>RandomForestRegressor(max_features=5, n_estimators=10)</pre></div></div></div></div></div>"
      ],
      "text/plain": [
       "RandomForestRegressor(max_features=5, n_estimators=10)"
      ]
     },
     "execution_count": 41,
     "metadata": {},
     "output_type": "execute_result"
    }
   ],
   "source": [
    "##=====【TIME WARNING：2mins】======##\n",
    "reg_tree.fit(Xtrain,Ytrain)"
   ]
  },
  {
   "cell_type": "code",
   "execution_count": 42,
   "id": "64dbcaf7-001a-456e-8161-6aa50440be0e",
   "metadata": {
    "tags": []
   },
   "outputs": [
    {
     "data": {
      "text/plain": [
       "0.8812520946581133"
      ]
     },
     "execution_count": 42,
     "metadata": {},
     "output_type": "execute_result"
    }
   ],
   "source": [
    "reg_tree.score(Xtrain,Ytrain) # 训练集上的R^2"
   ]
  },
  {
   "cell_type": "code",
   "execution_count": 43,
   "id": "738f2e02-629f-4219-b41c-9ab660ac2bf6",
   "metadata": {
    "tags": []
   },
   "outputs": [
    {
     "data": {
      "text/plain": [
       "0.4105992243236156"
      ]
     },
     "execution_count": 43,
     "metadata": {},
     "output_type": "execute_result"
    }
   ],
   "source": [
    "reg_tree.score(Xtest,Ytest) # 测试集上的R^2"
   ]
  },
  {
   "cell_type": "code",
   "execution_count": 44,
   "id": "70884c4b-3049-4340-9e13-b2421f9a03e5",
   "metadata": {},
   "outputs": [],
   "source": [
    "# 随即森林处于过拟合的状态\n",
    "# 有机会应该对RF进行抗过拟合的调参，来试着使用树模型"
   ]
  },
  {
   "cell_type": "code",
   "execution_count": 45,
   "id": "7fe99308-55cc-44a1-9e48-4aafe9ade6f6",
   "metadata": {
    "tags": []
   },
   "outputs": [],
   "source": [
    "y_pred = reg_tree.predict(Xtest)"
   ]
  },
  {
   "cell_type": "code",
   "execution_count": 46,
   "id": "c20c27f1-2cc9-4d15-9166-4c2d4c1140be",
   "metadata": {
    "tags": []
   },
   "outputs": [
    {
     "data": {
      "text/plain": [
       "71.61305923747159"
      ]
     },
     "execution_count": 46,
     "metadata": {},
     "output_type": "execute_result"
    }
   ],
   "source": [
    "np.sqrt(MSE(Ytest,y_pred))"
   ]
  },
  {
   "cell_type": "markdown",
   "id": "8d039b2d-9125-4167-be61-9858ab5a4fce",
   "metadata": {},
   "source": [
    "这不是一个很好的征兆。通常来说，如果一个数据在线性模型上表现较好，在树模型上表现较差，则说明该数据的分布规律接近线性规律，更适用于线性回归、贝叶斯这些模型。反之，则说明该数据的分布更接近非线性规律，更适合树模型这样的非线性模型。但如果树模型和线性模型表现出差不多的结果、并且两种结果都不高，则说明数据本身的学习难度较大。我们可以尝试着对随机森林稍微进行调整，会发现无论我们对模型做什么，模型的RMSE都非常高。"
   ]
  },
  {
   "cell_type": "code",
   "execution_count": 47,
   "id": "9c5a7a9b-48ff-4f9f-9b9e-4b5322bddc25",
   "metadata": {
    "tags": []
   },
   "outputs": [],
   "source": [
    "##=====【TIME WARNING：10mins】======##\n",
    "reg_tree2 = RFR(n_estimators=20,max_features=5).fit(Xtrain,Ytrain) #增大树的数量"
   ]
  },
  {
   "cell_type": "code",
   "execution_count": 48,
   "id": "06fce461-5870-4859-9bf8-42ac687c7b51",
   "metadata": {
    "tags": []
   },
   "outputs": [
    {
     "data": {
      "text/plain": [
       "66.80900039883208"
      ]
     },
     "execution_count": 48,
     "metadata": {},
     "output_type": "execute_result"
    }
   ],
   "source": [
    "np.sqrt(MSE(Ytest,reg_tree2.predict(Xtest)))"
   ]
  },
  {
   "cell_type": "code",
   "execution_count": 49,
   "id": "8d1ce3c7-7ae1-4907-acb8-949feb16e832",
   "metadata": {
    "tags": []
   },
   "outputs": [],
   "source": [
    "reg_tree3 = RFR(n_estimators=20,max_depth=2,max_features=5).fit(Xtrain,Ytrain) #控制最大深度"
   ]
  },
  {
   "cell_type": "code",
   "execution_count": 50,
   "id": "ddc6ddc9-86d8-4b33-9eac-d50d796e6136",
   "metadata": {
    "tags": []
   },
   "outputs": [
    {
     "data": {
      "text/plain": [
       "71.03528601491129"
      ]
     },
     "execution_count": 50,
     "metadata": {},
     "output_type": "execute_result"
    }
   ],
   "source": [
    "np.sqrt(MSE(Ytest,reg_tree3.predict(Xtest)))"
   ]
  },
  {
   "cell_type": "markdown",
   "id": "37db21f2-cbd3-4b9a-9b56-56078c9d59b9",
   "metadata": {},
   "source": [
    "**如果建立benchmark的时候发现最佳模型就是线性回归，那基本没有任何可以调整的余地了，因为线性回归几乎没有任何可以调整的参数。** 根据经验，面对这样的数据，要么花大量精力做特征工程，要么使用神经网络进行建模。但无论如何，我们先尽一切努力降低数据集上的RMSE。"
   ]
  },
  {
   "cell_type": "markdown",
   "id": "69359ce3-d00c-4bc2-98e8-c24cbfc932d0",
   "metadata": {},
   "source": [
    "## 4. 特征工程(1)：根据业务模式新增特征"
   ]
  },
  {
   "cell_type": "markdown",
   "id": "1f8874ab-e5e1-4666-9af9-395cecc19a28",
   "metadata": {},
   "source": [
    "在之前众多业务模式分析当中，我们已经对SLG游戏的业务以及游戏本身有了很多的了解。现在我们可以基于这些了解来构筑新的特征。在对算法进行建模时，我们经常使用以下方式对现有特征进行重组，来生成新特征：\n",
    "\n",
    "- 1. 特征之间**加减乘除**\n",
    "- 2. 对特征进行简单**数学运算**（绝对值，取对数）\n",
    "- 3. 对特征进行**逻辑运算**（and, or, 并集，交集，最大值，最小值）\n",
    "- 4. 对特征进行**聚合运算**（按照离散特征聚合后取中位数、均值、众数、标准差、方差、频数）\n",
    "- 5. 对特征使用**多项式**拓展方法（即特征与自身、与其他特征相乘）\n",
    "- 6. 对连续特征进行**分箱**\n",
    "- 7. 对离散特征进行**独热编码**"
   ]
  },
  {
   "cell_type": "markdown",
   "id": "689fa3cf-5411-4860-a136-6a34ed5e87db",
   "metadata": {},
   "source": [
    "基于我们对业务的理解，事实上现在的数据集中有非常多可以增加的特征，例如：\n",
    "\n",
    "> - 个人PVP胜率 = PVP胜利次数/PVP次数，无PVP的用户胜率为0\n",
    "> - 主动发起PVP的概率 = 主动发起PVP次数/PVP次数，无PVP的用户主动发起为0\n",
    "> - 玩家发育效率 = 平均资源获取数/在线时长 （该指标高的人擅长游戏）\n",
    "> - 玩家升级效率 = 技能的平均等级/在线时长\n",
    "> - 氪金发育效率 = 平均资源获取数/7日付费金额 （该指标高的人善用氪金资源）\n",
    "> - 氪金升级效率 = 技能的平均等级/7日付费金额\n",
    "\n",
    "还可以对7日付费金额、在线时长等明显对氪金有影响的特征分箱，并按分箱后的类别求资源、PVP胜率等与游戏体验深度相关的特征的聚合函数，这一点对于树模型会尤其有效。在有限的时间内，我们无法对所有可能增加的特征都进行计算，因此我们选择手动增加以上6个特征，作为一种尝试："
   ]
  },
  {
   "cell_type": "code",
   "execution_count": 51,
   "id": "d8220ae5-cc99-4131-bbe0-1d4ff6fdcb63",
   "metadata": {
    "tags": []
   },
   "outputs": [
    {
     "data": {
      "text/plain": [
       "['木头获取数量',\n",
       " '木头消耗数量',\n",
       " '石头获取数量',\n",
       " '石头消耗数量',\n",
       " '象牙获取数量',\n",
       " '象牙消耗数量',\n",
       " '肉获取数量',\n",
       " '肉消耗数量',\n",
       " '魔法获取数量',\n",
       " '魔法消耗数量',\n",
       " '勇士招募数量',\n",
       " '勇士损失数量',\n",
       " '驯兽师招募数量',\n",
       " '驯兽师损失数量',\n",
       " '萨满招募数量',\n",
       " '萨满损失数量',\n",
       " '勇士伤兵产生数量',\n",
       " '勇士伤兵恢复数量',\n",
       " '驯兽师伤兵产生数量',\n",
       " '驯兽师伤兵恢复数量',\n",
       " '萨满伤兵产生数量',\n",
       " '萨满伤兵恢复数量',\n",
       " '通用加速获取数量',\n",
       " '通用加速使用数量',\n",
       " '建筑加速获取数量',\n",
       " '建筑加速使用数量',\n",
       " '科研加速获取数量',\n",
       " '科研加速使用数量',\n",
       " '训练加速获取数量',\n",
       " '训练加速使用数量',\n",
       " '治疗加速获取数量',\n",
       " '治疗加速使用数量',\n",
       " '建筑：士兵小屋等级',\n",
       " '建筑：治疗小井等级',\n",
       " '建筑：要塞等级',\n",
       " '建筑：据点传送门等级',\n",
       " '建筑：兵营等级',\n",
       " '建筑：治疗之泉等级',\n",
       " '建筑：智慧神庙等级',\n",
       " '建筑：联盟大厅等级',\n",
       " '建筑：仓库等级',\n",
       " '建筑：瞭望塔等级',\n",
       " '建筑：魔法幸运树等级',\n",
       " '建筑：战争大厅等级',\n",
       " '建筑：联盟货车等级',\n",
       " '建筑：占卜台等级',\n",
       " '建筑：祭坛等级',\n",
       " '建筑：冒险传送门等级',\n",
       " '科研：侦查等级',\n",
       " '科研：训练速度等级',\n",
       " '科研：守护者',\n",
       " '科研：巨兽驯兽师',\n",
       " '科研：吟唱者',\n",
       " '科研：勇士攻击',\n",
       " '科研：驯兽师攻击',\n",
       " '科研：萨满攻击',\n",
       " '科研：战斗大师',\n",
       " '科研：高阶巨兽骑兵',\n",
       " '科研：图腾大师',\n",
       " '科研：部队防御',\n",
       " '科研：勇士防御',\n",
       " '科研：驯兽师防御',\n",
       " '科研：萨满防御',\n",
       " '科研：勇士生命',\n",
       " '科研：驯兽师生命',\n",
       " '科研：萨满生命',\n",
       " '科研：狂战士',\n",
       " '科研：龙骑兵',\n",
       " '科研：神谕者',\n",
       " '科研：部队攻击',\n",
       " '科研：建造速度',\n",
       " '科研：资源保护',\n",
       " '科研：部队消耗',\n",
       " '科研：木材生产',\n",
       " '科研：石头生产',\n",
       " '科研：象牙生产',\n",
       " '科研：肉类生产',\n",
       " '科研：木材采集',\n",
       " '科研：石头采集',\n",
       " '科研：象牙采集',\n",
       " '科研：肉类采集',\n",
       " '科研：部队负重',\n",
       " '科研：魔法采集',\n",
       " '科研：魔法生产',\n",
       " '科研：据点耐久',\n",
       " '科研：据点二',\n",
       " '科研：医院容量',\n",
       " '科研：领土采集奖励',\n",
       " '科研：治疗速度',\n",
       " '科研：据点三',\n",
       " '科研：联盟行军速度',\n",
       " '科研：战斗行军速度',\n",
       " '科研：采集行军速度',\n",
       " '科研：据点四',\n",
       " '科研：增援部队容量',\n",
       " '科研：行军大小',\n",
       " '科研：资源帮助容量',\n",
       " 'PVP次数',\n",
       " '主动发起PVP次数',\n",
       " 'PVP胜利次数',\n",
       " 'PVE次数',\n",
       " '主动发起PVE次数',\n",
       " 'PVE胜利次数',\n",
       " '在线时长',\n",
       " '付费金额',\n",
       " '付费次数',\n",
       " '玩家注册时刻']"
      ]
     },
     "execution_count": 51,
     "metadata": {},
     "output_type": "execute_result"
    }
   ],
   "source": [
    "X.columns.tolist() #能够从我自己的特征矩阵里分别出，哪些是技能，哪些是资源"
   ]
  },
  {
   "cell_type": "code",
   "execution_count": 52,
   "id": "999a1006-406a-4562-9eb6-1e7c6df00fdf",
   "metadata": {
    "tags": []
   },
   "outputs": [],
   "source": [
    "GrowthFeature = [] #发育 - 关于资源的部分\n",
    "LevelUpFeature = [] #等级 - 关于技能的部分\n",
    "\n",
    "for i in X.columns:\n",
    "    if \"招募\" in i or \"获取\" in i:\n",
    "        GrowthFeature.append(i)\n",
    "    if \"建筑\" in i or \"科研\" in i:\n",
    "        LevelUpFeature.append(i)"
   ]
  },
  {
   "cell_type": "code",
   "execution_count": 53,
   "id": "14a58673-d96f-4058-b17a-40111bbf9abe",
   "metadata": {
    "tags": []
   },
   "outputs": [
    {
     "data": {
      "text/plain": [
       "['木头获取数量',\n",
       " '石头获取数量',\n",
       " '象牙获取数量',\n",
       " '肉获取数量',\n",
       " '魔法获取数量',\n",
       " '勇士招募数量',\n",
       " '驯兽师招募数量',\n",
       " '萨满招募数量',\n",
       " '通用加速获取数量',\n",
       " '建筑加速获取数量',\n",
       " '科研加速获取数量',\n",
       " '训练加速获取数量',\n",
       " '治疗加速获取数量']"
      ]
     },
     "execution_count": 53,
     "metadata": {},
     "output_type": "execute_result"
    }
   ],
   "source": [
    "GrowthFeature"
   ]
  },
  {
   "cell_type": "code",
   "execution_count": 54,
   "id": "9cc2f2de-0745-4e3b-83b9-adc4f0ba4f7b",
   "metadata": {
    "tags": []
   },
   "outputs": [
    {
     "data": {
      "text/plain": [
       "['建筑加速获取数量',\n",
       " '建筑加速使用数量',\n",
       " '科研加速获取数量',\n",
       " '科研加速使用数量',\n",
       " '建筑：士兵小屋等级',\n",
       " '建筑：治疗小井等级',\n",
       " '建筑：要塞等级',\n",
       " '建筑：据点传送门等级',\n",
       " '建筑：兵营等级',\n",
       " '建筑：治疗之泉等级',\n",
       " '建筑：智慧神庙等级',\n",
       " '建筑：联盟大厅等级',\n",
       " '建筑：仓库等级',\n",
       " '建筑：瞭望塔等级',\n",
       " '建筑：魔法幸运树等级',\n",
       " '建筑：战争大厅等级',\n",
       " '建筑：联盟货车等级',\n",
       " '建筑：占卜台等级',\n",
       " '建筑：祭坛等级',\n",
       " '建筑：冒险传送门等级',\n",
       " '科研：侦查等级',\n",
       " '科研：训练速度等级',\n",
       " '科研：守护者',\n",
       " '科研：巨兽驯兽师',\n",
       " '科研：吟唱者',\n",
       " '科研：勇士攻击',\n",
       " '科研：驯兽师攻击',\n",
       " '科研：萨满攻击',\n",
       " '科研：战斗大师',\n",
       " '科研：高阶巨兽骑兵',\n",
       " '科研：图腾大师',\n",
       " '科研：部队防御',\n",
       " '科研：勇士防御',\n",
       " '科研：驯兽师防御',\n",
       " '科研：萨满防御',\n",
       " '科研：勇士生命',\n",
       " '科研：驯兽师生命',\n",
       " '科研：萨满生命',\n",
       " '科研：狂战士',\n",
       " '科研：龙骑兵',\n",
       " '科研：神谕者',\n",
       " '科研：部队攻击',\n",
       " '科研：建造速度',\n",
       " '科研：资源保护',\n",
       " '科研：部队消耗',\n",
       " '科研：木材生产',\n",
       " '科研：石头生产',\n",
       " '科研：象牙生产',\n",
       " '科研：肉类生产',\n",
       " '科研：木材采集',\n",
       " '科研：石头采集',\n",
       " '科研：象牙采集',\n",
       " '科研：肉类采集',\n",
       " '科研：部队负重',\n",
       " '科研：魔法采集',\n",
       " '科研：魔法生产',\n",
       " '科研：据点耐久',\n",
       " '科研：据点二',\n",
       " '科研：医院容量',\n",
       " '科研：领土采集奖励',\n",
       " '科研：治疗速度',\n",
       " '科研：据点三',\n",
       " '科研：联盟行军速度',\n",
       " '科研：战斗行军速度',\n",
       " '科研：采集行军速度',\n",
       " '科研：据点四',\n",
       " '科研：增援部队容量',\n",
       " '科研：行军大小',\n",
       " '科研：资源帮助容量']"
      ]
     },
     "execution_count": 54,
     "metadata": {},
     "output_type": "execute_result"
    }
   ],
   "source": [
    "LevelUpFeature"
   ]
  },
  {
   "cell_type": "code",
   "execution_count": 55,
   "id": "cde48074-45dc-4941-8478-ad4404998f25",
   "metadata": {
    "tags": []
   },
   "outputs": [],
   "source": [
    "X[\"PVP胜率\"] = X[\"PVP胜利次数\"]/X[\"PVP次数\"]\n",
    "X[\"主动发起PVP的概率\"] = X[\"主动发起PVP次数\"]/X[\"PVP次数\"]\n",
    "X[\"玩家发育效率\"] = X.loc[:,GrowthFeature].mean(axis=1)/X[\"在线时长\"]\n",
    "X[\"氪金发育效率\"] = X.loc[:,GrowthFeature].mean(axis=1)/X[\"付费金额\"]\n",
    "X[\"玩家升级效率\"] = X.loc[:,LevelUpFeature].mean(axis=1)/X[\"在线时长\"]\n",
    "X[\"氪金升级效率\"] = X.loc[:,LevelUpFeature].mean(axis=1)/X[\"付费金额\"]"
   ]
  },
  {
   "cell_type": "code",
   "execution_count": 56,
   "id": "a600f32b-0d0c-4f5d-b082-ed070f02e50b",
   "metadata": {
    "tags": []
   },
   "outputs": [
    {
     "data": {
      "text/plain": [
       "1712305"
      ]
     },
     "execution_count": 56,
     "metadata": {},
     "output_type": "execute_result"
    }
   ],
   "source": [
    "#使用除法时千万记得查看除0错误与极值错误(分子特别大或者分母特别小)\n",
    "#有许多PVP次数为0的用户，他们的胜率也算是0，但在进行除法计算时，会形成空值\n",
    "#以及，当分子过大、分母过小时，会形成inf，这类用户则需要判断，究竟是分子过大还是分母过小\n",
    "\n",
    "X[\"PVP胜率\"].isnull().sum()"
   ]
  },
  {
   "cell_type": "code",
   "execution_count": 57,
   "id": "593b292a-0008-47cf-982c-0fd09c428012",
   "metadata": {
    "tags": []
   },
   "outputs": [
    {
     "name": "stderr",
     "output_type": "stream",
     "text": [
      "D:\\ProgramFiles\\anaconda3\\Lib\\site-packages\\numpy\\lib\\function_base.py:4573: RuntimeWarning: invalid value encountered in subtract\n",
      "  diff_b_a = subtract(b, a)\n"
     ]
    },
    {
     "data": {
      "text/plain": [
       "count    1665563.0\n",
       "mean           inf\n",
       "std            NaN\n",
       "min            0.0\n",
       "25%            NaN\n",
       "50%            NaN\n",
       "75%            NaN\n",
       "max            inf\n",
       "Name: 氪金发育效率, dtype: float64"
      ]
     },
     "execution_count": 57,
     "metadata": {},
     "output_type": "execute_result"
    }
   ],
   "source": [
    "X[\"氪金发育效率\"].describe()"
   ]
  },
  {
   "cell_type": "markdown",
   "id": "60c5ee57-e13e-42c2-b595-0d9129dc37ec",
   "metadata": {},
   "source": [
    "极限值为什么出现？虽然有些分子的确比较大，但是大部分分母其实都是个位数或者很小<br>\n",
    "氪金发育效率出现问题的根本还是因为许多氪金数额过小（分母过小），而不是因为分子过高<br>\n",
    "因此对于出现inf问题的样本，使用0覆盖"
   ]
  },
  {
   "cell_type": "code",
   "execution_count": 58,
   "id": "fd5bda8b-229c-4ca1-872e-8eada77144da",
   "metadata": {
    "tags": []
   },
   "outputs": [],
   "source": [
    "#处理除0错误，处理极值错误\n",
    "for newfeature in [\"PVP胜率\",\"主动发起PVP的概率\",\"玩家发育效率\",\"玩家升级效率\",\"氪金发育效率\",\"氪金升级效率\"]:\n",
    "    X.loc[X[newfeature].isnull(),newfeature] = 0 #将所有的空值，变为0\n",
    "    X.loc[X[newfeature] == float(\"inf\"), newfeature] = 0 #分母很小的这样的情况"
   ]
  },
  {
   "cell_type": "code",
   "execution_count": 59,
   "id": "8f6d3e3f-43ac-4ced-972e-fb045763a8a8",
   "metadata": {
    "tags": []
   },
   "outputs": [
    {
     "data": {
      "text/plain": [
       "0"
      ]
     },
     "execution_count": 59,
     "metadata": {},
     "output_type": "execute_result"
    }
   ],
   "source": [
    "X[\"玩家发育效率\"].isnull().sum()"
   ]
  },
  {
   "cell_type": "code",
   "execution_count": 60,
   "id": "6781996e-b0c4-4cbe-a55e-5bdd54edbf16",
   "metadata": {
    "tags": []
   },
   "outputs": [
    {
     "data": {
      "text/plain": [
       "0"
      ]
     },
     "execution_count": 60,
     "metadata": {},
     "output_type": "execute_result"
    }
   ],
   "source": [
    "(X[\"氪金发育效率\"] == float(\"inf\")).sum()"
   ]
  },
  {
   "cell_type": "markdown",
   "id": "cc073160-f84b-4736-8abd-98c80eba2c9a",
   "metadata": {},
   "source": [
    "**强烈推荐尝试分箱+聚合的组合。**"
   ]
  },
  {
   "cell_type": "markdown",
   "id": "b0b3f005-1279-4273-9805-abc3dd2714c3",
   "metadata": {},
   "source": [
    "除此之外，我们在之前分析游戏的经营状况时，已经得出了一些关于用户价值的关键结论：\n",
    "> - 分析营收状况时，我们发现如果用户**7日内付费超过6元**，则他/她在7日后继续付费的概率大于不再付费的概率，是高价值用户<br><br>\n",
    "> - 分析用户在线时间时，当用户的**在线时间小于15（20）或者大于800（900）分钟**，用户对氪金金额的贡献率较小，是低价值用户<br><br>\n",
    "> - 分析游戏竞争状况与游戏平衡性时，我们发现，**主动发起PVP概率大于50%**的用户贡献了较多氪金金额，是高价值用户<br><br>\n",
    "> - 在分析资源获取难度、新手友好程度时，我们发现**初始资源（木头）获取数量为0或很低**的玩家是低价值用户<br><br>\n",
    "> - 在分析异常值时，我们发现异常用户覆盖了全部氪金用户，因为氪金用户的资源量往往都很大。然而不氪金的用户也有许多拥有大量资源，他们是肝帝，肝到一定程度就不会氪金，因此**资源量巨大（异常）但7日内没有付费**的用户是低价值用户"
   ]
  },
  {
   "cell_type": "markdown",
   "id": "751dc5d9-69a4-4815-9a85-d8c22db2940b",
   "metadata": {},
   "source": [
    "基于这些发现，我们统一让低价值用户被标记为0，高价值用户被标记为1，为特征矩阵创造如下新特征：\n",
    "\n",
    "- **高价值玩家**\n",
    "> - 潜力玩家：7日内付费超过6元\n",
    "> - 好战玩家：主动发起PVP概率大于50%\n",
    "\n",
    "- **低价值玩家**\n",
    "> - 佛系玩家：主动发起PVP概率小于20%，或一次也没有参与过PVP\n",
    "> - 肝帝玩家：7日在线时间过长，或资源量巨大但7日内没有付费\n",
    "> - 菜鸡玩家：参与过PVP且个人PVP胜率小于10%\n",
    "> - 流失玩家：7日在线时间过短，或初始资源获取数量小于10000"
   ]
  },
  {
   "cell_type": "markdown",
   "id": "0ada45ce-62ce-4956-9161-c4e02e477969",
   "metadata": {},
   "source": [
    "事实上还有相当多类似的特征我们可以细致地划分，这可能涉及到用户在游戏中的行为画像。例如，PVP胜率很高的“大神玩家”，PVP次数很多但是胜率很低的“又菜又勇”玩家，从来不玩PVP但是PVE胜率很高、资源量高到飞起的“圈地自萌”玩家，这些复杂的情况可能都与最终的氪金行为有关。现在让我们根据这些发现，来进行特征衍生："
   ]
  },
  {
   "cell_type": "code",
   "execution_count": 61,
   "id": "73164502-fedc-4013-818b-cfa488f2a37b",
   "metadata": {
    "tags": []
   },
   "outputs": [],
   "source": [
    "#高价值玩家，符合条件的被标注为1\n",
    "X[\"潜力玩家\"] = (X[\"付费金额\"] >= 5.98).astype(int)\n",
    "X[\"好战玩家\"] = (X[\"主动发起PVP的概率\"] >= 0.5).astype(int)\n",
    "\n",
    "#低价值玩家，符合条件的被标注为0\n",
    "X[\"肝帝玩家\"] = (X[\"在线时长\"] > 800).apply(lambda x: not x).astype(int)\n",
    "X[\"佛系玩家\"] = ((X[\"主动发起PVP的概率\"] < 0.2) | (X[\"PVP次数\"] == 0)).apply(lambda x: not x).astype(int)\n",
    "X[\"菜鸡玩家\"] = ((X[\"PVP胜率\"]< 0.1) & (X[\"PVP次数\"] != 0)).apply(lambda x: not x).astype(int)\n",
    "X[\"流失玩家\"] = ((X[\"在线时长\"] <= 15) | (X[\"木头获取数量\"] <= 10000)).apply(lambda x: not x).astype(int)"
   ]
  },
  {
   "cell_type": "code",
   "execution_count": 62,
   "id": "5500930d-2a26-4819-94f4-ec7deac6691c",
   "metadata": {
    "tags": []
   },
   "outputs": [
    {
     "data": {
      "text/plain": [
       "0"
      ]
     },
     "execution_count": 62,
     "metadata": {},
     "output_type": "execute_result"
    }
   ],
   "source": [
    "X.isnull().sum().sum()"
   ]
  },
  {
   "cell_type": "code",
   "execution_count": 63,
   "id": "c22a2bfb-2b53-4e95-91dd-2a57a9c5d7e7",
   "metadata": {
    "tags": []
   },
   "outputs": [
    {
     "data": {
      "text/html": [
       "<div>\n",
       "<style scoped>\n",
       "    .dataframe tbody tr th:only-of-type {\n",
       "        vertical-align: middle;\n",
       "    }\n",
       "\n",
       "    .dataframe tbody tr th {\n",
       "        vertical-align: top;\n",
       "    }\n",
       "\n",
       "    .dataframe thead th {\n",
       "        text-align: right;\n",
       "    }\n",
       "</style>\n",
       "<table border=\"1\" class=\"dataframe\">\n",
       "  <thead>\n",
       "    <tr style=\"text-align: right;\">\n",
       "      <th>字段解释</th>\n",
       "      <th>木头获取数量</th>\n",
       "      <th>木头消耗数量</th>\n",
       "      <th>石头获取数量</th>\n",
       "      <th>石头消耗数量</th>\n",
       "      <th>象牙获取数量</th>\n",
       "      <th>象牙消耗数量</th>\n",
       "      <th>肉获取数量</th>\n",
       "      <th>肉消耗数量</th>\n",
       "      <th>魔法获取数量</th>\n",
       "      <th>魔法消耗数量</th>\n",
       "      <th>...</th>\n",
       "      <th>玩家发育效率</th>\n",
       "      <th>氪金发育效率</th>\n",
       "      <th>玩家升级效率</th>\n",
       "      <th>氪金升级效率</th>\n",
       "      <th>潜力玩家</th>\n",
       "      <th>好战玩家</th>\n",
       "      <th>肝帝玩家</th>\n",
       "      <th>佛系玩家</th>\n",
       "      <th>菜鸡玩家</th>\n",
       "      <th>流失玩家</th>\n",
       "    </tr>\n",
       "  </thead>\n",
       "  <tbody>\n",
       "    <tr>\n",
       "      <th>0</th>\n",
       "      <td>20125.0</td>\n",
       "      <td>3700.0</td>\n",
       "      <td>0.0</td>\n",
       "      <td>0.0</td>\n",
       "      <td>0.0</td>\n",
       "      <td>0.0</td>\n",
       "      <td>16375.0</td>\n",
       "      <td>2000.0</td>\n",
       "      <td>0.0</td>\n",
       "      <td>0.0</td>\n",
       "      <td>...</td>\n",
       "      <td>8446.162292</td>\n",
       "      <td>0.0</td>\n",
       "      <td>2.260872</td>\n",
       "      <td>0.0</td>\n",
       "      <td>0</td>\n",
       "      <td>0</td>\n",
       "      <td>1</td>\n",
       "      <td>0</td>\n",
       "      <td>1</td>\n",
       "      <td>0</td>\n",
       "    </tr>\n",
       "    <tr>\n",
       "      <th>1</th>\n",
       "      <td>0.0</td>\n",
       "      <td>0.0</td>\n",
       "      <td>0.0</td>\n",
       "      <td>0.0</td>\n",
       "      <td>0.0</td>\n",
       "      <td>0.0</td>\n",
       "      <td>0.0</td>\n",
       "      <td>0.0</td>\n",
       "      <td>0.0</td>\n",
       "      <td>0.0</td>\n",
       "      <td>...</td>\n",
       "      <td>0.000000</td>\n",
       "      <td>0.0</td>\n",
       "      <td>0.000000</td>\n",
       "      <td>0.0</td>\n",
       "      <td>0</td>\n",
       "      <td>0</td>\n",
       "      <td>1</td>\n",
       "      <td>0</td>\n",
       "      <td>1</td>\n",
       "      <td>0</td>\n",
       "    </tr>\n",
       "    <tr>\n",
       "      <th>2</th>\n",
       "      <td>0.0</td>\n",
       "      <td>0.0</td>\n",
       "      <td>0.0</td>\n",
       "      <td>0.0</td>\n",
       "      <td>0.0</td>\n",
       "      <td>0.0</td>\n",
       "      <td>0.0</td>\n",
       "      <td>0.0</td>\n",
       "      <td>0.0</td>\n",
       "      <td>0.0</td>\n",
       "      <td>...</td>\n",
       "      <td>0.000000</td>\n",
       "      <td>0.0</td>\n",
       "      <td>0.000000</td>\n",
       "      <td>0.0</td>\n",
       "      <td>0</td>\n",
       "      <td>0</td>\n",
       "      <td>1</td>\n",
       "      <td>0</td>\n",
       "      <td>1</td>\n",
       "      <td>0</td>\n",
       "    </tr>\n",
       "    <tr>\n",
       "      <th>3</th>\n",
       "      <td>0.0</td>\n",
       "      <td>0.0</td>\n",
       "      <td>0.0</td>\n",
       "      <td>0.0</td>\n",
       "      <td>0.0</td>\n",
       "      <td>0.0</td>\n",
       "      <td>0.0</td>\n",
       "      <td>0.0</td>\n",
       "      <td>0.0</td>\n",
       "      <td>0.0</td>\n",
       "      <td>...</td>\n",
       "      <td>0.000000</td>\n",
       "      <td>0.0</td>\n",
       "      <td>0.000000</td>\n",
       "      <td>0.0</td>\n",
       "      <td>0</td>\n",
       "      <td>0</td>\n",
       "      <td>1</td>\n",
       "      <td>0</td>\n",
       "      <td>1</td>\n",
       "      <td>0</td>\n",
       "    </tr>\n",
       "    <tr>\n",
       "      <th>4</th>\n",
       "      <td>0.0</td>\n",
       "      <td>0.0</td>\n",
       "      <td>0.0</td>\n",
       "      <td>0.0</td>\n",
       "      <td>0.0</td>\n",
       "      <td>0.0</td>\n",
       "      <td>0.0</td>\n",
       "      <td>0.0</td>\n",
       "      <td>0.0</td>\n",
       "      <td>0.0</td>\n",
       "      <td>...</td>\n",
       "      <td>0.000000</td>\n",
       "      <td>0.0</td>\n",
       "      <td>0.000000</td>\n",
       "      <td>0.0</td>\n",
       "      <td>0</td>\n",
       "      <td>0</td>\n",
       "      <td>1</td>\n",
       "      <td>0</td>\n",
       "      <td>1</td>\n",
       "      <td>0</td>\n",
       "    </tr>\n",
       "  </tbody>\n",
       "</table>\n",
       "<p>5 rows × 119 columns</p>\n",
       "</div>"
      ],
      "text/plain": [
       "字段解释   木头获取数量  木头消耗数量  石头获取数量  石头消耗数量  象牙获取数量  象牙消耗数量    肉获取数量   肉消耗数量  \\\n",
       "0     20125.0  3700.0     0.0     0.0     0.0     0.0  16375.0  2000.0   \n",
       "1         0.0     0.0     0.0     0.0     0.0     0.0      0.0     0.0   \n",
       "2         0.0     0.0     0.0     0.0     0.0     0.0      0.0     0.0   \n",
       "3         0.0     0.0     0.0     0.0     0.0     0.0      0.0     0.0   \n",
       "4         0.0     0.0     0.0     0.0     0.0     0.0      0.0     0.0   \n",
       "\n",
       "字段解释  魔法获取数量  魔法消耗数量  ...       玩家发育效率  氪金发育效率    玩家升级效率  氪金升级效率  潜力玩家  好战玩家  \\\n",
       "0        0.0     0.0  ...  8446.162292     0.0  2.260872     0.0     0     0   \n",
       "1        0.0     0.0  ...     0.000000     0.0  0.000000     0.0     0     0   \n",
       "2        0.0     0.0  ...     0.000000     0.0  0.000000     0.0     0     0   \n",
       "3        0.0     0.0  ...     0.000000     0.0  0.000000     0.0     0     0   \n",
       "4        0.0     0.0  ...     0.000000     0.0  0.000000     0.0     0     0   \n",
       "\n",
       "字段解释  肝帝玩家  佛系玩家  菜鸡玩家  流失玩家  \n",
       "0        1     0     1     0  \n",
       "1        1     0     1     0  \n",
       "2        1     0     1     0  \n",
       "3        1     0     1     0  \n",
       "4        1     0     1     0  \n",
       "\n",
       "[5 rows x 119 columns]"
      ]
     },
     "execution_count": 63,
     "metadata": {},
     "output_type": "execute_result"
    }
   ],
   "source": [
    "X.head()"
   ]
  },
  {
   "cell_type": "markdown",
   "id": "0aa132d5-55c3-4cc2-a9e6-447024e5a591",
   "metadata": {},
   "source": [
    "## 5. 特征工程(2)：达成建模所需的统计假设"
   ]
  },
  {
   "cell_type": "markdown",
   "id": "f66e9914-aa7d-458b-9bdf-835a5a8ceef9",
   "metadata": {},
   "source": [
    "为了数据能够有效在线性回归中运行，我们希望能够避免异常值、偏左分布等因子带来的影响。因此，我们希望对训练集做出以下预处理：\n",
    "> 1. **相关性分析**：我们可以删除与标签相关性不足或为0的特征，并观察哪些特征与标签有关联\n",
    "> 2. **训练/测试比例调优**：调整训练集测试集比例，找出最佳的test_size超参数\n",
    "> 3. **异常值处理**：按照箱线图的规则，对异常值中7日内无氪金的玩家进行中位数覆盖处理，对于7日内有氪金的玩家不处理\n",
    "> 4. **数据归一化**：为排除量纲不统一问题带来的困扰，同时在大数据量情况下加速计算速度，我们需将所有特征属性归一化到[0,1]范围内\n",
    "> 5. **数据正态化**(可选)：从统计学角度来看，正态化的特征数据更有可能拟合出优秀的结果，我们可以试试box-cox正态化后数据的结果"
   ]
  },
  {
   "cell_type": "markdown",
   "id": "2492672d-6560-4500-8ef1-35d74728cadc",
   "metadata": {},
   "source": [
    "#### 5.1 相关性分析：筛选特征/特征重要性\n",
    "\n",
    "现在模型有100+多个特征，为了能够增加计算速度/降低计算成本/做类似于多项式的特征衍生方法，我们可以简单使用相关系数对特征进行筛选。最简单的方式就是使用皮尔逊相关系数。\n",
    "\n",
    "DataFrame可以直接用函数.corr()来计算相关系数，但由于我们有100多个特征，每条特征220w样本，直接使用corr()函数对所有特征进行计算不仅非常占用计算内存，并且计算会非常缓慢，因此在这里我们简化一下——只考虑特征与标签之间的相关性，不考虑特征与特征之间的相关性带来的统计学方面的问题。\n",
    "\n",
    "在传统统计学中，如果特征与特征之间的线性相关性过高，线性回归是不能够处理的，不过现在sklearn库中的线性回归是使用SVD分解方式在进行计算，可以克服传统线性回归无法处理高线性相关特征的问题，因此我们可以忽略这个问题。"
   ]
  },
  {
   "cell_type": "code",
   "execution_count": 64,
   "id": "8b27f981-110f-4110-91f3-53ff3f9d4a91",
   "metadata": {
    "tags": []
   },
   "outputs": [],
   "source": [
    "corr_list = pd.DataFrame() #空的DataFrame"
   ]
  },
  {
   "cell_type": "code",
   "execution_count": 65,
   "id": "7f1d874a-4a00-46c2-a0d2-c2236a6e4937",
   "metadata": {
    "tags": []
   },
   "outputs": [],
   "source": [
    "for idx, column in enumerate(X.columns):\n",
    "    corr_ = pd.concat([y,X.loc[:,column]],axis=1).corr().iloc[0,1] #每一列我计算这一列与标签的相关系数\n",
    "    corr_list.loc[idx,\"特征\"] = column\n",
    "    corr_list.loc[idx,\"相关系数\"] = corr_"
   ]
  },
  {
   "cell_type": "code",
   "execution_count": 66,
   "id": "9410e846-e64a-47d1-bcfa-4583f831770d",
   "metadata": {
    "tags": []
   },
   "outputs": [
    {
     "data": {
      "text/html": [
       "<div>\n",
       "<style scoped>\n",
       "    .dataframe tbody tr th:only-of-type {\n",
       "        vertical-align: middle;\n",
       "    }\n",
       "\n",
       "    .dataframe tbody tr th {\n",
       "        vertical-align: top;\n",
       "    }\n",
       "\n",
       "    .dataframe thead th {\n",
       "        text-align: right;\n",
       "    }\n",
       "</style>\n",
       "<table border=\"1\" class=\"dataframe\">\n",
       "  <thead>\n",
       "    <tr style=\"text-align: right;\">\n",
       "      <th></th>\n",
       "      <th>特征</th>\n",
       "      <th>相关系数</th>\n",
       "    </tr>\n",
       "  </thead>\n",
       "  <tbody>\n",
       "    <tr>\n",
       "      <th>0</th>\n",
       "      <td>木头获取数量</td>\n",
       "      <td>0.639830</td>\n",
       "    </tr>\n",
       "    <tr>\n",
       "      <th>1</th>\n",
       "      <td>木头消耗数量</td>\n",
       "      <td>0.619171</td>\n",
       "    </tr>\n",
       "    <tr>\n",
       "      <th>2</th>\n",
       "      <td>石头获取数量</td>\n",
       "      <td>0.648326</td>\n",
       "    </tr>\n",
       "    <tr>\n",
       "      <th>3</th>\n",
       "      <td>石头消耗数量</td>\n",
       "      <td>0.631446</td>\n",
       "    </tr>\n",
       "    <tr>\n",
       "      <th>4</th>\n",
       "      <td>象牙获取数量</td>\n",
       "      <td>0.658366</td>\n",
       "    </tr>\n",
       "  </tbody>\n",
       "</table>\n",
       "</div>"
      ],
      "text/plain": [
       "       特征      相关系数\n",
       "0  木头获取数量  0.639830\n",
       "1  木头消耗数量  0.619171\n",
       "2  石头获取数量  0.648326\n",
       "3  石头消耗数量  0.631446\n",
       "4  象牙获取数量  0.658366"
      ]
     },
     "execution_count": 66,
     "metadata": {},
     "output_type": "execute_result"
    }
   ],
   "source": [
    "corr_list.head()"
   ]
  },
  {
   "cell_type": "code",
   "execution_count": 67,
   "id": "f55791f3-5ecc-4d37-a985-a0cd401b76e3",
   "metadata": {
    "tags": []
   },
   "outputs": [
    {
     "data": {
      "text/html": [
       "<div>\n",
       "<style scoped>\n",
       "    .dataframe tbody tr th:only-of-type {\n",
       "        vertical-align: middle;\n",
       "    }\n",
       "\n",
       "    .dataframe tbody tr th {\n",
       "        vertical-align: top;\n",
       "    }\n",
       "\n",
       "    .dataframe thead th {\n",
       "        text-align: right;\n",
       "    }\n",
       "</style>\n",
       "<table border=\"1\" class=\"dataframe\">\n",
       "  <thead>\n",
       "    <tr style=\"text-align: right;\">\n",
       "      <th></th>\n",
       "      <th>特征</th>\n",
       "      <th>相关系数</th>\n",
       "    </tr>\n",
       "  </thead>\n",
       "  <tbody>\n",
       "    <tr>\n",
       "      <th>104</th>\n",
       "      <td>付费金额</td>\n",
       "      <td>0.735235</td>\n",
       "    </tr>\n",
       "    <tr>\n",
       "      <th>4</th>\n",
       "      <td>象牙获取数量</td>\n",
       "      <td>0.658366</td>\n",
       "    </tr>\n",
       "    <tr>\n",
       "      <th>2</th>\n",
       "      <td>石头获取数量</td>\n",
       "      <td>0.648326</td>\n",
       "    </tr>\n",
       "    <tr>\n",
       "      <th>5</th>\n",
       "      <td>象牙消耗数量</td>\n",
       "      <td>0.640995</td>\n",
       "    </tr>\n",
       "    <tr>\n",
       "      <th>0</th>\n",
       "      <td>木头获取数量</td>\n",
       "      <td>0.639830</td>\n",
       "    </tr>\n",
       "    <tr>\n",
       "      <th>22</th>\n",
       "      <td>通用加速获取数量</td>\n",
       "      <td>0.633035</td>\n",
       "    </tr>\n",
       "    <tr>\n",
       "      <th>3</th>\n",
       "      <td>石头消耗数量</td>\n",
       "      <td>0.631446</td>\n",
       "    </tr>\n",
       "    <tr>\n",
       "      <th>28</th>\n",
       "      <td>训练加速获取数量</td>\n",
       "      <td>0.621370</td>\n",
       "    </tr>\n",
       "    <tr>\n",
       "      <th>1</th>\n",
       "      <td>木头消耗数量</td>\n",
       "      <td>0.619171</td>\n",
       "    </tr>\n",
       "    <tr>\n",
       "      <th>6</th>\n",
       "      <td>肉获取数量</td>\n",
       "      <td>0.608308</td>\n",
       "    </tr>\n",
       "  </tbody>\n",
       "</table>\n",
       "</div>"
      ],
      "text/plain": [
       "           特征      相关系数\n",
       "104      付费金额  0.735235\n",
       "4      象牙获取数量  0.658366\n",
       "2      石头获取数量  0.648326\n",
       "5      象牙消耗数量  0.640995\n",
       "0      木头获取数量  0.639830\n",
       "22   通用加速获取数量  0.633035\n",
       "3      石头消耗数量  0.631446\n",
       "28   训练加速获取数量  0.621370\n",
       "1      木头消耗数量  0.619171\n",
       "6       肉获取数量  0.608308"
      ]
     },
     "execution_count": 67,
     "metadata": {},
     "output_type": "execute_result"
    }
   ],
   "source": [
    "corr_list.sort_values(\"相关系数\",ascending=False).head(10) #越深入参与游戏，氪金的可能性应该就越高"
   ]
  },
  {
   "cell_type": "code",
   "execution_count": 68,
   "id": "d2a5d9a6-e6ac-461e-860c-190e8d3fe26f",
   "metadata": {
    "tags": []
   },
   "outputs": [
    {
     "data": {
      "text/html": [
       "<div>\n",
       "<style scoped>\n",
       "    .dataframe tbody tr th:only-of-type {\n",
       "        vertical-align: middle;\n",
       "    }\n",
       "\n",
       "    .dataframe tbody tr th {\n",
       "        vertical-align: top;\n",
       "    }\n",
       "\n",
       "    .dataframe thead th {\n",
       "        text-align: right;\n",
       "    }\n",
       "</style>\n",
       "<table border=\"1\" class=\"dataframe\">\n",
       "  <thead>\n",
       "    <tr style=\"text-align: right;\">\n",
       "      <th></th>\n",
       "      <th>特征</th>\n",
       "      <th>相关系数</th>\n",
       "    </tr>\n",
       "  </thead>\n",
       "  <tbody>\n",
       "    <tr>\n",
       "      <th>106</th>\n",
       "      <td>玩家注册时刻</td>\n",
       "      <td>0.000708</td>\n",
       "    </tr>\n",
       "    <tr>\n",
       "      <th>117</th>\n",
       "      <td>菜鸡玩家</td>\n",
       "      <td>0.005796</td>\n",
       "    </tr>\n",
       "  </tbody>\n",
       "</table>\n",
       "</div>"
      ],
      "text/plain": [
       "         特征      相关系数\n",
       "106  玩家注册时刻  0.000708\n",
       "117    菜鸡玩家  0.005796"
      ]
     },
     "execution_count": 68,
     "metadata": {},
     "output_type": "execute_result"
    }
   ],
   "source": [
    "corr_list[abs(corr_list[\"相关系数\"]) < 0.01]"
   ]
  },
  {
   "cell_type": "markdown",
   "id": "3c37183b-36f8-4892-92b2-674052e11b61",
   "metadata": {},
   "source": [
    "只有两个特征的相关系数低于0.01，我们可以考虑都统一保留这些特征。如果我们对特征的要求更严格，则可以使用阈值0.1，或0.5，毕竟皮尔逊相关系数是越接近1越相关，越接近0越不相关。"
   ]
  },
  {
   "cell_type": "markdown",
   "id": "886edd95-a85b-4d9a-bb43-30ef1b02d094",
   "metadata": {},
   "source": [
    "#### 5.2 训练/测试集分割的调优"
   ]
  },
  {
   "cell_type": "markdown",
   "id": "8b534932-027f-424e-bff5-f78444de8827",
   "metadata": {},
   "source": [
    "正常在进行数据分割时，我们是按训练集7，测试集3的比例进行分割。但考虑到，我们将使用线性回归进行建模，线性回归是复杂度较低的模型，学习能力和抗过拟合能力有限，因此训练集过多或者过少都很容易导致过拟合，为此我们稍微可以尝试几组训练集测试集的分割比例，以确定最适合线性回归的训练集数量。"
   ]
  },
  {
   "cell_type": "code",
   "execution_count": 69,
   "id": "ae7390f5-39df-4845-a4a1-1378afa9c626",
   "metadata": {
    "tags": []
   },
   "outputs": [
    {
     "data": {
      "text/plain": [
       "(2288007, 119)"
      ]
     },
     "execution_count": 69,
     "metadata": {},
     "output_type": "execute_result"
    }
   ],
   "source": [
    "X.shape"
   ]
  },
  {
   "cell_type": "code",
   "execution_count": 70,
   "id": "10353c87-2c69-4a5d-976f-de624fefd774",
   "metadata": {
    "tags": []
   },
   "outputs": [],
   "source": [
    "#相当于使用学习曲线在对test_size这个参数进行调参"
   ]
  },
  {
   "cell_type": "code",
   "execution_count": 71,
   "id": "b965dd4b-aea7-4456-8b7e-4522af873393",
   "metadata": {
    "tags": []
   },
   "outputs": [
    {
     "name": "stdout",
     "output_type": "stream",
     "text": [
      "done\n",
      "done\n",
      "done\n",
      "done\n"
     ]
    }
   ],
   "source": [
    "trainr2 = [] # 训练集上的R2\n",
    "testr2 = [] # 测试集上的R2\n",
    "testRMSE = [] # 测试集上的RMSE\n",
    "for i in [0.2,0.3,0.4,0.5]:\n",
    "    Xtrain, Xtest, Ytrain, Ytest = TTS(X,y,test_size=i,random_state=0)\n",
    "    model = LR().fit(Xtrain,Ytrain)\n",
    "    trainr2.append(model.score(Xtrain,Ytrain))\n",
    "    testr2.append(model.score(Xtest,Ytest))\n",
    "    testRMSE.append(np.sqrt(MSE(Ytest,model.predict(Xtest))))\n",
    "    print(\"done\")"
   ]
  },
  {
   "cell_type": "code",
   "execution_count": 72,
   "id": "f0d278b8-7166-49d1-a39b-776c2d0b73c7",
   "metadata": {},
   "outputs": [
    {
     "data": {
      "image/png": "[encoded data removed]",
      "text/plain": [
       "<Figure size 640x480 with 1 Axes>"
      ]
     },
     "metadata": {},
     "output_type": "display_data"
    }
   ],
   "source": [
    "plt.plot(trainr2,label=\"trainR2\")\n",
    "plt.plot(testr2,label=\"testR2\")\n",
    "plt.xticks(ticks=[0,1,2,3],labels=[0.2,0.3,0.4,0.5])\n",
    "plt.legend();"
   ]
  },
  {
   "cell_type": "code",
   "execution_count": 73,
   "id": "f37c35c7-6182-41e1-847c-5bd9a23c6150",
   "metadata": {
    "tags": []
   },
   "outputs": [
    {
     "data": {
      "image/png": "[encoded data removed]",
      "text/plain": [
       "<Figure size 640x480 with 1 Axes>"
      ]
     },
     "metadata": {},
     "output_type": "display_data"
    }
   ],
   "source": [
    "plt.plot(testRMSE)\n",
    "plt.xticks(ticks=[0,1,2,3],labels=[0.2,0.3,0.4,0.5]);"
   ]
  },
  {
   "cell_type": "code",
   "execution_count": 74,
   "id": "352775eb-150f-45af-914d-d7dc877e2d52",
   "metadata": {
    "tags": []
   },
   "outputs": [
    {
     "data": {
      "text/plain": [
       "[65.4079506968016, 61.25139090316122, 57.4101904498173, 72.69578370422477]"
      ]
     },
     "execution_count": 74,
     "metadata": {},
     "output_type": "execute_result"
    }
   ],
   "source": [
    "testRMSE"
   ]
  },
  {
   "cell_type": "markdown",
   "id": "6a184e51-5327-4619-931d-e06dc9bd9ca3",
   "metadata": {},
   "source": [
    "从结果的角度来看，在测试集上RMSE最低的训练集数量是0.4，从R2的表现来看，测试集比例为0.4时，训练集上R2表现出过拟合的倾向，但并不严重。但考虑到现在模型的核心评估指标是RMSE，因此R2稍有问题，但RMSE明显有优势时，我们优先考虑RMSE上的表现。"
   ]
  },
  {
   "cell_type": "code",
   "execution_count": 75,
   "id": "72fe0d17-49a5-4bc5-b8fd-3b6ed4e03a63",
   "metadata": {
    "tags": []
   },
   "outputs": [],
   "source": [
    "Xtrain, Xtest, Ytrain, Ytest = TTS(X,y,test_size=0.4,random_state=0)"
   ]
  },
  {
   "cell_type": "markdown",
   "id": "97aa702c-94ba-4fa8-a7c8-e6586da6f0ec",
   "metadata": {},
   "source": [
    "注意索引操作。通常我们我们在分割完训练集与测试集后，需要将索引规范为range(0,x)系列，但是这次我们不恢复索引，而让索引跟随Xtrain，Xtest分割后的样子（理由稍后呈现）："
   ]
  },
  {
   "cell_type": "code",
   "execution_count": 76,
   "id": "146fdca5-c4ca-4097-baab-675c95ed7ada",
   "metadata": {
    "tags": []
   },
   "outputs": [],
   "source": [
    "Ytrain = pd.DataFrame(Ytrain)\n",
    "Ytest = pd.DataFrame(Ytest)\n",
    "\n",
    "Ytrain.index = Xtrain.index\n",
    "Ytest.index = Xtest.index"
   ]
  },
  {
   "cell_type": "code",
   "execution_count": 77,
   "id": "33147942-445e-4cff-bc81-cda7dc9ff034",
   "metadata": {
    "tags": []
   },
   "outputs": [
    {
     "data": {
      "text/html": [
       "<div>\n",
       "<style scoped>\n",
       "    .dataframe tbody tr th:only-of-type {\n",
       "        vertical-align: middle;\n",
       "    }\n",
       "\n",
       "    .dataframe tbody tr th {\n",
       "        vertical-align: top;\n",
       "    }\n",
       "\n",
       "    .dataframe thead th {\n",
       "        text-align: right;\n",
       "    }\n",
       "</style>\n",
       "<table border=\"1\" class=\"dataframe\">\n",
       "  <thead>\n",
       "    <tr style=\"text-align: right;\">\n",
       "      <th>字段解释</th>\n",
       "      <th>木头获取数量</th>\n",
       "      <th>木头消耗数量</th>\n",
       "      <th>石头获取数量</th>\n",
       "      <th>石头消耗数量</th>\n",
       "      <th>象牙获取数量</th>\n",
       "      <th>象牙消耗数量</th>\n",
       "      <th>肉获取数量</th>\n",
       "      <th>肉消耗数量</th>\n",
       "      <th>魔法获取数量</th>\n",
       "      <th>魔法消耗数量</th>\n",
       "      <th>...</th>\n",
       "      <th>玩家发育效率</th>\n",
       "      <th>氪金发育效率</th>\n",
       "      <th>玩家升级效率</th>\n",
       "      <th>氪金升级效率</th>\n",
       "      <th>潜力玩家</th>\n",
       "      <th>好战玩家</th>\n",
       "      <th>肝帝玩家</th>\n",
       "      <th>佛系玩家</th>\n",
       "      <th>菜鸡玩家</th>\n",
       "      <th>流失玩家</th>\n",
       "    </tr>\n",
       "  </thead>\n",
       "  <tbody>\n",
       "    <tr>\n",
       "      <th>1914412</th>\n",
       "      <td>0.0</td>\n",
       "      <td>0.0</td>\n",
       "      <td>0.0</td>\n",
       "      <td>0.0</td>\n",
       "      <td>0.0</td>\n",
       "      <td>0.0</td>\n",
       "      <td>0.0</td>\n",
       "      <td>0.0</td>\n",
       "      <td>0.0</td>\n",
       "      <td>0.0</td>\n",
       "      <td>...</td>\n",
       "      <td>0.000000</td>\n",
       "      <td>0.0</td>\n",
       "      <td>0.000000</td>\n",
       "      <td>0.0</td>\n",
       "      <td>0</td>\n",
       "      <td>0</td>\n",
       "      <td>1</td>\n",
       "      <td>0</td>\n",
       "      <td>1</td>\n",
       "      <td>0</td>\n",
       "    </tr>\n",
       "    <tr>\n",
       "      <th>188838</th>\n",
       "      <td>26375.0</td>\n",
       "      <td>4200.0</td>\n",
       "      <td>0.0</td>\n",
       "      <td>0.0</td>\n",
       "      <td>0.0</td>\n",
       "      <td>0.0</td>\n",
       "      <td>32000.0</td>\n",
       "      <td>2250.0</td>\n",
       "      <td>0.0</td>\n",
       "      <td>0.0</td>\n",
       "      <td>...</td>\n",
       "      <td>8996.153846</td>\n",
       "      <td>0.0</td>\n",
       "      <td>1.536232</td>\n",
       "      <td>0.0</td>\n",
       "      <td>0</td>\n",
       "      <td>0</td>\n",
       "      <td>1</td>\n",
       "      <td>0</td>\n",
       "      <td>1</td>\n",
       "      <td>0</td>\n",
       "    </tr>\n",
       "    <tr>\n",
       "      <th>1879427</th>\n",
       "      <td>2063.0</td>\n",
       "      <td>1350.0</td>\n",
       "      <td>0.0</td>\n",
       "      <td>0.0</td>\n",
       "      <td>0.0</td>\n",
       "      <td>0.0</td>\n",
       "      <td>1531.0</td>\n",
       "      <td>675.0</td>\n",
       "      <td>0.0</td>\n",
       "      <td>0.0</td>\n",
       "      <td>...</td>\n",
       "      <td>184.307692</td>\n",
       "      <td>0.0</td>\n",
       "      <td>0.009662</td>\n",
       "      <td>0.0</td>\n",
       "      <td>0</td>\n",
       "      <td>0</td>\n",
       "      <td>1</td>\n",
       "      <td>0</td>\n",
       "      <td>1</td>\n",
       "      <td>0</td>\n",
       "    </tr>\n",
       "    <tr>\n",
       "      <th>1616849</th>\n",
       "      <td>56314.0</td>\n",
       "      <td>17460.0</td>\n",
       "      <td>0.0</td>\n",
       "      <td>0.0</td>\n",
       "      <td>0.0</td>\n",
       "      <td>0.0</td>\n",
       "      <td>76717.0</td>\n",
       "      <td>10850.0</td>\n",
       "      <td>0.0</td>\n",
       "      <td>0.0</td>\n",
       "      <td>...</td>\n",
       "      <td>12294.004918</td>\n",
       "      <td>0.0</td>\n",
       "      <td>1.026087</td>\n",
       "      <td>0.0</td>\n",
       "      <td>0</td>\n",
       "      <td>0</td>\n",
       "      <td>1</td>\n",
       "      <td>0</td>\n",
       "      <td>1</td>\n",
       "      <td>0</td>\n",
       "    </tr>\n",
       "    <tr>\n",
       "      <th>2046255</th>\n",
       "      <td>220125.0</td>\n",
       "      <td>3700.0</td>\n",
       "      <td>200000.0</td>\n",
       "      <td>0.0</td>\n",
       "      <td>200000.0</td>\n",
       "      <td>0.0</td>\n",
       "      <td>616375.0</td>\n",
       "      <td>2000.0</td>\n",
       "      <td>60000.0</td>\n",
       "      <td>0.0</td>\n",
       "      <td>...</td>\n",
       "      <td>299367.991676</td>\n",
       "      <td>0.0</td>\n",
       "      <td>2.260872</td>\n",
       "      <td>0.0</td>\n",
       "      <td>0</td>\n",
       "      <td>0</td>\n",
       "      <td>1</td>\n",
       "      <td>0</td>\n",
       "      <td>1</td>\n",
       "      <td>0</td>\n",
       "    </tr>\n",
       "  </tbody>\n",
       "</table>\n",
       "<p>5 rows × 119 columns</p>\n",
       "</div>"
      ],
      "text/plain": [
       "字段解释       木头获取数量   木头消耗数量    石头获取数量  石头消耗数量    象牙获取数量  象牙消耗数量     肉获取数量  \\\n",
       "1914412       0.0      0.0       0.0     0.0       0.0     0.0       0.0   \n",
       "188838    26375.0   4200.0       0.0     0.0       0.0     0.0   32000.0   \n",
       "1879427    2063.0   1350.0       0.0     0.0       0.0     0.0    1531.0   \n",
       "1616849   56314.0  17460.0       0.0     0.0       0.0     0.0   76717.0   \n",
       "2046255  220125.0   3700.0  200000.0     0.0  200000.0     0.0  616375.0   \n",
       "\n",
       "字段解释       肉消耗数量   魔法获取数量  魔法消耗数量  ...         玩家发育效率  氪金发育效率    玩家升级效率  \\\n",
       "1914412      0.0      0.0     0.0  ...       0.000000     0.0  0.000000   \n",
       "188838    2250.0      0.0     0.0  ...    8996.153846     0.0  1.536232   \n",
       "1879427    675.0      0.0     0.0  ...     184.307692     0.0  0.009662   \n",
       "1616849  10850.0      0.0     0.0  ...   12294.004918     0.0  1.026087   \n",
       "2046255   2000.0  60000.0     0.0  ...  299367.991676     0.0  2.260872   \n",
       "\n",
       "字段解释     氪金升级效率  潜力玩家  好战玩家  肝帝玩家  佛系玩家  菜鸡玩家  流失玩家  \n",
       "1914412     0.0     0     0     1     0     1     0  \n",
       "188838      0.0     0     0     1     0     1     0  \n",
       "1879427     0.0     0     0     1     0     1     0  \n",
       "1616849     0.0     0     0     1     0     1     0  \n",
       "2046255     0.0     0     0     1     0     1     0  \n",
       "\n",
       "[5 rows x 119 columns]"
      ]
     },
     "execution_count": 77,
     "metadata": {},
     "output_type": "execute_result"
    }
   ],
   "source": [
    "Xtrain.head()"
   ]
  },
  {
   "cell_type": "markdown",
   "id": "161fdccc-8e4d-4514-99cb-3aa6f852eb42",
   "metadata": {},
   "source": [
    "#### 5.3 异常值处理"
   ]
  },
  {
   "cell_type": "markdown",
   "id": "dea836f8-07cc-4cfc-93db-f10f81411e71",
   "metadata": {},
   "source": [
    "在处理异常值时，我们发现所有的氪金玩家都被归类到了异常数据里，这与氪金玩家往往都是深入参与到游戏的玩家有很大的关系。由于玩家都被包括在异常数据中，我们不能对异常数据进行简单的删除，并且由于数据左偏严重，异常值数量众多（超出100w），删掉50%的数据也不可取。因此在这里，我们对异常值进行类似于盖帽的特殊处理。按照箱线图的规则进行异常检测，并对异常值中7日内无氪金的玩家进行中位数覆盖（如果效果不够好，可以试着使用0覆盖），对于7日内有氪金的玩家则不处理，尽量放大氪金玩家与非氪金玩家特征上的区别，为建模提供更好的保障。\n",
    "\n",
    "注意：异常值处理必须在训练集测试集被分割的情况下进行，因为测试集上的异常值处理是必须依赖对训练集进行异常值处理所产生的中间变量的"
   ]
  },
  {
   "cell_type": "code",
   "execution_count": 78,
   "id": "6dba2e2f-c344-4375-958a-c8258f09ca90",
   "metadata": {
    "tags": []
   },
   "outputs": [],
   "source": [
    "import warnings #消除警告的代码\n",
    "warnings.filterwarnings('ignore')\n",
    "warnings.simplefilter('ignore')"
   ]
  },
  {
   "cell_type": "code",
   "execution_count": 79,
   "id": "50803f6b-0aa2-4848-bfe2-e47f67b8a4ce",
   "metadata": {
    "tags": []
   },
   "outputs": [],
   "source": [
    "def AbnormalReplace(Xtrain,Xtest):\n",
    "    #先对所有特征进行异常检测\n",
    "    #对7日内付过费的用户，不处理\n",
    "    #对7日内没付过费的用户，替换所有异常值为当前特征的中位数或者0\n",
    "    \n",
    "    Xtrain_ = Xtrain.copy()\n",
    "    Xtest_ = Xtest.copy()\n",
    "    for column in Xtrain_.columns:\n",
    "        #提取当前要检测的列\n",
    "        f_train = Xtrain_.loc[:,column]\n",
    "        f_test = Xtest_.loc[:,column]\n",
    "\n",
    "        #从训练集中计算出QL、QU、IQR、中位数\n",
    "        QL = np.quantile(f_train,0.25)\n",
    "        QU = np.quantile(f_train,0.75)\n",
    "        IQR = QU - QL\n",
    "        medium_ = f_train.median()\n",
    "        \n",
    "        #对训练集和测试集同时进行检测，得到True/False列表\n",
    "        # 小于下界，大于上界\n",
    "        errortrain = ((f_train < (QL - 1.5*IQR)).astype(int) + (f_train > (QU + 1.5*IQR)).astype(int)) != 0\n",
    "        errortest = ((f_test < (QL - 1.5*IQR)).astype(int) + (f_test > (QU + 1.5*IQR)).astype(int)) != 0\n",
    "\n",
    "        #将原矩阵中的异常值替换为中位数，主题排除7日付费用户\n",
    "        #如果效果不够强烈，试试看替换为0\n",
    "        Xtrain_.loc[((Xtrain_[\"付费金额\"]==0).values & errortrain.values),column] = 0 #medium_\n",
    "        Xtest_.loc[((Xtest_[\"付费金额\"]==0).values & errortest.values),column] = 0 #medium_\n",
    "        \n",
    "    return Xtrain_, Xtest_"
   ]
  },
  {
   "cell_type": "code",
   "execution_count": 80,
   "id": "8f5e9f74-826c-44e4-9933-b410e89bd31a",
   "metadata": {
    "tags": []
   },
   "outputs": [
    {
     "data": {
      "text/plain": [
       "count    1.372804e+06\n",
       "mean     4.597076e+05\n",
       "std      5.253011e+06\n",
       "min      0.000000e+00\n",
       "25%      0.000000e+00\n",
       "50%      4.193400e+04\n",
       "75%      1.530618e+05\n",
       "max      1.239962e+09\n",
       "Name: 木头获取数量, dtype: float64"
      ]
     },
     "execution_count": 80,
     "metadata": {},
     "output_type": "execute_result"
    }
   ],
   "source": [
    "Xtrain[\"木头获取数量\"].describe()"
   ]
  },
  {
   "cell_type": "code",
   "execution_count": 81,
   "id": "203af7a4-4672-4501-8f15-8ae638821ad6",
   "metadata": {
    "tags": []
   },
   "outputs": [],
   "source": [
    "xtrain, xtest = AbnormalReplace(Xtrain,Xtest) #为了保留原始的Xtrain和Xtest，新生成的值我们写作小写"
   ]
  },
  {
   "cell_type": "code",
   "execution_count": 82,
   "id": "dc6ee41b-18bd-4f6a-b011-1aec1ab41882",
   "metadata": {
    "tags": []
   },
   "outputs": [
    {
     "data": {
      "text/plain": [
       "count    1.372804e+06\n",
       "mean     2.534424e+05\n",
       "std      5.186103e+06\n",
       "min      0.000000e+00\n",
       "25%      0.000000e+00\n",
       "50%      1.000000e+04\n",
       "75%      9.627125e+04\n",
       "max      1.239962e+09\n",
       "Name: 木头获取数量, dtype: float64"
      ]
     },
     "execution_count": 82,
     "metadata": {},
     "output_type": "execute_result"
    }
   ],
   "source": [
    "xtrain[\"木头获取数量\"].describe() #查看处理数据确认数据变化"
   ]
  },
  {
   "cell_type": "markdown",
   "id": "47f114aa-0641-463f-8794-9e8f2a544c67",
   "metadata": {},
   "source": [
    "#### 5.4 归一化处理"
   ]
  },
  {
   "cell_type": "markdown",
   "id": "0103258b-01b0-4cd3-8015-95bb4872a71d",
   "metadata": {},
   "source": [
    "加速运算，各个特征量纲统一 \n",
    "\n",
    "使用线性回归的时候就可以查看系数来决定特征的重要性"
   ]
  },
  {
   "cell_type": "code",
   "execution_count": 83,
   "id": "f6e9b9ff-d16a-4df7-a92f-3784ad137827",
   "metadata": {
    "tags": []
   },
   "outputs": [],
   "source": [
    "from sklearn.preprocessing import MinMaxScaler \n",
    "# [0,1]最常使用的基本方式，x - x.min() / x.max() - x.min()"
   ]
  },
  {
   "cell_type": "code",
   "execution_count": 84,
   "id": "406e0e7a-01cd-4803-80f9-015f713c9610",
   "metadata": {
    "tags": []
   },
   "outputs": [],
   "source": [
    "mm = MinMaxScaler(feature_range = (0,1)) #实例化，[0,1]"
   ]
  },
  {
   "cell_type": "code",
   "execution_count": 85,
   "id": "f5767bb5-1bcb-4841-9a69-fc87e0844886",
   "metadata": {
    "tags": []
   },
   "outputs": [],
   "source": [
    "mm = mm.fit(xtrain) #训练 - 生成了训练集上的最小值和最大值"
   ]
  },
  {
   "cell_type": "code",
   "execution_count": 86,
   "id": "d328d109-cfef-42f1-839e-ad3045ffec57",
   "metadata": {
    "tags": []
   },
   "outputs": [],
   "source": [
    "xtrain = mm.transform(xtrain) #使用训练集上的最小值和最大值对训练集/测试集同时进行归一化\n",
    "xtest = mm.transform(xtest)"
   ]
  },
  {
   "cell_type": "code",
   "execution_count": 87,
   "id": "ff8205d8-cdea-4a0d-b720-5a5687174b03",
   "metadata": {
    "tags": []
   },
   "outputs": [
    {
     "data": {
      "text/plain": [
       "(0.0, 1.0)"
      ]
     },
     "execution_count": 87,
     "metadata": {},
     "output_type": "execute_result"
    }
   ],
   "source": [
    "xtrain.min(),xtrain.max()"
   ]
  },
  {
   "cell_type": "code",
   "execution_count": 88,
   "id": "eb782643-8166-4ab9-8405-8be2ec4b70ba",
   "metadata": {
    "tags": []
   },
   "outputs": [
    {
     "data": {
      "text/plain": [
       "(0.0, 1.3636363636363638)"
      ]
     },
     "execution_count": 88,
     "metadata": {},
     "output_type": "execute_result"
    }
   ],
   "source": [
    "xtest.min(),xtest.max()"
   ]
  },
  {
   "cell_type": "markdown",
   "id": "cd27eae6-4851-4806-a55a-f9a966d29159",
   "metadata": {},
   "source": [
    "#### 5.5 正态化处理 (选做)"
   ]
  },
  {
   "cell_type": "markdown",
   "id": "63006c2d-d7dc-470f-8104-6c7de62c4d29",
   "metadata": {},
   "source": [
    "```\n",
    "from sklearn.preprocessing import PowerTransformer\n",
    "\n",
    "pt = PowerTransformer(method='box-cox') #只能适用于正数\n",
    "\n",
    "pt = pt.fit(xtrain)\n",
    "\n",
    "xtrain = pt.transform(xtrain)\n",
    "xtest = pt.transform(xtest)\n",
    "```"
   ]
  },
  {
   "cell_type": "markdown",
   "id": "08751803-a6ca-48d8-a5dc-b78292a3d722",
   "metadata": {},
   "source": [
    "理论上来说，正态化处理是有利于线性回归建模的，但是在多次尝试中，发现现在的数据在经过正态化处理会出现严重不稳定的情况，可能直接将RMSE拉高几十甚至上千，因此在本案例中不采取正态化处理。"
   ]
  },
  {
   "cell_type": "markdown",
   "id": "5fc96b37-4f98-4189-830c-9050fbe5eb89",
   "metadata": {},
   "source": [
    "## 6. 模型融合：处理极度偏态的数据带来的问题"
   ]
  },
  {
   "cell_type": "markdown",
   "id": "7ea9034b-7810-494f-99ab-7fde37684640",
   "metadata": {},
   "source": [
    "在进行异常值处理时，我们发现所有的氪金用户都被包括在了异常用户中，这说明有大量未氪金的用户表现在游戏资源积累、游戏参与深度上的行为与氪金用户极为相似。同时，氪金用户与不氪金用户的用户组成都相对复杂。\n",
    "\n",
    "在氪金用户中，有进入游戏1分钟就闭眼氪0.99的羊毛玩家，也有在游戏中7日都未氪、7日后不知为何突然磕了一点点的玩家。在不氪金用户中，有深度参与游戏但一分钱不氪肝帝，又有玩得很糟但一直不退游的玩家。因此在预测前其实就可以想象到，模型在用户辨别、金额预测上的效果恐怕不会太好。\n",
    "\n",
    "在之前的特征处理中，我们已经对异常值进行过“盖帽”处理，并在特征中增加我们认为可以让氪金和非氪金用户区别变大的特征，但直接让单一模型对氪金用户的氪金数额进行预测是非常困难的。因此，我们可以使用2个模型进行融合预测，第一个模型是分类模型逻辑回归，我们让逻辑回归先对用户进行“氪与不氪”的预测，然后将逻辑回归认为会氪的用户放入线性回归，再让线性回归直接对“本来就很可能会氪金”的用户进行氪金金额预测。我们认为这样的方式经过适当调整后，应该能够提升模型表现。"
   ]
  },
  {
   "cell_type": "markdown",
   "id": "64fa2a73-0779-4f6c-b61f-115283f3f7b0",
   "metadata": {},
   "source": [
    "- 创造逻辑回归使用的y\n",
    "\n",
    "逻辑回归的标签：氪金(1)与不氪金(0)，1类远远少于0类"
   ]
  },
  {
   "cell_type": "code",
   "execution_count": 89,
   "id": "866cf2de-3fde-400b-a7a1-c2bcbb8efe4b",
   "metadata": {
    "tags": []
   },
   "outputs": [
    {
     "data": {
      "text/plain": [
       "0    0\n",
       "1    0\n",
       "2    0\n",
       "3    0\n",
       "4    0\n",
       "Name: 45日付费金额, dtype: int32"
      ]
     },
     "execution_count": 89,
     "metadata": {},
     "output_type": "execute_result"
    }
   ],
   "source": [
    "y2 = (y != 0).astype(int) #所有氪金用户转化为1，不氪金用户转化为0\n",
    "y2.head()"
   ]
  },
  {
   "cell_type": "code",
   "execution_count": 90,
   "id": "e2a9b4ee-7e56-4506-a9a3-230e1870a660",
   "metadata": {
    "tags": []
   },
   "outputs": [
    {
     "data": {
      "text/plain": [
       "45日付费金额\n",
       "0    2242019\n",
       "1      45988\n",
       "Name: count, dtype: int64"
      ]
     },
     "execution_count": 90,
     "metadata": {},
     "output_type": "execute_result"
    }
   ],
   "source": [
    "y2.value_counts() #45988 - 45天的时候有氪金金额的用户"
   ]
  },
  {
   "cell_type": "code",
   "execution_count": 91,
   "id": "23fa1f37-ebfa-45b2-b982-4c74afdcecd5",
   "metadata": {
    "tags": []
   },
   "outputs": [
    {
     "data": {
      "text/plain": [
       "0.9799004111438471"
      ]
     },
     "execution_count": 91,
     "metadata": {},
     "output_type": "execute_result"
    }
   ],
   "source": [
    "1 - 45988/y2.shape[0]"
   ]
  },
  {
   "cell_type": "markdown",
   "id": "6dddd356-f7cd-4d96-9749-64b8f62be8df",
   "metadata": {},
   "source": [
    "已经有 Xtrain,Xtest，线性回归用的Ytrain, Ytest，逻辑回归的y2\n",
    "\n",
    "--> \n",
    "\n",
    "变成可以和Xtrain、Xtest相匹配的y2train, y2test"
   ]
  },
  {
   "cell_type": "markdown",
   "id": "9c31e024-ff8f-488b-a7ca-fd73dedbf759",
   "metadata": {},
   "source": [
    "注意此时的y2的索引与分割之前的y一致，但我们将用来训练的xtrain的索引是经过分割之后的，因此我们需要按分割后的Xtrain和Xtest的索引来分割y2，这也是为什么之前我们没有将Xtrain，Xtest的索引修改为range(0,x)的原因。一旦修改，我们将失去分割后的组合与原始X,y之间的联系，也就无法构筑新标签y2的测试部分和训练部分了。"
   ]
  },
  {
   "cell_type": "code",
   "execution_count": 92,
   "id": "8a03bf45-63f1-445e-b02c-1814463feef9",
   "metadata": {
    "tags": []
   },
   "outputs": [
    {
     "data": {
      "text/html": [
       "<div>\n",
       "<style scoped>\n",
       "    .dataframe tbody tr th:only-of-type {\n",
       "        vertical-align: middle;\n",
       "    }\n",
       "\n",
       "    .dataframe tbody tr th {\n",
       "        vertical-align: top;\n",
       "    }\n",
       "\n",
       "    .dataframe thead th {\n",
       "        text-align: right;\n",
       "    }\n",
       "</style>\n",
       "<table border=\"1\" class=\"dataframe\">\n",
       "  <thead>\n",
       "    <tr style=\"text-align: right;\">\n",
       "      <th>字段解释</th>\n",
       "      <th>木头获取数量</th>\n",
       "      <th>木头消耗数量</th>\n",
       "      <th>石头获取数量</th>\n",
       "      <th>石头消耗数量</th>\n",
       "      <th>象牙获取数量</th>\n",
       "      <th>象牙消耗数量</th>\n",
       "      <th>肉获取数量</th>\n",
       "      <th>肉消耗数量</th>\n",
       "      <th>魔法获取数量</th>\n",
       "      <th>魔法消耗数量</th>\n",
       "      <th>...</th>\n",
       "      <th>玩家发育效率</th>\n",
       "      <th>氪金发育效率</th>\n",
       "      <th>玩家升级效率</th>\n",
       "      <th>氪金升级效率</th>\n",
       "      <th>潜力玩家</th>\n",
       "      <th>好战玩家</th>\n",
       "      <th>肝帝玩家</th>\n",
       "      <th>佛系玩家</th>\n",
       "      <th>菜鸡玩家</th>\n",
       "      <th>流失玩家</th>\n",
       "    </tr>\n",
       "  </thead>\n",
       "  <tbody>\n",
       "    <tr>\n",
       "      <th>1914412</th>\n",
       "      <td>0.0</td>\n",
       "      <td>0.0</td>\n",
       "      <td>0.0</td>\n",
       "      <td>0.0</td>\n",
       "      <td>0.0</td>\n",
       "      <td>0.0</td>\n",
       "      <td>0.0</td>\n",
       "      <td>0.0</td>\n",
       "      <td>0.0</td>\n",
       "      <td>0.0</td>\n",
       "      <td>...</td>\n",
       "      <td>0.000000</td>\n",
       "      <td>0.0</td>\n",
       "      <td>0.000000</td>\n",
       "      <td>0.0</td>\n",
       "      <td>0</td>\n",
       "      <td>0</td>\n",
       "      <td>1</td>\n",
       "      <td>0</td>\n",
       "      <td>1</td>\n",
       "      <td>0</td>\n",
       "    </tr>\n",
       "    <tr>\n",
       "      <th>188838</th>\n",
       "      <td>26375.0</td>\n",
       "      <td>4200.0</td>\n",
       "      <td>0.0</td>\n",
       "      <td>0.0</td>\n",
       "      <td>0.0</td>\n",
       "      <td>0.0</td>\n",
       "      <td>32000.0</td>\n",
       "      <td>2250.0</td>\n",
       "      <td>0.0</td>\n",
       "      <td>0.0</td>\n",
       "      <td>...</td>\n",
       "      <td>8996.153846</td>\n",
       "      <td>0.0</td>\n",
       "      <td>1.536232</td>\n",
       "      <td>0.0</td>\n",
       "      <td>0</td>\n",
       "      <td>0</td>\n",
       "      <td>1</td>\n",
       "      <td>0</td>\n",
       "      <td>1</td>\n",
       "      <td>0</td>\n",
       "    </tr>\n",
       "    <tr>\n",
       "      <th>1879427</th>\n",
       "      <td>2063.0</td>\n",
       "      <td>1350.0</td>\n",
       "      <td>0.0</td>\n",
       "      <td>0.0</td>\n",
       "      <td>0.0</td>\n",
       "      <td>0.0</td>\n",
       "      <td>1531.0</td>\n",
       "      <td>675.0</td>\n",
       "      <td>0.0</td>\n",
       "      <td>0.0</td>\n",
       "      <td>...</td>\n",
       "      <td>184.307692</td>\n",
       "      <td>0.0</td>\n",
       "      <td>0.009662</td>\n",
       "      <td>0.0</td>\n",
       "      <td>0</td>\n",
       "      <td>0</td>\n",
       "      <td>1</td>\n",
       "      <td>0</td>\n",
       "      <td>1</td>\n",
       "      <td>0</td>\n",
       "    </tr>\n",
       "    <tr>\n",
       "      <th>1616849</th>\n",
       "      <td>56314.0</td>\n",
       "      <td>17460.0</td>\n",
       "      <td>0.0</td>\n",
       "      <td>0.0</td>\n",
       "      <td>0.0</td>\n",
       "      <td>0.0</td>\n",
       "      <td>76717.0</td>\n",
       "      <td>10850.0</td>\n",
       "      <td>0.0</td>\n",
       "      <td>0.0</td>\n",
       "      <td>...</td>\n",
       "      <td>12294.004918</td>\n",
       "      <td>0.0</td>\n",
       "      <td>1.026087</td>\n",
       "      <td>0.0</td>\n",
       "      <td>0</td>\n",
       "      <td>0</td>\n",
       "      <td>1</td>\n",
       "      <td>0</td>\n",
       "      <td>1</td>\n",
       "      <td>0</td>\n",
       "    </tr>\n",
       "    <tr>\n",
       "      <th>2046255</th>\n",
       "      <td>220125.0</td>\n",
       "      <td>3700.0</td>\n",
       "      <td>200000.0</td>\n",
       "      <td>0.0</td>\n",
       "      <td>200000.0</td>\n",
       "      <td>0.0</td>\n",
       "      <td>616375.0</td>\n",
       "      <td>2000.0</td>\n",
       "      <td>60000.0</td>\n",
       "      <td>0.0</td>\n",
       "      <td>...</td>\n",
       "      <td>299367.991676</td>\n",
       "      <td>0.0</td>\n",
       "      <td>2.260872</td>\n",
       "      <td>0.0</td>\n",
       "      <td>0</td>\n",
       "      <td>0</td>\n",
       "      <td>1</td>\n",
       "      <td>0</td>\n",
       "      <td>1</td>\n",
       "      <td>0</td>\n",
       "    </tr>\n",
       "  </tbody>\n",
       "</table>\n",
       "<p>5 rows × 119 columns</p>\n",
       "</div>"
      ],
      "text/plain": [
       "字段解释       木头获取数量   木头消耗数量    石头获取数量  石头消耗数量    象牙获取数量  象牙消耗数量     肉获取数量  \\\n",
       "1914412       0.0      0.0       0.0     0.0       0.0     0.0       0.0   \n",
       "188838    26375.0   4200.0       0.0     0.0       0.0     0.0   32000.0   \n",
       "1879427    2063.0   1350.0       0.0     0.0       0.0     0.0    1531.0   \n",
       "1616849   56314.0  17460.0       0.0     0.0       0.0     0.0   76717.0   \n",
       "2046255  220125.0   3700.0  200000.0     0.0  200000.0     0.0  616375.0   \n",
       "\n",
       "字段解释       肉消耗数量   魔法获取数量  魔法消耗数量  ...         玩家发育效率  氪金发育效率    玩家升级效率  \\\n",
       "1914412      0.0      0.0     0.0  ...       0.000000     0.0  0.000000   \n",
       "188838    2250.0      0.0     0.0  ...    8996.153846     0.0  1.536232   \n",
       "1879427    675.0      0.0     0.0  ...     184.307692     0.0  0.009662   \n",
       "1616849  10850.0      0.0     0.0  ...   12294.004918     0.0  1.026087   \n",
       "2046255   2000.0  60000.0     0.0  ...  299367.991676     0.0  2.260872   \n",
       "\n",
       "字段解释     氪金升级效率  潜力玩家  好战玩家  肝帝玩家  佛系玩家  菜鸡玩家  流失玩家  \n",
       "1914412     0.0     0     0     1     0     1     0  \n",
       "188838      0.0     0     0     1     0     1     0  \n",
       "1879427     0.0     0     0     1     0     1     0  \n",
       "1616849     0.0     0     0     1     0     1     0  \n",
       "2046255     0.0     0     0     1     0     1     0  \n",
       "\n",
       "[5 rows x 119 columns]"
      ]
     },
     "execution_count": 92,
     "metadata": {},
     "output_type": "execute_result"
    }
   ],
   "source": [
    "Xtrain.head()"
   ]
  },
  {
   "cell_type": "code",
   "execution_count": 93,
   "id": "1292d89a-d725-4d57-9c93-12870dfdf63c",
   "metadata": {
    "tags": []
   },
   "outputs": [],
   "source": [
    "Ytrain2 = y2[Xtrain.index] #以Xtrain,Xtest的分割方式来分割y2，这样y2就是与Ytrain相匹配的"
   ]
  },
  {
   "cell_type": "code",
   "execution_count": 94,
   "id": "4fe80abc-8059-4adf-8603-25330d744904",
   "metadata": {
    "tags": []
   },
   "outputs": [
    {
     "data": {
      "text/plain": [
       "1914412    0\n",
       "188838     0\n",
       "1879427    0\n",
       "1616849    0\n",
       "2046255    0\n",
       "Name: 45日付费金额, dtype: int32"
      ]
     },
     "execution_count": 94,
     "metadata": {},
     "output_type": "execute_result"
    }
   ],
   "source": [
    "Ytest2 = y2[Xtest.index]\n",
    "Ytrain2.head() #注意索引与原来相对"
   ]
  },
  {
   "cell_type": "markdown",
   "id": "a289f5d5-75d4-4ceb-a9d9-a1a20296bc15",
   "metadata": {},
   "source": [
    "- 使用逻辑回归进行建模并使用ROC进行评估"
   ]
  },
  {
   "cell_type": "code",
   "execution_count": 95,
   "id": "cb07013c-2271-4e48-9b79-838ab3b14b57",
   "metadata": {
    "tags": []
   },
   "outputs": [],
   "source": [
    "from sklearn.linear_model import LogisticRegression as LogiR\n",
    "from sklearn.metrics import roc_auc_score as ROC #ROC\n",
    "from sklearn.metrics import recall_score as Recall #召回\n",
    "from sklearn.metrics import precision_score as Precision #精确度"
   ]
  },
  {
   "cell_type": "code",
   "execution_count": 96,
   "id": "7ff196c7-f4f0-4388-9c95-d7e8c7286151",
   "metadata": {
    "tags": []
   },
   "outputs": [],
   "source": [
    "clf = LogiR(random_state=0) #逻辑回归的实例化"
   ]
  },
  {
   "cell_type": "code",
   "execution_count": 97,
   "id": "f1385da8-d564-45b3-b0e4-69439e42be07",
   "metadata": {
    "tags": []
   },
   "outputs": [
    {
     "data": {
      "text/html": [
       "<style>#sk-container-id-2 {color: black;}#sk-container-id-2 pre{padding: 0;}#sk-container-id-2 div.sk-toggleable {background-color: white;}#sk-container-id-2 label.sk-toggleable__label {cursor: pointer;display: block;width: 100%;margin-bottom: 0;padding: 0.3em;box-sizing: border-box;text-align: center;}#sk-container-id-2 label.sk-toggleable__label-arrow:before {content: \"▸\";float: left;margin-right: 0.25em;color: #696969;}#sk-container-id-2 label.sk-toggleable__label-arrow:hover:before {color: black;}#sk-container-id-2 div.sk-estimator:hover label.sk-toggleable__label-arrow:before {color: black;}#sk-container-id-2 div.sk-toggleable__content {max-height: 0;max-width: 0;overflow: hidden;text-align: left;background-color: #f0f8ff;}#sk-container-id-2 div.sk-toggleable__content pre {margin: 0.2em;color: black;border-radius: 0.25em;background-color: #f0f8ff;}#sk-container-id-2 input.sk-toggleable__control:checked~div.sk-toggleable__content {max-height: 200px;max-width: 100%;overflow: auto;}#sk-container-id-2 input.sk-toggleable__control:checked~label.sk-toggleable__label-arrow:before {content: \"▾\";}#sk-container-id-2 div.sk-estimator input.sk-toggleable__control:checked~label.sk-toggleable__label {background-color: #d4ebff;}#sk-container-id-2 div.sk-label input.sk-toggleable__control:checked~label.sk-toggleable__label {background-color: #d4ebff;}#sk-container-id-2 input.sk-hidden--visually {border: 0;clip: rect(1px 1px 1px 1px);clip: rect(1px, 1px, 1px, 1px);height: 1px;margin: -1px;overflow: hidden;padding: 0;position: absolute;width: 1px;}#sk-container-id-2 div.sk-estimator {font-family: monospace;background-color: #f0f8ff;border: 1px dotted black;border-radius: 0.25em;box-sizing: border-box;margin-bottom: 0.5em;}#sk-container-id-2 div.sk-estimator:hover {background-color: #d4ebff;}#sk-container-id-2 div.sk-parallel-item::after {content: \"\";width: 100%;border-bottom: 1px solid gray;flex-grow: 1;}#sk-container-id-2 div.sk-label:hover label.sk-toggleable__label {background-color: #d4ebff;}#sk-container-id-2 div.sk-serial::before {content: \"\";position: absolute;border-left: 1px solid gray;box-sizing: border-box;top: 0;bottom: 0;left: 50%;z-index: 0;}#sk-container-id-2 div.sk-serial {display: flex;flex-direction: column;align-items: center;background-color: white;padding-right: 0.2em;padding-left: 0.2em;position: relative;}#sk-container-id-2 div.sk-item {position: relative;z-index: 1;}#sk-container-id-2 div.sk-parallel {display: flex;align-items: stretch;justify-content: center;background-color: white;position: relative;}#sk-container-id-2 div.sk-item::before, #sk-container-id-2 div.sk-parallel-item::before {content: \"\";position: absolute;border-left: 1px solid gray;box-sizing: border-box;top: 0;bottom: 0;left: 50%;z-index: -1;}#sk-container-id-2 div.sk-parallel-item {display: flex;flex-direction: column;z-index: 1;position: relative;background-color: white;}#sk-container-id-2 div.sk-parallel-item:first-child::after {align-self: flex-end;width: 50%;}#sk-container-id-2 div.sk-parallel-item:last-child::after {align-self: flex-start;width: 50%;}#sk-container-id-2 div.sk-parallel-item:only-child::after {width: 0;}#sk-container-id-2 div.sk-dashed-wrapped {border: 1px dashed gray;margin: 0 0.4em 0.5em 0.4em;box-sizing: border-box;padding-bottom: 0.4em;background-color: white;}#sk-container-id-2 div.sk-label label {font-family: monospace;font-weight: bold;display: inline-block;line-height: 1.2em;}#sk-container-id-2 div.sk-label-container {text-align: center;}#sk-container-id-2 div.sk-container {/* jupyter's `normalize.less` sets `[hidden] { display: none; }` but bootstrap.min.css set `[hidden] { display: none !important; }` so we also need the `!important` here to be able to override the default hidden behavior on the sphinx rendered scikit-learn.org. See: https://github.com/scikit-learn/scikit-learn/issues/21755 */display: inline-block !important;position: relative;}#sk-container-id-2 div.sk-text-repr-fallback {display: none;}</style><div id=\"sk-container-id-2\" class=\"sk-top-container\"><div class=\"sk-text-repr-fallback\"><pre>LogisticRegression(random_state=0)</pre><b>In a Jupyter environment, please rerun this cell to show the HTML representation or trust the notebook. <br />On GitHub, the HTML representation is unable to render, please try loading this page with nbviewer.org.</b></div><div class=\"sk-container\" hidden><div class=\"sk-item\"><div class=\"sk-estimator sk-toggleable\"><input class=\"sk-toggleable__control sk-hidden--visually\" id=\"sk-estimator-id-2\" type=\"checkbox\" checked><label for=\"sk-estimator-id-2\" class=\"sk-toggleable__label sk-toggleable__label-arrow\">LogisticRegression</label><div class=\"sk-toggleable__content\"><pre>LogisticRegression(random_state=0)</pre></div></div></div></div></div>"
      ],
      "text/plain": [
       "LogisticRegression(random_state=0)"
      ]
     },
     "execution_count": 97,
     "metadata": {},
     "output_type": "execute_result"
    }
   ],
   "source": [
    "clf.fit(xtrain,Ytrain2) #训练，使用经过一切特征工程的特征矩阵xtrain"
   ]
  },
  {
   "cell_type": "code",
   "execution_count": 98,
   "id": "09ecba6b-d98c-409c-8795-b0bac5451db6",
   "metadata": {
    "tags": []
   },
   "outputs": [
    {
     "data": {
      "text/plain": [
       "0.9968094498559154"
      ]
     },
     "execution_count": 98,
     "metadata": {},
     "output_type": "execute_result"
    }
   ],
   "source": [
    "clf.score(xtrain,Ytrain2) #逻辑回归在训练集上的准确率"
   ]
  },
  {
   "cell_type": "code",
   "execution_count": 99,
   "id": "d389ea96-8fdd-44eb-ae60-7ff63debb006",
   "metadata": {
    "tags": []
   },
   "outputs": [
    {
     "data": {
      "text/plain": [
       "0.9968291187856683"
      ]
     },
     "execution_count": 99,
     "metadata": {},
     "output_type": "execute_result"
    }
   ],
   "source": [
    "clf.score(xtest,Ytest2) #逻辑回归在测试集上的准确率"
   ]
  },
  {
   "cell_type": "code",
   "execution_count": 100,
   "id": "9eaf0933-6b27-40bd-bfa3-17ddcaa3252d",
   "metadata": {
    "tags": []
   },
   "outputs": [],
   "source": [
    "#测试集的拟合情况\n",
    "y2_proba = clf.predict_proba(xtest) #找出了逻辑回归在测试集上对每个样本预测的概率"
   ]
  },
  {
   "cell_type": "code",
   "execution_count": 101,
   "id": "c637ad62-171e-4a06-a889-0d5d4a8755e0",
   "metadata": {
    "tags": []
   },
   "outputs": [
    {
     "data": {
      "text/plain": [
       "array([[0.99489083, 0.00510917],\n",
       "       [0.99816103, 0.00183897],\n",
       "       [0.99823014, 0.00176986],\n",
       "       ...,\n",
       "       [0.99809905, 0.00190095],\n",
       "       [0.99752905, 0.00247095],\n",
       "       [0.99816337, 0.00183663]])"
      ]
     },
     "execution_count": 101,
     "metadata": {},
     "output_type": "execute_result"
    }
   ],
   "source": [
    "y2_proba"
   ]
  },
  {
   "cell_type": "code",
   "execution_count": 102,
   "id": "decf5fc3-7ea8-431c-b1e9-c64738e7258e",
   "metadata": {
    "tags": []
   },
   "outputs": [
    {
     "data": {
      "text/plain": [
       "array([0.00510917, 0.00183897, 0.00176986, ..., 0.00190095, 0.00247095,\n",
       "       0.00183663])"
      ]
     },
     "execution_count": 102,
     "metadata": {},
     "output_type": "execute_result"
    }
   ],
   "source": [
    "y2_proba[:,1] #提取出为1的概率"
   ]
  },
  {
   "cell_type": "code",
   "execution_count": 103,
   "id": "c7cecb29-c5a9-4ae1-b69b-553988677e28",
   "metadata": {
    "tags": []
   },
   "outputs": [
    {
     "data": {
      "text/plain": [
       "0.9711818492842685"
      ]
     },
     "execution_count": 103,
     "metadata": {},
     "output_type": "execute_result"
    }
   ],
   "source": [
    "ROC(Ytest2,y2_proba[:,1]) #越接近1越好（越接近0越好），最糟糕的情况是接近0.5"
   ]
  },
  {
   "cell_type": "markdown",
   "id": "d3795591-8be8-4471-88f5-996e5928b6aa",
   "metadata": {},
   "source": [
    "- RECALL：全部真实的1中，被预测正确的1所占的比例"
   ]
  },
  {
   "cell_type": "markdown",
   "id": "b20529b1-2c2a-4a18-bfb1-c5c1bb3c62f4",
   "metadata": {},
   "source": [
    "![](http://pictes.oss-cn-beijing.aliyuncs.com/%E5%BE%AE%E8%AF%BE%20-%20sklearn/week%208%20SVM%20%282%29/confusion%20matrix/Recall.PNG)"
   ]
  },
  {
   "cell_type": "code",
   "execution_count": 104,
   "id": "a33e2fd9-227b-4ffb-8e2c-b820c6c2d15c",
   "metadata": {
    "tags": []
   },
   "outputs": [
    {
     "data": {
      "text/plain": [
       "0.8420766216804527"
      ]
     },
     "execution_count": 104,
     "metadata": {},
     "output_type": "execute_result"
    }
   ],
   "source": [
    "Recall(Ytest2,clf.predict(xtest))"
   ]
  },
  {
   "cell_type": "markdown",
   "id": "a971bdb9-f02d-43bd-906b-b12e9fd35655",
   "metadata": {},
   "source": [
    "- PRECISION：全部被预测为1的值中，真实的1所占的比例"
   ]
  },
  {
   "cell_type": "markdown",
   "id": "d1211482-c781-4dee-9ca5-d41546a64cf2",
   "metadata": {},
   "source": [
    "![](http://pictes.oss-cn-beijing.aliyuncs.com/%E5%BE%AE%E8%AF%BE%20-%20sklearn/week%208%20SVM%20%282%29/confusion%20matrix/Precision.PNG)"
   ]
  },
  {
   "cell_type": "code",
   "execution_count": 105,
   "id": "5d19f9d5-a9bc-49d9-9452-b8477ea3c37a",
   "metadata": {
    "tags": []
   },
   "outputs": [
    {
     "data": {
      "text/plain": [
       "1.0"
      ]
     },
     "execution_count": 105,
     "metadata": {},
     "output_type": "execute_result"
    }
   ],
   "source": [
    "Precision(Ytest2,clf.predict(xtest))"
   ]
  },
  {
   "cell_type": "markdown",
   "id": "841fc99e-f948-4e98-8b63-ee2e49752d82",
   "metadata": {},
   "source": [
    "逻辑回归的结果出乎意料地好，能够在样本不均衡如此严重的情况下达到0.98的ROC，证明该数据与逻辑回归非常适配。"
   ]
  },
  {
   "cell_type": "markdown",
   "id": "049a78af-24f3-4e7f-b965-d4990d65245e",
   "metadata": {},
   "source": [
    "- 调节阈值提升Recall"
   ]
  },
  {
   "cell_type": "markdown",
   "id": "8ee3daa3-f6e9-4221-98e9-712ebd0e5896",
   "metadata": {},
   "source": [
    "recall和precision结合起来看说明，所有被预测为1的值都预测正确了，但是还有部分被预测为0的值，实际上真正的值是1。在该recall和precision下，测试集捕捉出的1类（付费用户）数为："
   ]
  },
  {
   "cell_type": "code",
   "execution_count": 106,
   "id": "e16edf22-2713-4f83-9777-aa6458873861",
   "metadata": {},
   "outputs": [
    {
     "data": {
      "text/plain": [
       "15474"
      ]
     },
     "execution_count": 106,
     "metadata": {},
     "output_type": "execute_result"
    }
   ],
   "source": [
    "(y2_proba[:,1] > 0.5).sum()"
   ]
  },
  {
   "cell_type": "markdown",
   "id": "ad98e124-188b-4e87-b97e-c11f333f81cf",
   "metadata": {},
   "source": [
    "实际付费用户数为："
   ]
  },
  {
   "cell_type": "code",
   "execution_count": 107,
   "id": "b0852670-c9cd-4056-94cb-4da48b43464e",
   "metadata": {
    "tags": []
   },
   "outputs": [
    {
     "data": {
      "text/plain": [
       "45日付费金额    18376\n",
       "dtype: int64"
      ]
     },
     "execution_count": 107,
     "metadata": {},
     "output_type": "execute_result"
    }
   ],
   "source": [
    "(Ytest != 0).sum()"
   ]
  },
  {
   "cell_type": "markdown",
   "id": "4b6af92d-f812-4962-b551-8b7890653dd0",
   "metadata": {},
   "source": [
    "也就是说，有许多氪金用户被逻辑回归分类到“不氪金”的范畴了，如果按照现在的结果建模，那RMSE的主要来源就是**没有被逻辑回归包括的氪金用户的氪金数额 + 被逻辑回归指向付费、受线性回归预测后的金额差异（状况A）**。\n",
    "\n",
    "如果我们希望逻辑回归能够捕捉到所有真实氪金的用户，为此即便误伤一些没有氪金的用户，那我们就要努力提升Recall，此时RMSE的主要来源就是**被逻辑回归误认为是氪金用户的非氪用户在线性回归中的预测值 + 全部真实氪金用户经过线性回归预测后的金额差异（状况B）**。注意该状况下需要线性回归预测的值会更多。\n",
    "\n",
    "为难的是，我们现在并不知道这两种状况中哪种会有整体更低的RMSE，但我们知道现状就是状况A，如果我们需要提升Recall的话就可以降低逻辑回归中用于分类的阈值。\n",
    "\n",
    "在逻辑回归中，当预测出概率后，一般我们认为阈值是0.5，当概率大于0.5时样本的标签为1，当概率小于0.5时样本的标签为0。如果想要提升Recall，可以降低模型的阈值。然而，sklearn中的逻辑回归并不提供该功能，因此我们需要自己计算调整阈值后的Recall。来看下面的代码："
   ]
  },
  {
   "cell_type": "code",
   "execution_count": 108,
   "id": "487e6ed7-c8f6-4312-aa07-abe73d0ea263",
   "metadata": {
    "tags": []
   },
   "outputs": [],
   "source": [
    "#找出模型之前预测的1类概率\n",
    "prob = y2_proba[:,1]"
   ]
  },
  {
   "cell_type": "code",
   "execution_count": 109,
   "id": "3e51f4a7-9681-437d-ad76-c63b433c3949",
   "metadata": {
    "tags": []
   },
   "outputs": [
    {
     "data": {
      "text/plain": [
       "array([0, 0, 0, ..., 0, 0, 0])"
      ]
     },
     "execution_count": 109,
     "metadata": {},
     "output_type": "execute_result"
    }
   ],
   "source": [
    "#尝试更换阈值\n",
    "(prob > 0.3).astype(int) #阈值为0.3下的预测标签"
   ]
  },
  {
   "cell_type": "code",
   "execution_count": 110,
   "id": "d06e1c40-b7cd-47a5-9ae2-f80cb6c6ef02",
   "metadata": {
    "tags": []
   },
   "outputs": [
    {
     "name": "stdout",
     "output_type": "stream",
     "text": [
      "0.000 Recall:1.000\n",
      "0.026 Recall:0.890\n",
      "0.053 Recall:0.864\n",
      "0.079 Recall:0.854\n",
      "0.105 Recall:0.852\n",
      "0.132 Recall:0.852\n",
      "0.158 Recall:0.851\n",
      "0.184 Recall:0.850\n",
      "0.211 Recall:0.850\n",
      "0.237 Recall:0.849\n",
      "0.263 Recall:0.849\n",
      "0.289 Recall:0.848\n",
      "0.316 Recall:0.847\n",
      "0.342 Recall:0.847\n",
      "0.368 Recall:0.846\n",
      "0.395 Recall:0.846\n",
      "0.421 Recall:0.844\n",
      "0.447 Recall:0.844\n",
      "0.474 Recall:0.843\n",
      "0.500 Recall:0.842\n"
     ]
    }
   ],
   "source": [
    "#在0~0.5中循环20个阈值备选数，会发现阈值越低，recall越高\n",
    "for tol in np.linspace(0,0.5,20):\n",
    "    pred = (prob >= tol).astype(int)\n",
    "    recall = Recall(Ytest2,pred)\n",
    "    print(\"{:.3f} Recall:{:.3f}\".format(tol,recall))"
   ]
  },
  {
   "cell_type": "code",
   "execution_count": 111,
   "id": "66dc505f-670e-4de3-b648-09fcb0d11a0f",
   "metadata": {
    "tags": []
   },
   "outputs": [
    {
     "name": "stdout",
     "output_type": "stream",
     "text": [
      "0.000 Recall:1.000\n",
      "0.001 Recall:0.995\n",
      "0.003 Recall:0.958\n",
      "0.004 Recall:0.938\n",
      "0.005 Recall:0.927\n",
      "0.007 Recall:0.921\n",
      "0.008 Recall:0.915\n",
      "0.010 Recall:0.911\n",
      "0.011 Recall:0.907\n",
      "0.012 Recall:0.904\n",
      "0.014 Recall:0.902\n",
      "0.015 Recall:0.901\n",
      "0.016 Recall:0.899\n",
      "0.018 Recall:0.898\n",
      "0.019 Recall:0.897\n",
      "0.021 Recall:0.896\n",
      "0.022 Recall:0.895\n",
      "0.023 Recall:0.894\n",
      "0.025 Recall:0.892\n",
      "0.026 Recall:0.890\n"
     ]
    }
   ],
   "source": [
    "for tol in np.linspace(0,0.026,20): #在0~0.026之间再选择一个更小的阈值\n",
    "    pred = (prob >= tol).astype(int)\n",
    "    recall = Recall(Ytest2,pred)\n",
    "    print(\"{:.3f} Recall:{:.3f}\".format(tol,recall))"
   ]
  },
  {
   "cell_type": "code",
   "execution_count": 112,
   "id": "fe8885c7-9e27-42ec-81cd-d96d5692d8ab",
   "metadata": {
    "tags": []
   },
   "outputs": [],
   "source": [
    "#预设阈值\n",
    "#现状：0.5\n",
    "#可能的让recall升高并且降低RMSE的值：尝试0.026\n",
    "#可能让recall升高但或许会误伤太多0类导致RMSE升高的值：尝试0.014\n",
    "\n",
    "tol_ = 0.02 #多次实验之后，确认了阈值0.02可能是一个比较合适的值"
   ]
  },
  {
   "cell_type": "code",
   "execution_count": 113,
   "id": "32e427be-8464-40e6-8bd3-06cd5e262bca",
   "metadata": {
    "tags": []
   },
   "outputs": [
    {
     "data": {
      "text/plain": [
       "31451"
      ]
     },
     "execution_count": 113,
     "metadata": {},
     "output_type": "execute_result"
    }
   ],
   "source": [
    "#在0.02阈值下，逻辑回归预测了测试集中的多少样本为1\n",
    "(y2_proba[:,1] >= tol_).sum()"
   ]
  },
  {
   "cell_type": "code",
   "execution_count": 114,
   "id": "2ebccfb7-cf75-40b2-93d9-4be96eea1fc7",
   "metadata": {
    "tags": []
   },
   "outputs": [
    {
     "data": {
      "text/plain": [
       "47087"
      ]
     },
     "execution_count": 114,
     "metadata": {},
     "output_type": "execute_result"
    }
   ],
   "source": [
    "#训练集中的多少样本被预测为1\n",
    "(clf.predict_proba(xtrain)[:,1] >= tol_).sum()"
   ]
  },
  {
   "cell_type": "markdown",
   "id": "20571e82-45eb-4f20-a390-8224e6a65ee5",
   "metadata": {},
   "source": [
    "以上就是我们需要带入线性回归进行建模的数据量。"
   ]
  },
  {
   "cell_type": "markdown",
   "id": "815d8cb4-6b0f-478e-8d78-b02f7032315e",
   "metadata": {},
   "source": [
    "- 保留逻辑回归按阈值为0.02时的预测结果"
   ]
  },
  {
   "cell_type": "code",
   "execution_count": 115,
   "id": "e836fa59-6f65-469b-93c3-4f2167398ce9",
   "metadata": {
    "tags": []
   },
   "outputs": [],
   "source": [
    "#对于所有不氪金的样本而言，预测已经到此结束了 - 标签y为0\n",
    "#测试集，千万别忘记将Xtest的索引导入\n",
    "result = pd.DataFrame(y2_proba[:,1],index=Xtest.index)\n",
    "result.columns = [\"logi_proba\"]\n",
    "result[\"logi_y_pred\"] = (result[\"logi_proba\"] >= tol_).astype(int)"
   ]
  },
  {
   "cell_type": "code",
   "execution_count": 116,
   "id": "7c8215ee-aa76-4951-9394-0992dff4c881",
   "metadata": {
    "tags": []
   },
   "outputs": [
    {
     "data": {
      "text/html": [
       "<div>\n",
       "<style scoped>\n",
       "    .dataframe tbody tr th:only-of-type {\n",
       "        vertical-align: middle;\n",
       "    }\n",
       "\n",
       "    .dataframe tbody tr th {\n",
       "        vertical-align: top;\n",
       "    }\n",
       "\n",
       "    .dataframe thead th {\n",
       "        text-align: right;\n",
       "    }\n",
       "</style>\n",
       "<table border=\"1\" class=\"dataframe\">\n",
       "  <thead>\n",
       "    <tr style=\"text-align: right;\">\n",
       "      <th></th>\n",
       "      <th>logi_proba</th>\n",
       "      <th>logi_y_pred</th>\n",
       "    </tr>\n",
       "  </thead>\n",
       "  <tbody>\n",
       "    <tr>\n",
       "      <th>660869</th>\n",
       "      <td>0.005109</td>\n",
       "      <td>0</td>\n",
       "    </tr>\n",
       "    <tr>\n",
       "      <th>1002543</th>\n",
       "      <td>0.001839</td>\n",
       "      <td>0</td>\n",
       "    </tr>\n",
       "    <tr>\n",
       "      <th>2044898</th>\n",
       "      <td>0.001770</td>\n",
       "      <td>0</td>\n",
       "    </tr>\n",
       "    <tr>\n",
       "      <th>961802</th>\n",
       "      <td>0.001271</td>\n",
       "      <td>0</td>\n",
       "    </tr>\n",
       "    <tr>\n",
       "      <th>793236</th>\n",
       "      <td>0.004634</td>\n",
       "      <td>0</td>\n",
       "    </tr>\n",
       "  </tbody>\n",
       "</table>\n",
       "</div>"
      ],
      "text/plain": [
       "         logi_proba  logi_y_pred\n",
       "660869     0.005109            0\n",
       "1002543    0.001839            0\n",
       "2044898    0.001770            0\n",
       "961802     0.001271            0\n",
       "793236     0.004634            0"
      ]
     },
     "execution_count": 116,
     "metadata": {},
     "output_type": "execute_result"
    }
   ],
   "source": [
    "result.head()"
   ]
  },
  {
   "cell_type": "code",
   "execution_count": 117,
   "id": "04dc90ec-2a4a-43ed-947a-6e42e93352ec",
   "metadata": {
    "tags": []
   },
   "outputs": [],
   "source": [
    "#训练集，同样索引需要导入\n",
    "logi_train_result = pd.DataFrame(clf.predict_proba(xtrain)[:,1],index=Xtrain.index)\n",
    "logi_train_result.columns = [\"logi_train_proba\"]\n",
    "logi_train_result[\"logi_y_pred_train\"] = (logi_train_result[\"logi_train_proba\"] >= tol_).astype(int)"
   ]
  },
  {
   "cell_type": "code",
   "execution_count": 118,
   "id": "6ba38695-98df-4cb8-a04f-578d8ab4b55e",
   "metadata": {
    "tags": []
   },
   "outputs": [
    {
     "data": {
      "text/html": [
       "<div>\n",
       "<style scoped>\n",
       "    .dataframe tbody tr th:only-of-type {\n",
       "        vertical-align: middle;\n",
       "    }\n",
       "\n",
       "    .dataframe tbody tr th {\n",
       "        vertical-align: top;\n",
       "    }\n",
       "\n",
       "    .dataframe thead th {\n",
       "        text-align: right;\n",
       "    }\n",
       "</style>\n",
       "<table border=\"1\" class=\"dataframe\">\n",
       "  <thead>\n",
       "    <tr style=\"text-align: right;\">\n",
       "      <th></th>\n",
       "      <th>logi_train_proba</th>\n",
       "      <th>logi_y_pred_train</th>\n",
       "    </tr>\n",
       "  </thead>\n",
       "  <tbody>\n",
       "    <tr>\n",
       "      <th>1914412</th>\n",
       "      <td>0.001827</td>\n",
       "      <td>0</td>\n",
       "    </tr>\n",
       "    <tr>\n",
       "      <th>188838</th>\n",
       "      <td>0.001754</td>\n",
       "      <td>0</td>\n",
       "    </tr>\n",
       "    <tr>\n",
       "      <th>1879427</th>\n",
       "      <td>0.001506</td>\n",
       "      <td>0</td>\n",
       "    </tr>\n",
       "    <tr>\n",
       "      <th>1616849</th>\n",
       "      <td>0.001925</td>\n",
       "      <td>0</td>\n",
       "    </tr>\n",
       "    <tr>\n",
       "      <th>2046255</th>\n",
       "      <td>0.002151</td>\n",
       "      <td>0</td>\n",
       "    </tr>\n",
       "  </tbody>\n",
       "</table>\n",
       "</div>"
      ],
      "text/plain": [
       "         logi_train_proba  logi_y_pred_train\n",
       "1914412          0.001827                  0\n",
       "188838           0.001754                  0\n",
       "1879427          0.001506                  0\n",
       "1616849          0.001925                  0\n",
       "2046255          0.002151                  0"
      ]
     },
     "execution_count": 118,
     "metadata": {},
     "output_type": "execute_result"
    }
   ],
   "source": [
    "logi_train_result.head()"
   ]
  },
  {
   "cell_type": "markdown",
   "id": "f8a48347-25ae-4843-9e54-d3758f165f98",
   "metadata": {},
   "source": [
    "- 选出应该放出线性回归中的训练集与测试集"
   ]
  },
  {
   "cell_type": "code",
   "execution_count": 119,
   "id": "884ce55d-5d56-4d38-bf8e-b65f8766429e",
   "metadata": {
    "tags": []
   },
   "outputs": [],
   "source": [
    "#训练集：逻辑回归的预测标签为1的部分\n",
    "xtrain_linear_reg = xtrain[logi_train_result[\"logi_y_pred_train\"] == 1]\n",
    "ytrain_linear_reg = Ytrain[logi_train_result[\"logi_y_pred_train\"] == 1]"
   ]
  },
  {
   "cell_type": "code",
   "execution_count": 120,
   "id": "c0064388-fde5-48e8-9edf-644001e768c2",
   "metadata": {
    "tags": []
   },
   "outputs": [
    {
     "data": {
      "text/plain": [
       "(47087, 119)"
      ]
     },
     "execution_count": 120,
     "metadata": {},
     "output_type": "execute_result"
    }
   ],
   "source": [
    "xtrain_linear_reg.shape #确认与训练集中被预测为1的样本数一致"
   ]
  },
  {
   "cell_type": "code",
   "execution_count": 121,
   "id": "311c8c96-ab9c-44e0-966d-8f9eaeaab604",
   "metadata": {
    "tags": []
   },
   "outputs": [],
   "source": [
    "#测试集\n",
    "xtest_linear_reg = xtest[result[\"logi_y_pred\"] == 1]\n",
    "ytest_linear_reg = Ytest[result[\"logi_y_pred\"] == 1]"
   ]
  },
  {
   "cell_type": "code",
   "execution_count": 122,
   "id": "40e321bd-dba5-449a-9da9-8b27dc9c51ae",
   "metadata": {
    "tags": []
   },
   "outputs": [
    {
     "data": {
      "text/plain": [
       "(31451, 119)"
      ]
     },
     "execution_count": 122,
     "metadata": {},
     "output_type": "execute_result"
    }
   ],
   "source": [
    "xtest_linear_reg.shape"
   ]
  },
  {
   "cell_type": "markdown",
   "id": "036a3ec3-e6b3-435f-a75a-882923ceae30",
   "metadata": {},
   "source": [
    "- 开始回归预测"
   ]
  },
  {
   "cell_type": "code",
   "execution_count": 123,
   "id": "14a70465-0c2c-4172-9bb9-755aa72322ef",
   "metadata": {
    "tags": []
   },
   "outputs": [],
   "source": [
    "def reg_predict(model):\n",
    "    reg = model.fit(xtrain_linear_reg, ytrain_linear_reg) #训练\n",
    "    y_linear_pred = reg.predict(xtest_linear_reg) #对测试集进行预测\n",
    "    print(\"训练集R2:{:.3f}\".format(reg.score(xtrain_linear_reg, ytrain_linear_reg)))\n",
    "    print(\"测试集R2:{:.3f}\".format(reg.score(xtest_linear_reg, ytest_linear_reg)))\n",
    "    print(\"测试集RMSE:{:.3f}\".format(np.sqrt(MSE(ytest_linear_reg,y_linear_pred))))\n",
    "    return y_linear_pred #融合模型预测出的结果中的 - 回归部分"
   ]
  },
  {
   "cell_type": "code",
   "execution_count": 124,
   "id": "7a6c08d3-4f0b-4c6d-8820-48494151b14b",
   "metadata": {
    "tags": []
   },
   "outputs": [],
   "source": [
    "#线性回归\n",
    "reg0 = LR()"
   ]
  },
  {
   "cell_type": "code",
   "execution_count": 125,
   "id": "e3ad4122-ea4a-4ae2-81bf-57cb4777a18c",
   "metadata": {
    "tags": []
   },
   "outputs": [
    {
     "name": "stdout",
     "output_type": "stream",
     "text": [
      "训练集R2:0.581\n",
      "测试集R2:0.537\n",
      "测试集RMSE:305.916\n"
     ]
    }
   ],
   "source": [
    "y_linear_pred0 = reg_predict(reg0) #没有什么参数可以调整的"
   ]
  },
  {
   "cell_type": "code",
   "execution_count": 126,
   "id": "3dab33b2-82d6-4eda-ba34-e88a45b95576",
   "metadata": {
    "tags": []
   },
   "outputs": [],
   "source": [
    "from sklearn.ensemble import RandomForestRegressor as RFR\n",
    "from sklearn.ensemble import GradientBoostingRegressor as GBR"
   ]
  },
  {
   "cell_type": "code",
   "execution_count": 127,
   "id": "ba617dd5-4cd4-49ea-a54a-767b5f7a9a1e",
   "metadata": {
    "tags": []
   },
   "outputs": [],
   "source": [
    "reg1 = RFR(n_estimators=100,max_depth=2,max_features=20,random_state=1412)\n",
    "reg2 = GBR(n_estimators=100,max_depth=2,max_features=20,random_state=1412)"
   ]
  },
  {
   "cell_type": "code",
   "execution_count": 128,
   "id": "d5610176-733d-4b48-94b6-471e86a34d75",
   "metadata": {
    "tags": []
   },
   "outputs": [
    {
     "name": "stdout",
     "output_type": "stream",
     "text": [
      "训练集R2:0.517\n",
      "测试集R2:0.426\n",
      "测试集RMSE:340.585\n"
     ]
    }
   ],
   "source": [
    "y_linear_pred1 = reg_predict(reg1) #随机森林这个算法就是不太适合现在的数据"
   ]
  },
  {
   "cell_type": "code",
   "execution_count": 129,
   "id": "881f67e6-6a48-44b3-8ec8-e30485545b2b",
   "metadata": {
    "tags": []
   },
   "outputs": [
    {
     "name": "stdout",
     "output_type": "stream",
     "text": [
      "训练集R2:0.734\n",
      "测试集R2:0.538\n",
      "测试集RMSE:305.631\n"
     ]
    }
   ],
   "source": [
    "y_linear_pred2 = reg_predict(reg2)"
   ]
  },
  {
   "cell_type": "markdown",
   "id": "a4ffee4d-57db-4581-a83d-c14dd4343aeb",
   "metadata": {},
   "source": [
    "可以看到，随机森林不适合该数据，GBR与LR相近，但LR调参空间很小，可优化空间小，因此选择GBR进一步调优"
   ]
  },
  {
   "cell_type": "markdown",
   "id": "d99af4f4-517f-4cb7-9098-916a93903091",
   "metadata": {},
   "source": [
    "### 7. 模型调优"
   ]
  },
  {
   "cell_type": "markdown",
   "id": "4597a430-fbb4-4e37-a5b4-fa9e2bbd11de",
   "metadata": {
    "tags": []
   },
   "source": [
    "时间原因不使用学习曲线、交叉验证、网格搜索等方法进行模型调优\n",
    "\n",
    "模型处于过拟合状态"
   ]
  },
  {
   "cell_type": "markdown",
   "id": "c15bc07d-db9d-4b7e-ad8f-f6835a7ed7aa",
   "metadata": {},
   "source": [
    "- 经验调参\n",
    "    - 增大树的数量提升拟合能力，同时控制树的深度防止过拟合严重\n",
    "    - 降低学习率\n",
    "    - 特征数量 控制过拟合"
   ]
  },
  {
   "cell_type": "code",
   "execution_count": 130,
   "id": "ae922e4f-b662-4160-a78c-c09514fb7137",
   "metadata": {
    "tags": []
   },
   "outputs": [],
   "source": [
    "reg2 = GBR(n_estimators = 490 # 首先考虑的是增大模型的树的数量，来提升整体拟合能力\n",
    "           ,max_depth= 2 # 但又很容易过拟合，因此控制住树的深度\n",
    "           ,learning_rate= 0.05 # 当n_estimators和max_depth调不出好结果时，有限考虑降低学习率，学习率对树模型的效果影响很大\n",
    "           ,max_features = 50 # max_features的存在一开始主要是为了控制建模速度的，但是也可以控制过拟合，可以使用学习曲线找适合的阶段和位置\n",
    "           ,min_samples_split = 25 # 如果模型仍然过拟合，可以试着增加min_samples_split，增大允许分叶子的样本数量，以此来减少树的拟合程度\n",
    "           ,random_state= 1412)"
   ]
  },
  {
   "cell_type": "code",
   "execution_count": 131,
   "id": "c80104de-814b-441e-8dad-334c4ef6fe23",
   "metadata": {
    "tags": []
   },
   "outputs": [
    {
     "name": "stdout",
     "output_type": "stream",
     "text": [
      "训练集R2:0.796\n",
      "测试集R2:0.567\n",
      "测试集RMSE:295.724\n"
     ]
    }
   ],
   "source": [
    "y_linear_pred2 = reg_predict(reg2)"
   ]
  },
  {
   "cell_type": "markdown",
   "id": "ba91f2a4-e906-4980-94fc-755acf502c77",
   "metadata": {},
   "source": [
    "- 将线性回归与逻辑回归的预测值合并"
   ]
  },
  {
   "cell_type": "code",
   "execution_count": 132,
   "id": "ddcf40a6-4c36-418f-808b-cf6b3bbda1f0",
   "metadata": {
    "tags": []
   },
   "outputs": [],
   "source": [
    "result[\"reg_result\"] = 0 #创建新列，全部为0"
   ]
  },
  {
   "cell_type": "code",
   "execution_count": 133,
   "id": "8e224334-9259-45ef-8a90-031fdaa6dfef",
   "metadata": {
    "tags": []
   },
   "outputs": [],
   "source": [
    "#将逻辑回归的预测标签为1的样本提出来，对所有这些样本的“reg_result”回归结果列填入回归的预测结果y_linear_pred\n",
    "result.loc[result[\"logi_y_pred\"] == 1,\"reg_result\"] = y_linear_pred2"
   ]
  },
  {
   "cell_type": "code",
   "execution_count": 134,
   "id": "7cd681c0-381a-4513-b953-e4bca95376f3",
   "metadata": {
    "tags": []
   },
   "outputs": [
    {
     "data": {
      "text/html": [
       "<div>\n",
       "<style scoped>\n",
       "    .dataframe tbody tr th:only-of-type {\n",
       "        vertical-align: middle;\n",
       "    }\n",
       "\n",
       "    .dataframe tbody tr th {\n",
       "        vertical-align: top;\n",
       "    }\n",
       "\n",
       "    .dataframe thead th {\n",
       "        text-align: right;\n",
       "    }\n",
       "</style>\n",
       "<table border=\"1\" class=\"dataframe\">\n",
       "  <thead>\n",
       "    <tr style=\"text-align: right;\">\n",
       "      <th></th>\n",
       "      <th>logi_proba</th>\n",
       "      <th>logi_y_pred</th>\n",
       "      <th>reg_result</th>\n",
       "    </tr>\n",
       "  </thead>\n",
       "  <tbody>\n",
       "    <tr>\n",
       "      <th>660869</th>\n",
       "      <td>0.005109</td>\n",
       "      <td>0</td>\n",
       "      <td>0.0</td>\n",
       "    </tr>\n",
       "    <tr>\n",
       "      <th>1002543</th>\n",
       "      <td>0.001839</td>\n",
       "      <td>0</td>\n",
       "      <td>0.0</td>\n",
       "    </tr>\n",
       "    <tr>\n",
       "      <th>2044898</th>\n",
       "      <td>0.001770</td>\n",
       "      <td>0</td>\n",
       "      <td>0.0</td>\n",
       "    </tr>\n",
       "    <tr>\n",
       "      <th>961802</th>\n",
       "      <td>0.001271</td>\n",
       "      <td>0</td>\n",
       "      <td>0.0</td>\n",
       "    </tr>\n",
       "    <tr>\n",
       "      <th>793236</th>\n",
       "      <td>0.004634</td>\n",
       "      <td>0</td>\n",
       "      <td>0.0</td>\n",
       "    </tr>\n",
       "  </tbody>\n",
       "</table>\n",
       "</div>"
      ],
      "text/plain": [
       "         logi_proba  logi_y_pred  reg_result\n",
       "660869     0.005109            0         0.0\n",
       "1002543    0.001839            0         0.0\n",
       "2044898    0.001770            0         0.0\n",
       "961802     0.001271            0         0.0\n",
       "793236     0.004634            0         0.0"
      ]
     },
     "execution_count": 134,
     "metadata": {},
     "output_type": "execute_result"
    }
   ],
   "source": [
    "result.head()"
   ]
  },
  {
   "cell_type": "code",
   "execution_count": 135,
   "id": "90be41e8-0c0c-4670-b264-78ff10907fc2",
   "metadata": {
    "tags": []
   },
   "outputs": [
    {
     "data": {
      "text/html": [
       "<div>\n",
       "<style scoped>\n",
       "    .dataframe tbody tr th:only-of-type {\n",
       "        vertical-align: middle;\n",
       "    }\n",
       "\n",
       "    .dataframe tbody tr th {\n",
       "        vertical-align: top;\n",
       "    }\n",
       "\n",
       "    .dataframe thead th {\n",
       "        text-align: right;\n",
       "    }\n",
       "</style>\n",
       "<table border=\"1\" class=\"dataframe\">\n",
       "  <thead>\n",
       "    <tr style=\"text-align: right;\">\n",
       "      <th></th>\n",
       "      <th>45日付费金额</th>\n",
       "    </tr>\n",
       "  </thead>\n",
       "  <tbody>\n",
       "    <tr>\n",
       "      <th>660869</th>\n",
       "      <td>0.0</td>\n",
       "    </tr>\n",
       "    <tr>\n",
       "      <th>1002543</th>\n",
       "      <td>0.0</td>\n",
       "    </tr>\n",
       "    <tr>\n",
       "      <th>2044898</th>\n",
       "      <td>0.0</td>\n",
       "    </tr>\n",
       "    <tr>\n",
       "      <th>961802</th>\n",
       "      <td>0.0</td>\n",
       "    </tr>\n",
       "    <tr>\n",
       "      <th>793236</th>\n",
       "      <td>0.0</td>\n",
       "    </tr>\n",
       "  </tbody>\n",
       "</table>\n",
       "</div>"
      ],
      "text/plain": [
       "         45日付费金额\n",
       "660869       0.0\n",
       "1002543      0.0\n",
       "2044898      0.0\n",
       "961802       0.0\n",
       "793236       0.0"
      ]
     },
     "execution_count": 135,
     "metadata": {},
     "output_type": "execute_result"
    }
   ],
   "source": [
    "Ytest.head() #确认索引一致"
   ]
  },
  {
   "cell_type": "code",
   "execution_count": 136,
   "id": "4f640550-2152-4775-b1e7-07e0d82b936c",
   "metadata": {
    "tags": []
   },
   "outputs": [
    {
     "data": {
      "text/plain": [
       "55.562407990988135"
      ]
     },
     "execution_count": 136,
     "metadata": {},
     "output_type": "execute_result"
    }
   ],
   "source": [
    "np.sqrt(MSE(Ytest,result[\"reg_result\"]))"
   ]
  },
  {
   "cell_type": "markdown",
   "id": "de31d0aa-ca20-4be4-8cbf-38fe86828489",
   "metadata": {},
   "source": [
    "比赛分数排名"
   ]
  },
  {
   "cell_type": "markdown",
   "id": "ae3db790-37f1-4e13-a965-c3ca04509f57",
   "metadata": {},
   "source": [
    "![](https://skojiangdoc.oss-cn-beijing.aliyuncs.com/micro_class/sklearncase/%E6%8E%92%E8%A1%8C%E6%A6%9C.PNG)"
   ]
  },
  {
   "cell_type": "markdown",
   "id": "76529fe3-44dd-4c5f-a689-2d4ce67c01b1",
   "metadata": {},
   "source": [
    "模型可以进一步优化"
   ]
  },
  {
   "cell_type": "code",
   "execution_count": 137,
   "id": "cfbaa265-774b-43f9-bde9-5f1814f9abfb",
   "metadata": {
    "tags": []
   },
   "outputs": [],
   "source": [
    "FeatureImportance = pd.concat([pd.DataFrame(Xtrain.columns),pd.DataFrame(reg2.feature_importances_)],axis=1)"
   ]
  },
  {
   "cell_type": "code",
   "execution_count": 138,
   "id": "a751dfa0-487a-4bb7-8288-bb6d032276cc",
   "metadata": {
    "tags": []
   },
   "outputs": [
    {
     "data": {
      "text/html": [
       "<div>\n",
       "<style scoped>\n",
       "    .dataframe tbody tr th:only-of-type {\n",
       "        vertical-align: middle;\n",
       "    }\n",
       "\n",
       "    .dataframe tbody tr th {\n",
       "        vertical-align: top;\n",
       "    }\n",
       "\n",
       "    .dataframe thead th {\n",
       "        text-align: right;\n",
       "    }\n",
       "</style>\n",
       "<table border=\"1\" class=\"dataframe\">\n",
       "  <thead>\n",
       "    <tr style=\"text-align: right;\">\n",
       "      <th></th>\n",
       "      <th>字段解释</th>\n",
       "      <th>0</th>\n",
       "    </tr>\n",
       "  </thead>\n",
       "  <tbody>\n",
       "    <tr>\n",
       "      <th>104</th>\n",
       "      <td>付费金额</td>\n",
       "      <td>0.250347</td>\n",
       "    </tr>\n",
       "    <tr>\n",
       "      <th>105</th>\n",
       "      <td>付费次数</td>\n",
       "      <td>0.090604</td>\n",
       "    </tr>\n",
       "    <tr>\n",
       "      <th>23</th>\n",
       "      <td>通用加速使用数量</td>\n",
       "      <td>0.066140</td>\n",
       "    </tr>\n",
       "    <tr>\n",
       "      <th>28</th>\n",
       "      <td>训练加速获取数量</td>\n",
       "      <td>0.062818</td>\n",
       "    </tr>\n",
       "    <tr>\n",
       "      <th>4</th>\n",
       "      <td>象牙获取数量</td>\n",
       "      <td>0.057614</td>\n",
       "    </tr>\n",
       "    <tr>\n",
       "      <th>...</th>\n",
       "      <td>...</td>\n",
       "      <td>...</td>\n",
       "    </tr>\n",
       "    <tr>\n",
       "      <th>85</th>\n",
       "      <td>科研：据点二</td>\n",
       "      <td>0.000000</td>\n",
       "    </tr>\n",
       "    <tr>\n",
       "      <th>51</th>\n",
       "      <td>科研：巨兽驯兽师</td>\n",
       "      <td>0.000000</td>\n",
       "    </tr>\n",
       "    <tr>\n",
       "      <th>50</th>\n",
       "      <td>科研：守护者</td>\n",
       "      <td>0.000000</td>\n",
       "    </tr>\n",
       "    <tr>\n",
       "      <th>17</th>\n",
       "      <td>勇士伤兵恢复数量</td>\n",
       "      <td>0.000000</td>\n",
       "    </tr>\n",
       "    <tr>\n",
       "      <th>118</th>\n",
       "      <td>流失玩家</td>\n",
       "      <td>0.000000</td>\n",
       "    </tr>\n",
       "  </tbody>\n",
       "</table>\n",
       "<p>119 rows × 2 columns</p>\n",
       "</div>"
      ],
      "text/plain": [
       "         字段解释         0\n",
       "104      付费金额  0.250347\n",
       "105      付费次数  0.090604\n",
       "23   通用加速使用数量  0.066140\n",
       "28   训练加速获取数量  0.062818\n",
       "4      象牙获取数量  0.057614\n",
       "..        ...       ...\n",
       "85     科研：据点二  0.000000\n",
       "51   科研：巨兽驯兽师  0.000000\n",
       "50     科研：守护者  0.000000\n",
       "17   勇士伤兵恢复数量  0.000000\n",
       "118      流失玩家  0.000000\n",
       "\n",
       "[119 rows x 2 columns]"
      ]
     },
     "execution_count": 138,
     "metadata": {},
     "output_type": "execute_result"
    }
   ],
   "source": [
    "FeatureImportance.sort_values(0,ascending=False) #特征重要性"
   ]
  },
  {
   "cell_type": "markdown",
   "id": "e4e71be1-e128-4a7b-99c7-556629e4559e",
   "metadata": {},
   "source": [
    "- **改进空间**\n",
    "> 1. 使用聚合方式创造特征\n",
    "> 2. 使用分箱处理连续型特征（对线性回归有异常好的效果）\n",
    "> 3. 更换更强大的算法（如神经网络/LGBM）"
   ]
  }
 ],
 "metadata": {
  "kernelspec": {
   "display_name": "Python 3 (ipykernel)",
   "language": "python",
   "name": "python3"
  },
  "language_info": {
   "codemirror_mode": {
    "name": "ipython",
    "version": 3
   },
   "file_extension": ".py",
   "mimetype": "text/x-python",
   "name": "python",
   "nbconvert_exporter": "python",
   "pygments_lexer": "ipython3",
   "version": "3.11.5"
  }
 },
 "nbformat": 4,
 "nbformat_minor": 5
}
