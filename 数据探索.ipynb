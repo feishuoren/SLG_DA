{
 "cells": [
  {
   "cell_type": "markdown",
   "id": "8c4790a5-74d4-4a21-82b2-715f9fc6ac25",
   "metadata": {},
   "source": [
    "# 数据探索：游戏用户行为数据的深度探索\n",
    "## 1. 导入数据，了解数据基本信息"
   ]
  },
  {
   "cell_type": "code",
   "execution_count": 1,
   "id": "a749647c-4807-49df-a37f-b8dd7d420cd1",
   "metadata": {
    "tags": []
   },
   "outputs": [],
   "source": [
    "import pandas as pd\n",
    "import numpy as np\n",
    "import matplotlib.pyplot as plt\n",
    "%matplotlib inline\n",
    "plt.rcParams['font.sans-serif']=['Simhei']\n",
    "plt.rcParams['axes.unicode_minus']=False"
   ]
  },
  {
   "cell_type": "code",
   "execution_count": 2,
   "id": "8952ab16-f056-4fff-a095-b960e5e1a2b5",
   "metadata": {
    "tags": []
   },
   "outputs": [],
   "source": [
    "data = pd.read_csv(r\".\\数据\\tap4fun竞赛数据\\tap_fun_train.csv\")"
   ]
  },
  {
   "cell_type": "code",
   "execution_count": 3,
   "id": "7624d411-ab4c-4bdf-9487-5d009f912db0",
   "metadata": {
    "tags": []
   },
   "outputs": [
    {
     "data": {
      "text/html": [
       "<div>\n",
       "<style scoped>\n",
       "    .dataframe tbody tr th:only-of-type {\n",
       "        vertical-align: middle;\n",
       "    }\n",
       "\n",
       "    .dataframe tbody tr th {\n",
       "        vertical-align: top;\n",
       "    }\n",
       "\n",
       "    .dataframe thead th {\n",
       "        text-align: right;\n",
       "    }\n",
       "</style>\n",
       "<table border=\"1\" class=\"dataframe\">\n",
       "  <thead>\n",
       "    <tr style=\"text-align: right;\">\n",
       "      <th></th>\n",
       "      <th>user_id</th>\n",
       "      <th>register_time</th>\n",
       "      <th>wood_add_value</th>\n",
       "      <th>wood_reduce_value</th>\n",
       "      <th>stone_add_value</th>\n",
       "      <th>stone_reduce_value</th>\n",
       "      <th>ivory_add_value</th>\n",
       "      <th>ivory_reduce_value</th>\n",
       "      <th>meat_add_value</th>\n",
       "      <th>meat_reduce_value</th>\n",
       "      <th>...</th>\n",
       "      <th>pvp_battle_count</th>\n",
       "      <th>pvp_lanch_count</th>\n",
       "      <th>pvp_win_count</th>\n",
       "      <th>pve_battle_count</th>\n",
       "      <th>pve_lanch_count</th>\n",
       "      <th>pve_win_count</th>\n",
       "      <th>avg_online_minutes</th>\n",
       "      <th>pay_price</th>\n",
       "      <th>pay_count</th>\n",
       "      <th>prediction_pay_price</th>\n",
       "    </tr>\n",
       "  </thead>\n",
       "  <tbody>\n",
       "    <tr>\n",
       "      <th>0</th>\n",
       "      <td>1</td>\n",
       "      <td>2018-02-02 19:47:15</td>\n",
       "      <td>20125.0</td>\n",
       "      <td>3700.0</td>\n",
       "      <td>0.0</td>\n",
       "      <td>0.0</td>\n",
       "      <td>0.0</td>\n",
       "      <td>0.0</td>\n",
       "      <td>16375.0</td>\n",
       "      <td>2000.0</td>\n",
       "      <td>...</td>\n",
       "      <td>0</td>\n",
       "      <td>0</td>\n",
       "      <td>0</td>\n",
       "      <td>0</td>\n",
       "      <td>0</td>\n",
       "      <td>0</td>\n",
       "      <td>0.333333</td>\n",
       "      <td>0.0</td>\n",
       "      <td>0</td>\n",
       "      <td>0.0</td>\n",
       "    </tr>\n",
       "    <tr>\n",
       "      <th>1</th>\n",
       "      <td>1593</td>\n",
       "      <td>2018-01-26 00:01:05</td>\n",
       "      <td>0.0</td>\n",
       "      <td>0.0</td>\n",
       "      <td>0.0</td>\n",
       "      <td>0.0</td>\n",
       "      <td>0.0</td>\n",
       "      <td>0.0</td>\n",
       "      <td>0.0</td>\n",
       "      <td>0.0</td>\n",
       "      <td>...</td>\n",
       "      <td>0</td>\n",
       "      <td>0</td>\n",
       "      <td>0</td>\n",
       "      <td>0</td>\n",
       "      <td>0</td>\n",
       "      <td>0</td>\n",
       "      <td>0.333333</td>\n",
       "      <td>0.0</td>\n",
       "      <td>0</td>\n",
       "      <td>0.0</td>\n",
       "    </tr>\n",
       "    <tr>\n",
       "      <th>2</th>\n",
       "      <td>1594</td>\n",
       "      <td>2018-01-26 00:01:58</td>\n",
       "      <td>0.0</td>\n",
       "      <td>0.0</td>\n",
       "      <td>0.0</td>\n",
       "      <td>0.0</td>\n",
       "      <td>0.0</td>\n",
       "      <td>0.0</td>\n",
       "      <td>0.0</td>\n",
       "      <td>0.0</td>\n",
       "      <td>...</td>\n",
       "      <td>0</td>\n",
       "      <td>0</td>\n",
       "      <td>0</td>\n",
       "      <td>0</td>\n",
       "      <td>0</td>\n",
       "      <td>0</td>\n",
       "      <td>1.166667</td>\n",
       "      <td>0.0</td>\n",
       "      <td>0</td>\n",
       "      <td>0.0</td>\n",
       "    </tr>\n",
       "    <tr>\n",
       "      <th>3</th>\n",
       "      <td>1595</td>\n",
       "      <td>2018-01-26 00:02:13</td>\n",
       "      <td>0.0</td>\n",
       "      <td>0.0</td>\n",
       "      <td>0.0</td>\n",
       "      <td>0.0</td>\n",
       "      <td>0.0</td>\n",
       "      <td>0.0</td>\n",
       "      <td>0.0</td>\n",
       "      <td>0.0</td>\n",
       "      <td>...</td>\n",
       "      <td>0</td>\n",
       "      <td>0</td>\n",
       "      <td>0</td>\n",
       "      <td>0</td>\n",
       "      <td>0</td>\n",
       "      <td>0</td>\n",
       "      <td>3.166667</td>\n",
       "      <td>0.0</td>\n",
       "      <td>0</td>\n",
       "      <td>0.0</td>\n",
       "    </tr>\n",
       "    <tr>\n",
       "      <th>4</th>\n",
       "      <td>1596</td>\n",
       "      <td>2018-01-26 00:02:46</td>\n",
       "      <td>0.0</td>\n",
       "      <td>0.0</td>\n",
       "      <td>0.0</td>\n",
       "      <td>0.0</td>\n",
       "      <td>0.0</td>\n",
       "      <td>0.0</td>\n",
       "      <td>0.0</td>\n",
       "      <td>0.0</td>\n",
       "      <td>...</td>\n",
       "      <td>0</td>\n",
       "      <td>0</td>\n",
       "      <td>0</td>\n",
       "      <td>0</td>\n",
       "      <td>0</td>\n",
       "      <td>0</td>\n",
       "      <td>2.333333</td>\n",
       "      <td>0.0</td>\n",
       "      <td>0</td>\n",
       "      <td>0.0</td>\n",
       "    </tr>\n",
       "  </tbody>\n",
       "</table>\n",
       "<p>5 rows × 109 columns</p>\n",
       "</div>"
      ],
      "text/plain": [
       "   user_id        register_time  wood_add_value  wood_reduce_value  \\\n",
       "0        1  2018-02-02 19:47:15         20125.0             3700.0   \n",
       "1     1593  2018-01-26 00:01:05             0.0                0.0   \n",
       "2     1594  2018-01-26 00:01:58             0.0                0.0   \n",
       "3     1595  2018-01-26 00:02:13             0.0                0.0   \n",
       "4     1596  2018-01-26 00:02:46             0.0                0.0   \n",
       "\n",
       "   stone_add_value  stone_reduce_value  ivory_add_value  ivory_reduce_value  \\\n",
       "0              0.0                 0.0              0.0                 0.0   \n",
       "1              0.0                 0.0              0.0                 0.0   \n",
       "2              0.0                 0.0              0.0                 0.0   \n",
       "3              0.0                 0.0              0.0                 0.0   \n",
       "4              0.0                 0.0              0.0                 0.0   \n",
       "\n",
       "   meat_add_value  meat_reduce_value  ...  pvp_battle_count  pvp_lanch_count  \\\n",
       "0         16375.0             2000.0  ...                 0                0   \n",
       "1             0.0                0.0  ...                 0                0   \n",
       "2             0.0                0.0  ...                 0                0   \n",
       "3             0.0                0.0  ...                 0                0   \n",
       "4             0.0                0.0  ...                 0                0   \n",
       "\n",
       "   pvp_win_count  pve_battle_count  pve_lanch_count  pve_win_count  \\\n",
       "0              0                 0                0              0   \n",
       "1              0                 0                0              0   \n",
       "2              0                 0                0              0   \n",
       "3              0                 0                0              0   \n",
       "4              0                 0                0              0   \n",
       "\n",
       "   avg_online_minutes  pay_price  pay_count  prediction_pay_price  \n",
       "0            0.333333        0.0          0                   0.0  \n",
       "1            0.333333        0.0          0                   0.0  \n",
       "2            1.166667        0.0          0                   0.0  \n",
       "3            3.166667        0.0          0                   0.0  \n",
       "4            2.333333        0.0          0                   0.0  \n",
       "\n",
       "[5 rows x 109 columns]"
      ]
     },
     "execution_count": 3,
     "metadata": {},
     "output_type": "execute_result"
    }
   ],
   "source": [
    "data.head()"
   ]
  },
  {
   "cell_type": "code",
   "execution_count": 4,
   "id": "877d0a9c-eae2-4251-b1f5-42b2b6c387d3",
   "metadata": {
    "tags": []
   },
   "outputs": [
    {
     "data": {
      "text/plain": [
       "(2288007, 109)"
      ]
     },
     "execution_count": 4,
     "metadata": {},
     "output_type": "execute_result"
    }
   ],
   "source": [
    "data.shape #107个特征，首列为id，最后一列为付费金额（标签）"
   ]
  },
  {
   "cell_type": "markdown",
   "id": "52333f38-d876-4022-abeb-3053b4495719",
   "metadata": {},
   "source": [
    "对于这样大规模的数据，在个人电脑上倾向于先使用简单模型如线性回归逻辑回归试试，而不选择复杂模型如决策树、随机森林、XGBoost\n",
    "### 更换列名为中文"
   ]
  },
  {
   "cell_type": "code",
   "execution_count": 5,
   "id": "99b25f93-d14a-4dbd-90f7-0aad8c2c9f70",
   "metadata": {
    "tags": []
   },
   "outputs": [],
   "source": [
    "column_name = pd.read_excel(r\".\\数据\\tap4fun竞赛数据\\tap4fun 数据字段解释.xlsx\")"
   ]
  },
  {
   "cell_type": "code",
   "execution_count": 6,
   "id": "b5db3c57-b0a7-41e7-925e-6288d466ed30",
   "metadata": {
    "tags": []
   },
   "outputs": [
    {
     "data": {
      "text/html": [
       "<div>\n",
       "<style scoped>\n",
       "    .dataframe tbody tr th:only-of-type {\n",
       "        vertical-align: middle;\n",
       "    }\n",
       "\n",
       "    .dataframe tbody tr th {\n",
       "        vertical-align: top;\n",
       "    }\n",
       "\n",
       "    .dataframe thead th {\n",
       "        text-align: right;\n",
       "    }\n",
       "</style>\n",
       "<table border=\"1\" class=\"dataframe\">\n",
       "  <thead>\n",
       "    <tr style=\"text-align: right;\">\n",
       "      <th></th>\n",
       "      <th>字段名</th>\n",
       "      <th>字段解释</th>\n",
       "      <th>数据时间</th>\n",
       "      <th>变量性质</th>\n",
       "      <th>Unnamed: 4</th>\n",
       "    </tr>\n",
       "  </thead>\n",
       "  <tbody>\n",
       "    <tr>\n",
       "      <th>0</th>\n",
       "      <td>user_id</td>\n",
       "      <td>玩家唯一ID</td>\n",
       "      <td>永久</td>\n",
       "      <td>ID</td>\n",
       "      <td>目标：使用玩家在前7日的行为数据，预测玩家前45日付费金额。</td>\n",
       "    </tr>\n",
       "    <tr>\n",
       "      <th>1</th>\n",
       "      <td>register_time</td>\n",
       "      <td>玩家注册时间</td>\n",
       "      <td>永久</td>\n",
       "      <td>自变量</td>\n",
       "      <td>NaN</td>\n",
       "    </tr>\n",
       "    <tr>\n",
       "      <th>2</th>\n",
       "      <td>wood_add_value</td>\n",
       "      <td>木头获取数量</td>\n",
       "      <td>前七日</td>\n",
       "      <td>自变量</td>\n",
       "      <td>NaN</td>\n",
       "    </tr>\n",
       "    <tr>\n",
       "      <th>3</th>\n",
       "      <td>wood_reduce_value</td>\n",
       "      <td>木头消耗数量</td>\n",
       "      <td>前七日</td>\n",
       "      <td>自变量</td>\n",
       "      <td>NaN</td>\n",
       "    </tr>\n",
       "    <tr>\n",
       "      <th>4</th>\n",
       "      <td>stone_add_value</td>\n",
       "      <td>石头获取数量</td>\n",
       "      <td>前七日</td>\n",
       "      <td>自变量</td>\n",
       "      <td>NaN</td>\n",
       "    </tr>\n",
       "  </tbody>\n",
       "</table>\n",
       "</div>"
      ],
      "text/plain": [
       "                 字段名    字段解释 数据时间 变量性质                      Unnamed: 4\n",
       "0            user_id  玩家唯一ID   永久   ID  目标：使用玩家在前7日的行为数据，预测玩家前45日付费金额。\n",
       "1      register_time  玩家注册时间   永久  自变量                             NaN\n",
       "2     wood_add_value  木头获取数量  前七日  自变量                             NaN\n",
       "3  wood_reduce_value  木头消耗数量  前七日  自变量                             NaN\n",
       "4    stone_add_value  石头获取数量  前七日  自变量                             NaN"
      ]
     },
     "execution_count": 6,
     "metadata": {},
     "output_type": "execute_result"
    }
   ],
   "source": [
    "column_name.head()"
   ]
  },
  {
   "cell_type": "code",
   "execution_count": 7,
   "id": "01f3fe6e-6b62-4b2c-9852-b5c1a1ec3da5",
   "metadata": {
    "tags": []
   },
   "outputs": [],
   "source": [
    "data.columns = column_name['字段解释']"
   ]
  },
  {
   "cell_type": "code",
   "execution_count": 8,
   "id": "9c56adfd-8c43-4070-b40e-5d2d619a3091",
   "metadata": {
    "tags": []
   },
   "outputs": [
    {
     "data": {
      "text/html": [
       "<div>\n",
       "<style scoped>\n",
       "    .dataframe tbody tr th:only-of-type {\n",
       "        vertical-align: middle;\n",
       "    }\n",
       "\n",
       "    .dataframe tbody tr th {\n",
       "        vertical-align: top;\n",
       "    }\n",
       "\n",
       "    .dataframe thead th {\n",
       "        text-align: right;\n",
       "    }\n",
       "</style>\n",
       "<table border=\"1\" class=\"dataframe\">\n",
       "  <thead>\n",
       "    <tr style=\"text-align: right;\">\n",
       "      <th>字段解释</th>\n",
       "      <th>玩家唯一ID</th>\n",
       "      <th>玩家注册时间</th>\n",
       "      <th>木头获取数量</th>\n",
       "      <th>木头消耗数量</th>\n",
       "      <th>石头获取数量</th>\n",
       "      <th>石头消耗数量</th>\n",
       "      <th>象牙获取数量</th>\n",
       "      <th>象牙消耗数量</th>\n",
       "      <th>肉获取数量</th>\n",
       "      <th>肉消耗数量</th>\n",
       "      <th>...</th>\n",
       "      <th>PVP次数</th>\n",
       "      <th>主动发起PVP次数</th>\n",
       "      <th>PVP胜利次数</th>\n",
       "      <th>PVE次数</th>\n",
       "      <th>主动发起PVE次数</th>\n",
       "      <th>PVE胜利次数</th>\n",
       "      <th>在线时长</th>\n",
       "      <th>付费金额</th>\n",
       "      <th>付费次数</th>\n",
       "      <th>45日付费金额</th>\n",
       "    </tr>\n",
       "  </thead>\n",
       "  <tbody>\n",
       "    <tr>\n",
       "      <th>0</th>\n",
       "      <td>1</td>\n",
       "      <td>2018-02-02 19:47:15</td>\n",
       "      <td>20125.0</td>\n",
       "      <td>3700.0</td>\n",
       "      <td>0.0</td>\n",
       "      <td>0.0</td>\n",
       "      <td>0.0</td>\n",
       "      <td>0.0</td>\n",
       "      <td>16375.0</td>\n",
       "      <td>2000.0</td>\n",
       "      <td>...</td>\n",
       "      <td>0</td>\n",
       "      <td>0</td>\n",
       "      <td>0</td>\n",
       "      <td>0</td>\n",
       "      <td>0</td>\n",
       "      <td>0</td>\n",
       "      <td>0.333333</td>\n",
       "      <td>0.0</td>\n",
       "      <td>0</td>\n",
       "      <td>0.0</td>\n",
       "    </tr>\n",
       "    <tr>\n",
       "      <th>1</th>\n",
       "      <td>1593</td>\n",
       "      <td>2018-01-26 00:01:05</td>\n",
       "      <td>0.0</td>\n",
       "      <td>0.0</td>\n",
       "      <td>0.0</td>\n",
       "      <td>0.0</td>\n",
       "      <td>0.0</td>\n",
       "      <td>0.0</td>\n",
       "      <td>0.0</td>\n",
       "      <td>0.0</td>\n",
       "      <td>...</td>\n",
       "      <td>0</td>\n",
       "      <td>0</td>\n",
       "      <td>0</td>\n",
       "      <td>0</td>\n",
       "      <td>0</td>\n",
       "      <td>0</td>\n",
       "      <td>0.333333</td>\n",
       "      <td>0.0</td>\n",
       "      <td>0</td>\n",
       "      <td>0.0</td>\n",
       "    </tr>\n",
       "    <tr>\n",
       "      <th>2</th>\n",
       "      <td>1594</td>\n",
       "      <td>2018-01-26 00:01:58</td>\n",
       "      <td>0.0</td>\n",
       "      <td>0.0</td>\n",
       "      <td>0.0</td>\n",
       "      <td>0.0</td>\n",
       "      <td>0.0</td>\n",
       "      <td>0.0</td>\n",
       "      <td>0.0</td>\n",
       "      <td>0.0</td>\n",
       "      <td>...</td>\n",
       "      <td>0</td>\n",
       "      <td>0</td>\n",
       "      <td>0</td>\n",
       "      <td>0</td>\n",
       "      <td>0</td>\n",
       "      <td>0</td>\n",
       "      <td>1.166667</td>\n",
       "      <td>0.0</td>\n",
       "      <td>0</td>\n",
       "      <td>0.0</td>\n",
       "    </tr>\n",
       "    <tr>\n",
       "      <th>3</th>\n",
       "      <td>1595</td>\n",
       "      <td>2018-01-26 00:02:13</td>\n",
       "      <td>0.0</td>\n",
       "      <td>0.0</td>\n",
       "      <td>0.0</td>\n",
       "      <td>0.0</td>\n",
       "      <td>0.0</td>\n",
       "      <td>0.0</td>\n",
       "      <td>0.0</td>\n",
       "      <td>0.0</td>\n",
       "      <td>...</td>\n",
       "      <td>0</td>\n",
       "      <td>0</td>\n",
       "      <td>0</td>\n",
       "      <td>0</td>\n",
       "      <td>0</td>\n",
       "      <td>0</td>\n",
       "      <td>3.166667</td>\n",
       "      <td>0.0</td>\n",
       "      <td>0</td>\n",
       "      <td>0.0</td>\n",
       "    </tr>\n",
       "    <tr>\n",
       "      <th>4</th>\n",
       "      <td>1596</td>\n",
       "      <td>2018-01-26 00:02:46</td>\n",
       "      <td>0.0</td>\n",
       "      <td>0.0</td>\n",
       "      <td>0.0</td>\n",
       "      <td>0.0</td>\n",
       "      <td>0.0</td>\n",
       "      <td>0.0</td>\n",
       "      <td>0.0</td>\n",
       "      <td>0.0</td>\n",
       "      <td>...</td>\n",
       "      <td>0</td>\n",
       "      <td>0</td>\n",
       "      <td>0</td>\n",
       "      <td>0</td>\n",
       "      <td>0</td>\n",
       "      <td>0</td>\n",
       "      <td>2.333333</td>\n",
       "      <td>0.0</td>\n",
       "      <td>0</td>\n",
       "      <td>0.0</td>\n",
       "    </tr>\n",
       "  </tbody>\n",
       "</table>\n",
       "<p>5 rows × 109 columns</p>\n",
       "</div>"
      ],
      "text/plain": [
       "字段解释  玩家唯一ID               玩家注册时间   木头获取数量  木头消耗数量  石头获取数量  石头消耗数量  象牙获取数量  \\\n",
       "0          1  2018-02-02 19:47:15  20125.0  3700.0     0.0     0.0     0.0   \n",
       "1       1593  2018-01-26 00:01:05      0.0     0.0     0.0     0.0     0.0   \n",
       "2       1594  2018-01-26 00:01:58      0.0     0.0     0.0     0.0     0.0   \n",
       "3       1595  2018-01-26 00:02:13      0.0     0.0     0.0     0.0     0.0   \n",
       "4       1596  2018-01-26 00:02:46      0.0     0.0     0.0     0.0     0.0   \n",
       "\n",
       "字段解释  象牙消耗数量    肉获取数量   肉消耗数量  ...  PVP次数  主动发起PVP次数  PVP胜利次数  PVE次数  \\\n",
       "0        0.0  16375.0  2000.0  ...      0          0        0      0   \n",
       "1        0.0      0.0     0.0  ...      0          0        0      0   \n",
       "2        0.0      0.0     0.0  ...      0          0        0      0   \n",
       "3        0.0      0.0     0.0  ...      0          0        0      0   \n",
       "4        0.0      0.0     0.0  ...      0          0        0      0   \n",
       "\n",
       "字段解释  主动发起PVE次数  PVE胜利次数      在线时长  付费金额  付费次数  45日付费金额  \n",
       "0             0        0  0.333333   0.0     0      0.0  \n",
       "1             0        0  0.333333   0.0     0      0.0  \n",
       "2             0        0  1.166667   0.0     0      0.0  \n",
       "3             0        0  3.166667   0.0     0      0.0  \n",
       "4             0        0  2.333333   0.0     0      0.0  \n",
       "\n",
       "[5 rows x 109 columns]"
      ]
     },
     "execution_count": 8,
     "metadata": {},
     "output_type": "execute_result"
    }
   ],
   "source": [
    "data.head()"
   ]
  },
  {
   "cell_type": "code",
   "execution_count": 9,
   "id": "3b3cfdbe-7752-4190-a818-be9770903e6b",
   "metadata": {
    "tags": []
   },
   "outputs": [
    {
     "data": {
      "text/plain": [
       "['玩家唯一ID',\n",
       " '玩家注册时间',\n",
       " '木头获取数量',\n",
       " '木头消耗数量',\n",
       " '石头获取数量',\n",
       " '石头消耗数量',\n",
       " '象牙获取数量',\n",
       " '象牙消耗数量',\n",
       " '肉获取数量',\n",
       " '肉消耗数量',\n",
       " '魔法获取数量',\n",
       " '魔法消耗数量',\n",
       " '勇士招募数量',\n",
       " '勇士损失数量',\n",
       " '驯兽师招募数量',\n",
       " '驯兽师损失数量',\n",
       " '萨满招募数量',\n",
       " '萨满损失数量',\n",
       " '勇士伤兵产生数量',\n",
       " '勇士伤兵恢复数量',\n",
       " '驯兽师伤兵产生数量',\n",
       " '驯兽师伤兵恢复数量',\n",
       " '萨满伤兵产生数量',\n",
       " '萨满伤兵恢复数量',\n",
       " '通用加速获取数量',\n",
       " '通用加速使用数量',\n",
       " '建筑加速获取数量',\n",
       " '建筑加速使用数量',\n",
       " '科研加速获取数量',\n",
       " '科研加速使用数量',\n",
       " '训练加速获取数量',\n",
       " '训练加速使用数量',\n",
       " '治疗加速获取数量',\n",
       " '治疗加速使用数量',\n",
       " '建筑：士兵小屋等级',\n",
       " '建筑：治疗小井等级',\n",
       " '建筑：要塞等级',\n",
       " '建筑：据点传送门等级',\n",
       " '建筑：兵营等级',\n",
       " '建筑：治疗之泉等级',\n",
       " '建筑：智慧神庙等级',\n",
       " '建筑：联盟大厅等级',\n",
       " '建筑：仓库等级',\n",
       " '建筑：瞭望塔等级',\n",
       " '建筑：魔法幸运树等级',\n",
       " '建筑：战争大厅等级',\n",
       " '建筑：联盟货车等级',\n",
       " '建筑：占卜台等级',\n",
       " '建筑：祭坛等级',\n",
       " '建筑：冒险传送门等级',\n",
       " '科研：侦查等级',\n",
       " '科研：训练速度等级',\n",
       " '科研：守护者',\n",
       " '科研：巨兽驯兽师',\n",
       " '科研：吟唱者',\n",
       " '科研：勇士攻击',\n",
       " '科研：驯兽师攻击',\n",
       " '科研：萨满攻击',\n",
       " '科研：战斗大师',\n",
       " '科研：高阶巨兽骑兵',\n",
       " '科研：图腾大师',\n",
       " '科研：部队防御',\n",
       " '科研：勇士防御',\n",
       " '科研：驯兽师防御',\n",
       " '科研：萨满防御',\n",
       " '科研：勇士生命',\n",
       " '科研：驯兽师生命',\n",
       " '科研：萨满生命',\n",
       " '科研：狂战士',\n",
       " '科研：龙骑兵',\n",
       " '科研：神谕者',\n",
       " '科研：部队攻击',\n",
       " '科研：建造速度',\n",
       " '科研：资源保护',\n",
       " '科研：部队消耗',\n",
       " '科研：木材生产',\n",
       " '科研：石头生产',\n",
       " '科研：象牙生产',\n",
       " '科研：肉类生产',\n",
       " '科研：木材采集',\n",
       " '科研：石头采集',\n",
       " '科研：象牙采集',\n",
       " '科研：肉类采集',\n",
       " '科研：部队负重',\n",
       " '科研：魔法采集',\n",
       " '科研：魔法生产',\n",
       " '科研：据点耐久',\n",
       " '科研：据点二',\n",
       " '科研：医院容量',\n",
       " '科研：领土采集奖励',\n",
       " '科研：治疗速度',\n",
       " '科研：据点三',\n",
       " '科研：联盟行军速度',\n",
       " '科研：战斗行军速度',\n",
       " '科研：采集行军速度',\n",
       " '科研：据点四',\n",
       " '科研：增援部队容量',\n",
       " '科研：行军大小',\n",
       " '科研：资源帮助容量',\n",
       " 'PVP次数',\n",
       " '主动发起PVP次数',\n",
       " 'PVP胜利次数',\n",
       " 'PVE次数',\n",
       " '主动发起PVE次数',\n",
       " 'PVE胜利次数',\n",
       " '在线时长',\n",
       " '付费金额',\n",
       " '付费次数',\n",
       " '45日付费金额']"
      ]
     },
     "execution_count": 9,
     "metadata": {},
     "output_type": "execute_result"
    }
   ],
   "source": [
    "# 查看完整特征列表\n",
    "data.columns.tolist()"
   ]
  },
  {
   "cell_type": "markdown",
   "id": "d368cf26-f4d3-4a9c-acb5-b635c45b27f0",
   "metadata": {},
   "source": [
    "资源/等级/道具/技能\n",
    "除了最后的标签“45日付费金额”外，所有的特征都是用户在服前7日或与时间无关的数据（如用户ID）"
   ]
  },
  {
   "cell_type": "code",
   "execution_count": 10,
   "id": "c1092fbb-f410-4443-b37e-4e17142d7c79",
   "metadata": {
    "tags": []
   },
   "outputs": [
    {
     "name": "stdout",
     "output_type": "stream",
     "text": [
      "<class 'pandas.core.frame.DataFrame'>\n",
      "RangeIndex: 2288007 entries, 0 to 2288006\n",
      "Columns: 109 entries, 玩家唯一ID to 45日付费金额\n",
      "dtypes: float64(13), int64(95), object(1)\n",
      "memory usage: 1.9+ GB\n"
     ]
    }
   ],
   "source": [
    "# 查看数据的其他信息，包括索引类型/数据类型/数据大小等\n",
    "data.info()"
   ]
  },
  {
   "cell_type": "markdown",
   "id": "997a8a38-90d2-4316-8267-3f112e6ea976",
   "metadata": {},
   "source": [
    "由于数据量过大info函数无法显示出缺失值情况\n",
    "分析各个特征，通常当数据类型为整数时倾向于离散型特征（而非浮点型），但从游戏业务独特性以及特征含义来看，资源数量/等级/发起PVP次数等信息一般不会以浮点数表示，因此显示为整数正常\n",
    "从特征含义来看，认为该数据集特征都为连续型"
   ]
  },
  {
   "cell_type": "code",
   "execution_count": 11,
   "id": "d8db3f23-ac56-4ae8-abb8-ab0186d4ec90",
   "metadata": {
    "tags": []
   },
   "outputs": [
    {
     "data": {
      "text/plain": [
       "字段解释\n",
       "玩家唯一ID     0\n",
       "玩家注册时间     0\n",
       "木头获取数量     0\n",
       "木头消耗数量     0\n",
       "石头获取数量     0\n",
       "          ..\n",
       "PVE胜利次数    0\n",
       "在线时长       0\n",
       "付费金额       0\n",
       "付费次数       0\n",
       "45日付费金额    0\n",
       "Length: 109, dtype: int64"
      ]
     },
     "execution_count": 11,
     "metadata": {},
     "output_type": "execute_result"
    }
   ],
   "source": [
    "# 检查是否存在缺失值\n",
    "data.isnull().sum() # 不存在缺失值"
   ]
  },
  {
   "cell_type": "code",
   "execution_count": 12,
   "id": "e8fd8603-7460-48c1-8494-b35214f7e91b",
   "metadata": {
    "tags": []
   },
   "outputs": [
    {
     "data": {
      "text/plain": [
       "0"
      ]
     },
     "execution_count": 12,
     "metadata": {},
     "output_type": "execute_result"
    }
   ],
   "source": [
    "data.isnull().sum().sum() # 不存在缺失值"
   ]
  },
  {
   "cell_type": "code",
   "execution_count": 13,
   "id": "044e3b6b-3d73-4d1e-8818-e07a7ea80947",
   "metadata": {
    "tags": []
   },
   "outputs": [
    {
     "data": {
      "text/plain": [
       "0"
      ]
     },
     "execution_count": 13,
     "metadata": {},
     "output_type": "execute_result"
    }
   ],
   "source": [
    "data.duplicated().sum() # 不存在重复值"
   ]
  },
  {
   "cell_type": "code",
   "execution_count": 14,
   "id": "6e3b0a55-9360-4ff8-bd7d-6fb91f3b755b",
   "metadata": {
    "tags": []
   },
   "outputs": [
    {
     "data": {
      "text/plain": [
       "0"
      ]
     },
     "execution_count": 14,
     "metadata": {},
     "output_type": "execute_result"
    }
   ],
   "source": [
    "# 检查id唯一吗\n",
    "data[\"玩家唯一ID\"].duplicated().sum()"
   ]
  },
  {
   "cell_type": "code",
   "execution_count": 15,
   "id": "af74bb08-e1a5-42f1-842c-3c8592665e12",
   "metadata": {
    "tags": []
   },
   "outputs": [
    {
     "data": {
      "text/plain": [
       "0          0\n",
       "1          0\n",
       "2          0\n",
       "3          0\n",
       "4          0\n",
       "          ..\n",
       "2288002    0\n",
       "2288003    0\n",
       "2288004    0\n",
       "2288005    0\n",
       "2288006    0\n",
       "Name: 科研：肉类生产, Length: 2288007, dtype: int64"
      ]
     },
     "execution_count": 15,
     "metadata": {},
     "output_type": "execute_result"
    }
   ],
   "source": [
    "data['科研：肉类生产']"
   ]
  },
  {
   "cell_type": "markdown",
   "id": "4b99bc76-241b-43fe-bcd5-53bf5caad6a5",
   "metadata": {},
   "source": [
    "### 查看分布和统计信息\n",
    "\n",
    "通常使用joyplot查看分布特征\n",
    "但对百万级数据joyplot运行非常缓慢，大部分绘制分布图的函数（joyplot、ggplot）都无法适应百万级数据。\n",
    "因此退而求其次，使用describe函数"
   ]
  },
  {
   "cell_type": "code",
   "execution_count": 16,
   "id": "7317cb8b-e400-49a7-b772-efb4c4fcf062",
   "metadata": {
    "tags": []
   },
   "outputs": [
    {
     "data": {
      "text/html": [
       "<div>\n",
       "<style scoped>\n",
       "    .dataframe tbody tr th:only-of-type {\n",
       "        vertical-align: middle;\n",
       "    }\n",
       "\n",
       "    .dataframe tbody tr th {\n",
       "        vertical-align: top;\n",
       "    }\n",
       "\n",
       "    .dataframe thead th {\n",
       "        text-align: right;\n",
       "    }\n",
       "</style>\n",
       "<table border=\"1\" class=\"dataframe\">\n",
       "  <thead>\n",
       "    <tr style=\"text-align: right;\">\n",
       "      <th>字段解释</th>\n",
       "      <th>玩家唯一ID</th>\n",
       "      <th>木头获取数量</th>\n",
       "      <th>木头消耗数量</th>\n",
       "      <th>石头获取数量</th>\n",
       "      <th>石头消耗数量</th>\n",
       "      <th>象牙获取数量</th>\n",
       "      <th>象牙消耗数量</th>\n",
       "      <th>肉获取数量</th>\n",
       "      <th>肉消耗数量</th>\n",
       "      <th>魔法获取数量</th>\n",
       "      <th>...</th>\n",
       "      <th>PVP次数</th>\n",
       "      <th>主动发起PVP次数</th>\n",
       "      <th>PVP胜利次数</th>\n",
       "      <th>PVE次数</th>\n",
       "      <th>主动发起PVE次数</th>\n",
       "      <th>PVE胜利次数</th>\n",
       "      <th>在线时长</th>\n",
       "      <th>付费金额</th>\n",
       "      <th>付费次数</th>\n",
       "      <th>45日付费金额</th>\n",
       "    </tr>\n",
       "  </thead>\n",
       "  <tbody>\n",
       "    <tr>\n",
       "      <th>count</th>\n",
       "      <td>2.288007e+06</td>\n",
       "      <td>2.288007e+06</td>\n",
       "      <td>2.288007e+06</td>\n",
       "      <td>2.288007e+06</td>\n",
       "      <td>2.288007e+06</td>\n",
       "      <td>2.288007e+06</td>\n",
       "      <td>2.288007e+06</td>\n",
       "      <td>2.288007e+06</td>\n",
       "      <td>2.288007e+06</td>\n",
       "      <td>2.288007e+06</td>\n",
       "      <td>...</td>\n",
       "      <td>2.288007e+06</td>\n",
       "      <td>2.288007e+06</td>\n",
       "      <td>2.288007e+06</td>\n",
       "      <td>2.288007e+06</td>\n",
       "      <td>2.288007e+06</td>\n",
       "      <td>2.288007e+06</td>\n",
       "      <td>2.288007e+06</td>\n",
       "      <td>2.288007e+06</td>\n",
       "      <td>2.288007e+06</td>\n",
       "      <td>2.288007e+06</td>\n",
       "    </tr>\n",
       "    <tr>\n",
       "      <th>mean</th>\n",
       "      <td>1.529543e+06</td>\n",
       "      <td>4.543069e+05</td>\n",
       "      <td>3.698433e+05</td>\n",
       "      <td>1.897788e+05</td>\n",
       "      <td>1.376074e+05</td>\n",
       "      <td>8.075623e+04</td>\n",
       "      <td>3.613170e+04</td>\n",
       "      <td>5.855155e+05</td>\n",
       "      <td>3.548102e+05</td>\n",
       "      <td>7.538954e+04</td>\n",
       "      <td>...</td>\n",
       "      <td>2.148313e+00</td>\n",
       "      <td>1.059639e+00</td>\n",
       "      <td>9.838589e-01</td>\n",
       "      <td>2.844738e+00</td>\n",
       "      <td>2.832409e+00</td>\n",
       "      <td>2.556749e+00</td>\n",
       "      <td>1.020749e+01</td>\n",
       "      <td>5.346691e-01</td>\n",
       "      <td>5.770699e-02</td>\n",
       "      <td>1.793146e+00</td>\n",
       "    </tr>\n",
       "    <tr>\n",
       "      <th>std</th>\n",
       "      <td>9.399393e+05</td>\n",
       "      <td>4.958667e+06</td>\n",
       "      <td>3.737720e+06</td>\n",
       "      <td>4.670620e+06</td>\n",
       "      <td>3.370166e+06</td>\n",
       "      <td>2.220540e+06</td>\n",
       "      <td>1.782499e+06</td>\n",
       "      <td>5.868629e+06</td>\n",
       "      <td>3.400632e+06</td>\n",
       "      <td>9.662892e+05</td>\n",
       "      <td>...</td>\n",
       "      <td>1.167797e+01</td>\n",
       "      <td>9.074459e+00</td>\n",
       "      <td>8.951280e+00</td>\n",
       "      <td>1.276245e+01</td>\n",
       "      <td>1.271820e+01</td>\n",
       "      <td>1.184737e+01</td>\n",
       "      <td>3.895946e+01</td>\n",
       "      <td>2.263835e+01</td>\n",
       "      <td>7.090886e-01</td>\n",
       "      <td>8.846303e+01</td>\n",
       "    </tr>\n",
       "    <tr>\n",
       "      <th>min</th>\n",
       "      <td>1.000000e+00</td>\n",
       "      <td>0.000000e+00</td>\n",
       "      <td>0.000000e+00</td>\n",
       "      <td>0.000000e+00</td>\n",
       "      <td>0.000000e+00</td>\n",
       "      <td>0.000000e+00</td>\n",
       "      <td>0.000000e+00</td>\n",
       "      <td>0.000000e+00</td>\n",
       "      <td>0.000000e+00</td>\n",
       "      <td>0.000000e+00</td>\n",
       "      <td>...</td>\n",
       "      <td>0.000000e+00</td>\n",
       "      <td>0.000000e+00</td>\n",
       "      <td>0.000000e+00</td>\n",
       "      <td>0.000000e+00</td>\n",
       "      <td>0.000000e+00</td>\n",
       "      <td>0.000000e+00</td>\n",
       "      <td>0.000000e+00</td>\n",
       "      <td>0.000000e+00</td>\n",
       "      <td>0.000000e+00</td>\n",
       "      <td>0.000000e+00</td>\n",
       "    </tr>\n",
       "    <tr>\n",
       "      <th>25%</th>\n",
       "      <td>7.499925e+05</td>\n",
       "      <td>0.000000e+00</td>\n",
       "      <td>0.000000e+00</td>\n",
       "      <td>0.000000e+00</td>\n",
       "      <td>0.000000e+00</td>\n",
       "      <td>0.000000e+00</td>\n",
       "      <td>0.000000e+00</td>\n",
       "      <td>0.000000e+00</td>\n",
       "      <td>0.000000e+00</td>\n",
       "      <td>0.000000e+00</td>\n",
       "      <td>...</td>\n",
       "      <td>0.000000e+00</td>\n",
       "      <td>0.000000e+00</td>\n",
       "      <td>0.000000e+00</td>\n",
       "      <td>0.000000e+00</td>\n",
       "      <td>0.000000e+00</td>\n",
       "      <td>0.000000e+00</td>\n",
       "      <td>5.000000e-01</td>\n",
       "      <td>0.000000e+00</td>\n",
       "      <td>0.000000e+00</td>\n",
       "      <td>0.000000e+00</td>\n",
       "    </tr>\n",
       "    <tr>\n",
       "      <th>50%</th>\n",
       "      <td>1.419095e+06</td>\n",
       "      <td>4.203800e+04</td>\n",
       "      <td>9.830000e+03</td>\n",
       "      <td>0.000000e+00</td>\n",
       "      <td>0.000000e+00</td>\n",
       "      <td>0.000000e+00</td>\n",
       "      <td>0.000000e+00</td>\n",
       "      <td>3.458700e+04</td>\n",
       "      <td>6.470000e+03</td>\n",
       "      <td>0.000000e+00</td>\n",
       "      <td>...</td>\n",
       "      <td>0.000000e+00</td>\n",
       "      <td>0.000000e+00</td>\n",
       "      <td>0.000000e+00</td>\n",
       "      <td>0.000000e+00</td>\n",
       "      <td>0.000000e+00</td>\n",
       "      <td>0.000000e+00</td>\n",
       "      <td>1.833333e+00</td>\n",
       "      <td>0.000000e+00</td>\n",
       "      <td>0.000000e+00</td>\n",
       "      <td>0.000000e+00</td>\n",
       "    </tr>\n",
       "    <tr>\n",
       "      <th>75%</th>\n",
       "      <td>2.299006e+06</td>\n",
       "      <td>1.531180e+05</td>\n",
       "      <td>9.855700e+04</td>\n",
       "      <td>0.000000e+00</td>\n",
       "      <td>0.000000e+00</td>\n",
       "      <td>0.000000e+00</td>\n",
       "      <td>0.000000e+00</td>\n",
       "      <td>1.360010e+05</td>\n",
       "      <td>6.605400e+04</td>\n",
       "      <td>0.000000e+00</td>\n",
       "      <td>...</td>\n",
       "      <td>1.000000e+00</td>\n",
       "      <td>0.000000e+00</td>\n",
       "      <td>0.000000e+00</td>\n",
       "      <td>1.000000e+00</td>\n",
       "      <td>1.000000e+00</td>\n",
       "      <td>1.000000e+00</td>\n",
       "      <td>4.833333e+00</td>\n",
       "      <td>0.000000e+00</td>\n",
       "      <td>0.000000e+00</td>\n",
       "      <td>0.000000e+00</td>\n",
       "    </tr>\n",
       "    <tr>\n",
       "      <th>max</th>\n",
       "      <td>3.190530e+06</td>\n",
       "      <td>1.239962e+09</td>\n",
       "      <td>7.995875e+08</td>\n",
       "      <td>1.214869e+09</td>\n",
       "      <td>7.962378e+08</td>\n",
       "      <td>5.744961e+08</td>\n",
       "      <td>4.481972e+08</td>\n",
       "      <td>1.470644e+09</td>\n",
       "      <td>8.889537e+08</td>\n",
       "      <td>2.637228e+08</td>\n",
       "      <td>...</td>\n",
       "      <td>2.054000e+03</td>\n",
       "      <td>2.051000e+03</td>\n",
       "      <td>1.904000e+03</td>\n",
       "      <td>5.090000e+02</td>\n",
       "      <td>5.090000e+02</td>\n",
       "      <td>4.880000e+02</td>\n",
       "      <td>2.049667e+03</td>\n",
       "      <td>7.457950e+03</td>\n",
       "      <td>1.050000e+02</td>\n",
       "      <td>3.297781e+04</td>\n",
       "    </tr>\n",
       "  </tbody>\n",
       "</table>\n",
       "<p>8 rows × 108 columns</p>\n",
       "</div>"
      ],
      "text/plain": [
       "字段解释         玩家唯一ID        木头获取数量        木头消耗数量        石头获取数量        石头消耗数量  \\\n",
       "count  2.288007e+06  2.288007e+06  2.288007e+06  2.288007e+06  2.288007e+06   \n",
       "mean   1.529543e+06  4.543069e+05  3.698433e+05  1.897788e+05  1.376074e+05   \n",
       "std    9.399393e+05  4.958667e+06  3.737720e+06  4.670620e+06  3.370166e+06   \n",
       "min    1.000000e+00  0.000000e+00  0.000000e+00  0.000000e+00  0.000000e+00   \n",
       "25%    7.499925e+05  0.000000e+00  0.000000e+00  0.000000e+00  0.000000e+00   \n",
       "50%    1.419095e+06  4.203800e+04  9.830000e+03  0.000000e+00  0.000000e+00   \n",
       "75%    2.299006e+06  1.531180e+05  9.855700e+04  0.000000e+00  0.000000e+00   \n",
       "max    3.190530e+06  1.239962e+09  7.995875e+08  1.214869e+09  7.962378e+08   \n",
       "\n",
       "字段解释         象牙获取数量        象牙消耗数量         肉获取数量         肉消耗数量        魔法获取数量  \\\n",
       "count  2.288007e+06  2.288007e+06  2.288007e+06  2.288007e+06  2.288007e+06   \n",
       "mean   8.075623e+04  3.613170e+04  5.855155e+05  3.548102e+05  7.538954e+04   \n",
       "std    2.220540e+06  1.782499e+06  5.868629e+06  3.400632e+06  9.662892e+05   \n",
       "min    0.000000e+00  0.000000e+00  0.000000e+00  0.000000e+00  0.000000e+00   \n",
       "25%    0.000000e+00  0.000000e+00  0.000000e+00  0.000000e+00  0.000000e+00   \n",
       "50%    0.000000e+00  0.000000e+00  3.458700e+04  6.470000e+03  0.000000e+00   \n",
       "75%    0.000000e+00  0.000000e+00  1.360010e+05  6.605400e+04  0.000000e+00   \n",
       "max    5.744961e+08  4.481972e+08  1.470644e+09  8.889537e+08  2.637228e+08   \n",
       "\n",
       "字段解释   ...         PVP次数     主动发起PVP次数       PVP胜利次数         PVE次数  \\\n",
       "count  ...  2.288007e+06  2.288007e+06  2.288007e+06  2.288007e+06   \n",
       "mean   ...  2.148313e+00  1.059639e+00  9.838589e-01  2.844738e+00   \n",
       "std    ...  1.167797e+01  9.074459e+00  8.951280e+00  1.276245e+01   \n",
       "min    ...  0.000000e+00  0.000000e+00  0.000000e+00  0.000000e+00   \n",
       "25%    ...  0.000000e+00  0.000000e+00  0.000000e+00  0.000000e+00   \n",
       "50%    ...  0.000000e+00  0.000000e+00  0.000000e+00  0.000000e+00   \n",
       "75%    ...  1.000000e+00  0.000000e+00  0.000000e+00  1.000000e+00   \n",
       "max    ...  2.054000e+03  2.051000e+03  1.904000e+03  5.090000e+02   \n",
       "\n",
       "字段解释      主动发起PVE次数       PVE胜利次数          在线时长          付费金额          付费次数  \\\n",
       "count  2.288007e+06  2.288007e+06  2.288007e+06  2.288007e+06  2.288007e+06   \n",
       "mean   2.832409e+00  2.556749e+00  1.020749e+01  5.346691e-01  5.770699e-02   \n",
       "std    1.271820e+01  1.184737e+01  3.895946e+01  2.263835e+01  7.090886e-01   \n",
       "min    0.000000e+00  0.000000e+00  0.000000e+00  0.000000e+00  0.000000e+00   \n",
       "25%    0.000000e+00  0.000000e+00  5.000000e-01  0.000000e+00  0.000000e+00   \n",
       "50%    0.000000e+00  0.000000e+00  1.833333e+00  0.000000e+00  0.000000e+00   \n",
       "75%    1.000000e+00  1.000000e+00  4.833333e+00  0.000000e+00  0.000000e+00   \n",
       "max    5.090000e+02  4.880000e+02  2.049667e+03  7.457950e+03  1.050000e+02   \n",
       "\n",
       "字段解释        45日付费金额  \n",
       "count  2.288007e+06  \n",
       "mean   1.793146e+00  \n",
       "std    8.846303e+01  \n",
       "min    0.000000e+00  \n",
       "25%    0.000000e+00  \n",
       "50%    0.000000e+00  \n",
       "75%    0.000000e+00  \n",
       "max    3.297781e+04  \n",
       "\n",
       "[8 rows x 108 columns]"
      ]
     },
     "execution_count": 16,
     "metadata": {},
     "output_type": "execute_result"
    }
   ],
   "source": [
    "data.describe() # 查看分布和基本统计信息"
   ]
  },
  {
   "cell_type": "code",
   "execution_count": 17,
   "id": "55d17c54-8b6a-4305-bb40-e70f7d78a9ba",
   "metadata": {
    "tags": []
   },
   "outputs": [
    {
     "data": {
      "text/html": [
       "<div>\n",
       "<style scoped>\n",
       "    .dataframe tbody tr th:only-of-type {\n",
       "        vertical-align: middle;\n",
       "    }\n",
       "\n",
       "    .dataframe tbody tr th {\n",
       "        vertical-align: top;\n",
       "    }\n",
       "\n",
       "    .dataframe thead th {\n",
       "        text-align: right;\n",
       "    }\n",
       "</style>\n",
       "<table border=\"1\" class=\"dataframe\">\n",
       "  <thead>\n",
       "    <tr style=\"text-align: right;\">\n",
       "      <th></th>\n",
       "      <th>count</th>\n",
       "      <th>mean</th>\n",
       "      <th>std</th>\n",
       "      <th>min</th>\n",
       "      <th>25%</th>\n",
       "      <th>50%</th>\n",
       "      <th>75%</th>\n",
       "      <th>max</th>\n",
       "    </tr>\n",
       "    <tr>\n",
       "      <th>字段解释</th>\n",
       "      <th></th>\n",
       "      <th></th>\n",
       "      <th></th>\n",
       "      <th></th>\n",
       "      <th></th>\n",
       "      <th></th>\n",
       "      <th></th>\n",
       "      <th></th>\n",
       "    </tr>\n",
       "  </thead>\n",
       "  <tbody>\n",
       "    <tr>\n",
       "      <th>玩家唯一ID</th>\n",
       "      <td>2288007.0</td>\n",
       "      <td>1.529543e+06</td>\n",
       "      <td>9.399393e+05</td>\n",
       "      <td>1.0</td>\n",
       "      <td>749992.5</td>\n",
       "      <td>1.419095e+06</td>\n",
       "      <td>2.299006e+06</td>\n",
       "      <td>3.190530e+06</td>\n",
       "    </tr>\n",
       "    <tr>\n",
       "      <th>木头获取数量</th>\n",
       "      <td>2288007.0</td>\n",
       "      <td>4.543069e+05</td>\n",
       "      <td>4.958667e+06</td>\n",
       "      <td>0.0</td>\n",
       "      <td>0.0</td>\n",
       "      <td>4.203800e+04</td>\n",
       "      <td>1.531180e+05</td>\n",
       "      <td>1.239962e+09</td>\n",
       "    </tr>\n",
       "    <tr>\n",
       "      <th>木头消耗数量</th>\n",
       "      <td>2288007.0</td>\n",
       "      <td>3.698433e+05</td>\n",
       "      <td>3.737720e+06</td>\n",
       "      <td>0.0</td>\n",
       "      <td>0.0</td>\n",
       "      <td>9.830000e+03</td>\n",
       "      <td>9.855700e+04</td>\n",
       "      <td>7.995875e+08</td>\n",
       "    </tr>\n",
       "    <tr>\n",
       "      <th>石头获取数量</th>\n",
       "      <td>2288007.0</td>\n",
       "      <td>1.897788e+05</td>\n",
       "      <td>4.670620e+06</td>\n",
       "      <td>0.0</td>\n",
       "      <td>0.0</td>\n",
       "      <td>0.000000e+00</td>\n",
       "      <td>0.000000e+00</td>\n",
       "      <td>1.214869e+09</td>\n",
       "    </tr>\n",
       "    <tr>\n",
       "      <th>石头消耗数量</th>\n",
       "      <td>2288007.0</td>\n",
       "      <td>1.376074e+05</td>\n",
       "      <td>3.370166e+06</td>\n",
       "      <td>0.0</td>\n",
       "      <td>0.0</td>\n",
       "      <td>0.000000e+00</td>\n",
       "      <td>0.000000e+00</td>\n",
       "      <td>7.962378e+08</td>\n",
       "    </tr>\n",
       "    <tr>\n",
       "      <th>...</th>\n",
       "      <td>...</td>\n",
       "      <td>...</td>\n",
       "      <td>...</td>\n",
       "      <td>...</td>\n",
       "      <td>...</td>\n",
       "      <td>...</td>\n",
       "      <td>...</td>\n",
       "      <td>...</td>\n",
       "    </tr>\n",
       "    <tr>\n",
       "      <th>PVE胜利次数</th>\n",
       "      <td>2288007.0</td>\n",
       "      <td>2.556749e+00</td>\n",
       "      <td>1.184737e+01</td>\n",
       "      <td>0.0</td>\n",
       "      <td>0.0</td>\n",
       "      <td>0.000000e+00</td>\n",
       "      <td>1.000000e+00</td>\n",
       "      <td>4.880000e+02</td>\n",
       "    </tr>\n",
       "    <tr>\n",
       "      <th>在线时长</th>\n",
       "      <td>2288007.0</td>\n",
       "      <td>1.020749e+01</td>\n",
       "      <td>3.895946e+01</td>\n",
       "      <td>0.0</td>\n",
       "      <td>0.5</td>\n",
       "      <td>1.833333e+00</td>\n",
       "      <td>4.833333e+00</td>\n",
       "      <td>2.049667e+03</td>\n",
       "    </tr>\n",
       "    <tr>\n",
       "      <th>付费金额</th>\n",
       "      <td>2288007.0</td>\n",
       "      <td>5.346691e-01</td>\n",
       "      <td>2.263835e+01</td>\n",
       "      <td>0.0</td>\n",
       "      <td>0.0</td>\n",
       "      <td>0.000000e+00</td>\n",
       "      <td>0.000000e+00</td>\n",
       "      <td>7.457950e+03</td>\n",
       "    </tr>\n",
       "    <tr>\n",
       "      <th>付费次数</th>\n",
       "      <td>2288007.0</td>\n",
       "      <td>5.770699e-02</td>\n",
       "      <td>7.090886e-01</td>\n",
       "      <td>0.0</td>\n",
       "      <td>0.0</td>\n",
       "      <td>0.000000e+00</td>\n",
       "      <td>0.000000e+00</td>\n",
       "      <td>1.050000e+02</td>\n",
       "    </tr>\n",
       "    <tr>\n",
       "      <th>45日付费金额</th>\n",
       "      <td>2288007.0</td>\n",
       "      <td>1.793146e+00</td>\n",
       "      <td>8.846303e+01</td>\n",
       "      <td>0.0</td>\n",
       "      <td>0.0</td>\n",
       "      <td>0.000000e+00</td>\n",
       "      <td>0.000000e+00</td>\n",
       "      <td>3.297781e+04</td>\n",
       "    </tr>\n",
       "  </tbody>\n",
       "</table>\n",
       "<p>108 rows × 8 columns</p>\n",
       "</div>"
      ],
      "text/plain": [
       "             count          mean           std  min       25%           50%  \\\n",
       "字段解释                                                                          \n",
       "玩家唯一ID   2288007.0  1.529543e+06  9.399393e+05  1.0  749992.5  1.419095e+06   \n",
       "木头获取数量   2288007.0  4.543069e+05  4.958667e+06  0.0       0.0  4.203800e+04   \n",
       "木头消耗数量   2288007.0  3.698433e+05  3.737720e+06  0.0       0.0  9.830000e+03   \n",
       "石头获取数量   2288007.0  1.897788e+05  4.670620e+06  0.0       0.0  0.000000e+00   \n",
       "石头消耗数量   2288007.0  1.376074e+05  3.370166e+06  0.0       0.0  0.000000e+00   \n",
       "...            ...           ...           ...  ...       ...           ...   \n",
       "PVE胜利次数  2288007.0  2.556749e+00  1.184737e+01  0.0       0.0  0.000000e+00   \n",
       "在线时长     2288007.0  1.020749e+01  3.895946e+01  0.0       0.5  1.833333e+00   \n",
       "付费金额     2288007.0  5.346691e-01  2.263835e+01  0.0       0.0  0.000000e+00   \n",
       "付费次数     2288007.0  5.770699e-02  7.090886e-01  0.0       0.0  0.000000e+00   \n",
       "45日付费金额  2288007.0  1.793146e+00  8.846303e+01  0.0       0.0  0.000000e+00   \n",
       "\n",
       "                  75%           max  \n",
       "字段解释                                 \n",
       "玩家唯一ID   2.299006e+06  3.190530e+06  \n",
       "木头获取数量   1.531180e+05  1.239962e+09  \n",
       "木头消耗数量   9.855700e+04  7.995875e+08  \n",
       "石头获取数量   0.000000e+00  1.214869e+09  \n",
       "石头消耗数量   0.000000e+00  7.962378e+08  \n",
       "...               ...           ...  \n",
       "PVE胜利次数  1.000000e+00  4.880000e+02  \n",
       "在线时长     4.833333e+00  2.049667e+03  \n",
       "付费金额     0.000000e+00  7.457950e+03  \n",
       "付费次数     0.000000e+00  1.050000e+02  \n",
       "45日付费金额  0.000000e+00  3.297781e+04  \n",
       "\n",
       "[108 rows x 8 columns]"
      ]
     },
     "execution_count": 17,
     "metadata": {},
     "output_type": "execute_result"
    }
   ],
   "source": [
    "data.describe().T # 查看分布和基本统计信息"
   ]
  },
  {
   "cell_type": "markdown",
   "id": "33f9a423-f3cd-4f7d-88f9-333fb3f1816a",
   "metadata": {},
   "source": [
    "数据分布整体左偏，玩家留存到第二日基本流失"
   ]
  },
  {
   "cell_type": "markdown",
   "id": "c32f12c2-75d4-4d77-aa6b-dc312739266a",
   "metadata": {},
   "source": [
    "## 2. 标签的探索：游戏经营的重要指标与经营状况"
   ]
  },
  {
   "cell_type": "code",
   "execution_count": 18,
   "id": "826114d9-c7ba-4bf4-9cad-c3db42d2040f",
   "metadata": {
    "tags": []
   },
   "outputs": [
    {
     "data": {
      "text/plain": [
       "Index(['玩家唯一ID', '玩家注册时间', '木头获取数量', '木头消耗数量', '石头获取数量', '石头消耗数量', '象牙获取数量',\n",
       "       '象牙消耗数量', '肉获取数量', '肉消耗数量',\n",
       "       ...\n",
       "       'PVP次数', '主动发起PVP次数', 'PVP胜利次数', 'PVE次数', '主动发起PVE次数', 'PVE胜利次数',\n",
       "       '在线时长', '付费金额', '付费次数', '45日付费金额'],\n",
       "      dtype='object', name='字段解释', length=109)"
      ]
     },
     "execution_count": 18,
     "metadata": {},
     "output_type": "execute_result"
    }
   ],
   "source": [
    "data.columns"
   ]
  },
  {
   "cell_type": "code",
   "execution_count": 19,
   "id": "97536210-d084-483e-9184-dc4f9d6d2b14",
   "metadata": {
    "tags": []
   },
   "outputs": [],
   "source": [
    "y = data.iloc[:,-1] #最后一列：45日付费金额\n",
    "SevenDayPayAmount = data.loc[:,\"付费金额\"] # 另外探索下7天内的经营状况"
   ]
  },
  {
   "cell_type": "code",
   "execution_count": 20,
   "id": "a03b3ecc-56e3-4ffa-bc9a-08f9a49f799d",
   "metadata": {
    "tags": []
   },
   "outputs": [
    {
     "data": {
      "text/plain": [
       "0          0.0\n",
       "1          0.0\n",
       "2          0.0\n",
       "3          0.0\n",
       "4          0.0\n",
       "          ... \n",
       "2288002    0.0\n",
       "2288003    0.0\n",
       "2288004    0.0\n",
       "2288005    0.0\n",
       "2288006    0.0\n",
       "Name: 45日付费金额, Length: 2288007, dtype: float64"
      ]
     },
     "execution_count": 20,
     "metadata": {},
     "output_type": "execute_result"
    }
   ],
   "source": [
    "y"
   ]
  },
  {
   "cell_type": "code",
   "execution_count": 21,
   "id": "3b85f281-0aba-4b81-a131-179ac0384340",
   "metadata": {
    "tags": []
   },
   "outputs": [
    {
     "data": {
      "text/plain": [
       "count    2.288007e+06\n",
       "mean     1.793146e+00\n",
       "std      8.846303e+01\n",
       "min      0.000000e+00\n",
       "50%      0.000000e+00\n",
       "75%      0.000000e+00\n",
       "90%      0.000000e+00\n",
       "99%      3.970000e+00\n",
       "max      3.297781e+04\n",
       "Name: 45日付费金额, dtype: float64"
      ]
     },
     "execution_count": 21,
     "metadata": {},
     "output_type": "execute_result"
    }
   ],
   "source": [
    "# 探索y分布\n",
    "y.describe([0.75, 0.9, 0.99]) # 游戏中通常有10%的付费用户养全服的情况，因此添加0.9和0.99选项"
   ]
  },
  {
   "cell_type": "markdown",
   "id": "0b42f563-de35-467f-941c-2bf631f45cd2",
   "metadata": {},
   "source": [
    "从分布来看，接近99%的用户都没有付费，游戏转化可能存在大问题"
   ]
  },
  {
   "cell_type": "code",
   "execution_count": 22,
   "id": "22d0b212-b271-4e91-9c3e-92ef5751881c",
   "metadata": {
    "tags": []
   },
   "outputs": [],
   "source": [
    "def RevenueFocus(RevenueSeries):\n",
    "    # 用于展示7日与45日氪金情况的关键指标\n",
    "    # 只能是Series结构\n",
    "    \n",
    "    # 中间变量\n",
    "    AllUsers = len(RevenueSeries) # 全部用户\n",
    "    PaidUsers = (RevenueSeries != 0).sum() # 付费用户量\n",
    "    TotalPayment = RevenueSeries.sum() # 总付费金额\n",
    "    \n",
    "    # 打印结果\n",
    "    print(\"付费率：{:.3f}%\".format(100*PaidUsers/AllUsers))\n",
    "    print(\"付费人数：{}\".format(PaidUsers))\n",
    "    print(\"转化总金额：{:.3f}\".format(TotalPayment))\n",
    "    print(\"ARPU：{:.3f}\".format(TotalPayment/AllUsers)) # ARPU 用户平均收入\n",
    "    print(\"ARPPU：{:.3f}\".format(TotalPayment/PaidUsers)) # ARPPU 付费用户平均收入\n",
    "    print(\"前500高氪用户金额占比：{:.3f}%\".format(100*RevenueSeries.sort_values(ascending=False)[:500].sum()/TotalPayment))\n",
    "    print(\"前1000高氪用户金额占比：{:.3f}%\".format(100*RevenueSeries.sort_values(ascending=False)[:1000].sum()/TotalPayment))\n",
    "    print(\"前5000高氪用户金额占比：{:.3f}%\".format(100*RevenueSeries.sort_values(ascending=False)[:5000].sum()/TotalPayment))"
   ]
  },
  {
   "cell_type": "code",
   "execution_count": 23,
   "id": "1ad129ba-e3b4-4da2-896d-a0bffdde1db0",
   "metadata": {
    "tags": []
   },
   "outputs": [
    {
     "name": "stdout",
     "output_type": "stream",
     "text": [
      "付费率：2.010%\n",
      "付费人数：45988\n",
      "转化总金额：4102730.110\n",
      "ARPU：1.793\n",
      "ARPPU：89.213\n",
      "前500高氪用户金额占比：51.618%\n",
      "前1000高氪用户金额占比：64.878%\n",
      "前5000高氪用户金额占比：89.375%\n"
     ]
    }
   ],
   "source": [
    "# 45日转化情况\n",
    "RevenueFocus(y)"
   ]
  },
  {
   "cell_type": "markdown",
   "id": "f3b80499-18ba-4f8f-b6ee-42bfdd11dbcb",
   "metadata": {},
   "source": [
    "ARPPU 比较高，说明付费用户整体水平较高或者大氪玩家金额高\n",
    "可以看到转化率较低，200多万用户中前5000用户氪金89%，约0.00218"
   ]
  },
  {
   "cell_type": "code",
   "execution_count": 24,
   "id": "4fcaa212-47a4-4529-ab95-bd7000981297",
   "metadata": {
    "tags": []
   },
   "outputs": [
    {
     "name": "stdout",
     "output_type": "stream",
     "text": [
      "付费率：1.811%\n",
      "付费人数：41439\n",
      "转化总金额：1223326.660\n",
      "ARPU：0.535\n",
      "ARPPU：29.521\n",
      "前500高氪用户金额占比：45.211%\n",
      "前1000高氪用户金额占比：57.231%\n",
      "前5000高氪用户金额占比：83.002%\n"
     ]
    }
   ],
   "source": [
    "# 7日转化情况\n",
    "RevenueFocus(SevenDayPayAmount)"
   ]
  },
  {
   "cell_type": "markdown",
   "id": "e2f5d042-7622-4e7e-9ebf-dca78084bbf8",
   "metadata": {},
   "source": [
    "一般来说，游戏行业付费率为10%-15%，可能为游戏稳定后，可以看出给i游戏付费率较低\n",
    "2016年全球F2P（free to play）手游的付费率就有2.3%，tap4fun在开服测试就有200w用户，转化率应该更高。\n",
    "2020年SLG手游的平均付费率大约在5%左右，顶级手游的付费率接近15%，在流量昂贵的现在，一个月400w的收入获取还不能覆盖掉200w用户的流量成本，收入状况不算特别理想"
   ]
  },
  {
   "cell_type": "code",
   "execution_count": 25,
   "id": "dbada669-1a66-4fe4-8830-b90b35371527",
   "metadata": {
    "tags": []
   },
   "outputs": [
    {
     "data": {
      "text/plain": [
       "4549"
      ]
     },
     "execution_count": 25,
     "metadata": {},
     "output_type": "execute_result"
    }
   ],
   "source": [
    "# 7-45日新增付费用户数\n",
    "45988-41439"
   ]
  },
  {
   "cell_type": "code",
   "execution_count": 26,
   "id": "cd8905c0-4d72-45c6-8639-d3634c343fe1",
   "metadata": {
    "tags": []
   },
   "outputs": [
    {
     "data": {
      "text/plain": [
       "0.2024866373953515"
      ]
     },
     "execution_count": 26,
     "metadata": {},
     "output_type": "execute_result"
    }
   ],
   "source": [
    "# 7-45日新增付费用户占7日前未氪金用户比例\n",
    "100*4549/(SevenDayPayAmount == 0).sum()"
   ]
  },
  {
   "cell_type": "markdown",
   "id": "655d89fc-4445-4dc4-bfa4-90c36183f181",
   "metadata": {},
   "source": [
    "意味着一个新玩家在开服前期7天内未氪金，那么他在未来一个月内99.8%的可能不会氪金，这可能由于\n",
    ">1. 所有用户都留存到了45日之后，这说明新用户福利过去后，游戏中的转化手段非常贫瘠，转化刺激严重不足\n",
    ">2. 大部分用户在45日之前已经流失，因此才没有继续转化为氪金用户的机会\n",
    "\n",
    "同时，我们计算7日之后再也没有付费的用户\n"
   ]
  },
  {
   "cell_type": "code",
   "execution_count": 27,
   "id": "324f09e5-e2e6-4604-aa7c-6c8f928a44e6",
   "metadata": {
    "tags": []
   },
   "outputs": [
    {
     "data": {
      "text/plain": [
       "0          0.0\n",
       "1          0.0\n",
       "2          0.0\n",
       "3          0.0\n",
       "4          0.0\n",
       "          ... \n",
       "2288002    0.0\n",
       "2288003    0.0\n",
       "2288004    0.0\n",
       "2288005    0.0\n",
       "2288006    0.0\n",
       "Name: 付费金额, Length: 2272149, dtype: float64"
      ]
     },
     "execution_count": 27,
     "metadata": {},
     "output_type": "execute_result"
    }
   ],
   "source": [
    "# 7日后再也没付费的用户\n",
    "# 即45日时付费金额与7日付费金额相同，且7日时付过费的用户\n",
    "SevenDayPayAmount[SevenDayPayAmount == y] # 筛选除了7天付费金额与45天付费金额一致的用户"
   ]
  },
  {
   "cell_type": "code",
   "execution_count": 28,
   "id": "a3b8b6a0-8183-4d40-b8cc-1130bb73efb6",
   "metadata": {
    "tags": []
   },
   "outputs": [
    {
     "data": {
      "text/plain": [
       "30130"
      ]
     },
     "execution_count": 28,
     "metadata": {},
     "output_type": "execute_result"
    }
   ],
   "source": [
    "SevenDayPayAmount[SevenDayPayAmount == y][SevenDayPayAmount != 0].count()"
   ]
  },
  {
   "cell_type": "code",
   "execution_count": 29,
   "id": "6f13acb8-67fb-44ac-8c3f-26fe9972aa9f",
   "metadata": {
    "tags": []
   },
   "outputs": [
    {
     "data": {
      "text/plain": [
       "72.70928352518159"
      ]
     },
     "execution_count": 29,
     "metadata": {},
     "output_type": "execute_result"
    }
   ],
   "source": [
    "# 占7天总付费人数的占比\n",
    "100*30130/41439"
   ]
  },
  {
   "cell_type": "markdown",
   "id": "35975ba0-dde0-44ef-aa6d-f10b2aa21acb",
   "metadata": {},
   "source": [
    "7日前付过费，但之后再没付费的用户有3玩多，占比前7天总付费用户的72%\n",
    "。\n",
    "**即一个新玩家在服前七天有氪金，但他在未来一个月内还是有7成的概率不再继续氪金**。这可能说明：\n",
    "1. 对大部分用户而言，最初氪的是超低价/超优惠新手礼包，后续氪金礼包中的福利/以及价格超出了大部分用户对氪金的心理预期\n",
    "2. 新手礼包力度过大，导致后续氪金礼包的福利看起来不够实惠，用户再付费门槛较高\n",
    "3. 游戏本身粘性不足，无论用户是否氪金，大部分人都在7-45日内自然流失了（甚至在前7日久流失了大部分）\n",
    "4. 开局需要发育时玩家更愿意氪金解决问题（痒感充足），发育起来之后便不再具有强烈氪金需求/发育不起来直接退服了\n",
    "5. （可能性较小，仅针对少部分前7日巨氪但之后不再氪的大佬）氪金后体验一般甚至较差。例如，发现氪几百、上千元对玩家竞争力无明显提升"
   ]
  },
  {
   "cell_type": "code",
   "execution_count": 30,
   "id": "618bb268-96ec-4c53-8b9f-69f85eacf82e",
   "metadata": {
    "tags": []
   },
   "outputs": [
    {
     "data": {
      "text/plain": [
       "count    30130.000000\n",
       "mean        11.407407\n",
       "std         71.134875\n",
       "min          0.990000\n",
       "25%          0.990000\n",
       "50%          1.980000\n",
       "75%          5.980000\n",
       "max       4086.520000\n",
       "Name: 付费金额, dtype: float64"
      ]
     },
     "execution_count": 30,
     "metadata": {},
     "output_type": "execute_result"
    }
   ],
   "source": [
    "# 7日后再也没有付过费的用户前7日的氪金情况\n",
    "SevenDayPayAmount[SevenDayPayAmount == y][SevenDayPayAmount != 0].describe()"
   ]
  },
  {
   "cell_type": "code",
   "execution_count": 31,
   "id": "a577f802-1f35-4750-94dd-6e39a5d8f826",
   "metadata": {
    "tags": []
   },
   "outputs": [
    {
     "data": {
      "text/plain": [
       "343705.17000000004"
      ]
     },
     "execution_count": 31,
     "metadata": {},
     "output_type": "execute_result"
    }
   ],
   "source": [
    "SevenDayPayAmount[SevenDayPayAmount == y][SevenDayPayAmount != 0].sum()"
   ]
  },
  {
   "cell_type": "code",
   "execution_count": 32,
   "id": "cae38077-edd6-4ec6-a29d-0d36986bcfad",
   "metadata": {
    "tags": []
   },
   "outputs": [
    {
     "data": {
      "text/plain": [
       "count    11309.000000\n",
       "mean        77.780661\n",
       "std        289.610458\n",
       "min          0.990000\n",
       "25%          2.980000\n",
       "50%         15.970000\n",
       "75%         45.940000\n",
       "max       7457.950000\n",
       "Name: 付费金额, dtype: float64"
      ]
     },
     "execution_count": 32,
     "metadata": {},
     "output_type": "execute_result"
    }
   ],
   "source": [
    "# 7日后继续付费的用户前7日的氪金情况\n",
    "SevenDayPayAmount[SevenDayPayAmount != y][SevenDayPayAmount != 0].describe()"
   ]
  },
  {
   "cell_type": "code",
   "execution_count": 33,
   "id": "b7e51dc0-611b-427e-af3f-ebfa6b5d0d16",
   "metadata": {
    "tags": []
   },
   "outputs": [
    {
     "data": {
      "text/plain": [
       "879621.4900000001"
      ]
     },
     "execution_count": 33,
     "metadata": {},
     "output_type": "execute_result"
    }
   ],
   "source": [
    "SevenDayPayAmount[SevenDayPayAmount != y][SevenDayPayAmount != 0].sum()"
   ]
  },
  {
   "cell_type": "code",
   "execution_count": 34,
   "id": "db5f85cb-da2f-46d8-af24-bb14adf24919",
   "metadata": {
    "tags": []
   },
   "outputs": [
    {
     "data": {
      "text/plain": [
       "count    11309.000000\n",
       "mean       315.963475\n",
       "std       1202.828424\n",
       "min          1.980000\n",
       "25%         16.940000\n",
       "50%         48.920000\n",
       "75%        163.760000\n",
       "max      32977.810000\n",
       "Name: 45日付费金额, dtype: float64"
      ]
     },
     "execution_count": 34,
     "metadata": {},
     "output_type": "execute_result"
    }
   ],
   "source": [
    "# 7日后继续付费的用户在45日时的氪金情况\n",
    "y[SevenDayPayAmount != y][SevenDayPayAmount != 0].describe()"
   ]
  },
  {
   "cell_type": "markdown",
   "id": "64585007-ea8a-4f8e-981b-5755837e9a08",
   "metadata": {},
   "source": [
    "可以看出,7日后继续付费的用户在前7天会氪更多的金额，7日后不再氪金的玩家有75%都只氪了6元以下的金额，而7日后继续氪金的玩家中有50%以上都氪了16元左右，这极大地印证了我们提出的第一条理由：**大部分人氪新手礼包，而后续礼包的价格在大部分人的心里预期之外。**\n",
    "同时，7日后不再氪金的玩家中也有不少氪过百元到千元以上的玩家，最终放弃游戏可能是因为自然流失/氪金后体验不足以满足部分用户的想象。但从7日后继续付费的用户氪金情况来看，用户是倾向于约氪越多的。因此大部分用户对于氪金后的感受应该是满意的。"
   ]
  },
  {
   "cell_type": "code",
   "execution_count": 35,
   "id": "98ce019e-913a-47ad-aa92-91c28abc999d",
   "metadata": {
    "tags": []
   },
   "outputs": [
    {
     "data": {
      "image/png": "[encoded data removed]",
      "text/plain": [
       "<Figure size 1500x700 with 1 Axes>"
      ]
     },
     "metadata": {},
     "output_type": "display_data"
    }
   ],
   "source": [
    "# 使用箱线图来对比两类用户在前7日的氪金情况\n",
    "\n",
    "plt.figure(figsize=(15,7))\n",
    "plt.boxplot([SevenDayPayAmount[SevenDayPayAmount != y][SevenDayPayAmount != 0],SevenDayPayAmount[SevenDayPayAmount == y][SevenDayPayAmount != 0]],\n",
    "            labels=[\"7日后继续付费\",\"7日后不再付费\"],\n",
    "            vert=False,\n",
    "            showmeans=False)\n",
    "plt.xlim(-1,50)\n",
    "plt.title('前7日消费金额分布图',fontsize=20.0)\n",
    "plt.yticks(fontsize=15.0)\n",
    "plt.xticks(range(0,50,2),fontsize=15.0)\n",
    "plt.show()\n",
    "\n"
   ]
  },
  {
   "cell_type": "markdown",
   "id": "d8b668d7-ef1e-4487-94e7-9ebb57abb030",
   "metadata": {},
   "source": [
    "**高价值用户评判的第一个可能的标准：前7日氪金超过6元的用户是更有价值的用户**\n",
    "\n",
    "以此推测，新手礼包设置为5-7元，或许可以明确辨析出用户的付费能力"
   ]
  },
  {
   "cell_type": "markdown",
   "id": "6225e921-f41d-4ce4-89ce-7c659f613062",
   "metadata": {},
   "source": [
    "对于7日内已氪用户而言，氪任意金额的用户都有一定的概率继续氪金，也有一定的概率不再氪金，且两个概率相加为1。举个简单的例子：\n",
    "\n",
    "假设前7日付费金额超过n元的有60人，在这60人中，后续继续氪金的是20人，不再氪金的是40人，那我们就可以说，\n",
    "\n",
    "**当用户前7日消费超过n元时，继续氪金的概率是**$20/60=33%$，**不再氪金的概率是**$40/60=66%$。\n",
    "\n",
    "随着前7日内氪金的金额变大，继续氪金的概率会越来越大，不再氪金的概率会越来越小，因此，**必然存在一个金额点，当用户在前7日内付费的金额超过该金额点时，该用户继续氪金的可能性大于不再氪金的可能性**。该金额点就是适合作为新手礼包设置的点。"
   ]
  },
  {
   "cell_type": "markdown",
   "id": "28444b99-efb2-49bd-8d97-7aba708fa145",
   "metadata": {},
   "source": [
    "### 找出氪金临界点"
   ]
  },
  {
   "cell_type": "code",
   "execution_count": 36,
   "id": "08e01dcb-8cb8-40b1-a2c4-92d537b1b0f6",
   "metadata": {
    "tags": []
   },
   "outputs": [],
   "source": [
    "#考虑到后续付费用户有50%都付了16元及以上，我们推测这个金额点应该是在16元以下的，因此我们设置潜在金额的范围为1-16。\n",
    "PotentialPoints = range(1,16)"
   ]
  },
  {
   "cell_type": "code",
   "execution_count": 37,
   "id": "67b156a5-02b3-4c89-acb0-e70f3bdf0919",
   "metadata": {
    "tags": []
   },
   "outputs": [
    {
     "data": {
      "text/plain": [
       "[1, 2, 3, 4, 5, 6, 7, 8, 9, 10, 11, 12, 13, 14, 15]"
      ]
     },
     "execution_count": 37,
     "metadata": {},
     "output_type": "execute_result"
    }
   ],
   "source": [
    "[*PotentialPoints]"
   ]
  },
  {
   "cell_type": "code",
   "execution_count": 38,
   "id": "4adfb872-a034-4f3a-86fc-233215c3f4bf",
   "metadata": {
    "tags": []
   },
   "outputs": [
    {
     "name": "stdout",
     "output_type": "stream",
     "text": [
      "7日内氪金金额 1\n",
      "继续氪金概率：37.683%\n",
      "不再氪金概率：62.317%\n",
      "继续付费概率与不再付费概率差值 -0.246%\n",
      "7日内氪金金额 2\n",
      "继续氪金概率：43.720%\n",
      "不再氪金概率：56.280%\n",
      "继续付费概率与不再付费概率差值 -0.126%\n",
      "7日内氪金金额 3\n",
      "继续氪金概率：45.759%\n",
      "不再氪金概率：54.241%\n",
      "继续付费概率与不再付费概率差值 -0.085%\n",
      "7日内氪金金额 4\n",
      "继续氪金概率：46.532%\n",
      "不再氪金概率：53.468%\n",
      "继续付费概率与不再付费概率差值 -0.069%\n",
      "7日内氪金金额 5\n",
      "继续氪金概率：48.094%\n",
      "不再氪金概率：51.906%\n",
      "继续付费概率与不再付费概率差值 -0.038%\n",
      "7日内氪金金额 6\n",
      "继续氪金概率：50.778%\n",
      "不再氪金概率：49.222%\n",
      "继续付费概率与不再付费概率差值 0.016%\n",
      "-----------------------------------\n",
      "当7日内付费金额大于6.00时，用户继续氪金的可能性比不再氪金的可能性更高！\n"
     ]
    }
   ],
   "source": [
    "for i in PotentialPoints:\n",
    "    #取出所有7天内付费金额超出i的付费用户\n",
    "    HigherThanPoint = SevenDayPayAmount[SevenDayPayAmount >= i] \n",
    "    #这些用户中，继续付费的用户所占的比例\n",
    "    KeepPaid = len(HigherThanPoint[SevenDayPayAmount != y])/len(HigherThanPoint) \n",
    "    #这些用户中，停止付费的用户所占的比例，其实就是1-KeepPaid\n",
    "    StopPaid = len(HigherThanPoint[SevenDayPayAmount == y])/len(HigherThanPoint)\n",
    "    print('7日内氪金金额',i)\n",
    "    print(\"继续氪金概率：{:.3f}%\".format(100*KeepPaid))\n",
    "    print(\"不再氪金概率：{:.3f}%\".format(100*StopPaid))\n",
    "    print(\"继续付费概率与不再付费概率差值 {:.3f}%\".format(KeepPaid - StopPaid))\n",
    "    if KeepPaid - StopPaid > 0:\n",
    "        print('-----------------------------------')\n",
    "        print(\"当7日内付费金额大于{:.2f}时，用户继续氪金的可能性比不再氪金的可能性更高！\".format(i))\n",
    "        break"
   ]
  },
  {
   "cell_type": "code",
   "execution_count": 39,
   "id": "e5efb4bb-6072-4147-9d45-f734fa1b57b8",
   "metadata": {
    "tags": []
   },
   "outputs": [
    {
     "data": {
      "image/png": "[encoded data removed]",
      "text/plain": [
       "<Figure size 1500x700 with 1 Axes>"
      ]
     },
     "metadata": {},
     "output_type": "display_data"
    }
   ],
   "source": [
    "KeepPaidList = []\n",
    "StopPaidList = []\n",
    "for i in PotentialPoints:\n",
    "    #取出所有7天内付费金额超出i的付费用户\n",
    "    HigherThanPoint = SevenDayPayAmount[SevenDayPayAmount>=i] \n",
    "    #这些用户中，继续付费的用户所占的比例\n",
    "    KeepPaid = len(HigherThanPoint[SevenDayPayAmount != y])/len(HigherThanPoint) \n",
    "    #这些用户中，停止付费的用户所占的比例\n",
    "    StopPaid = len(HigherThanPoint[SevenDayPayAmount == y])/len(HigherThanPoint)\n",
    "    KeepPaidList.append(100*KeepPaid)\n",
    "    StopPaidList.append(100*StopPaid)\n",
    "\n",
    "plt.figure(figsize=(15,7))\n",
    "plt.plot(PotentialPoints,KeepPaidList,label=\"7日后继续付费的概率\",color=\"red\")\n",
    "plt.plot(PotentialPoints,StopPaidList,label=\"7日后停止付费的概率\",color=\"k\")\n",
    "#plt.xlim(-1,50)\n",
    "plt.title('前7日氪金数额增加，继续付费概率/不再付费概率的变化',fontsize=20.0)\n",
    "plt.yticks(fontsize=15.0)\n",
    "plt.xticks(range(0,16,1),fontsize=15.0)\n",
    "plt.legend(fontsize = 15.0, frameon = False)\n",
    "plt.vlines(5.7,ymin = plt.ylim()[0]+0.1,ymax = plt.ylim()[1]-0.1,colors=\"red\",linestyles=\"dotted\")\n",
    "plt.show()"
   ]
  },
  {
   "cell_type": "markdown",
   "id": "4c834c40-eaa0-4313-b84f-6c5587c4155c",
   "metadata": {},
   "source": [
    "在前7日内付费6元以下的用户，无论是否自然流失，未来氪金的可能性都是小于不再付费的可能性的。可以通过设置游戏体验，给与付费5元左右的用户更多的“刺激”，让他们后续继续付费。也可选择直接放弃6元以下的付费用户，体验维持现状或减少资源分配，让更多的资源/服务围绕更有可能付费的用户展开。"
   ]
  },
  {
   "cell_type": "markdown",
   "id": "756211f8-4248-45ae-9878-a3becc8e917b",
   "metadata": {},
   "source": [
    "### 收入分析"
   ]
  },
  {
   "cell_type": "code",
   "execution_count": 40,
   "id": "ccb9b245-b087-42b9-8cd0-9fcbba86303a",
   "metadata": {
    "tags": []
   },
   "outputs": [
    {
     "name": "stdout",
     "output_type": "stream",
     "text": [
      "付费率：2.010%\n",
      "付费人数：45988\n",
      "转化总金额：4102730.110\n",
      "ARPU：1.793\n",
      "ARPPU：89.213\n",
      "前500高氪用户金额占比：51.618%\n",
      "前1000高氪用户金额占比：64.878%\n",
      "前5000高氪用户金额占比：89.375%\n"
     ]
    }
   ],
   "source": [
    "#45日转化情况\n",
    "RevenueFocus(y)"
   ]
  },
  {
   "cell_type": "code",
   "execution_count": 41,
   "id": "506fe8fd-68d9-41f0-be45-9598406c3328",
   "metadata": {
    "tags": []
   },
   "outputs": [
    {
     "data": {
      "text/plain": [
       "32977.81"
      ]
     },
     "execution_count": 41,
     "metadata": {},
     "output_type": "execute_result"
    }
   ],
   "source": [
    "y.max()"
   ]
  },
  {
   "cell_type": "code",
   "execution_count": 42,
   "id": "81e68844-772c-40ca-b9b5-6fe3fa69847b",
   "metadata": {
    "tags": []
   },
   "outputs": [
    {
     "name": "stdout",
     "output_type": "stream",
     "text": [
      "付费率：1.811%\n",
      "付费人数：41439\n",
      "转化总金额：1223326.660\n",
      "ARPU：0.535\n",
      "ARPPU：29.521\n",
      "前500高氪用户金额占比：45.211%\n",
      "前1000高氪用户金额占比：57.231%\n",
      "前5000高氪用户金额占比：83.002%\n"
     ]
    }
   ],
   "source": [
    "#7日转化情况\n",
    "RevenueFocus(SevenDayPayAmount)"
   ]
  },
  {
   "cell_type": "markdown",
   "id": "a4af76f3-173a-4bd8-b612-7e741b5a9dc3",
   "metadata": {},
   "source": [
    "来看ARPU与ARPPU数据。ARPU是全服用户平均收入，ARPPU是全服付费用户平均收入，目前来看全服的ARPU较低，但ARPPU还不错，这说明虽然付费人数不多，但是大R（大人民币玩家）的付费能力相对较强。\n",
    "\n",
    "从前5000高氪用户金额占比来看，45日时全服氪金前5000的人(占比小于0.22%)提供了全服89%的收入，大RMB玩家贡献巨大。\n",
    "\n",
    "猜测，《野蛮时代》中的氪金行为应该与玩家竞争力有较为直接的联系，因为许多大R玩家非常偏爱强PK类游戏，付费可以直接让PVP变得异常简单。\n",
    "\n",
    "不过全服最氪玩家在一个月内的消费只有3w2，在SLG手游领域并非一个很高的数字，如果游戏体验优秀，应该还有很大的上升空间。而付费人数不多的问题还可以改善，游戏整体的经营成果还可以上一个台阶。"
   ]
  },
  {
   "cell_type": "markdown",
   "id": "5ccc066b-4e06-4db3-b25b-6716e2567289",
   "metadata": {},
   "source": [
    "## 3. 特征探索\n",
    "### 3.1 在线时长： 用户是否以超出常规的速度流失?\n",
    "\n",
    "在分析收入和资源的分布状况时，我们曾推测用户可能以超出常规的速度在流失。\n",
    "\n",
    "通常来说，任意手游的次日留存率及格线应该在50%以上，7日留存应该在30%左右，一个成功的手游则需要在7日达到50%左右的留存，而《野蛮时代》可\n",
    "能并达不到这个次日留存50%的及格线。\n",
    "\n",
    "在特征当中，有一列“在线时长”，是前7日用户在线的时长。通过判断用户在\n",
    "线时长，我们可以大约估计出用户流失的速度。"
   ]
  },
  {
   "cell_type": "code",
   "execution_count": 43,
   "id": "482f00af-9acc-4517-81eb-98ca35320090",
   "metadata": {
    "tags": []
   },
   "outputs": [
    {
     "data": {
      "text/plain": [
       "Index(['玩家唯一ID', '玩家注册时间', '木头获取数量', '木头消耗数量', '石头获取数量', '石头消耗数量', '象牙获取数量',\n",
       "       '象牙消耗数量', '肉获取数量', '肉消耗数量',\n",
       "       ...\n",
       "       'PVP次数', '主动发起PVP次数', 'PVP胜利次数', 'PVE次数', '主动发起PVE次数', 'PVE胜利次数',\n",
       "       '在线时长', '付费金额', '付费次数', '45日付费金额'],\n",
       "      dtype='object', name='字段解释', length=109)"
      ]
     },
     "execution_count": 43,
     "metadata": {},
     "output_type": "execute_result"
    }
   ],
   "source": [
    "data.columns"
   ]
  },
  {
   "cell_type": "code",
   "execution_count": 44,
   "id": "337b5496-36b5-4b47-ad66-f4761460dcb5",
   "metadata": {
    "tags": []
   },
   "outputs": [],
   "source": [
    "PlayTime = data.loc[:,\"在线时长\"]"
   ]
  },
  {
   "cell_type": "code",
   "execution_count": 45,
   "id": "4ac22814-dbc8-4711-b9f2-19b511ef9024",
   "metadata": {
    "tags": []
   },
   "outputs": [
    {
     "data": {
      "text/plain": [
       "2049.666667"
      ]
     },
     "execution_count": 45,
     "metadata": {},
     "output_type": "execute_result"
    }
   ],
   "source": [
    "PlayTime.max()"
   ]
  },
  {
   "cell_type": "markdown",
   "id": "8aa93358-e776-4e6b-a78b-57fe490b2274",
   "metadata": {
    "tags": []
   },
   "source": [
    "原数据并未说明这个衡量时间的特征的单位，但7日为168小时，因此该特征的单位应该是分钟。前7日内游戏时长最长的玩家玩了2049分钟，即34个小时，每日玩5个小时以上，也是铁杆玩家可以达得到的数据，单位为分钟是合理的。"
   ]
  },
  {
   "cell_type": "code",
   "execution_count": 46,
   "id": "7665de1b-ce7a-4211-aa7c-6fe102237381",
   "metadata": {
    "tags": []
   },
   "outputs": [
    {
     "data": {
      "text/plain": [
       "count   2288007.000\n",
       "mean         10.207\n",
       "std          38.959\n",
       "min           0.000\n",
       "25%           0.500\n",
       "50%           1.833\n",
       "75%           4.833\n",
       "max        2049.667\n",
       "Name: 在线时长, dtype: float64"
      ]
     },
     "execution_count": 46,
     "metadata": {},
     "output_type": "execute_result"
    }
   ],
   "source": [
    "pd.set_option(\"display.float_format\", lambda x: \"%.3f\" % x) #避免显示问题，设置不显示科学计数法\n",
    "PlayTime.describe()"
   ]
  },
  {
   "cell_type": "markdown",
   "id": "f2e2d273-8118-41d3-8a34-d96a1e1823c1",
   "metadata": {},
   "source": [
    "75%的人在前7日一共只玩了4.8分钟或以下，这是说超过75%的用户只是稍微看了一眼游戏就被劝退了。"
   ]
  },
  {
   "cell_type": "code",
   "execution_count": 47,
   "id": "ae929af3-a99e-448c-9e41-8d4322057cd9",
   "metadata": {
    "tags": []
   },
   "outputs": [
    {
     "data": {
      "text/plain": [
       "count   2288007.000\n",
       "mean         10.207\n",
       "std          38.959\n",
       "min           0.000\n",
       "50%           1.833\n",
       "75%           4.833\n",
       "90%          15.000\n",
       "95%          41.333\n",
       "99%         183.657\n",
       "max        2049.667\n",
       "Name: 在线时长, dtype: float64"
      ]
     },
     "execution_count": 47,
     "metadata": {},
     "output_type": "execute_result"
    }
   ],
   "source": [
    "PlayTime.describe(percentiles=[0.75,.9,0.95,.99]) #查看一下90%以上的分布"
   ]
  },
  {
   "cell_type": "markdown",
   "id": "0734cfb0-eb1b-4a71-9349-fe7ce5aa974b",
   "metadata": {},
   "source": [
    "SLG游戏天生会充满许多任务、奖励和剧情，除非用户登录即退出，否则登入一次至少应该停留5分钟以上，新用户停留的时间应当更长（有非常多的内容需要探索、任务列表也很长）。\n",
    "\n",
    "如果一个用户在注册游戏后第二天依然被留存下来、并参与到游戏当中，那两天在线时长至少也应该有15-20分钟。75%的用户在前7日内只玩了4.8分钟，而如下所示，90%的用户在7日内只玩了15分钟以下。\n",
    "\n",
    "据推断，大约只有10~15%的用户在第二天依然留存下来，同时每天大约玩10分钟，7日后依然留存下来的用户大约少于5%。用户的确以超出常规的方式流失，在这种流失方式下，付费率也很难被拯救。\n",
    "\n",
    "建议先做留存分析，提高留存"
   ]
  },
  {
   "cell_type": "code",
   "execution_count": 48,
   "id": "d4abcf96-4209-49d6-8297-eca0925e0446",
   "metadata": {
    "tags": []
   },
   "outputs": [
    {
     "data": {
      "text/html": [
       "<div>\n",
       "<style scoped>\n",
       "    .dataframe tbody tr th:only-of-type {\n",
       "        vertical-align: middle;\n",
       "    }\n",
       "\n",
       "    .dataframe tbody tr th {\n",
       "        vertical-align: top;\n",
       "    }\n",
       "\n",
       "    .dataframe thead th {\n",
       "        text-align: right;\n",
       "    }\n",
       "</style>\n",
       "<table border=\"1\" class=\"dataframe\">\n",
       "  <thead>\n",
       "    <tr style=\"text-align: right;\">\n",
       "      <th>字段解释</th>\n",
       "      <th>玩家唯一ID</th>\n",
       "      <th>玩家注册时间</th>\n",
       "      <th>木头获取数量</th>\n",
       "      <th>木头消耗数量</th>\n",
       "      <th>石头获取数量</th>\n",
       "      <th>石头消耗数量</th>\n",
       "      <th>象牙获取数量</th>\n",
       "      <th>象牙消耗数量</th>\n",
       "      <th>肉获取数量</th>\n",
       "      <th>肉消耗数量</th>\n",
       "      <th>...</th>\n",
       "      <th>PVP次数</th>\n",
       "      <th>主动发起PVP次数</th>\n",
       "      <th>PVP胜利次数</th>\n",
       "      <th>PVE次数</th>\n",
       "      <th>主动发起PVE次数</th>\n",
       "      <th>PVE胜利次数</th>\n",
       "      <th>在线时长</th>\n",
       "      <th>付费金额</th>\n",
       "      <th>付费次数</th>\n",
       "      <th>45日付费金额</th>\n",
       "    </tr>\n",
       "  </thead>\n",
       "  <tbody>\n",
       "    <tr>\n",
       "      <th>488497</th>\n",
       "      <td>645487</td>\n",
       "      <td>2018-03-04 13:43:36</td>\n",
       "      <td>697852.000</td>\n",
       "      <td>300255.000</td>\n",
       "      <td>0.000</td>\n",
       "      <td>0.000</td>\n",
       "      <td>6000.000</td>\n",
       "      <td>0.000</td>\n",
       "      <td>690379.000</td>\n",
       "      <td>196602.000</td>\n",
       "      <td>...</td>\n",
       "      <td>5</td>\n",
       "      <td>0</td>\n",
       "      <td>0</td>\n",
       "      <td>2</td>\n",
       "      <td>2</td>\n",
       "      <td>2</td>\n",
       "      <td>2049.667</td>\n",
       "      <td>0.000</td>\n",
       "      <td>0</td>\n",
       "      <td>0.000</td>\n",
       "    </tr>\n",
       "  </tbody>\n",
       "</table>\n",
       "<p>1 rows × 109 columns</p>\n",
       "</div>"
      ],
      "text/plain": [
       "字段解释    玩家唯一ID               玩家注册时间     木头获取数量     木头消耗数量  石头获取数量  石头消耗数量  \\\n",
       "488497  645487  2018-03-04 13:43:36 697852.000 300255.000   0.000   0.000   \n",
       "\n",
       "字段解释     象牙获取数量  象牙消耗数量      肉获取数量      肉消耗数量  ...  PVP次数  主动发起PVP次数  PVP胜利次数  \\\n",
       "488497 6000.000   0.000 690379.000 196602.000  ...      5          0        0   \n",
       "\n",
       "字段解释    PVE次数  主动发起PVE次数  PVE胜利次数     在线时长  付费金额  付费次数  45日付费金额  \n",
       "488497      2          2        2 2049.667 0.000     0    0.000  \n",
       "\n",
       "[1 rows x 109 columns]"
      ]
     },
     "execution_count": 48,
     "metadata": {},
     "output_type": "execute_result"
    }
   ],
   "source": [
    "#谁是这个玩了2049分钟的用户？\n",
    "(data[\"在线时长\"] > 2000).sum() \n",
    "data.loc[data[\"在线时长\"] > 2049,:] #69木头获取，69w肉获取\n",
    "\n",
    "# 时长长，但体验深度低，可能测试人员，GM"
   ]
  },
  {
   "cell_type": "code",
   "execution_count": 49,
   "id": "450b1761-0ce2-48b8-8f01-6da3c5df62bd",
   "metadata": {
    "tags": []
   },
   "outputs": [
    {
     "data": {
      "text/html": [
       "<div>\n",
       "<style scoped>\n",
       "    .dataframe tbody tr th:only-of-type {\n",
       "        vertical-align: middle;\n",
       "    }\n",
       "\n",
       "    .dataframe tbody tr th {\n",
       "        vertical-align: top;\n",
       "    }\n",
       "\n",
       "    .dataframe thead th {\n",
       "        text-align: right;\n",
       "    }\n",
       "</style>\n",
       "<table border=\"1\" class=\"dataframe\">\n",
       "  <thead>\n",
       "    <tr style=\"text-align: right;\">\n",
       "      <th>字段解释</th>\n",
       "      <th>玩家唯一ID</th>\n",
       "      <th>玩家注册时间</th>\n",
       "      <th>木头获取数量</th>\n",
       "      <th>木头消耗数量</th>\n",
       "      <th>石头获取数量</th>\n",
       "      <th>石头消耗数量</th>\n",
       "      <th>象牙获取数量</th>\n",
       "      <th>象牙消耗数量</th>\n",
       "      <th>肉获取数量</th>\n",
       "      <th>肉消耗数量</th>\n",
       "      <th>...</th>\n",
       "      <th>PVP次数</th>\n",
       "      <th>主动发起PVP次数</th>\n",
       "      <th>PVP胜利次数</th>\n",
       "      <th>PVE次数</th>\n",
       "      <th>主动发起PVE次数</th>\n",
       "      <th>PVE胜利次数</th>\n",
       "      <th>在线时长</th>\n",
       "      <th>付费金额</th>\n",
       "      <th>付费次数</th>\n",
       "      <th>45日付费金额</th>\n",
       "    </tr>\n",
       "  </thead>\n",
       "  <tbody>\n",
       "    <tr>\n",
       "      <th>488497</th>\n",
       "      <td>645487</td>\n",
       "      <td>2018-03-04 13:43:36</td>\n",
       "      <td>697852.000</td>\n",
       "      <td>300255.000</td>\n",
       "      <td>0.000</td>\n",
       "      <td>0.000</td>\n",
       "      <td>6000.000</td>\n",
       "      <td>0.000</td>\n",
       "      <td>690379.000</td>\n",
       "      <td>196602.000</td>\n",
       "      <td>...</td>\n",
       "      <td>5</td>\n",
       "      <td>0</td>\n",
       "      <td>0</td>\n",
       "      <td>2</td>\n",
       "      <td>2</td>\n",
       "      <td>2</td>\n",
       "      <td>2049.667</td>\n",
       "      <td>0.000</td>\n",
       "      <td>0</td>\n",
       "      <td>0.000</td>\n",
       "    </tr>\n",
       "    <tr>\n",
       "      <th>1263615</th>\n",
       "      <td>1579134</td>\n",
       "      <td>2018-03-05 11:04:18</td>\n",
       "      <td>15722711.000</td>\n",
       "      <td>15269965.000</td>\n",
       "      <td>8895972.000</td>\n",
       "      <td>7952637.000</td>\n",
       "      <td>4554662.000</td>\n",
       "      <td>3025143.000</td>\n",
       "      <td>23321313.000</td>\n",
       "      <td>21071538.000</td>\n",
       "      <td>...</td>\n",
       "      <td>48</td>\n",
       "      <td>25</td>\n",
       "      <td>11</td>\n",
       "      <td>100</td>\n",
       "      <td>100</td>\n",
       "      <td>86</td>\n",
       "      <td>1674.667</td>\n",
       "      <td>2.980</td>\n",
       "      <td>2</td>\n",
       "      <td>514.680</td>\n",
       "    </tr>\n",
       "  </tbody>\n",
       "</table>\n",
       "<p>2 rows × 109 columns</p>\n",
       "</div>"
      ],
      "text/plain": [
       "字段解释      玩家唯一ID               玩家注册时间       木头获取数量       木头消耗数量      石头获取数量  \\\n",
       "488497    645487  2018-03-04 13:43:36   697852.000   300255.000       0.000   \n",
       "1263615  1579134  2018-03-05 11:04:18 15722711.000 15269965.000 8895972.000   \n",
       "\n",
       "字段解释         石头消耗数量      象牙获取数量      象牙消耗数量        肉获取数量        肉消耗数量  ...  \\\n",
       "488497        0.000    6000.000       0.000   690379.000   196602.000  ...   \n",
       "1263615 7952637.000 4554662.000 3025143.000 23321313.000 21071538.000  ...   \n",
       "\n",
       "字段解释     PVP次数  主动发起PVP次数  PVP胜利次数  PVE次数  主动发起PVE次数  PVE胜利次数     在线时长  付费金额  \\\n",
       "488497       5          0        0      2          2        2 2049.667 0.000   \n",
       "1263615     48         25       11    100        100       86 1674.667 2.980   \n",
       "\n",
       "字段解释     付费次数  45日付费金额  \n",
       "488497      0    0.000  \n",
       "1263615     2  514.680  \n",
       "\n",
       "[2 rows x 109 columns]"
      ]
     },
     "execution_count": 49,
     "metadata": {},
     "output_type": "execute_result"
    }
   ],
   "source": [
    "data.loc[data[\"在线时长\"] > 1500,:] #比起时长，是否更加深度参与游戏或许才与氪金更相关"
   ]
  },
  {
   "cell_type": "markdown",
   "id": "768252b7-4f50-4b56-95ae-cf98fa89e5ee",
   "metadata": {},
   "source": [
    "肝帝一般付费低\n",
    "\n",
    "1263615用户资源量丰富，氪金500左右不高，符合特征"
   ]
  },
  {
   "cell_type": "code",
   "execution_count": 50,
   "id": "f81b9f15-ee41-4d7a-b6e3-5d521f1211a7",
   "metadata": {
    "tags": []
   },
   "outputs": [
    {
     "data": {
      "text/plain": [
       "count   41439.000\n",
       "mean      140.188\n",
       "std       149.973\n",
       "min         0.000\n",
       "25%        33.000\n",
       "50%        88.833\n",
       "75%       194.667\n",
       "max      1674.667\n",
       "Name: 在线时长, dtype: float64"
      ]
     },
     "execution_count": 50,
     "metadata": {},
     "output_type": "execute_result"
    }
   ],
   "source": [
    "#尝试查找氪金用户们前7日的游戏时间\n",
    "PaidPlayTime = data.loc[data[\"付费金额\"] != 0,\"在线时长\"]\n",
    "PaidPlayTime.describe().T #只有25%以下的用户在线时间在半小时以下，游戏时间明显比非氪金用户多很多"
   ]
  },
  {
   "cell_type": "markdown",
   "id": "0138038a-23aa-43ea-9114-48db1f69c4b4",
   "metadata": {},
   "source": [
    "在线时长甚至不足1分钟的闭眼氪玩家们，有40人氪了0.99"
   ]
  },
  {
   "cell_type": "code",
   "execution_count": 51,
   "id": "d0c93ada-6130-47fc-b008-af976206d6ce",
   "metadata": {
    "tags": []
   },
   "outputs": [
    {
     "data": {
      "text/plain": [
       "付费金额\n",
       "0.000     896061\n",
       "0.990         51\n",
       "9.990          4\n",
       "4.990          3\n",
       "36.960         3\n",
       "5.980          3\n",
       "56.950         2\n",
       "99.990         2\n",
       "25.970         1\n",
       "1.990          1\n",
       "49.990         1\n",
       "26.970         1\n",
       "6.980          1\n",
       "19.990         1\n",
       "Name: count, dtype: int64"
      ]
     },
     "execution_count": 51,
     "metadata": {},
     "output_type": "execute_result"
    }
   ],
   "source": [
    "data.loc[data[\"在线时长\"]<=1,\"付费金额\"].value_counts()"
   ]
  },
  {
   "cell_type": "markdown",
   "id": "9c08c136-6401-406d-857a-ffec56c73aaa",
   "metadata": {},
   "source": [
    "- 在线时间很长的用户也不一定就是高氪大佬\n",
    "- 在线时间很短的用户也不一定就完全不氪\n",
    "- 如何就在线时间这个点来进行用户价值判断呢？"
   ]
  },
  {
   "cell_type": "code",
   "execution_count": 52,
   "id": "e65df239-1da2-48cf-92e6-4c50f359a0b9",
   "metadata": {
    "tags": []
   },
   "outputs": [
    {
     "name": "stdout",
     "output_type": "stream",
     "text": [
      "一周在线时长不足1分钟\n",
      "\t45日平均消费额为0.022元，45日总消费额为18323.490元\n",
      "\t7日平均消费额为0.001元，7日总消费额为574.180元\n",
      "\t7日氪金占比0.047%，45日氪金占比0.447%\n",
      "一周在线时长不足5分钟\n",
      "\t45日平均消费额为0.019元，45日总消费额为32572.700元\n",
      "\t7日平均消费额为0.003元，7日总消费额为4519.280元\n",
      "\t7日氪金占比0.369%，45日氪金占比0.794%\n",
      "一周在线时长不足15分钟\n",
      "\t45日平均消费额为0.028元，45日总消费额为57753.190元\n",
      "\t7日平均消费额为0.009元，7日总消费额为18428.260元\n",
      "\t7日氪金占比1.506%，45日氪金占比1.408%\n",
      "一周在线时长不足20分钟\n",
      "\t45日平均消费额为0.038元，45日总消费额为79124.920元\n",
      "\t7日平均消费额为0.012元，7日总消费额为25904.310元\n",
      "\t7日氪金占比2.118%，45日氪金占比1.929%\n",
      "一周在线时长不足25分钟\n",
      "\t45日平均消费额为0.044元，45日总消费额为94650.110元\n",
      "\t7日平均消费额为0.016元，7日总消费额为34217.390元\n",
      "\t7日氪金占比2.797%，45日氪金占比2.307%\n",
      "一周在线时长不足30分钟\n",
      "\t45日平均消费额为0.050元，45日总消费额为107763.140元\n",
      "\t7日平均消费额为0.019元，7日总消费额为40862.200元\n",
      "\t7日氪金占比3.340%，45日氪金占比2.627%\n"
     ]
    }
   ],
   "source": [
    "#在线时长很少的玩家们贡献的氪金数额\n",
    "for playtime in [1,5,15,20,25,30]:\n",
    "    \n",
    "    MeanPay45 = data.loc[data[\"在线时长\"]<playtime,\"45日付费金额\"].mean()\n",
    "    TotalPay45 = data.loc[data[\"在线时长\"]<playtime,\"45日付费金额\"].sum()\n",
    "    MeanPay7 = data.loc[data[\"在线时长\"]<playtime,\"付费金额\"].mean()\n",
    "    TotalPay7 = data.loc[data[\"在线时长\"]<playtime,\"付费金额\"].sum()\n",
    "    \n",
    "    print(\"一周在线时长不足{}分钟\".format(playtime))\n",
    "    print(\"\\t45日平均消费额为{:.3f}元，45日总消费额为{:.3f}元\".format(MeanPay45,TotalPay45))\n",
    "    print(\"\\t7日平均消费额为{:.3f}元，7日总消费额为{:.3f}元\".format(MeanPay7,TotalPay7))\n",
    "    print(\"\\t7日氪金占比{:.3f}%，45日氪金占比{:.3f}%\".format(100*TotalPay7/(data[\"付费金额\"].sum())\n",
    "                                                  ,100*TotalPay45/(data[\"45日付费金额\"].sum())))"
   ]
  },
  {
   "cell_type": "markdown",
   "id": "7b9809c7-2981-4cbd-a303-6fd0a37666f4",
   "metadata": {},
   "source": [
    "不难发现，在线时长很少的玩家们贡献的氪金数额很少，在对200w人进行建模时，我们可以忽略一部分在线时间很短的用户。在这里，我们可以将一周在线时长不足15或20分钟的用户判断为低价值用户。"
   ]
  },
  {
   "cell_type": "code",
   "execution_count": 53,
   "id": "bd8c21e0-dcb3-45f8-a77d-e3f595797bf3",
   "metadata": {
    "tags": []
   },
   "outputs": [
    {
     "data": {
      "text/plain": [
       "488497    2049.667\n",
       "1263615   1674.667\n",
       "882241    1482.000\n",
       "1335561   1452.333\n",
       "1558221   1452.333\n",
       "            ...   \n",
       "527722     504.500\n",
       "1257763    504.333\n",
       "2145496    504.333\n",
       "2065723    504.333\n",
       "1815137    504.333\n",
       "Name: 在线时长, Length: 2288, dtype: float64"
      ]
     },
     "execution_count": 53,
     "metadata": {},
     "output_type": "execute_result"
    }
   ],
   "source": [
    "data[\"在线时长\"].sort_values(ascending=False)[:2288] #最肝的前0.1%的用户的7日在线时长"
   ]
  },
  {
   "cell_type": "code",
   "execution_count": 54,
   "id": "4f7898aa-fac8-4c2d-9c23-4bac451f97f8",
   "metadata": {
    "tags": []
   },
   "outputs": [
    {
     "name": "stdout",
     "output_type": "stream",
     "text": [
      "一周在线时长超过500分钟\n",
      "\t45日平均消费额为377.113元，45日总消费额为885839.060元\n",
      "\t7日平均消费额为110.492元，7日总消费额为259544.740元\n",
      "\t7日氪金占比21.216%，45日氪金占比21.591%\n",
      "一周在线时长超过600分钟\n",
      "\t45日平均消费额为437.753元，45日总消费额为515673.070元\n",
      "\t7日平均消费额为130.699元，7日总消费额为153963.300元\n",
      "\t7日氪金占比12.586%，45日氪金占比12.569%\n",
      "一周在线时长超过700分钟\n",
      "\t45日平均消费额为427.776元，45日总消费额为272921.300元\n",
      "\t7日平均消费额为120.904元，7日总消费额为77136.600元\n",
      "\t7日氪金占比6.305%，45日氪金占比6.652%\n",
      "一周在线时长超过800分钟\n",
      "\t45日平均消费额为359.040元，45日总消费额为113815.780元\n",
      "\t7日平均消费额为104.344元，7日总消费额为33076.950元\n",
      "\t7日氪金占比2.704%，45日氪金占比2.774%\n",
      "一周在线时长超过900分钟\n",
      "\t45日平均消费额为218.907元，45日总消费额为36557.400元\n",
      "\t7日平均消费额为43.819元，7日总消费额为7317.770元\n",
      "\t7日氪金占比0.598%，45日氪金占比0.891%\n",
      "一周在线时长超过1000分钟\n",
      "\t45日平均消费额为139.194元，45日总消费额为12109.910元\n",
      "\t7日平均消费额为40.055元，7日总消费额为3484.820元\n",
      "\t7日氪金占比0.285%，45日氪金占比0.295%\n",
      "一周在线时长超过1200分钟\n",
      "\t45日平均消费额为25.492元，45日总消费额为637.300元\n",
      "\t7日平均消费额为2.869元，7日总消费额为71.730元\n",
      "\t7日氪金占比0.006%，45日氪金占比0.016%\n"
     ]
    }
   ],
   "source": [
    "#在线时长超长的玩家们贡献的氪金数额\n",
    "for playtime in [500,600,700,800,900,1000,1200]:\n",
    "    \n",
    "    MeanPay45 = data.loc[data[\"在线时长\"]>=playtime,\"45日付费金额\"].mean()\n",
    "    TotalPay45 = data.loc[data[\"在线时长\"]>=playtime,\"45日付费金额\"].sum()\n",
    "    MeanPay7 = data.loc[data[\"在线时长\"]>=playtime,\"付费金额\"].mean()\n",
    "    TotalPay7 = data.loc[data[\"在线时长\"]>=playtime,\"付费金额\"].sum()\n",
    "    \n",
    "    print(\"一周在线时长超过{}分钟\".format(playtime))\n",
    "    print(\"\\t45日平均消费额为{:.3f}元，45日总消费额为{:.3f}元\".format(MeanPay45,TotalPay45))\n",
    "    print(\"\\t7日平均消费额为{:.3f}元，7日总消费额为{:.3f}元\".format(MeanPay7,TotalPay7))\n",
    "    print(\"\\t7日氪金占比{:.3f}%，45日氪金占比{:.3f}%\".format(100*TotalPay7/(data[\"付费金额\"].sum())\n",
    "                                                  ,100*TotalPay45/(data[\"45日付费金额\"].sum())))"
   ]
  },
  {
   "cell_type": "markdown",
   "id": "6b9e3a45-59ff-4347-a51a-829cc6d62f68",
   "metadata": {},
   "source": [
    "许多用户虽然深度参与游戏，但是“好肝不好氪”，所以过于肝的用户也不是高价值用户。\n",
    "\n",
    "我们可以规定，一周在线时长超出800分钟的用户为（氪金层面）低价值用户。\n",
    "\n",
    "同样的，氪金用户一般在资源上占绝对的主导，但是资源很多的用户不一定是氪金用户。"
   ]
  },
  {
   "cell_type": "code",
   "execution_count": 55,
   "id": "7eb2e967-f1db-443f-aaa5-e6e01a5cc4f1",
   "metadata": {
    "tags": []
   },
   "outputs": [
    {
     "data": {
      "text/plain": [
       "count        41439.000\n",
       "mean      10712783.554\n",
       "std       34752584.812\n",
       "min              0.000\n",
       "25%        2132829.500\n",
       "50%        5267091.000\n",
       "75%       10249321.000\n",
       "max     1239962311.000\n",
       "Name: 木头获取数量, dtype: float64"
      ]
     },
     "execution_count": 55,
     "metadata": {},
     "output_type": "execute_result"
    }
   ],
   "source": [
    "data.loc[data[\"付费金额\"] != 0,\"木头获取数量\"].describe() #资源量上氪金用户站绝对的主导"
   ]
  },
  {
   "cell_type": "code",
   "execution_count": 56,
   "id": "7d49904d-5fa7-422c-bbff-01cd4b7892ac",
   "metadata": {
    "tags": []
   },
   "outputs": [
    {
     "data": {
      "text/plain": [
       "count     2246568.000\n",
       "mean       265084.447\n",
       "std        887773.641\n",
       "min             0.000\n",
       "25%             0.000\n",
       "50%         40088.000\n",
       "75%        144657.000\n",
       "max     158249380.000\n",
       "Name: 木头获取数量, dtype: float64"
      ]
     },
     "execution_count": 56,
     "metadata": {},
     "output_type": "execute_result"
    }
   ],
   "source": [
    "data.loc[data[\"付费金额\"] == 0,\"木头获取数量\"].describe()"
   ]
  },
  {
   "cell_type": "code",
   "execution_count": 57,
   "id": "d14efa0e-8152-47ca-86fb-b720cac3d1b0",
   "metadata": {
    "tags": []
   },
   "outputs": [
    {
     "data": {
      "text/html": [
       "<div>\n",
       "<style scoped>\n",
       "    .dataframe tbody tr th:only-of-type {\n",
       "        vertical-align: middle;\n",
       "    }\n",
       "\n",
       "    .dataframe tbody tr th {\n",
       "        vertical-align: top;\n",
       "    }\n",
       "\n",
       "    .dataframe thead th {\n",
       "        text-align: right;\n",
       "    }\n",
       "</style>\n",
       "<table border=\"1\" class=\"dataframe\">\n",
       "  <thead>\n",
       "    <tr style=\"text-align: right;\">\n",
       "      <th>字段解释</th>\n",
       "      <th>玩家唯一ID</th>\n",
       "      <th>玩家注册时间</th>\n",
       "      <th>木头获取数量</th>\n",
       "      <th>木头消耗数量</th>\n",
       "      <th>石头获取数量</th>\n",
       "      <th>石头消耗数量</th>\n",
       "      <th>象牙获取数量</th>\n",
       "      <th>象牙消耗数量</th>\n",
       "      <th>肉获取数量</th>\n",
       "      <th>肉消耗数量</th>\n",
       "      <th>...</th>\n",
       "      <th>PVP次数</th>\n",
       "      <th>主动发起PVP次数</th>\n",
       "      <th>PVP胜利次数</th>\n",
       "      <th>PVE次数</th>\n",
       "      <th>主动发起PVE次数</th>\n",
       "      <th>PVE胜利次数</th>\n",
       "      <th>在线时长</th>\n",
       "      <th>付费金额</th>\n",
       "      <th>付费次数</th>\n",
       "      <th>45日付费金额</th>\n",
       "    </tr>\n",
       "  </thead>\n",
       "  <tbody>\n",
       "    <tr>\n",
       "      <th>2046401</th>\n",
       "      <td>2907550</td>\n",
       "      <td>2018-03-04 14:41:57</td>\n",
       "      <td>158249380.000</td>\n",
       "      <td>157202081.000</td>\n",
       "      <td>129870402.000</td>\n",
       "      <td>129357887.000</td>\n",
       "      <td>3000.000</td>\n",
       "      <td>0.000</td>\n",
       "      <td>69427801.000</td>\n",
       "      <td>68360181.000</td>\n",
       "      <td>...</td>\n",
       "      <td>282</td>\n",
       "      <td>0</td>\n",
       "      <td>0</td>\n",
       "      <td>2</td>\n",
       "      <td>1</td>\n",
       "      <td>1</td>\n",
       "      <td>125.000</td>\n",
       "      <td>0.000</td>\n",
       "      <td>0</td>\n",
       "      <td>0.000</td>\n",
       "    </tr>\n",
       "  </tbody>\n",
       "</table>\n",
       "<p>1 rows × 109 columns</p>\n",
       "</div>"
      ],
      "text/plain": [
       "字段解释      玩家唯一ID               玩家注册时间        木头获取数量        木头消耗数量  \\\n",
       "2046401  2907550  2018-03-04 14:41:57 158249380.000 157202081.000   \n",
       "\n",
       "字段解释           石头获取数量        石头消耗数量   象牙获取数量  象牙消耗数量        肉获取数量  \\\n",
       "2046401 129870402.000 129357887.000 3000.000   0.000 69427801.000   \n",
       "\n",
       "字段解释           肉消耗数量  ...  PVP次数  主动发起PVP次数  PVP胜利次数  PVE次数  主动发起PVE次数  \\\n",
       "2046401 68360181.000  ...    282          0        0      2          1   \n",
       "\n",
       "字段解释     PVE胜利次数    在线时长  付费金额  付费次数  45日付费金额  \n",
       "2046401        1 125.000 0.000     0    0.000  \n",
       "\n",
       "[1 rows x 109 columns]"
      ]
     },
     "execution_count": 57,
     "metadata": {},
     "output_type": "execute_result"
    }
   ],
   "source": [
    "data[data[\"木头获取数量\"] == 158249380] \n",
    "# 资源量大，游戏时间低\n",
    "# 异常用户/非常牛的用户"
   ]
  },
  {
   "cell_type": "markdown",
   "id": "87551628-f346-4344-82c2-f8f85aaef6fa",
   "metadata": {},
   "source": [
    "不难发现，拥有众多资源、但在7日内却没有付费过的用户，是（氪金层面上）的低价值用户。"
   ]
  },
  {
   "cell_type": "markdown",
   "id": "30f4cac8-b3fe-49f8-baaf-59af69e00ccc",
   "metadata": {
    "tags": []
   },
   "source": [
    "### 3.2 分布与偏度：游戏是否对新手不友好？资源获取难度设置合理吗？\n",
    "\n",
    "在进行简单数据探索时，我们使用.describe()探索过特征的分布情况，并且发现大量的特征都是严重左偏的（即大部分值集中在左侧，分布上的高峰偏左严重）。"
   ]
  },
  {
   "cell_type": "code",
   "execution_count": 58,
   "id": "8b7652b9-a646-4898-a536-8a67727c60c8",
   "metadata": {
    "tags": []
   },
   "outputs": [
    {
     "data": {
      "text/html": [
       "<div>\n",
       "<style scoped>\n",
       "    .dataframe tbody tr th:only-of-type {\n",
       "        vertical-align: middle;\n",
       "    }\n",
       "\n",
       "    .dataframe tbody tr th {\n",
       "        vertical-align: top;\n",
       "    }\n",
       "\n",
       "    .dataframe thead th {\n",
       "        text-align: right;\n",
       "    }\n",
       "</style>\n",
       "<table border=\"1\" class=\"dataframe\">\n",
       "  <thead>\n",
       "    <tr style=\"text-align: right;\">\n",
       "      <th></th>\n",
       "      <th>count</th>\n",
       "      <th>mean</th>\n",
       "      <th>std</th>\n",
       "      <th>min</th>\n",
       "      <th>25%</th>\n",
       "      <th>50%</th>\n",
       "      <th>75%</th>\n",
       "      <th>max</th>\n",
       "    </tr>\n",
       "    <tr>\n",
       "      <th>字段解释</th>\n",
       "      <th></th>\n",
       "      <th></th>\n",
       "      <th></th>\n",
       "      <th></th>\n",
       "      <th></th>\n",
       "      <th></th>\n",
       "      <th></th>\n",
       "      <th></th>\n",
       "    </tr>\n",
       "  </thead>\n",
       "  <tbody>\n",
       "    <tr>\n",
       "      <th>玩家唯一ID</th>\n",
       "      <td>2288007.000</td>\n",
       "      <td>1529543.498</td>\n",
       "      <td>939939.279</td>\n",
       "      <td>1.000</td>\n",
       "      <td>749992.500</td>\n",
       "      <td>1419095.000</td>\n",
       "      <td>2299006.500</td>\n",
       "      <td>3190530.000</td>\n",
       "    </tr>\n",
       "    <tr>\n",
       "      <th>木头获取数量</th>\n",
       "      <td>2288007.000</td>\n",
       "      <td>454306.859</td>\n",
       "      <td>4958667.146</td>\n",
       "      <td>0.000</td>\n",
       "      <td>0.000</td>\n",
       "      <td>42038.000</td>\n",
       "      <td>153118.000</td>\n",
       "      <td>1239962311.000</td>\n",
       "    </tr>\n",
       "    <tr>\n",
       "      <th>木头消耗数量</th>\n",
       "      <td>2288007.000</td>\n",
       "      <td>369843.252</td>\n",
       "      <td>3737720.038</td>\n",
       "      <td>0.000</td>\n",
       "      <td>0.000</td>\n",
       "      <td>9830.000</td>\n",
       "      <td>98557.000</td>\n",
       "      <td>799587506.000</td>\n",
       "    </tr>\n",
       "    <tr>\n",
       "      <th>石头获取数量</th>\n",
       "      <td>2288007.000</td>\n",
       "      <td>189778.774</td>\n",
       "      <td>4670619.517</td>\n",
       "      <td>0.000</td>\n",
       "      <td>0.000</td>\n",
       "      <td>0.000</td>\n",
       "      <td>0.000</td>\n",
       "      <td>1214869437.000</td>\n",
       "    </tr>\n",
       "    <tr>\n",
       "      <th>石头消耗数量</th>\n",
       "      <td>2288007.000</td>\n",
       "      <td>137607.363</td>\n",
       "      <td>3370166.356</td>\n",
       "      <td>0.000</td>\n",
       "      <td>0.000</td>\n",
       "      <td>0.000</td>\n",
       "      <td>0.000</td>\n",
       "      <td>796237770.000</td>\n",
       "    </tr>\n",
       "    <tr>\n",
       "      <th>...</th>\n",
       "      <td>...</td>\n",
       "      <td>...</td>\n",
       "      <td>...</td>\n",
       "      <td>...</td>\n",
       "      <td>...</td>\n",
       "      <td>...</td>\n",
       "      <td>...</td>\n",
       "      <td>...</td>\n",
       "    </tr>\n",
       "    <tr>\n",
       "      <th>PVE胜利次数</th>\n",
       "      <td>2288007.000</td>\n",
       "      <td>2.557</td>\n",
       "      <td>11.847</td>\n",
       "      <td>0.000</td>\n",
       "      <td>0.000</td>\n",
       "      <td>0.000</td>\n",
       "      <td>1.000</td>\n",
       "      <td>488.000</td>\n",
       "    </tr>\n",
       "    <tr>\n",
       "      <th>在线时长</th>\n",
       "      <td>2288007.000</td>\n",
       "      <td>10.207</td>\n",
       "      <td>38.959</td>\n",
       "      <td>0.000</td>\n",
       "      <td>0.500</td>\n",
       "      <td>1.833</td>\n",
       "      <td>4.833</td>\n",
       "      <td>2049.667</td>\n",
       "    </tr>\n",
       "    <tr>\n",
       "      <th>付费金额</th>\n",
       "      <td>2288007.000</td>\n",
       "      <td>0.535</td>\n",
       "      <td>22.638</td>\n",
       "      <td>0.000</td>\n",
       "      <td>0.000</td>\n",
       "      <td>0.000</td>\n",
       "      <td>0.000</td>\n",
       "      <td>7457.950</td>\n",
       "    </tr>\n",
       "    <tr>\n",
       "      <th>付费次数</th>\n",
       "      <td>2288007.000</td>\n",
       "      <td>0.058</td>\n",
       "      <td>0.709</td>\n",
       "      <td>0.000</td>\n",
       "      <td>0.000</td>\n",
       "      <td>0.000</td>\n",
       "      <td>0.000</td>\n",
       "      <td>105.000</td>\n",
       "    </tr>\n",
       "    <tr>\n",
       "      <th>45日付费金额</th>\n",
       "      <td>2288007.000</td>\n",
       "      <td>1.793</td>\n",
       "      <td>88.463</td>\n",
       "      <td>0.000</td>\n",
       "      <td>0.000</td>\n",
       "      <td>0.000</td>\n",
       "      <td>0.000</td>\n",
       "      <td>32977.810</td>\n",
       "    </tr>\n",
       "  </tbody>\n",
       "</table>\n",
       "<p>108 rows × 8 columns</p>\n",
       "</div>"
      ],
      "text/plain": [
       "              count        mean         std   min        25%         50%  \\\n",
       "字段解释                                                                       \n",
       "玩家唯一ID  2288007.000 1529543.498  939939.279 1.000 749992.500 1419095.000   \n",
       "木头获取数量  2288007.000  454306.859 4958667.146 0.000      0.000   42038.000   \n",
       "木头消耗数量  2288007.000  369843.252 3737720.038 0.000      0.000    9830.000   \n",
       "石头获取数量  2288007.000  189778.774 4670619.517 0.000      0.000       0.000   \n",
       "石头消耗数量  2288007.000  137607.363 3370166.356 0.000      0.000       0.000   \n",
       "...             ...         ...         ...   ...        ...         ...   \n",
       "PVE胜利次数 2288007.000       2.557      11.847 0.000      0.000       0.000   \n",
       "在线时长    2288007.000      10.207      38.959 0.000      0.500       1.833   \n",
       "付费金额    2288007.000       0.535      22.638 0.000      0.000       0.000   \n",
       "付费次数    2288007.000       0.058       0.709 0.000      0.000       0.000   \n",
       "45日付费金额 2288007.000       1.793      88.463 0.000      0.000       0.000   \n",
       "\n",
       "                75%            max  \n",
       "字段解释                                \n",
       "玩家唯一ID  2299006.500    3190530.000  \n",
       "木头获取数量   153118.000 1239962311.000  \n",
       "木头消耗数量    98557.000  799587506.000  \n",
       "石头获取数量        0.000 1214869437.000  \n",
       "石头消耗数量        0.000  796237770.000  \n",
       "...             ...            ...  \n",
       "PVE胜利次数       1.000        488.000  \n",
       "在线时长          4.833       2049.667  \n",
       "付费金额          0.000       7457.950  \n",
       "付费次数          0.000        105.000  \n",
       "45日付费金额       0.000      32977.810  \n",
       "\n",
       "[108 rows x 8 columns]"
      ]
     },
     "execution_count": 58,
     "metadata": {},
     "output_type": "execute_result"
    }
   ],
   "source": [
    "#pd.set_option(\"display.max_rows\",120) #避免显示问题，设置一下最大行数\n",
    "data.describe().T"
   ]
  },
  {
   "cell_type": "markdown",
   "id": "b07dd9df-f552-4726-b9c9-18d5d4b0c424",
   "metadata": {},
   "source": [
    "**数据左偏说明游戏中拥有大量资源人较少，因为相比起中线，大部分人在资源/等级上都值离原点更近。**\n",
    "\n",
    "**如果所有的用户都留存到7日之后，资源数据分布应该是接近正态分布**，现在我们已经知道用户在前7天是严重流失的，资源分布会左偏也合理，但为何用户会流失如此严重呢？可能从流量端开始就有问题（比如投放到了不太合适的流量渠道）、投放的广告可能有问题（比如让用户误以为是其他类型游戏），也可能是游戏美工不足、吸引力较低等方面（在75%的用户看一眼就被劝退的前提下，有理由相信游戏美工和流畅度有较大问题）。\n",
    "\n",
    "\n",
    "除了上述理由，用户大量流失还可能是游戏对新手不太友好或者游戏平衡性严重受氪金影响导致的。如果游戏中资源获取很困难，比如大部分资源都需要较长的时间或氪金来进行积累（这可能是刺激氪金的策略：新手阶段不友好，游戏上手难度大），大部分玩家在10~15分钟内无法获得足够的刺激与获得感，那用户在半小时内流失的可能性就很高。我们可以尝试着观察几个资源层次的平均游戏时间，以此来判断游戏中的资源是否难以获得："
   ]
  },
  {
   "cell_type": "code",
   "execution_count": 59,
   "id": "5ae3d3a3-6ead-486f-92c8-2ad2ac75ba18",
   "metadata": {
    "tags": []
   },
   "outputs": [
    {
     "data": {
      "text/plain": [
       "count      2288007.000\n",
       "mean        454306.859\n",
       "std        4958667.146\n",
       "min              0.000\n",
       "25%              0.000\n",
       "50%          42038.000\n",
       "75%         153118.000\n",
       "max     1239962311.000\n",
       "Name: 木头获取数量, dtype: float64"
      ]
     },
     "execution_count": 59,
     "metadata": {},
     "output_type": "execute_result"
    }
   ],
   "source": [
    "data[\"木头获取数量\"].describe()"
   ]
  },
  {
   "cell_type": "code",
   "execution_count": 60,
   "id": "b8245daf-bac9-4040-9e49-259442f0fc96",
   "metadata": {
    "tags": []
   },
   "outputs": [
    {
     "data": {
      "text/plain": [
       "1423324   697.333\n",
       "Name: 在线时长, dtype: float64"
      ]
     },
     "execution_count": 60,
     "metadata": {},
     "output_type": "execute_result"
    }
   ],
   "source": [
    "data.loc[data[\"木头获取数量\"] > 1239962310,\"在线时长\"] #在线时长约10个小时，即每天玩1个多小时，一周即可获得木头资源过亿"
   ]
  },
  {
   "cell_type": "code",
   "execution_count": 61,
   "id": "e5d0fef3-21a1-4a81-9570-f7ce458cd81e",
   "metadata": {
    "tags": []
   },
   "outputs": [
    {
     "data": {
      "text/plain": [
       "3.75"
      ]
     },
     "execution_count": 61,
     "metadata": {},
     "output_type": "execute_result"
    }
   ],
   "source": [
    "data.loc[data[\"木头获取数量\"] == 153118,\"在线时长\"].mean() #平均在线约3.75分钟即可获得15w木头"
   ]
  },
  {
   "cell_type": "code",
   "execution_count": 62,
   "id": "66a0294b-135b-4371-975f-50c4708b21bd",
   "metadata": {
    "tags": []
   },
   "outputs": [
    {
     "data": {
      "text/plain": [
       "1.2527109844413011"
      ]
     },
     "execution_count": 62,
     "metadata": {},
     "output_type": "execute_result"
    }
   ],
   "source": [
    "data.loc[data[\"木头获取数量\"] == 42038,\"在线时长\"].mean() #平均在线1分钟即可获得4w2木头"
   ]
  },
  {
   "cell_type": "markdown",
   "id": "ab908790-531f-4e91-9352-58b7c5b2b2c3",
   "metadata": {},
   "source": [
    "从结果来看，至少木头资源一点也不难获得，反而来得太容易了。在手游界，可以轻松拥有百万资源、上亿资源的游戏一般都不太高级。\n",
    "\n",
    "那是否其他资源非常难以获得呢？在现有数据下，我们可以通过**分析资源存量**来分析游戏中**资源获取难度**分类的合理性。\n",
    "\n",
    "资源的分布本身就可以帮助进行分析。由于数据量的缘故，我们无法对所有的特征都绘制分布图，但我们可以计算所有特征的偏度与峰度。\n",
    "1. 偏度的中间值为0，正偏度则说明分布左偏，负偏度则说明分布右偏\n",
    "2. 偏度值越大**，则说明分布偏移得越厉害。例如，偏度远远大于0时，说明大部分数据都集中在原点附近。\n",
    "3. 正态分布的峰度为3（和巨大峰度相比约等于0），大于3的峰度说明山峰陡峭，小于3的峰度说明山峰平缓\n",
    "4. 峰度值越大，则说明数据的分布越不均匀、越集中于某些值。"
   ]
  },
  {
   "cell_type": "markdown",
   "id": "9c8e2b13-622e-4e01-a46b-5a37c00a2856",
   "metadata": {},
   "source": [
    "![](https://skojiangdoc.oss-cn-beijing.aliyuncs.com/micro_class/sklearncase/%E5%B3%B0%E5%BA%A6%E4%B8%8E%E5%81%8F%E5%BA%A6.%20PNG.PNG)"
   ]
  },
  {
   "cell_type": "markdown",
   "id": "78fbede0-ffca-43d3-b0b5-56210d778f42",
   "metadata": {},
   "source": [
    "对游戏数据而言，偏度与峰度衡量的内容是类似的：\n",
    "- 偏度说明分布对称的情况\n",
    "- 峰度说明分布集中在少数点的情况\n",
    "- 巨大的正偏态和巨大的峰度都指向“大部分玩家只能收集到很少资源/或无资源”的状态。\n",
    "\n",
    "在游戏领域可以只选择峰度和偏度中的一个来考虑\n",
    "\n",
    "\n",
    "结合单一资源的均值，我们可以进一步判断资源获取的真实情况。在这里，我们只衡量资源/技能等级，不衡量PVP次数等涉及到对战的因素。"
   ]
  },
  {
   "cell_type": "code",
   "execution_count": 63,
   "id": "fb1e72e1-61d3-4b46-88d0-cfc89ad775fd",
   "metadata": {
    "tags": []
   },
   "outputs": [
    {
     "data": {
      "text/plain": [
       "Index(['玩家唯一ID', '玩家注册时间', '木头获取数量', '木头消耗数量', '石头获取数量', '石头消耗数量', '象牙获取数量',\n",
       "       '象牙消耗数量', '肉获取数量', '肉消耗数量',\n",
       "       ...\n",
       "       'PVP次数', '主动发起PVP次数', 'PVP胜利次数', 'PVE次数', '主动发起PVE次数', 'PVE胜利次数',\n",
       "       '在线时长', '付费金额', '付费次数', '45日付费金额'],\n",
       "      dtype='object', name='字段解释', length=109)"
      ]
     },
     "execution_count": 63,
     "metadata": {},
     "output_type": "execute_result"
    }
   ],
   "source": [
    "data.columns"
   ]
  },
  {
   "cell_type": "code",
   "execution_count": 64,
   "id": "d77f9ba9-f750-4759-9493-7b9752fa7128",
   "metadata": {
    "tags": []
   },
   "outputs": [],
   "source": [
    "resource = data.iloc[:,2:-10]"
   ]
  },
  {
   "cell_type": "code",
   "execution_count": 65,
   "id": "5b82dba8-4ace-428e-b4a9-3d61fbb4cda4",
   "metadata": {
    "tags": []
   },
   "outputs": [
    {
     "data": {
      "text/plain": [
       "Index(['木头获取数量', '木头消耗数量', '石头获取数量', '石头消耗数量', '象牙获取数量', '象牙消耗数量', '肉获取数量',\n",
       "       '肉消耗数量', '魔法获取数量', '魔法消耗数量', '勇士招募数量', '勇士损失数量', '驯兽师招募数量', '驯兽师损失数量',\n",
       "       '萨满招募数量', '萨满损失数量', '勇士伤兵产生数量', '勇士伤兵恢复数量', '驯兽师伤兵产生数量', '驯兽师伤兵恢复数量',\n",
       "       '萨满伤兵产生数量', '萨满伤兵恢复数量', '通用加速获取数量', '通用加速使用数量', '建筑加速获取数量', '建筑加速使用数量',\n",
       "       '科研加速获取数量', '科研加速使用数量', '训练加速获取数量', '训练加速使用数量', '治疗加速获取数量', '治疗加速使用数量',\n",
       "       '建筑：士兵小屋等级', '建筑：治疗小井等级', '建筑：要塞等级', '建筑：据点传送门等级', '建筑：兵营等级',\n",
       "       '建筑：治疗之泉等级', '建筑：智慧神庙等级', '建筑：联盟大厅等级', '建筑：仓库等级', '建筑：瞭望塔等级',\n",
       "       '建筑：魔法幸运树等级', '建筑：战争大厅等级', '建筑：联盟货车等级', '建筑：占卜台等级', '建筑：祭坛等级',\n",
       "       '建筑：冒险传送门等级', '科研：侦查等级', '科研：训练速度等级', '科研：守护者', '科研：巨兽驯兽师', '科研：吟唱者',\n",
       "       '科研：勇士攻击', '科研：驯兽师攻击', '科研：萨满攻击', '科研：战斗大师', '科研：高阶巨兽骑兵', '科研：图腾大师',\n",
       "       '科研：部队防御', '科研：勇士防御', '科研：驯兽师防御', '科研：萨满防御', '科研：勇士生命', '科研：驯兽师生命',\n",
       "       '科研：萨满生命', '科研：狂战士', '科研：龙骑兵', '科研：神谕者', '科研：部队攻击', '科研：建造速度',\n",
       "       '科研：资源保护', '科研：部队消耗', '科研：木材生产', '科研：石头生产', '科研：象牙生产', '科研：肉类生产',\n",
       "       '科研：木材采集', '科研：石头采集', '科研：象牙采集', '科研：肉类采集', '科研：部队负重', '科研：魔法采集',\n",
       "       '科研：魔法生产', '科研：据点耐久', '科研：据点二', '科研：医院容量', '科研：领土采集奖励', '科研：治疗速度',\n",
       "       '科研：据点三', '科研：联盟行军速度', '科研：战斗行军速度', '科研：采集行军速度', '科研：据点四', '科研：增援部队容量',\n",
       "       '科研：行军大小', '科研：资源帮助容量'],\n",
       "      dtype='object', name='字段解释')"
      ]
     },
     "execution_count": 65,
     "metadata": {},
     "output_type": "execute_result"
    }
   ],
   "source": [
    "resource.columns"
   ]
  },
  {
   "cell_type": "code",
   "execution_count": 66,
   "id": "9cf6ebbf-d613-4328-afd5-6e9fa48d4b19",
   "metadata": {
    "tags": []
   },
   "outputs": [],
   "source": [
    "sak = pd.DataFrame()\n",
    "for idx,ColName in enumerate(resource.columns):\n",
    "    sak.loc[idx,\"特征\"] = ColName\n",
    "    column = data.loc[:,ColName]\n",
    "    sak.loc[idx,\"偏度\"] = column.skew() #偏度\n",
    "    sak.loc[idx,\"峰度\"] = column.kurt() #峰度\n",
    "    sak.loc[idx,\"均值\"] = column.mean() #均值"
   ]
  },
  {
   "cell_type": "code",
   "execution_count": 67,
   "id": "a1929d35-786c-4408-8c04-7212d76c2d40",
   "metadata": {
    "tags": []
   },
   "outputs": [
    {
     "data": {
      "text/html": [
       "<div>\n",
       "<style scoped>\n",
       "    .dataframe tbody tr th:only-of-type {\n",
       "        vertical-align: middle;\n",
       "    }\n",
       "\n",
       "    .dataframe tbody tr th {\n",
       "        vertical-align: top;\n",
       "    }\n",
       "\n",
       "    .dataframe thead th {\n",
       "        text-align: right;\n",
       "    }\n",
       "</style>\n",
       "<table border=\"1\" class=\"dataframe\">\n",
       "  <thead>\n",
       "    <tr style=\"text-align: right;\">\n",
       "      <th></th>\n",
       "      <th>特征</th>\n",
       "      <th>偏度</th>\n",
       "      <th>峰度</th>\n",
       "      <th>均值</th>\n",
       "    </tr>\n",
       "  </thead>\n",
       "  <tbody>\n",
       "    <tr>\n",
       "      <th>0</th>\n",
       "      <td>木头获取数量</td>\n",
       "      <td>100.635</td>\n",
       "      <td>15449.582</td>\n",
       "      <td>454306.859</td>\n",
       "    </tr>\n",
       "    <tr>\n",
       "      <th>1</th>\n",
       "      <td>木头消耗数量</td>\n",
       "      <td>86.310</td>\n",
       "      <td>11367.448</td>\n",
       "      <td>369843.252</td>\n",
       "    </tr>\n",
       "    <tr>\n",
       "      <th>2</th>\n",
       "      <td>石头获取数量</td>\n",
       "      <td>113.794</td>\n",
       "      <td>18489.107</td>\n",
       "      <td>189778.774</td>\n",
       "    </tr>\n",
       "    <tr>\n",
       "      <th>3</th>\n",
       "      <td>石头消耗数量</td>\n",
       "      <td>105.043</td>\n",
       "      <td>15515.988</td>\n",
       "      <td>137607.363</td>\n",
       "    </tr>\n",
       "    <tr>\n",
       "      <th>4</th>\n",
       "      <td>象牙获取数量</td>\n",
       "      <td>112.636</td>\n",
       "      <td>17682.030</td>\n",
       "      <td>80756.230</td>\n",
       "    </tr>\n",
       "  </tbody>\n",
       "</table>\n",
       "</div>"
      ],
      "text/plain": [
       "       特征      偏度        峰度         均值\n",
       "0  木头获取数量 100.635 15449.582 454306.859\n",
       "1  木头消耗数量  86.310 11367.448 369843.252\n",
       "2  石头获取数量 113.794 18489.107 189778.774\n",
       "3  石头消耗数量 105.043 15515.988 137607.363\n",
       "4  象牙获取数量 112.636 17682.030  80756.230"
      ]
     },
     "execution_count": 67,
     "metadata": {},
     "output_type": "execute_result"
    }
   ],
   "source": [
    "sak.head()"
   ]
  },
  {
   "cell_type": "code",
   "execution_count": 68,
   "id": "119b8a91-be47-48a9-8b4d-27882aa6bc76",
   "metadata": {
    "tags": []
   },
   "outputs": [
    {
     "data": {
      "text/html": [
       "<div>\n",
       "<style scoped>\n",
       "    .dataframe tbody tr th:only-of-type {\n",
       "        vertical-align: middle;\n",
       "    }\n",
       "\n",
       "    .dataframe tbody tr th {\n",
       "        vertical-align: top;\n",
       "    }\n",
       "\n",
       "    .dataframe thead th {\n",
       "        text-align: right;\n",
       "    }\n",
       "</style>\n",
       "<table border=\"1\" class=\"dataframe\">\n",
       "  <thead>\n",
       "    <tr style=\"text-align: right;\">\n",
       "      <th></th>\n",
       "      <th>特征</th>\n",
       "      <th>偏度</th>\n",
       "      <th>峰度</th>\n",
       "      <th>均值</th>\n",
       "    </tr>\n",
       "  </thead>\n",
       "  <tbody>\n",
       "    <tr>\n",
       "      <th>34</th>\n",
       "      <td>建筑：要塞等级</td>\n",
       "      <td>1.229</td>\n",
       "      <td>0.970</td>\n",
       "      <td>2.098</td>\n",
       "    </tr>\n",
       "    <tr>\n",
       "      <th>35</th>\n",
       "      <td>建筑：据点传送门等级</td>\n",
       "      <td>1.383</td>\n",
       "      <td>1.477</td>\n",
       "      <td>1.764</td>\n",
       "    </tr>\n",
       "    <tr>\n",
       "      <th>32</th>\n",
       "      <td>建筑：士兵小屋等级</td>\n",
       "      <td>1.878</td>\n",
       "      <td>3.314</td>\n",
       "      <td>1.306</td>\n",
       "    </tr>\n",
       "    <tr>\n",
       "      <th>42</th>\n",
       "      <td>建筑：魔法幸运树等级</td>\n",
       "      <td>2.050</td>\n",
       "      <td>3.388</td>\n",
       "      <td>1.146</td>\n",
       "    </tr>\n",
       "    <tr>\n",
       "      <th>36</th>\n",
       "      <td>建筑：兵营等级</td>\n",
       "      <td>2.114</td>\n",
       "      <td>4.327</td>\n",
       "      <td>1.284</td>\n",
       "    </tr>\n",
       "    <tr>\n",
       "      <th>33</th>\n",
       "      <td>建筑：治疗小井等级</td>\n",
       "      <td>2.183</td>\n",
       "      <td>4.567</td>\n",
       "      <td>1.027</td>\n",
       "    </tr>\n",
       "    <tr>\n",
       "      <th>41</th>\n",
       "      <td>建筑：瞭望塔等级</td>\n",
       "      <td>2.409</td>\n",
       "      <td>5.619</td>\n",
       "      <td>0.913</td>\n",
       "    </tr>\n",
       "    <tr>\n",
       "      <th>37</th>\n",
       "      <td>建筑：治疗之泉等级</td>\n",
       "      <td>2.429</td>\n",
       "      <td>5.627</td>\n",
       "      <td>0.924</td>\n",
       "    </tr>\n",
       "    <tr>\n",
       "      <th>40</th>\n",
       "      <td>建筑：仓库等级</td>\n",
       "      <td>2.472</td>\n",
       "      <td>5.525</td>\n",
       "      <td>0.934</td>\n",
       "    </tr>\n",
       "    <tr>\n",
       "      <th>38</th>\n",
       "      <td>建筑：智慧神庙等级</td>\n",
       "      <td>2.495</td>\n",
       "      <td>5.893</td>\n",
       "      <td>0.969</td>\n",
       "    </tr>\n",
       "    <tr>\n",
       "      <th>44</th>\n",
       "      <td>建筑：联盟货车等级</td>\n",
       "      <td>2.727</td>\n",
       "      <td>7.144</td>\n",
       "      <td>0.772</td>\n",
       "    </tr>\n",
       "    <tr>\n",
       "      <th>48</th>\n",
       "      <td>科研：侦查等级</td>\n",
       "      <td>2.923</td>\n",
       "      <td>10.701</td>\n",
       "      <td>0.331</td>\n",
       "    </tr>\n",
       "    <tr>\n",
       "      <th>49</th>\n",
       "      <td>科研：训练速度等级</td>\n",
       "      <td>3.815</td>\n",
       "      <td>14.593</td>\n",
       "      <td>0.299</td>\n",
       "    </tr>\n",
       "    <tr>\n",
       "      <th>39</th>\n",
       "      <td>建筑：联盟大厅等级</td>\n",
       "      <td>4.015</td>\n",
       "      <td>15.755</td>\n",
       "      <td>0.441</td>\n",
       "    </tr>\n",
       "    <tr>\n",
       "      <th>85</th>\n",
       "      <td>科研：据点二</td>\n",
       "      <td>4.426</td>\n",
       "      <td>17.592</td>\n",
       "      <td>0.044</td>\n",
       "    </tr>\n",
       "    <tr>\n",
       "      <th>47</th>\n",
       "      <td>建筑：冒险传送门等级</td>\n",
       "      <td>5.017</td>\n",
       "      <td>26.012</td>\n",
       "      <td>0.292</td>\n",
       "    </tr>\n",
       "    <tr>\n",
       "      <th>45</th>\n",
       "      <td>建筑：占卜台等级</td>\n",
       "      <td>5.722</td>\n",
       "      <td>35.427</td>\n",
       "      <td>0.201</td>\n",
       "    </tr>\n",
       "    <tr>\n",
       "      <th>84</th>\n",
       "      <td>科研：据点耐久</td>\n",
       "      <td>5.959</td>\n",
       "      <td>43.095</td>\n",
       "      <td>0.110</td>\n",
       "    </tr>\n",
       "    <tr>\n",
       "      <th>46</th>\n",
       "      <td>建筑：祭坛等级</td>\n",
       "      <td>6.024</td>\n",
       "      <td>40.077</td>\n",
       "      <td>0.180</td>\n",
       "    </tr>\n",
       "    <tr>\n",
       "      <th>50</th>\n",
       "      <td>科研：守护者</td>\n",
       "      <td>6.236</td>\n",
       "      <td>36.893</td>\n",
       "      <td>0.024</td>\n",
       "    </tr>\n",
       "    <tr>\n",
       "      <th>51</th>\n",
       "      <td>科研：巨兽驯兽师</td>\n",
       "      <td>6.372</td>\n",
       "      <td>38.602</td>\n",
       "      <td>0.023</td>\n",
       "    </tr>\n",
       "    <tr>\n",
       "      <th>43</th>\n",
       "      <td>建筑：战争大厅等级</td>\n",
       "      <td>6.427</td>\n",
       "      <td>64.375</td>\n",
       "      <td>0.102</td>\n",
       "    </tr>\n",
       "    <tr>\n",
       "      <th>70</th>\n",
       "      <td>科研：建造速度</td>\n",
       "      <td>6.780</td>\n",
       "      <td>53.866</td>\n",
       "      <td>0.122</td>\n",
       "    </tr>\n",
       "    <tr>\n",
       "      <th>52</th>\n",
       "      <td>科研：吟唱者</td>\n",
       "      <td>6.914</td>\n",
       "      <td>45.804</td>\n",
       "      <td>0.020</td>\n",
       "    </tr>\n",
       "    <tr>\n",
       "      <th>87</th>\n",
       "      <td>科研：领土采集奖励</td>\n",
       "      <td>9.219</td>\n",
       "      <td>101.032</td>\n",
       "      <td>0.034</td>\n",
       "    </tr>\n",
       "    <tr>\n",
       "      <th>86</th>\n",
       "      <td>科研：医院容量</td>\n",
       "      <td>10.935</td>\n",
       "      <td>153.092</td>\n",
       "      <td>0.029</td>\n",
       "    </tr>\n",
       "    <tr>\n",
       "      <th>76</th>\n",
       "      <td>科研：肉类生产</td>\n",
       "      <td>11.180</td>\n",
       "      <td>163.219</td>\n",
       "      <td>0.042</td>\n",
       "    </tr>\n",
       "    <tr>\n",
       "      <th>71</th>\n",
       "      <td>科研：资源保护</td>\n",
       "      <td>11.338</td>\n",
       "      <td>173.489</td>\n",
       "      <td>0.035</td>\n",
       "    </tr>\n",
       "    <tr>\n",
       "      <th>73</th>\n",
       "      <td>科研：木材生产</td>\n",
       "      <td>11.439</td>\n",
       "      <td>162.607</td>\n",
       "      <td>0.035</td>\n",
       "    </tr>\n",
       "    <tr>\n",
       "      <th>88</th>\n",
       "      <td>科研：治疗速度</td>\n",
       "      <td>11.462</td>\n",
       "      <td>157.764</td>\n",
       "      <td>0.022</td>\n",
       "    </tr>\n",
       "    <tr>\n",
       "      <th>72</th>\n",
       "      <td>科研：部队消耗</td>\n",
       "      <td>12.375</td>\n",
       "      <td>204.846</td>\n",
       "      <td>0.033</td>\n",
       "    </tr>\n",
       "    <tr>\n",
       "      <th>81</th>\n",
       "      <td>科研：部队负重</td>\n",
       "      <td>13.202</td>\n",
       "      <td>198.280</td>\n",
       "      <td>0.029</td>\n",
       "    </tr>\n",
       "    <tr>\n",
       "      <th>77</th>\n",
       "      <td>科研：木材采集</td>\n",
       "      <td>15.330</td>\n",
       "      <td>295.240</td>\n",
       "      <td>0.022</td>\n",
       "    </tr>\n",
       "    <tr>\n",
       "      <th>53</th>\n",
       "      <td>科研：勇士攻击</td>\n",
       "      <td>15.486</td>\n",
       "      <td>312.204</td>\n",
       "      <td>0.024</td>\n",
       "    </tr>\n",
       "    <tr>\n",
       "      <th>80</th>\n",
       "      <td>科研：肉类采集</td>\n",
       "      <td>15.750</td>\n",
       "      <td>330.005</td>\n",
       "      <td>0.018</td>\n",
       "    </tr>\n",
       "    <tr>\n",
       "      <th>54</th>\n",
       "      <td>科研：驯兽师攻击</td>\n",
       "      <td>16.032</td>\n",
       "      <td>333.790</td>\n",
       "      <td>0.022</td>\n",
       "    </tr>\n",
       "    <tr>\n",
       "      <th>55</th>\n",
       "      <td>科研：萨满攻击</td>\n",
       "      <td>17.736</td>\n",
       "      <td>407.577</td>\n",
       "      <td>0.019</td>\n",
       "    </tr>\n",
       "    <tr>\n",
       "      <th>83</th>\n",
       "      <td>科研：魔法生产</td>\n",
       "      <td>23.047</td>\n",
       "      <td>645.105</td>\n",
       "      <td>0.008</td>\n",
       "    </tr>\n",
       "    <tr>\n",
       "      <th>30</th>\n",
       "      <td>治疗加速获取数量</td>\n",
       "      <td>26.467</td>\n",
       "      <td>3883.361</td>\n",
       "      <td>10.416</td>\n",
       "    </tr>\n",
       "    <tr>\n",
       "      <th>89</th>\n",
       "      <td>科研：据点三</td>\n",
       "      <td>33.686</td>\n",
       "      <td>1132.749</td>\n",
       "      <td>0.001</td>\n",
       "    </tr>\n",
       "    <tr>\n",
       "      <th>13</th>\n",
       "      <td>驯兽师损失数量</td>\n",
       "      <td>37.613</td>\n",
       "      <td>4799.376</td>\n",
       "      <td>178.006</td>\n",
       "    </tr>\n",
       "    <tr>\n",
       "      <th>74</th>\n",
       "      <td>科研：石头生产</td>\n",
       "      <td>38.649</td>\n",
       "      <td>1881.487</td>\n",
       "      <td>0.003</td>\n",
       "    </tr>\n",
       "    <tr>\n",
       "      <th>82</th>\n",
       "      <td>科研：魔法采集</td>\n",
       "      <td>48.295</td>\n",
       "      <td>3245.438</td>\n",
       "      <td>0.002</td>\n",
       "    </tr>\n",
       "    <tr>\n",
       "      <th>78</th>\n",
       "      <td>科研：石头采集</td>\n",
       "      <td>49.888</td>\n",
       "      <td>3234.002</td>\n",
       "      <td>0.002</td>\n",
       "    </tr>\n",
       "    <tr>\n",
       "      <th>12</th>\n",
       "      <td>驯兽师招募数量</td>\n",
       "      <td>52.394</td>\n",
       "      <td>6653.517</td>\n",
       "      <td>128.264</td>\n",
       "    </tr>\n",
       "    <tr>\n",
       "      <th>18</th>\n",
       "      <td>驯兽师伤兵产生数量</td>\n",
       "      <td>58.235</td>\n",
       "      <td>10995.135</td>\n",
       "      <td>116.503</td>\n",
       "    </tr>\n",
       "    <tr>\n",
       "      <th>56</th>\n",
       "      <td>科研：战斗大师</td>\n",
       "      <td>60.287</td>\n",
       "      <td>3632.539</td>\n",
       "      <td>0.000</td>\n",
       "    </tr>\n",
       "    <tr>\n",
       "      <th>57</th>\n",
       "      <td>科研：高阶巨兽骑兵</td>\n",
       "      <td>61.883</td>\n",
       "      <td>3827.516</td>\n",
       "      <td>0.000</td>\n",
       "    </tr>\n",
       "    <tr>\n",
       "      <th>58</th>\n",
       "      <td>科研：图腾大师</td>\n",
       "      <td>65.373</td>\n",
       "      <td>4271.658</td>\n",
       "      <td>0.000</td>\n",
       "    </tr>\n",
       "    <tr>\n",
       "      <th>19</th>\n",
       "      <td>驯兽师伤兵恢复数量</td>\n",
       "      <td>67.356</td>\n",
       "      <td>13844.793</td>\n",
       "      <td>84.346</td>\n",
       "    </tr>\n",
       "    <tr>\n",
       "      <th>25</th>\n",
       "      <td>建筑加速使用数量</td>\n",
       "      <td>73.617</td>\n",
       "      <td>9912.930</td>\n",
       "      <td>142.776</td>\n",
       "    </tr>\n",
       "    <tr>\n",
       "      <th>24</th>\n",
       "      <td>建筑加速获取数量</td>\n",
       "      <td>75.562</td>\n",
       "      <td>11468.080</td>\n",
       "      <td>205.557</td>\n",
       "    </tr>\n",
       "    <tr>\n",
       "      <th>26</th>\n",
       "      <td>科研加速获取数量</td>\n",
       "      <td>75.606</td>\n",
       "      <td>10038.624</td>\n",
       "      <td>132.671</td>\n",
       "    </tr>\n",
       "    <tr>\n",
       "      <th>22</th>\n",
       "      <td>通用加速获取数量</td>\n",
       "      <td>76.190</td>\n",
       "      <td>10461.629</td>\n",
       "      <td>282.545</td>\n",
       "    </tr>\n",
       "    <tr>\n",
       "      <th>23</th>\n",
       "      <td>通用加速使用数量</td>\n",
       "      <td>78.756</td>\n",
       "      <td>10571.988</td>\n",
       "      <td>192.031</td>\n",
       "    </tr>\n",
       "    <tr>\n",
       "      <th>1</th>\n",
       "      <td>木头消耗数量</td>\n",
       "      <td>86.310</td>\n",
       "      <td>11367.448</td>\n",
       "      <td>369843.252</td>\n",
       "    </tr>\n",
       "    <tr>\n",
       "      <th>27</th>\n",
       "      <td>科研加速使用数量</td>\n",
       "      <td>86.781</td>\n",
       "      <td>12166.169</td>\n",
       "      <td>73.653</td>\n",
       "    </tr>\n",
       "    <tr>\n",
       "      <th>7</th>\n",
       "      <td>肉消耗数量</td>\n",
       "      <td>89.403</td>\n",
       "      <td>13600.967</td>\n",
       "      <td>354810.206</td>\n",
       "    </tr>\n",
       "    <tr>\n",
       "      <th>8</th>\n",
       "      <td>魔法获取数量</td>\n",
       "      <td>97.762</td>\n",
       "      <td>14958.235</td>\n",
       "      <td>75389.535</td>\n",
       "    </tr>\n",
       "    <tr>\n",
       "      <th>75</th>\n",
       "      <td>科研：象牙生产</td>\n",
       "      <td>98.607</td>\n",
       "      <td>14098.969</td>\n",
       "      <td>0.001</td>\n",
       "    </tr>\n",
       "    <tr>\n",
       "      <th>28</th>\n",
       "      <td>训练加速获取数量</td>\n",
       "      <td>99.010</td>\n",
       "      <td>17738.981</td>\n",
       "      <td>210.808</td>\n",
       "    </tr>\n",
       "    <tr>\n",
       "      <th>0</th>\n",
       "      <td>木头获取数量</td>\n",
       "      <td>100.635</td>\n",
       "      <td>15449.582</td>\n",
       "      <td>454306.859</td>\n",
       "    </tr>\n",
       "    <tr>\n",
       "      <th>79</th>\n",
       "      <td>科研：象牙采集</td>\n",
       "      <td>103.602</td>\n",
       "      <td>15170.809</td>\n",
       "      <td>0.000</td>\n",
       "    </tr>\n",
       "    <tr>\n",
       "      <th>3</th>\n",
       "      <td>石头消耗数量</td>\n",
       "      <td>105.043</td>\n",
       "      <td>15515.988</td>\n",
       "      <td>137607.363</td>\n",
       "    </tr>\n",
       "    <tr>\n",
       "      <th>29</th>\n",
       "      <td>训练加速使用数量</td>\n",
       "      <td>105.763</td>\n",
       "      <td>18411.777</td>\n",
       "      <td>65.022</td>\n",
       "    </tr>\n",
       "    <tr>\n",
       "      <th>6</th>\n",
       "      <td>肉获取数量</td>\n",
       "      <td>106.645</td>\n",
       "      <td>17907.029</td>\n",
       "      <td>585515.505</td>\n",
       "    </tr>\n",
       "    <tr>\n",
       "      <th>91</th>\n",
       "      <td>科研：战斗行军速度</td>\n",
       "      <td>109.113</td>\n",
       "      <td>14509.348</td>\n",
       "      <td>0.001</td>\n",
       "    </tr>\n",
       "    <tr>\n",
       "      <th>9</th>\n",
       "      <td>魔法消耗数量</td>\n",
       "      <td>109.334</td>\n",
       "      <td>18322.774</td>\n",
       "      <td>47253.994</td>\n",
       "    </tr>\n",
       "    <tr>\n",
       "      <th>92</th>\n",
       "      <td>科研：采集行军速度</td>\n",
       "      <td>111.196</td>\n",
       "      <td>14976.855</td>\n",
       "      <td>0.001</td>\n",
       "    </tr>\n",
       "    <tr>\n",
       "      <th>4</th>\n",
       "      <td>象牙获取数量</td>\n",
       "      <td>112.636</td>\n",
       "      <td>17682.030</td>\n",
       "      <td>80756.230</td>\n",
       "    </tr>\n",
       "    <tr>\n",
       "      <th>5</th>\n",
       "      <td>象牙消耗数量</td>\n",
       "      <td>113.405</td>\n",
       "      <td>16974.594</td>\n",
       "      <td>36131.699</td>\n",
       "    </tr>\n",
       "    <tr>\n",
       "      <th>2</th>\n",
       "      <td>石头获取数量</td>\n",
       "      <td>113.794</td>\n",
       "      <td>18489.107</td>\n",
       "      <td>189778.774</td>\n",
       "    </tr>\n",
       "    <tr>\n",
       "      <th>59</th>\n",
       "      <td>科研：部队防御</td>\n",
       "      <td>122.425</td>\n",
       "      <td>16602.243</td>\n",
       "      <td>0.001</td>\n",
       "    </tr>\n",
       "    <tr>\n",
       "      <th>63</th>\n",
       "      <td>科研：勇士生命</td>\n",
       "      <td>124.296</td>\n",
       "      <td>16848.445</td>\n",
       "      <td>0.001</td>\n",
       "    </tr>\n",
       "    <tr>\n",
       "      <th>64</th>\n",
       "      <td>科研：驯兽师生命</td>\n",
       "      <td>134.002</td>\n",
       "      <td>19641.283</td>\n",
       "      <td>0.001</td>\n",
       "    </tr>\n",
       "    <tr>\n",
       "      <th>65</th>\n",
       "      <td>科研：萨满生命</td>\n",
       "      <td>137.095</td>\n",
       "      <td>20351.197</td>\n",
       "      <td>0.001</td>\n",
       "    </tr>\n",
       "    <tr>\n",
       "      <th>90</th>\n",
       "      <td>科研：联盟行军速度</td>\n",
       "      <td>138.627</td>\n",
       "      <td>23213.480</td>\n",
       "      <td>0.000</td>\n",
       "    </tr>\n",
       "    <tr>\n",
       "      <th>11</th>\n",
       "      <td>勇士损失数量</td>\n",
       "      <td>142.013</td>\n",
       "      <td>59680.484</td>\n",
       "      <td>226.782</td>\n",
       "    </tr>\n",
       "    <tr>\n",
       "      <th>10</th>\n",
       "      <td>勇士招募数量</td>\n",
       "      <td>150.291</td>\n",
       "      <td>56627.286</td>\n",
       "      <td>143.610</td>\n",
       "    </tr>\n",
       "    <tr>\n",
       "      <th>60</th>\n",
       "      <td>科研：勇士防御</td>\n",
       "      <td>158.768</td>\n",
       "      <td>27877.942</td>\n",
       "      <td>0.000</td>\n",
       "    </tr>\n",
       "    <tr>\n",
       "      <th>62</th>\n",
       "      <td>科研：萨满防御</td>\n",
       "      <td>161.270</td>\n",
       "      <td>28593.152</td>\n",
       "      <td>0.000</td>\n",
       "    </tr>\n",
       "    <tr>\n",
       "      <th>61</th>\n",
       "      <td>科研：驯兽师防御</td>\n",
       "      <td>161.650</td>\n",
       "      <td>28807.251</td>\n",
       "      <td>0.000</td>\n",
       "    </tr>\n",
       "    <tr>\n",
       "      <th>16</th>\n",
       "      <td>勇士伤兵产生数量</td>\n",
       "      <td>201.952</td>\n",
       "      <td>96877.947</td>\n",
       "      <td>135.304</td>\n",
       "    </tr>\n",
       "    <tr>\n",
       "      <th>17</th>\n",
       "      <td>勇士伤兵恢复数量</td>\n",
       "      <td>223.474</td>\n",
       "      <td>111369.002</td>\n",
       "      <td>91.984</td>\n",
       "    </tr>\n",
       "    <tr>\n",
       "      <th>67</th>\n",
       "      <td>科研：龙骑兵</td>\n",
       "      <td>225.481</td>\n",
       "      <td>50839.711</td>\n",
       "      <td>0.000</td>\n",
       "    </tr>\n",
       "    <tr>\n",
       "      <th>66</th>\n",
       "      <td>科研：狂战士</td>\n",
       "      <td>239.159</td>\n",
       "      <td>57195.300</td>\n",
       "      <td>0.000</td>\n",
       "    </tr>\n",
       "    <tr>\n",
       "      <th>68</th>\n",
       "      <td>科研：神谕者</td>\n",
       "      <td>259.406</td>\n",
       "      <td>67289.471</td>\n",
       "      <td>0.000</td>\n",
       "    </tr>\n",
       "    <tr>\n",
       "      <th>93</th>\n",
       "      <td>科研：据点四</td>\n",
       "      <td>419.521</td>\n",
       "      <td>175995.923</td>\n",
       "      <td>0.000</td>\n",
       "    </tr>\n",
       "    <tr>\n",
       "      <th>31</th>\n",
       "      <td>治疗加速使用数量</td>\n",
       "      <td>551.767</td>\n",
       "      <td>567898.986</td>\n",
       "      <td>0.370</td>\n",
       "    </tr>\n",
       "    <tr>\n",
       "      <th>69</th>\n",
       "      <td>科研：部队攻击</td>\n",
       "      <td>720.086</td>\n",
       "      <td>552951.148</td>\n",
       "      <td>0.000</td>\n",
       "    </tr>\n",
       "    <tr>\n",
       "      <th>95</th>\n",
       "      <td>科研：行军大小</td>\n",
       "      <td>750.277</td>\n",
       "      <td>623089.356</td>\n",
       "      <td>0.000</td>\n",
       "    </tr>\n",
       "    <tr>\n",
       "      <th>96</th>\n",
       "      <td>科研：资源帮助容量</td>\n",
       "      <td>1130.278</td>\n",
       "      <td>1333821.383</td>\n",
       "      <td>0.000</td>\n",
       "    </tr>\n",
       "    <tr>\n",
       "      <th>94</th>\n",
       "      <td>科研：增援部队容量</td>\n",
       "      <td>1202.368</td>\n",
       "      <td>1569458.101</td>\n",
       "      <td>0.000</td>\n",
       "    </tr>\n",
       "    <tr>\n",
       "      <th>14</th>\n",
       "      <td>萨满招募数量</td>\n",
       "      <td>1393.339</td>\n",
       "      <td>2048745.112</td>\n",
       "      <td>119.543</td>\n",
       "    </tr>\n",
       "    <tr>\n",
       "      <th>15</th>\n",
       "      <td>萨满损失数量</td>\n",
       "      <td>1394.118</td>\n",
       "      <td>2050265.411</td>\n",
       "      <td>156.853</td>\n",
       "    </tr>\n",
       "    <tr>\n",
       "      <th>20</th>\n",
       "      <td>萨满伤兵产生数量</td>\n",
       "      <td>1439.747</td>\n",
       "      <td>2141351.573</td>\n",
       "      <td>110.431</td>\n",
       "    </tr>\n",
       "    <tr>\n",
       "      <th>21</th>\n",
       "      <td>萨满伤兵恢复数量</td>\n",
       "      <td>1446.870</td>\n",
       "      <td>2155525.025</td>\n",
       "      <td>84.763</td>\n",
       "    </tr>\n",
       "  </tbody>\n",
       "</table>\n",
       "</div>"
      ],
      "text/plain": [
       "            特征       偏度          峰度         均值\n",
       "34     建筑：要塞等级    1.229       0.970      2.098\n",
       "35  建筑：据点传送门等级    1.383       1.477      1.764\n",
       "32   建筑：士兵小屋等级    1.878       3.314      1.306\n",
       "42  建筑：魔法幸运树等级    2.050       3.388      1.146\n",
       "36     建筑：兵营等级    2.114       4.327      1.284\n",
       "33   建筑：治疗小井等级    2.183       4.567      1.027\n",
       "41    建筑：瞭望塔等级    2.409       5.619      0.913\n",
       "37   建筑：治疗之泉等级    2.429       5.627      0.924\n",
       "40     建筑：仓库等级    2.472       5.525      0.934\n",
       "38   建筑：智慧神庙等级    2.495       5.893      0.969\n",
       "44   建筑：联盟货车等级    2.727       7.144      0.772\n",
       "48     科研：侦查等级    2.923      10.701      0.331\n",
       "49   科研：训练速度等级    3.815      14.593      0.299\n",
       "39   建筑：联盟大厅等级    4.015      15.755      0.441\n",
       "85      科研：据点二    4.426      17.592      0.044\n",
       "47  建筑：冒险传送门等级    5.017      26.012      0.292\n",
       "45    建筑：占卜台等级    5.722      35.427      0.201\n",
       "84     科研：据点耐久    5.959      43.095      0.110\n",
       "46     建筑：祭坛等级    6.024      40.077      0.180\n",
       "50      科研：守护者    6.236      36.893      0.024\n",
       "51    科研：巨兽驯兽师    6.372      38.602      0.023\n",
       "43   建筑：战争大厅等级    6.427      64.375      0.102\n",
       "70     科研：建造速度    6.780      53.866      0.122\n",
       "52      科研：吟唱者    6.914      45.804      0.020\n",
       "87   科研：领土采集奖励    9.219     101.032      0.034\n",
       "86     科研：医院容量   10.935     153.092      0.029\n",
       "76     科研：肉类生产   11.180     163.219      0.042\n",
       "71     科研：资源保护   11.338     173.489      0.035\n",
       "73     科研：木材生产   11.439     162.607      0.035\n",
       "88     科研：治疗速度   11.462     157.764      0.022\n",
       "72     科研：部队消耗   12.375     204.846      0.033\n",
       "81     科研：部队负重   13.202     198.280      0.029\n",
       "77     科研：木材采集   15.330     295.240      0.022\n",
       "53     科研：勇士攻击   15.486     312.204      0.024\n",
       "80     科研：肉类采集   15.750     330.005      0.018\n",
       "54    科研：驯兽师攻击   16.032     333.790      0.022\n",
       "55     科研：萨满攻击   17.736     407.577      0.019\n",
       "83     科研：魔法生产   23.047     645.105      0.008\n",
       "30    治疗加速获取数量   26.467    3883.361     10.416\n",
       "89      科研：据点三   33.686    1132.749      0.001\n",
       "13     驯兽师损失数量   37.613    4799.376    178.006\n",
       "74     科研：石头生产   38.649    1881.487      0.003\n",
       "82     科研：魔法采集   48.295    3245.438      0.002\n",
       "78     科研：石头采集   49.888    3234.002      0.002\n",
       "12     驯兽师招募数量   52.394    6653.517    128.264\n",
       "18   驯兽师伤兵产生数量   58.235   10995.135    116.503\n",
       "56     科研：战斗大师   60.287    3632.539      0.000\n",
       "57   科研：高阶巨兽骑兵   61.883    3827.516      0.000\n",
       "58     科研：图腾大师   65.373    4271.658      0.000\n",
       "19   驯兽师伤兵恢复数量   67.356   13844.793     84.346\n",
       "25    建筑加速使用数量   73.617    9912.930    142.776\n",
       "24    建筑加速获取数量   75.562   11468.080    205.557\n",
       "26    科研加速获取数量   75.606   10038.624    132.671\n",
       "22    通用加速获取数量   76.190   10461.629    282.545\n",
       "23    通用加速使用数量   78.756   10571.988    192.031\n",
       "1       木头消耗数量   86.310   11367.448 369843.252\n",
       "27    科研加速使用数量   86.781   12166.169     73.653\n",
       "7        肉消耗数量   89.403   13600.967 354810.206\n",
       "8       魔法获取数量   97.762   14958.235  75389.535\n",
       "75     科研：象牙生产   98.607   14098.969      0.001\n",
       "28    训练加速获取数量   99.010   17738.981    210.808\n",
       "0       木头获取数量  100.635   15449.582 454306.859\n",
       "79     科研：象牙采集  103.602   15170.809      0.000\n",
       "3       石头消耗数量  105.043   15515.988 137607.363\n",
       "29    训练加速使用数量  105.763   18411.777     65.022\n",
       "6        肉获取数量  106.645   17907.029 585515.505\n",
       "91   科研：战斗行军速度  109.113   14509.348      0.001\n",
       "9       魔法消耗数量  109.334   18322.774  47253.994\n",
       "92   科研：采集行军速度  111.196   14976.855      0.001\n",
       "4       象牙获取数量  112.636   17682.030  80756.230\n",
       "5       象牙消耗数量  113.405   16974.594  36131.699\n",
       "2       石头获取数量  113.794   18489.107 189778.774\n",
       "59     科研：部队防御  122.425   16602.243      0.001\n",
       "63     科研：勇士生命  124.296   16848.445      0.001\n",
       "64    科研：驯兽师生命  134.002   19641.283      0.001\n",
       "65     科研：萨满生命  137.095   20351.197      0.001\n",
       "90   科研：联盟行军速度  138.627   23213.480      0.000\n",
       "11      勇士损失数量  142.013   59680.484    226.782\n",
       "10      勇士招募数量  150.291   56627.286    143.610\n",
       "60     科研：勇士防御  158.768   27877.942      0.000\n",
       "62     科研：萨满防御  161.270   28593.152      0.000\n",
       "61    科研：驯兽师防御  161.650   28807.251      0.000\n",
       "16    勇士伤兵产生数量  201.952   96877.947    135.304\n",
       "17    勇士伤兵恢复数量  223.474  111369.002     91.984\n",
       "67      科研：龙骑兵  225.481   50839.711      0.000\n",
       "66      科研：狂战士  239.159   57195.300      0.000\n",
       "68      科研：神谕者  259.406   67289.471      0.000\n",
       "93      科研：据点四  419.521  175995.923      0.000\n",
       "31    治疗加速使用数量  551.767  567898.986      0.370\n",
       "69     科研：部队攻击  720.086  552951.148      0.000\n",
       "95     科研：行军大小  750.277  623089.356      0.000\n",
       "96   科研：资源帮助容量 1130.278 1333821.383      0.000\n",
       "94   科研：增援部队容量 1202.368 1569458.101      0.000\n",
       "14      萨满招募数量 1393.339 2048745.112    119.543\n",
       "15      萨满损失数量 1394.118 2050265.411    156.853\n",
       "20    萨满伤兵产生数量 1439.747 2141351.573    110.431\n",
       "21    萨满伤兵恢复数量 1446.870 2155525.025     84.763"
      ]
     },
     "execution_count": 68,
     "metadata": {},
     "output_type": "execute_result"
    }
   ],
   "source": [
    "pd.set_option(\"display.max_rows\",120) #避免显示问题，设置一下最大行数\n",
    "sak.sort_values(\"偏度\")"
   ]
  },
  {
   "cell_type": "code",
   "execution_count": 69,
   "id": "1e6166d8-33db-4575-8572-cc98c0452934",
   "metadata": {
    "tags": []
   },
   "outputs": [
    {
     "data": {
      "image/png": "[encoded data removed]",
      "text/plain": [
       "<Figure size 300x600 with 1 Axes>"
      ]
     },
     "metadata": {},
     "output_type": "display_data"
    }
   ],
   "source": [
    "#峰度和偏度似乎呈现高度一致的趋势——当偏度很大时，峰度也倾向于很大，我们可以绘图来看一看\n",
    "plt.figure(figsize=(3,6),dpi=100)\n",
    "plt.scatter(\"偏度\",\"峰度\", data = sak\n",
    "           ,s = 50\n",
    "           ,c = \"red\"\n",
    "           ,edgecolors = \"k\"\n",
    "           ,linewidth = 0.3);\n",
    "plt.xlim(0, 200) #控制横纵坐标的范围\n",
    "plt.ylim(0, 30000)\n",
    "plt.show()"
   ]
  },
  {
   "cell_type": "markdown",
   "id": "f5207fc0-adf6-4acf-b30f-8ba896bdb819",
   "metadata": {},
   "source": [
    "![](https://skojiangdoc.oss-cn-beijing.aliyuncs.com/micro_class/sklearncase/%E5%9B%9B%E5%A4%A7%E5%88%86%E7%B1%BB2.PNG)"
   ]
  },
  {
   "cell_type": "markdown",
   "id": "82dd502b-3201-4784-bcba-0be523777e72",
   "metadata": {},
   "source": [
    "> - A类 **均值高，偏度低**：用户拥有该资源的分布较为均匀，并且大家都拥有很多这个资源，这类资源是最容易获取的"
   ]
  },
  {
   "cell_type": "markdown",
   "id": "0abaad1d-f30e-49fc-94fc-3b0f218deb0d",
   "metadata": {},
   "source": [
    "![](https://skojiangdoc.oss-cn-beijing.aliyuncs.com/micro_class/sklearncase/A.PNG)"
   ]
  },
  {
   "cell_type": "markdown",
   "id": "3b1d0f95-7d64-4a31-83a8-4fb929b0204b",
   "metadata": {},
   "source": [
    "> - B类 **均值高，偏度也高**：用户拥有该资源的分布不均匀，少量玩家掌握巨量资源（长尾会非常非常长），拉高了均值，这类资源可能是氪金资源，也可能是爆肝才能获得的资源"
   ]
  },
  {
   "cell_type": "markdown",
   "id": "d3d3f94b-e398-4d27-b7d2-939128bba86a",
   "metadata": {},
   "source": [
    "![](https://skojiangdoc.oss-cn-beijing.aliyuncs.com/micro_class/sklearncase/B.PNG)"
   ]
  },
  {
   "cell_type": "markdown",
   "id": "296e3e88-b0a9-4320-a1a2-1a3b95582692",
   "metadata": {},
   "source": [
    "> - C类 **均值低，偏度也低**：用户拥有该资源的分布较为均匀，但大家都没有这个资源，这类资源可能是需要时间来积累才能够获得的，随着开服时间变长，这类资源应该会逐渐变成其他类型的资源"
   ]
  },
  {
   "cell_type": "markdown",
   "id": "7accdc78-0f47-40dc-86e1-0c636a3400af",
   "metadata": {},
   "source": [
    "![](https://skojiangdoc.oss-cn-beijing.aliyuncs.com/micro_class/sklearncase/C.PNG)"
   ]
  },
  {
   "cell_type": "markdown",
   "id": "ffed4c41-dee5-411a-a095-ae03e8e924c4",
   "metadata": {},
   "source": [
    "> - D类 **均值低，偏度高**：用户拥有该资源的分布不均匀，只有少量玩家掌握该资源，但是掌握的总量也不多。这类资源天生稀缺并且无法靠氪金获得（比如必须触发特定剧情/达到特定成就才能够获得的资源），只有少数人能够拥有"
   ]
  },
  {
   "cell_type": "markdown",
   "id": "dab4e2f6-6fbc-49bc-950a-06ee04980d75",
   "metadata": {},
   "source": [
    "![](https://skojiangdoc.oss-cn-beijing.aliyuncs.com/micro_class/sklearncase/D.PNG)"
   ]
  },
  {
   "cell_type": "markdown",
   "id": "afb3a619-d035-4877-aca7-2689f74592f4",
   "metadata": {},
   "source": [
    "在一个健康的游戏中，A类资源应该是最多的，这类资源决定了剧本能够被推进的程度、决定了大部分玩家的游戏体验，B类资源主要用于付费，收入的主要来源，但可能严重破坏游戏平衡，D类资源主要在于增加游戏的趣味和公平性，应该是最少的。一个游戏的A类资源要足够多，才算是对新手比较友好，只要我们绘制出散点图，四类资源的分布情况就目了然了。"
   ]
  },
  {
   "cell_type": "code",
   "execution_count": 70,
   "id": "b83cd25b-0199-4157-9eff-76edd97a7bd1",
   "metadata": {
    "tags": []
   },
   "outputs": [
    {
     "name": "stdout",
     "output_type": "stream",
     "text": [
      "1446.870493367135\n",
      "1.229280867942684\n",
      "585515.5045294879\n",
      "2.185307999494757e-06\n"
     ]
    }
   ],
   "source": [
    "print(sak[\"偏度\"].max())\n",
    "print(sak[\"偏度\"].min())\n",
    "print(sak[\"均值\"].max())\n",
    "print(sak[\"均值\"].min())"
   ]
  },
  {
   "cell_type": "markdown",
   "id": "1cd7291c-ebdf-40f9-b7e6-b0fe46a7c767",
   "metadata": {},
   "source": [
    "现在的难点在于，偏度与均值都包括部分极大异常点，因此数据极差非常高，而大部分数据点又集中在较小的值附近，这样的数据在绘图时很容易出现以下情况："
   ]
  },
  {
   "cell_type": "code",
   "execution_count": 71,
   "id": "ccf32073-5192-47a7-b152-16c48569449b",
   "metadata": {
    "tags": []
   },
   "outputs": [
    {
     "data": {
      "image/png": "[encoded data removed]",
      "text/plain": [
       "<Figure size 640x480 with 1 Axes>"
      ]
     },
     "metadata": {},
     "output_type": "display_data"
    }
   ],
   "source": [
    "plt.scatter(\"偏度\",\"均值\", data = sak)\n",
    "plt.show() #所有数据点都堆在一起，看不出任何规律"
   ]
  },
  {
   "cell_type": "code",
   "execution_count": 72,
   "id": "606e12cd-3bf2-4265-aa7f-5cbb84da5eb3",
   "metadata": {
    "tags": []
   },
   "outputs": [
    {
     "data": {
      "image/png": "[encoded data removed]",
      "text/plain": [
       "<Figure size 1500x900 with 3 Axes>"
      ]
     },
     "metadata": {},
     "output_type": "display_data"
    }
   ],
   "source": [
    "# 为解决这个问题，我们来绘制三个纵坐标数值不同的图像——\n",
    "\n",
    "plt.figure(figsize=(15,9),dpi=100)\n",
    "#绘制三个坐标轴不一样的图像\n",
    "\n",
    "#上\n",
    "plt.subplot(311)\n",
    "plt.scatter(\"偏度\",\"均值\", data = sak\n",
    "           ,s = 45\n",
    "           ,c = \"red\"\n",
    "           ,edgecolors = \"k\"\n",
    "           ,linewidth = 0.3);\n",
    "plt.xlim(-15, 1500) #控制横纵坐标的范围\n",
    "plt.ylim(20000, 600000)\n",
    "plt.vlines(300, 20000, 600000,colors=\"red\",linestyles=\"dotted\")\n",
    "ax = plt.gca()\n",
    "ax.spines['top'].set_visible(False)\n",
    "ax.spines['right'].set_visible(False)\n",
    "ax.spines['bottom'].set_visible(False)\n",
    "plt.yticks(fontsize=10)\n",
    "plt.text(130,450000,s=\"A类\")\n",
    "plt.text(130,400000,s=\"均值很高，偏度较低\")\n",
    "plt.text(130,350000,s=\"容易获取的资源\")\n",
    "plt.text(130,300000,s=\"容易达到的等级\")\n",
    "plt.xticks([])\n",
    "\n",
    "#中\n",
    "plt.subplot(312)\n",
    "plt.scatter(\"偏度\",\"均值\", data = sak\n",
    "           ,s = 45\n",
    "           ,c = \"red\"\n",
    "           ,edgecolors = \"k\"\n",
    "           ,linewidth = 0.3);\n",
    "plt.xlim(-15, 1500)\n",
    "plt.ylim(40, 300)\n",
    "plt.vlines(300, 50, 300,colors=\"red\",linestyles=\"dotted\")\n",
    "plt.hlines(40,-10, 1500,colors=\"red\",linestyles=\"dotted\")\n",
    "ax = plt.gca()\n",
    "ax.spines['top'].set_visible(False)\n",
    "ax.spines['right'].set_visible(False)\n",
    "ax.spines['bottom'].set_visible(False)\n",
    "plt.yticks(fontsize=10)\n",
    "plt.ylabel(\"资源均值\", fontsize=15)\n",
    "plt.text(1200,200,s=\"B类\")\n",
    "plt.text(1200,175,s=\"均值偏高/居中，偏度很高\")\n",
    "plt.text(1200,150,s=\"有少数玩家\")\n",
    "plt.text(1200,125,s=\"把控巨量资源\")\n",
    "plt.xticks([])\n",
    "\n",
    "#下\n",
    "plt.subplot(313)\n",
    "plt.scatter(\"偏度\",\"均值\", data = sak\n",
    "           ,s = 45\n",
    "           ,c = \"red\"\n",
    "           ,edgecolors = \"k\"\n",
    "           ,linewidth = 0.3);\n",
    "plt.xlim(-15, 1500)\n",
    "plt.ylim(-0.15, 3)\n",
    "plt.vlines(300, -0.1, 5,colors=\"red\",linestyles=\"dotted\")\n",
    "ax = plt.gca()\n",
    "ax.spines['top'].set_visible(False)\n",
    "ax.spines['right'].set_visible(False)\n",
    "plt.xlabel(\"偏度\", fontsize=15)\n",
    "plt.yticks(fontsize=10)\n",
    "plt.text(70,2.8,s=\"C类资源\")\n",
    "plt.text(70,2.5,s=\"均值很低，偏度也很低\")\n",
    "plt.text(70,2.2,s=\"几乎没有玩家拥有该资源\")\n",
    "plt.text(70,1.9,s=\"可能需要时间积累\")\n",
    "plt.text(340,2.8,s=\"D类资源\")\n",
    "plt.text(340,2.5,s=\"均值很低，偏度较高或很高\")\n",
    "plt.text(340,2.2,s=\"只有少量玩家掌握该资源\")\n",
    "plt.text(340,1.9,s=\"并且资源本身也比较稀缺\")\n",
    "plt.subplots_adjust(hspace=0.05)\n",
    "plt.show()"
   ]
  },
  {
   "cell_type": "markdown",
   "id": "89456afe-8825-4603-8a5c-c99032d9f6ed",
   "metadata": {},
   "source": [
    "查看一下四类资源分别有哪些，以及数量是否合理："
   ]
  },
  {
   "cell_type": "code",
   "execution_count": 73,
   "id": "9a505205-f481-4ba2-8639-329348d81d72",
   "metadata": {
    "tags": []
   },
   "outputs": [],
   "source": [
    "#A类\n",
    "A = sak.loc[sak[\"均值\"] > 3,:].loc[sak[\"偏度\"]<300,:]"
   ]
  },
  {
   "cell_type": "code",
   "execution_count": 74,
   "id": "fa45a52f-776f-4957-9fd7-6365fa3c9c8b",
   "metadata": {
    "tags": []
   },
   "outputs": [
    {
     "data": {
      "text/html": [
       "<div>\n",
       "<style scoped>\n",
       "    .dataframe tbody tr th:only-of-type {\n",
       "        vertical-align: middle;\n",
       "    }\n",
       "\n",
       "    .dataframe tbody tr th {\n",
       "        vertical-align: top;\n",
       "    }\n",
       "\n",
       "    .dataframe thead th {\n",
       "        text-align: right;\n",
       "    }\n",
       "</style>\n",
       "<table border=\"1\" class=\"dataframe\">\n",
       "  <thead>\n",
       "    <tr style=\"text-align: right;\">\n",
       "      <th></th>\n",
       "      <th>特征</th>\n",
       "      <th>偏度</th>\n",
       "      <th>峰度</th>\n",
       "      <th>均值</th>\n",
       "    </tr>\n",
       "  </thead>\n",
       "  <tbody>\n",
       "    <tr>\n",
       "      <th>0</th>\n",
       "      <td>木头获取数量</td>\n",
       "      <td>100.635</td>\n",
       "      <td>15449.582</td>\n",
       "      <td>454306.859</td>\n",
       "    </tr>\n",
       "    <tr>\n",
       "      <th>1</th>\n",
       "      <td>木头消耗数量</td>\n",
       "      <td>86.310</td>\n",
       "      <td>11367.448</td>\n",
       "      <td>369843.252</td>\n",
       "    </tr>\n",
       "    <tr>\n",
       "      <th>2</th>\n",
       "      <td>石头获取数量</td>\n",
       "      <td>113.794</td>\n",
       "      <td>18489.107</td>\n",
       "      <td>189778.774</td>\n",
       "    </tr>\n",
       "    <tr>\n",
       "      <th>3</th>\n",
       "      <td>石头消耗数量</td>\n",
       "      <td>105.043</td>\n",
       "      <td>15515.988</td>\n",
       "      <td>137607.363</td>\n",
       "    </tr>\n",
       "    <tr>\n",
       "      <th>4</th>\n",
       "      <td>象牙获取数量</td>\n",
       "      <td>112.636</td>\n",
       "      <td>17682.030</td>\n",
       "      <td>80756.230</td>\n",
       "    </tr>\n",
       "    <tr>\n",
       "      <th>5</th>\n",
       "      <td>象牙消耗数量</td>\n",
       "      <td>113.405</td>\n",
       "      <td>16974.594</td>\n",
       "      <td>36131.699</td>\n",
       "    </tr>\n",
       "    <tr>\n",
       "      <th>6</th>\n",
       "      <td>肉获取数量</td>\n",
       "      <td>106.645</td>\n",
       "      <td>17907.029</td>\n",
       "      <td>585515.505</td>\n",
       "    </tr>\n",
       "    <tr>\n",
       "      <th>7</th>\n",
       "      <td>肉消耗数量</td>\n",
       "      <td>89.403</td>\n",
       "      <td>13600.967</td>\n",
       "      <td>354810.206</td>\n",
       "    </tr>\n",
       "    <tr>\n",
       "      <th>8</th>\n",
       "      <td>魔法获取数量</td>\n",
       "      <td>97.762</td>\n",
       "      <td>14958.235</td>\n",
       "      <td>75389.535</td>\n",
       "    </tr>\n",
       "    <tr>\n",
       "      <th>9</th>\n",
       "      <td>魔法消耗数量</td>\n",
       "      <td>109.334</td>\n",
       "      <td>18322.774</td>\n",
       "      <td>47253.994</td>\n",
       "    </tr>\n",
       "    <tr>\n",
       "      <th>10</th>\n",
       "      <td>勇士招募数量</td>\n",
       "      <td>150.291</td>\n",
       "      <td>56627.286</td>\n",
       "      <td>143.610</td>\n",
       "    </tr>\n",
       "    <tr>\n",
       "      <th>11</th>\n",
       "      <td>勇士损失数量</td>\n",
       "      <td>142.013</td>\n",
       "      <td>59680.484</td>\n",
       "      <td>226.782</td>\n",
       "    </tr>\n",
       "    <tr>\n",
       "      <th>12</th>\n",
       "      <td>驯兽师招募数量</td>\n",
       "      <td>52.394</td>\n",
       "      <td>6653.517</td>\n",
       "      <td>128.264</td>\n",
       "    </tr>\n",
       "    <tr>\n",
       "      <th>13</th>\n",
       "      <td>驯兽师损失数量</td>\n",
       "      <td>37.613</td>\n",
       "      <td>4799.376</td>\n",
       "      <td>178.006</td>\n",
       "    </tr>\n",
       "    <tr>\n",
       "      <th>16</th>\n",
       "      <td>勇士伤兵产生数量</td>\n",
       "      <td>201.952</td>\n",
       "      <td>96877.947</td>\n",
       "      <td>135.304</td>\n",
       "    </tr>\n",
       "    <tr>\n",
       "      <th>17</th>\n",
       "      <td>勇士伤兵恢复数量</td>\n",
       "      <td>223.474</td>\n",
       "      <td>111369.002</td>\n",
       "      <td>91.984</td>\n",
       "    </tr>\n",
       "    <tr>\n",
       "      <th>18</th>\n",
       "      <td>驯兽师伤兵产生数量</td>\n",
       "      <td>58.235</td>\n",
       "      <td>10995.135</td>\n",
       "      <td>116.503</td>\n",
       "    </tr>\n",
       "    <tr>\n",
       "      <th>19</th>\n",
       "      <td>驯兽师伤兵恢复数量</td>\n",
       "      <td>67.356</td>\n",
       "      <td>13844.793</td>\n",
       "      <td>84.346</td>\n",
       "    </tr>\n",
       "    <tr>\n",
       "      <th>22</th>\n",
       "      <td>通用加速获取数量</td>\n",
       "      <td>76.190</td>\n",
       "      <td>10461.629</td>\n",
       "      <td>282.545</td>\n",
       "    </tr>\n",
       "    <tr>\n",
       "      <th>23</th>\n",
       "      <td>通用加速使用数量</td>\n",
       "      <td>78.756</td>\n",
       "      <td>10571.988</td>\n",
       "      <td>192.031</td>\n",
       "    </tr>\n",
       "    <tr>\n",
       "      <th>24</th>\n",
       "      <td>建筑加速获取数量</td>\n",
       "      <td>75.562</td>\n",
       "      <td>11468.080</td>\n",
       "      <td>205.557</td>\n",
       "    </tr>\n",
       "    <tr>\n",
       "      <th>25</th>\n",
       "      <td>建筑加速使用数量</td>\n",
       "      <td>73.617</td>\n",
       "      <td>9912.930</td>\n",
       "      <td>142.776</td>\n",
       "    </tr>\n",
       "    <tr>\n",
       "      <th>26</th>\n",
       "      <td>科研加速获取数量</td>\n",
       "      <td>75.606</td>\n",
       "      <td>10038.624</td>\n",
       "      <td>132.671</td>\n",
       "    </tr>\n",
       "    <tr>\n",
       "      <th>27</th>\n",
       "      <td>科研加速使用数量</td>\n",
       "      <td>86.781</td>\n",
       "      <td>12166.169</td>\n",
       "      <td>73.653</td>\n",
       "    </tr>\n",
       "    <tr>\n",
       "      <th>28</th>\n",
       "      <td>训练加速获取数量</td>\n",
       "      <td>99.010</td>\n",
       "      <td>17738.981</td>\n",
       "      <td>210.808</td>\n",
       "    </tr>\n",
       "    <tr>\n",
       "      <th>29</th>\n",
       "      <td>训练加速使用数量</td>\n",
       "      <td>105.763</td>\n",
       "      <td>18411.777</td>\n",
       "      <td>65.022</td>\n",
       "    </tr>\n",
       "    <tr>\n",
       "      <th>30</th>\n",
       "      <td>治疗加速获取数量</td>\n",
       "      <td>26.467</td>\n",
       "      <td>3883.361</td>\n",
       "      <td>10.416</td>\n",
       "    </tr>\n",
       "  </tbody>\n",
       "</table>\n",
       "</div>"
      ],
      "text/plain": [
       "           特征      偏度         峰度         均值\n",
       "0      木头获取数量 100.635  15449.582 454306.859\n",
       "1      木头消耗数量  86.310  11367.448 369843.252\n",
       "2      石头获取数量 113.794  18489.107 189778.774\n",
       "3      石头消耗数量 105.043  15515.988 137607.363\n",
       "4      象牙获取数量 112.636  17682.030  80756.230\n",
       "5      象牙消耗数量 113.405  16974.594  36131.699\n",
       "6       肉获取数量 106.645  17907.029 585515.505\n",
       "7       肉消耗数量  89.403  13600.967 354810.206\n",
       "8      魔法获取数量  97.762  14958.235  75389.535\n",
       "9      魔法消耗数量 109.334  18322.774  47253.994\n",
       "10     勇士招募数量 150.291  56627.286    143.610\n",
       "11     勇士损失数量 142.013  59680.484    226.782\n",
       "12    驯兽师招募数量  52.394   6653.517    128.264\n",
       "13    驯兽师损失数量  37.613   4799.376    178.006\n",
       "16   勇士伤兵产生数量 201.952  96877.947    135.304\n",
       "17   勇士伤兵恢复数量 223.474 111369.002     91.984\n",
       "18  驯兽师伤兵产生数量  58.235  10995.135    116.503\n",
       "19  驯兽师伤兵恢复数量  67.356  13844.793     84.346\n",
       "22   通用加速获取数量  76.190  10461.629    282.545\n",
       "23   通用加速使用数量  78.756  10571.988    192.031\n",
       "24   建筑加速获取数量  75.562  11468.080    205.557\n",
       "25   建筑加速使用数量  73.617   9912.930    142.776\n",
       "26   科研加速获取数量  75.606  10038.624    132.671\n",
       "27   科研加速使用数量  86.781  12166.169     73.653\n",
       "28   训练加速获取数量  99.010  17738.981    210.808\n",
       "29   训练加速使用数量 105.763  18411.777     65.022\n",
       "30   治疗加速获取数量  26.467   3883.361     10.416"
      ]
     },
     "execution_count": 74,
     "metadata": {},
     "output_type": "execute_result"
    }
   ],
   "source": [
    "A"
   ]
  },
  {
   "cell_type": "code",
   "execution_count": 75,
   "id": "247ed6fb-c495-4b10-be1b-53231574497f",
   "metadata": {
    "tags": []
   },
   "outputs": [
    {
     "data": {
      "text/html": [
       "<div>\n",
       "<style scoped>\n",
       "    .dataframe tbody tr th:only-of-type {\n",
       "        vertical-align: middle;\n",
       "    }\n",
       "\n",
       "    .dataframe tbody tr th {\n",
       "        vertical-align: top;\n",
       "    }\n",
       "\n",
       "    .dataframe thead th {\n",
       "        text-align: right;\n",
       "    }\n",
       "</style>\n",
       "<table border=\"1\" class=\"dataframe\">\n",
       "  <thead>\n",
       "    <tr style=\"text-align: right;\">\n",
       "      <th></th>\n",
       "      <th>特征</th>\n",
       "      <th>偏度</th>\n",
       "      <th>峰度</th>\n",
       "      <th>均值</th>\n",
       "    </tr>\n",
       "  </thead>\n",
       "  <tbody>\n",
       "    <tr>\n",
       "      <th>14</th>\n",
       "      <td>萨满招募数量</td>\n",
       "      <td>1393.339</td>\n",
       "      <td>2048745.112</td>\n",
       "      <td>119.543</td>\n",
       "    </tr>\n",
       "    <tr>\n",
       "      <th>15</th>\n",
       "      <td>萨满损失数量</td>\n",
       "      <td>1394.118</td>\n",
       "      <td>2050265.411</td>\n",
       "      <td>156.853</td>\n",
       "    </tr>\n",
       "    <tr>\n",
       "      <th>20</th>\n",
       "      <td>萨满伤兵产生数量</td>\n",
       "      <td>1439.747</td>\n",
       "      <td>2141351.573</td>\n",
       "      <td>110.431</td>\n",
       "    </tr>\n",
       "    <tr>\n",
       "      <th>21</th>\n",
       "      <td>萨满伤兵恢复数量</td>\n",
       "      <td>1446.870</td>\n",
       "      <td>2155525.025</td>\n",
       "      <td>84.763</td>\n",
       "    </tr>\n",
       "  </tbody>\n",
       "</table>\n",
       "</div>"
      ],
      "text/plain": [
       "          特征       偏度          峰度      均值\n",
       "14    萨满招募数量 1393.339 2048745.112 119.543\n",
       "15    萨满损失数量 1394.118 2050265.411 156.853\n",
       "20  萨满伤兵产生数量 1439.747 2141351.573 110.431\n",
       "21  萨满伤兵恢复数量 1446.870 2155525.025  84.763"
      ]
     },
     "execution_count": 75,
     "metadata": {},
     "output_type": "execute_result"
    }
   ],
   "source": [
    "#B类\n",
    "sak.loc[sak[\"均值\"] > 3,:].loc[sak[\"偏度\"]>300,:]"
   ]
  },
  {
   "cell_type": "code",
   "execution_count": 76,
   "id": "24bc3747-652e-4fbe-9d81-8a64eaa5abbd",
   "metadata": {
    "tags": []
   },
   "outputs": [
    {
     "data": {
      "text/plain": [
       "60"
      ]
     },
     "execution_count": 76,
     "metadata": {},
     "output_type": "execute_result"
    }
   ],
   "source": [
    "#C类 - 大量还未开发的资源 & 大量的等级 - 比较容易获得的资源\n",
    "sak.loc[sak[\"均值\"] < 3,:].loc[sak[\"偏度\"]<300,:].shape[0]"
   ]
  },
  {
   "cell_type": "code",
   "execution_count": 77,
   "id": "6e4643ed-53a5-4920-8f94-072b47716681",
   "metadata": {
    "tags": []
   },
   "outputs": [
    {
     "data": {
      "text/html": [
       "<div>\n",
       "<style scoped>\n",
       "    .dataframe tbody tr th:only-of-type {\n",
       "        vertical-align: middle;\n",
       "    }\n",
       "\n",
       "    .dataframe tbody tr th {\n",
       "        vertical-align: top;\n",
       "    }\n",
       "\n",
       "    .dataframe thead th {\n",
       "        text-align: right;\n",
       "    }\n",
       "</style>\n",
       "<table border=\"1\" class=\"dataframe\">\n",
       "  <thead>\n",
       "    <tr style=\"text-align: right;\">\n",
       "      <th></th>\n",
       "      <th>特征</th>\n",
       "      <th>偏度</th>\n",
       "      <th>峰度</th>\n",
       "      <th>均值</th>\n",
       "    </tr>\n",
       "  </thead>\n",
       "  <tbody>\n",
       "    <tr>\n",
       "      <th>31</th>\n",
       "      <td>治疗加速使用数量</td>\n",
       "      <td>551.767</td>\n",
       "      <td>567898.986</td>\n",
       "      <td>0.370</td>\n",
       "    </tr>\n",
       "    <tr>\n",
       "      <th>69</th>\n",
       "      <td>科研：部队攻击</td>\n",
       "      <td>720.086</td>\n",
       "      <td>552951.148</td>\n",
       "      <td>0.000</td>\n",
       "    </tr>\n",
       "    <tr>\n",
       "      <th>93</th>\n",
       "      <td>科研：据点四</td>\n",
       "      <td>419.521</td>\n",
       "      <td>175995.923</td>\n",
       "      <td>0.000</td>\n",
       "    </tr>\n",
       "    <tr>\n",
       "      <th>94</th>\n",
       "      <td>科研：增援部队容量</td>\n",
       "      <td>1202.368</td>\n",
       "      <td>1569458.101</td>\n",
       "      <td>0.000</td>\n",
       "    </tr>\n",
       "    <tr>\n",
       "      <th>95</th>\n",
       "      <td>科研：行军大小</td>\n",
       "      <td>750.277</td>\n",
       "      <td>623089.356</td>\n",
       "      <td>0.000</td>\n",
       "    </tr>\n",
       "    <tr>\n",
       "      <th>96</th>\n",
       "      <td>科研：资源帮助容量</td>\n",
       "      <td>1130.278</td>\n",
       "      <td>1333821.383</td>\n",
       "      <td>0.000</td>\n",
       "    </tr>\n",
       "  </tbody>\n",
       "</table>\n",
       "</div>"
      ],
      "text/plain": [
       "           特征       偏度          峰度    均值\n",
       "31   治疗加速使用数量  551.767  567898.986 0.370\n",
       "69    科研：部队攻击  720.086  552951.148 0.000\n",
       "93     科研：据点四  419.521  175995.923 0.000\n",
       "94  科研：增援部队容量 1202.368 1569458.101 0.000\n",
       "95    科研：行军大小  750.277  623089.356 0.000\n",
       "96  科研：资源帮助容量 1130.278 1333821.383 0.000"
      ]
     },
     "execution_count": 77,
     "metadata": {},
     "output_type": "execute_result"
    }
   ],
   "source": [
    "#D类 - 极度稀缺的资源\n",
    "sak.loc[sak[\"均值\"] < 3,:].loc[sak[\"偏度\"]>300,:]\n",
    "\n",
    "# sak.loc[sak[\"均值\"] < 3,:].loc[sak[\"偏度\"]>300,:].shape[0]"
   ]
  },
  {
   "cell_type": "code",
   "execution_count": 78,
   "id": "a84fc9d7-c888-471c-b756-275e8a51e0ce",
   "metadata": {
    "tags": []
   },
   "outputs": [
    {
     "data": {
      "text/html": [
       "<div>\n",
       "<style scoped>\n",
       "    .dataframe tbody tr th:only-of-type {\n",
       "        vertical-align: middle;\n",
       "    }\n",
       "\n",
       "    .dataframe tbody tr th {\n",
       "        vertical-align: top;\n",
       "    }\n",
       "\n",
       "    .dataframe thead th {\n",
       "        text-align: right;\n",
       "    }\n",
       "</style>\n",
       "<table border=\"1\" class=\"dataframe\">\n",
       "  <thead>\n",
       "    <tr style=\"text-align: right;\">\n",
       "      <th></th>\n",
       "      <th>count</th>\n",
       "      <th>mean</th>\n",
       "      <th>std</th>\n",
       "      <th>min</th>\n",
       "      <th>25%</th>\n",
       "      <th>50%</th>\n",
       "      <th>75%</th>\n",
       "      <th>max</th>\n",
       "    </tr>\n",
       "    <tr>\n",
       "      <th>字段解释</th>\n",
       "      <th></th>\n",
       "      <th></th>\n",
       "      <th></th>\n",
       "      <th></th>\n",
       "      <th></th>\n",
       "      <th></th>\n",
       "      <th></th>\n",
       "      <th></th>\n",
       "    </tr>\n",
       "  </thead>\n",
       "  <tbody>\n",
       "    <tr>\n",
       "      <th>木头获取数量</th>\n",
       "      <td>2288007.000</td>\n",
       "      <td>454306.859</td>\n",
       "      <td>4958667.146</td>\n",
       "      <td>0.000</td>\n",
       "      <td>0.000</td>\n",
       "      <td>42038.000</td>\n",
       "      <td>153118.000</td>\n",
       "      <td>1239962311.000</td>\n",
       "    </tr>\n",
       "    <tr>\n",
       "      <th>木头消耗数量</th>\n",
       "      <td>2288007.000</td>\n",
       "      <td>369843.252</td>\n",
       "      <td>3737720.038</td>\n",
       "      <td>0.000</td>\n",
       "      <td>0.000</td>\n",
       "      <td>9830.000</td>\n",
       "      <td>98557.000</td>\n",
       "      <td>799587506.000</td>\n",
       "    </tr>\n",
       "    <tr>\n",
       "      <th>石头获取数量</th>\n",
       "      <td>2288007.000</td>\n",
       "      <td>189778.774</td>\n",
       "      <td>4670619.517</td>\n",
       "      <td>0.000</td>\n",
       "      <td>0.000</td>\n",
       "      <td>0.000</td>\n",
       "      <td>0.000</td>\n",
       "      <td>1214869437.000</td>\n",
       "    </tr>\n",
       "    <tr>\n",
       "      <th>石头消耗数量</th>\n",
       "      <td>2288007.000</td>\n",
       "      <td>137607.363</td>\n",
       "      <td>3370166.356</td>\n",
       "      <td>0.000</td>\n",
       "      <td>0.000</td>\n",
       "      <td>0.000</td>\n",
       "      <td>0.000</td>\n",
       "      <td>796237770.000</td>\n",
       "    </tr>\n",
       "    <tr>\n",
       "      <th>象牙获取数量</th>\n",
       "      <td>2288007.000</td>\n",
       "      <td>80756.230</td>\n",
       "      <td>2220540.322</td>\n",
       "      <td>0.000</td>\n",
       "      <td>0.000</td>\n",
       "      <td>0.000</td>\n",
       "      <td>0.000</td>\n",
       "      <td>574496104.000</td>\n",
       "    </tr>\n",
       "    <tr>\n",
       "      <th>象牙消耗数量</th>\n",
       "      <td>2288007.000</td>\n",
       "      <td>36131.699</td>\n",
       "      <td>1782498.688</td>\n",
       "      <td>0.000</td>\n",
       "      <td>0.000</td>\n",
       "      <td>0.000</td>\n",
       "      <td>0.000</td>\n",
       "      <td>448197157.000</td>\n",
       "    </tr>\n",
       "    <tr>\n",
       "      <th>肉获取数量</th>\n",
       "      <td>2288007.000</td>\n",
       "      <td>585515.505</td>\n",
       "      <td>5868629.397</td>\n",
       "      <td>0.000</td>\n",
       "      <td>0.000</td>\n",
       "      <td>34587.000</td>\n",
       "      <td>136001.000</td>\n",
       "      <td>1470643810.000</td>\n",
       "    </tr>\n",
       "    <tr>\n",
       "      <th>肉消耗数量</th>\n",
       "      <td>2288007.000</td>\n",
       "      <td>354810.206</td>\n",
       "      <td>3400632.455</td>\n",
       "      <td>0.000</td>\n",
       "      <td>0.000</td>\n",
       "      <td>6470.000</td>\n",
       "      <td>66054.000</td>\n",
       "      <td>888953714.000</td>\n",
       "    </tr>\n",
       "    <tr>\n",
       "      <th>魔法获取数量</th>\n",
       "      <td>2288007.000</td>\n",
       "      <td>75389.535</td>\n",
       "      <td>966289.236</td>\n",
       "      <td>0.000</td>\n",
       "      <td>0.000</td>\n",
       "      <td>0.000</td>\n",
       "      <td>0.000</td>\n",
       "      <td>263722820.000</td>\n",
       "    </tr>\n",
       "    <tr>\n",
       "      <th>魔法消耗数量</th>\n",
       "      <td>2288007.000</td>\n",
       "      <td>47253.994</td>\n",
       "      <td>881122.273</td>\n",
       "      <td>0.000</td>\n",
       "      <td>0.000</td>\n",
       "      <td>0.000</td>\n",
       "      <td>0.000</td>\n",
       "      <td>263722891.000</td>\n",
       "    </tr>\n",
       "    <tr>\n",
       "      <th>勇士招募数量</th>\n",
       "      <td>2288007.000</td>\n",
       "      <td>143.610</td>\n",
       "      <td>1781.468</td>\n",
       "      <td>0.000</td>\n",
       "      <td>0.000</td>\n",
       "      <td>0.000</td>\n",
       "      <td>0.000</td>\n",
       "      <td>874918.000</td>\n",
       "    </tr>\n",
       "    <tr>\n",
       "      <th>勇士损失数量</th>\n",
       "      <td>2288007.000</td>\n",
       "      <td>226.782</td>\n",
       "      <td>1738.488</td>\n",
       "      <td>0.000</td>\n",
       "      <td>0.000</td>\n",
       "      <td>0.000</td>\n",
       "      <td>0.000</td>\n",
       "      <td>878883.000</td>\n",
       "    </tr>\n",
       "    <tr>\n",
       "      <th>驯兽师招募数量</th>\n",
       "      <td>2288007.000</td>\n",
       "      <td>128.264</td>\n",
       "      <td>1334.977</td>\n",
       "      <td>0.000</td>\n",
       "      <td>0.000</td>\n",
       "      <td>0.000</td>\n",
       "      <td>0.000</td>\n",
       "      <td>353852.000</td>\n",
       "    </tr>\n",
       "    <tr>\n",
       "      <th>驯兽师损失数量</th>\n",
       "      <td>2288007.000</td>\n",
       "      <td>178.006</td>\n",
       "      <td>1347.096</td>\n",
       "      <td>0.000</td>\n",
       "      <td>0.000</td>\n",
       "      <td>0.000</td>\n",
       "      <td>0.000</td>\n",
       "      <td>370375.000</td>\n",
       "    </tr>\n",
       "    <tr>\n",
       "      <th>勇士伤兵产生数量</th>\n",
       "      <td>2288007.000</td>\n",
       "      <td>135.304</td>\n",
       "      <td>1333.236</td>\n",
       "      <td>0.000</td>\n",
       "      <td>0.000</td>\n",
       "      <td>0.000</td>\n",
       "      <td>0.000</td>\n",
       "      <td>803996.000</td>\n",
       "    </tr>\n",
       "    <tr>\n",
       "      <th>勇士伤兵恢复数量</th>\n",
       "      <td>2288007.000</td>\n",
       "      <td>91.984</td>\n",
       "      <td>1287.586</td>\n",
       "      <td>0.000</td>\n",
       "      <td>0.000</td>\n",
       "      <td>0.000</td>\n",
       "      <td>0.000</td>\n",
       "      <td>803996.000</td>\n",
       "    </tr>\n",
       "    <tr>\n",
       "      <th>驯兽师伤兵产生数量</th>\n",
       "      <td>2288007.000</td>\n",
       "      <td>116.503</td>\n",
       "      <td>1009.972</td>\n",
       "      <td>0.000</td>\n",
       "      <td>0.000</td>\n",
       "      <td>0.000</td>\n",
       "      <td>0.000</td>\n",
       "      <td>347967.000</td>\n",
       "    </tr>\n",
       "    <tr>\n",
       "      <th>驯兽师伤兵恢复数量</th>\n",
       "      <td>2288007.000</td>\n",
       "      <td>84.346</td>\n",
       "      <td>950.375</td>\n",
       "      <td>0.000</td>\n",
       "      <td>0.000</td>\n",
       "      <td>0.000</td>\n",
       "      <td>0.000</td>\n",
       "      <td>347967.000</td>\n",
       "    </tr>\n",
       "    <tr>\n",
       "      <th>通用加速获取数量</th>\n",
       "      <td>2288007.000</td>\n",
       "      <td>282.545</td>\n",
       "      <td>3001.938</td>\n",
       "      <td>0.000</td>\n",
       "      <td>0.000</td>\n",
       "      <td>0.000</td>\n",
       "      <td>53.000</td>\n",
       "      <td>795484.000</td>\n",
       "    </tr>\n",
       "    <tr>\n",
       "      <th>通用加速使用数量</th>\n",
       "      <td>2288007.000</td>\n",
       "      <td>192.031</td>\n",
       "      <td>2619.487</td>\n",
       "      <td>0.000</td>\n",
       "      <td>0.000</td>\n",
       "      <td>0.000</td>\n",
       "      <td>0.000</td>\n",
       "      <td>764637.000</td>\n",
       "    </tr>\n",
       "    <tr>\n",
       "      <th>建筑加速获取数量</th>\n",
       "      <td>2288007.000</td>\n",
       "      <td>205.557</td>\n",
       "      <td>1427.626</td>\n",
       "      <td>0.000</td>\n",
       "      <td>0.000</td>\n",
       "      <td>0.000</td>\n",
       "      <td>232.000</td>\n",
       "      <td>411362.000</td>\n",
       "    </tr>\n",
       "    <tr>\n",
       "      <th>建筑加速使用数量</th>\n",
       "      <td>2288007.000</td>\n",
       "      <td>142.776</td>\n",
       "      <td>1283.584</td>\n",
       "      <td>0.000</td>\n",
       "      <td>0.000</td>\n",
       "      <td>0.000</td>\n",
       "      <td>46.000</td>\n",
       "      <td>306515.000</td>\n",
       "    </tr>\n",
       "    <tr>\n",
       "      <th>科研加速获取数量</th>\n",
       "      <td>2288007.000</td>\n",
       "      <td>132.671</td>\n",
       "      <td>1516.142</td>\n",
       "      <td>0.000</td>\n",
       "      <td>0.000</td>\n",
       "      <td>0.000</td>\n",
       "      <td>50.000</td>\n",
       "      <td>377796.000</td>\n",
       "    </tr>\n",
       "    <tr>\n",
       "      <th>科研加速使用数量</th>\n",
       "      <td>2288007.000</td>\n",
       "      <td>73.653</td>\n",
       "      <td>1339.241</td>\n",
       "      <td>0.000</td>\n",
       "      <td>0.000</td>\n",
       "      <td>0.000</td>\n",
       "      <td>0.000</td>\n",
       "      <td>338437.000</td>\n",
       "    </tr>\n",
       "    <tr>\n",
       "      <th>训练加速获取数量</th>\n",
       "      <td>2288007.000</td>\n",
       "      <td>210.808</td>\n",
       "      <td>1942.369</td>\n",
       "      <td>0.000</td>\n",
       "      <td>0.000</td>\n",
       "      <td>45.000</td>\n",
       "      <td>100.000</td>\n",
       "      <td>671607.000</td>\n",
       "    </tr>\n",
       "    <tr>\n",
       "      <th>训练加速使用数量</th>\n",
       "      <td>2288007.000</td>\n",
       "      <td>65.022</td>\n",
       "      <td>1554.042</td>\n",
       "      <td>0.000</td>\n",
       "      <td>0.000</td>\n",
       "      <td>0.000</td>\n",
       "      <td>0.000</td>\n",
       "      <td>529587.000</td>\n",
       "    </tr>\n",
       "    <tr>\n",
       "      <th>治疗加速获取数量</th>\n",
       "      <td>2288007.000</td>\n",
       "      <td>10.416</td>\n",
       "      <td>49.638</td>\n",
       "      <td>0.000</td>\n",
       "      <td>0.000</td>\n",
       "      <td>0.000</td>\n",
       "      <td>0.000</td>\n",
       "      <td>14048.000</td>\n",
       "    </tr>\n",
       "  </tbody>\n",
       "</table>\n",
       "</div>"
      ],
      "text/plain": [
       "                count       mean         std   min   25%       50%        75%  \\\n",
       "字段解释                                                                            \n",
       "木头获取数量    2288007.000 454306.859 4958667.146 0.000 0.000 42038.000 153118.000   \n",
       "木头消耗数量    2288007.000 369843.252 3737720.038 0.000 0.000  9830.000  98557.000   \n",
       "石头获取数量    2288007.000 189778.774 4670619.517 0.000 0.000     0.000      0.000   \n",
       "石头消耗数量    2288007.000 137607.363 3370166.356 0.000 0.000     0.000      0.000   \n",
       "象牙获取数量    2288007.000  80756.230 2220540.322 0.000 0.000     0.000      0.000   \n",
       "象牙消耗数量    2288007.000  36131.699 1782498.688 0.000 0.000     0.000      0.000   \n",
       "肉获取数量     2288007.000 585515.505 5868629.397 0.000 0.000 34587.000 136001.000   \n",
       "肉消耗数量     2288007.000 354810.206 3400632.455 0.000 0.000  6470.000  66054.000   \n",
       "魔法获取数量    2288007.000  75389.535  966289.236 0.000 0.000     0.000      0.000   \n",
       "魔法消耗数量    2288007.000  47253.994  881122.273 0.000 0.000     0.000      0.000   \n",
       "勇士招募数量    2288007.000    143.610    1781.468 0.000 0.000     0.000      0.000   \n",
       "勇士损失数量    2288007.000    226.782    1738.488 0.000 0.000     0.000      0.000   \n",
       "驯兽师招募数量   2288007.000    128.264    1334.977 0.000 0.000     0.000      0.000   \n",
       "驯兽师损失数量   2288007.000    178.006    1347.096 0.000 0.000     0.000      0.000   \n",
       "勇士伤兵产生数量  2288007.000    135.304    1333.236 0.000 0.000     0.000      0.000   \n",
       "勇士伤兵恢复数量  2288007.000     91.984    1287.586 0.000 0.000     0.000      0.000   \n",
       "驯兽师伤兵产生数量 2288007.000    116.503    1009.972 0.000 0.000     0.000      0.000   \n",
       "驯兽师伤兵恢复数量 2288007.000     84.346     950.375 0.000 0.000     0.000      0.000   \n",
       "通用加速获取数量  2288007.000    282.545    3001.938 0.000 0.000     0.000     53.000   \n",
       "通用加速使用数量  2288007.000    192.031    2619.487 0.000 0.000     0.000      0.000   \n",
       "建筑加速获取数量  2288007.000    205.557    1427.626 0.000 0.000     0.000    232.000   \n",
       "建筑加速使用数量  2288007.000    142.776    1283.584 0.000 0.000     0.000     46.000   \n",
       "科研加速获取数量  2288007.000    132.671    1516.142 0.000 0.000     0.000     50.000   \n",
       "科研加速使用数量  2288007.000     73.653    1339.241 0.000 0.000     0.000      0.000   \n",
       "训练加速获取数量  2288007.000    210.808    1942.369 0.000 0.000    45.000    100.000   \n",
       "训练加速使用数量  2288007.000     65.022    1554.042 0.000 0.000     0.000      0.000   \n",
       "治疗加速获取数量  2288007.000     10.416      49.638 0.000 0.000     0.000      0.000   \n",
       "\n",
       "                     max  \n",
       "字段解释                      \n",
       "木头获取数量    1239962311.000  \n",
       "木头消耗数量     799587506.000  \n",
       "石头获取数量    1214869437.000  \n",
       "石头消耗数量     796237770.000  \n",
       "象牙获取数量     574496104.000  \n",
       "象牙消耗数量     448197157.000  \n",
       "肉获取数量     1470643810.000  \n",
       "肉消耗数量      888953714.000  \n",
       "魔法获取数量     263722820.000  \n",
       "魔法消耗数量     263722891.000  \n",
       "勇士招募数量        874918.000  \n",
       "勇士损失数量        878883.000  \n",
       "驯兽师招募数量       353852.000  \n",
       "驯兽师损失数量       370375.000  \n",
       "勇士伤兵产生数量      803996.000  \n",
       "勇士伤兵恢复数量      803996.000  \n",
       "驯兽师伤兵产生数量     347967.000  \n",
       "驯兽师伤兵恢复数量     347967.000  \n",
       "通用加速获取数量      795484.000  \n",
       "通用加速使用数量      764637.000  \n",
       "建筑加速获取数量      411362.000  \n",
       "建筑加速使用数量      306515.000  \n",
       "科研加速获取数量      377796.000  \n",
       "科研加速使用数量      338437.000  \n",
       "训练加速获取数量      671607.000  \n",
       "训练加速使用数量      529587.000  \n",
       "治疗加速获取数量       14048.000  "
      ]
     },
     "execution_count": 78,
     "metadata": {},
     "output_type": "execute_result"
    }
   ],
   "source": [
    "data.loc[:,A[\"特征\"]].describe().T"
   ]
  },
  {
   "cell_type": "markdown",
   "id": "04f8c574-6b3b-4772-9a5e-200265dfd4a7",
   "metadata": {},
   "source": [
    "从分析的结果来看，各项资源的配比数量其实还算合理。假设一款游戏只想服务氪金玩家，那B类资源会很多、大量A类资源的获取渠道也会转向氪金方向，但《野蛮时代》明显没有这样的设计，在游戏早期只有兵种萨满相关的集中资源和技能是需要氪金的，说明游戏依然在致力于为普通玩家提供较好的体验，所以大部分用户应该不是因为新手关太难、剧情无法推进才退游的。然而，各类资源的可获取量其实有很大的差异，基础资源动辄就上百万甚至上亿，可能会让用户获得感严重不足。而从A类资源的分布来看，只有木头和肉这两种最最最基础的资源是分布较为正常的，其他资源都是严重左偏，**说明“留存率低”是原因，“资源数据的异常”是结果**。最有可能的情况就是产品逻辑不顺、获得感不足、美工不足、系统BUG（比如疯狂闪退等等）、或者强烈的捞金感/不高级感让大部分用户在第一天就流失掉了。"
   ]
  },
  {
   "cell_type": "markdown",
   "id": "8ac54df9-6ef4-429c-9889-a8e85e2c7e5d",
   "metadata": {},
   "source": [
    "### 3.3 平衡性影响：氪金与战斗优势\n",
    "\n",
    "如果游戏对于新手并非很难上手，那是否是战斗力系统的设置让非氪玩家感觉不太友好呢？过于强大的角色、过于强大的技能和道具都可能影响游戏平衡性，平衡性这个复杂的指标其实可以从很多方面来进行考虑，可惜在现有数据下，我们能够考虑的唯有胜率。我们可以分析氪金用户与不氪金用户的战力差异，来判断氪金对游戏平衡性的影响。"
   ]
  },
  {
   "cell_type": "code",
   "execution_count": 79,
   "id": "3bdd1a00-6b1d-4bf9-be5c-084996b716da",
   "metadata": {
    "tags": []
   },
   "outputs": [
    {
     "data": {
      "text/plain": [
       "['玩家唯一ID',\n",
       " '玩家注册时间',\n",
       " '木头获取数量',\n",
       " '木头消耗数量',\n",
       " '石头获取数量',\n",
       " '石头消耗数量',\n",
       " '象牙获取数量',\n",
       " '象牙消耗数量',\n",
       " '肉获取数量',\n",
       " '肉消耗数量',\n",
       " '魔法获取数量',\n",
       " '魔法消耗数量',\n",
       " '勇士招募数量',\n",
       " '勇士损失数量',\n",
       " '驯兽师招募数量',\n",
       " '驯兽师损失数量',\n",
       " '萨满招募数量',\n",
       " '萨满损失数量',\n",
       " '勇士伤兵产生数量',\n",
       " '勇士伤兵恢复数量',\n",
       " '驯兽师伤兵产生数量',\n",
       " '驯兽师伤兵恢复数量',\n",
       " '萨满伤兵产生数量',\n",
       " '萨满伤兵恢复数量',\n",
       " '通用加速获取数量',\n",
       " '通用加速使用数量',\n",
       " '建筑加速获取数量',\n",
       " '建筑加速使用数量',\n",
       " '科研加速获取数量',\n",
       " '科研加速使用数量',\n",
       " '训练加速获取数量',\n",
       " '训练加速使用数量',\n",
       " '治疗加速获取数量',\n",
       " '治疗加速使用数量',\n",
       " '建筑：士兵小屋等级',\n",
       " '建筑：治疗小井等级',\n",
       " '建筑：要塞等级',\n",
       " '建筑：据点传送门等级',\n",
       " '建筑：兵营等级',\n",
       " '建筑：治疗之泉等级',\n",
       " '建筑：智慧神庙等级',\n",
       " '建筑：联盟大厅等级',\n",
       " '建筑：仓库等级',\n",
       " '建筑：瞭望塔等级',\n",
       " '建筑：魔法幸运树等级',\n",
       " '建筑：战争大厅等级',\n",
       " '建筑：联盟货车等级',\n",
       " '建筑：占卜台等级',\n",
       " '建筑：祭坛等级',\n",
       " '建筑：冒险传送门等级',\n",
       " '科研：侦查等级',\n",
       " '科研：训练速度等级',\n",
       " '科研：守护者',\n",
       " '科研：巨兽驯兽师',\n",
       " '科研：吟唱者',\n",
       " '科研：勇士攻击',\n",
       " '科研：驯兽师攻击',\n",
       " '科研：萨满攻击',\n",
       " '科研：战斗大师',\n",
       " '科研：高阶巨兽骑兵',\n",
       " '科研：图腾大师',\n",
       " '科研：部队防御',\n",
       " '科研：勇士防御',\n",
       " '科研：驯兽师防御',\n",
       " '科研：萨满防御',\n",
       " '科研：勇士生命',\n",
       " '科研：驯兽师生命',\n",
       " '科研：萨满生命',\n",
       " '科研：狂战士',\n",
       " '科研：龙骑兵',\n",
       " '科研：神谕者',\n",
       " '科研：部队攻击',\n",
       " '科研：建造速度',\n",
       " '科研：资源保护',\n",
       " '科研：部队消耗',\n",
       " '科研：木材生产',\n",
       " '科研：石头生产',\n",
       " '科研：象牙生产',\n",
       " '科研：肉类生产',\n",
       " '科研：木材采集',\n",
       " '科研：石头采集',\n",
       " '科研：象牙采集',\n",
       " '科研：肉类采集',\n",
       " '科研：部队负重',\n",
       " '科研：魔法采集',\n",
       " '科研：魔法生产',\n",
       " '科研：据点耐久',\n",
       " '科研：据点二',\n",
       " '科研：医院容量',\n",
       " '科研：领土采集奖励',\n",
       " '科研：治疗速度',\n",
       " '科研：据点三',\n",
       " '科研：联盟行军速度',\n",
       " '科研：战斗行军速度',\n",
       " '科研：采集行军速度',\n",
       " '科研：据点四',\n",
       " '科研：增援部队容量',\n",
       " '科研：行军大小',\n",
       " '科研：资源帮助容量',\n",
       " 'PVP次数',\n",
       " '主动发起PVP次数',\n",
       " 'PVP胜利次数',\n",
       " 'PVE次数',\n",
       " '主动发起PVE次数',\n",
       " 'PVE胜利次数',\n",
       " '在线时长',\n",
       " '付费金额',\n",
       " '付费次数',\n",
       " '45日付费金额']"
      ]
     },
     "execution_count": 79,
     "metadata": {},
     "output_type": "execute_result"
    }
   ],
   "source": [
    "data.columns.tolist()"
   ]
  },
  {
   "cell_type": "code",
   "execution_count": 80,
   "id": "ed6a1b00-08cb-4bc0-9d88-d0f6e55a46f3",
   "metadata": {
    "tags": []
   },
   "outputs": [
    {
     "data": {
      "text/plain": [
       "25.193802939260117"
      ]
     },
     "execution_count": 80,
     "metadata": {},
     "output_type": "execute_result"
    }
   ],
   "source": [
    "#7日氪金玩家的人均PVP次数 - 氪金玩家是否热衷于战斗\n",
    "data[data[\"付费金额\"] !=0][\"PVP次数\"].mean()"
   ]
  },
  {
   "cell_type": "code",
   "execution_count": 81,
   "id": "2589590c-f25b-4c4f-9e20-509066282804",
   "metadata": {
    "tags": []
   },
   "outputs": [
    {
     "data": {
      "text/plain": [
       "count   35755.000\n",
       "mean        0.533\n",
       "std         0.360\n",
       "min         0.000\n",
       "25%         0.200\n",
       "50%         0.600\n",
       "75%         0.865\n",
       "max         1.000\n",
       "dtype: float64"
      ]
     },
     "execution_count": 81,
     "metadata": {},
     "output_type": "execute_result"
    }
   ],
   "source": [
    "#7日氪金玩家PVP胜率 分布\n",
    "(data[data[\"付费金额\"] !=0][\"PVP胜利次数\"]/data[data[\"付费金额\"] !=0][\"PVP次数\"]).describe()"
   ]
  },
  {
   "cell_type": "markdown",
   "id": "d7b391a9-1ec5-4dde-99a7-0f65e4e51e22",
   "metadata": {},
   "source": [
    "可以看到，人均PVP胜率是53.27%，对手游付费玩家来说是个可以接受的数字，但并不是特别大的优势。其中count数是少于总付费玩家的人数的，说明有部分玩家的PVP次数为0，为避免除0错误因此剔除了这些玩家。不参与PVP的玩家占比为："
   ]
  },
  {
   "cell_type": "code",
   "execution_count": 82,
   "id": "b93fe11f-1c77-4c7b-8b18-514d94935eac",
   "metadata": {
    "tags": []
   },
   "outputs": [
    {
     "data": {
      "text/plain": [
       "0.1371654721397717"
      ]
     },
     "execution_count": 82,
     "metadata": {},
     "output_type": "execute_result"
    }
   ],
   "source": [
    "# 13%的付费玩家从不玩PVP\n",
    "1 - 35755/data[data[\"付费金额\"] !=0].shape[0] "
   ]
  },
  {
   "cell_type": "code",
   "execution_count": 83,
   "id": "04196d5d-6bb0-406b-a3e5-9815215a6a56",
   "metadata": {
    "tags": []
   },
   "outputs": [
    {
     "data": {
      "text/plain": [
       "1.723228497868749"
      ]
     },
     "execution_count": 83,
     "metadata": {},
     "output_type": "execute_result"
    }
   ],
   "source": [
    "# 不氪金玩家的人均PVP次数\n",
    "data[data[\"付费金额\"] == 0][\"PVP次数\"].mean()"
   ]
  },
  {
   "cell_type": "code",
   "execution_count": 84,
   "id": "d055416a-711d-4182-a561-f265762fbcf8",
   "metadata": {
    "tags": []
   },
   "outputs": [
    {
     "data": {
      "text/plain": [
       "count   539947.000\n",
       "mean         0.254\n",
       "std          0.355\n",
       "min          0.000\n",
       "25%          0.000\n",
       "50%          0.000\n",
       "75%          0.500\n",
       "max          1.000\n",
       "dtype: float64"
      ]
     },
     "execution_count": 84,
     "metadata": {},
     "output_type": "execute_result"
    }
   ],
   "source": [
    "# 不氪金玩家PVP胜率分布\n",
    "(data[data[\"付费金额\"] == 0][\"PVP胜利次数\"]/data[data[\"付费金额\"] ==0][\"PVP次数\"]).describe()"
   ]
  },
  {
   "cell_type": "markdown",
   "id": "48c28088-b5f6-49d3-8bbe-096defbc7cd6",
   "metadata": {},
   "source": [
    "对非付费玩家而言，人均PVP胜率只有25%，并且75%的人的场均胜率不到50%，这个条件对非付费玩家来说的确比较苛刻。\n",
    "\n",
    "同样，不氪金玩家中也有部分玩家的PVP次数为0，即一次也没有参与。来看不氪金玩家中参与PVP的人数占比："
   ]
  },
  {
   "cell_type": "code",
   "execution_count": 85,
   "id": "899dae8e-fde8-4dce-8448-e49e886fcc6f",
   "metadata": {
    "tags": []
   },
   "outputs": [
    {
     "data": {
      "text/plain": [
       "0.7596569522934539"
      ]
     },
     "execution_count": 85,
     "metadata": {},
     "output_type": "execute_result"
    }
   ],
   "source": [
    "1 - 539947/data[data[\"付费金额\"] ==0].shape[0]"
   ]
  },
  {
   "cell_type": "markdown",
   "id": "04ece849-fbff-4413-aad0-53285fedc285",
   "metadata": {},
   "source": [
    "这个比例奇高，当然，不氪金用户中有许多人可能是已经流失的用户，因此当然不会参与PVP对战。"
   ]
  },
  {
   "cell_type": "code",
   "execution_count": 86,
   "id": "24fb3d36-935c-4a1e-a613-6616f8f6f5a8",
   "metadata": {
    "tags": []
   },
   "outputs": [
    {
     "data": {
      "text/plain": [
       "count   539947.000\n",
       "mean         0.262\n",
       "std          0.365\n",
       "min          0.000\n",
       "25%          0.000\n",
       "50%          0.000\n",
       "75%          0.500\n",
       "max          1.000\n",
       "dtype: float64"
      ]
     },
     "execution_count": 86,
     "metadata": {},
     "output_type": "execute_result"
    }
   ],
   "source": [
    "# 氪金玩家会更好战？ 不氪金玩家会更佛系？\n",
    "(data[data[\"付费金额\"] ==0][\"主动发起PVP次数\"]/data[data[\"付费金额\"] ==0][\"PVP次数\"]).describe()"
   ]
  },
  {
   "cell_type": "markdown",
   "id": "cb8bf655-603b-4387-ae70-684af5187d6a",
   "metadata": {},
   "source": [
    "不付费玩家则有26%的时候主动发起对战，不过大多数时候75%的人都不会发起对战。\n",
    "\n",
    "如果PVP状况下是付费玩家占绝对优势，那PVE也是相同的情况吗？\n",
    "\n",
    "**PVE情况**"
   ]
  },
  {
   "cell_type": "code",
   "execution_count": 87,
   "id": "1a94c7e6-fb15-4558-8dc4-0c87fb54700c",
   "metadata": {
    "tags": []
   },
   "outputs": [
    {
     "data": {
      "text/plain": [
       "count   37389.000\n",
       "mean        0.885\n",
       "std         0.141\n",
       "min         0.000\n",
       "25%         0.840\n",
       "50%         0.926\n",
       "75%         0.988\n",
       "max         1.000\n",
       "dtype: float64"
      ]
     },
     "execution_count": 87,
     "metadata": {},
     "output_type": "execute_result"
    }
   ],
   "source": [
    "#氪金玩家PVE胜率分布\n",
    "(data[data[\"付费金额\"] !=0][\"PVE胜利次数\"]/data[data[\"付费金额\"] !=0][\"PVE次数\"]).describe()"
   ]
  },
  {
   "cell_type": "code",
   "execution_count": 88,
   "id": "ae9c79c4-c18c-4d56-99fa-c95bc66f28f9",
   "metadata": {
    "tags": []
   },
   "outputs": [
    {
     "data": {
      "text/plain": [
       "count   703148.000\n",
       "mean         0.921\n",
       "std          0.179\n",
       "min          0.000\n",
       "25%          0.965\n",
       "50%          1.000\n",
       "75%          1.000\n",
       "max          1.000\n",
       "dtype: float64"
      ]
     },
     "execution_count": 88,
     "metadata": {},
     "output_type": "execute_result"
    }
   ],
   "source": [
    "#不氪金玩家PVE胜率分布\n",
    "(data[data[\"付费金额\"] ==0][\"PVE胜利次数\"]/data[data[\"付费金额\"] ==0][\"PVE次数\"]).describe()"
   ]
  },
  {
   "cell_type": "markdown",
   "id": "a3e04230-4768-43b0-a53f-2c9cd5726ca7",
   "metadata": {},
   "source": [
    "不难发现，不氪金玩家的PVE平均胜率有92%，是高于氪金玩家的品滚胜率88%的，看来环境怪兽都比较弱小，大部分玩家都能够轻松战胜。当PVP上氪金玩家有绝对优势时，不氪金玩家许多会选择在PVE环境中进行战斗，因此我们推断不氪金玩家主动发起PVE战斗的情况会更多："
   ]
  },
  {
   "cell_type": "code",
   "execution_count": 89,
   "id": "2008928b-5b5f-459a-9863-6c2dba8f2812",
   "metadata": {
    "tags": []
   },
   "outputs": [
    {
     "data": {
      "text/plain": [
       "count   37389.000\n",
       "mean        0.991\n",
       "std         0.067\n",
       "min         0.000\n",
       "25%         1.000\n",
       "50%         1.000\n",
       "75%         1.000\n",
       "max         1.000\n",
       "dtype: float64"
      ]
     },
     "execution_count": 89,
     "metadata": {},
     "output_type": "execute_result"
    }
   ],
   "source": [
    "#在PVE系统中，付费玩家主动发起战斗的概率\n",
    "(data[data[\"付费金额\"] !=0][\"主动发起PVE次数\"]/data[data[\"付费金额\"] !=0][\"PVE次数\"]).describe()"
   ]
  },
  {
   "cell_type": "code",
   "execution_count": 90,
   "id": "39689105-effa-423c-bcb9-4904a2c8470d",
   "metadata": {
    "tags": []
   },
   "outputs": [
    {
     "data": {
      "text/plain": [
       "count   703148.000\n",
       "mean         0.996\n",
       "std          0.056\n",
       "min          0.000\n",
       "25%          1.000\n",
       "50%          1.000\n",
       "75%          1.000\n",
       "max          1.000\n",
       "dtype: float64"
      ]
     },
     "execution_count": 90,
     "metadata": {},
     "output_type": "execute_result"
    }
   ],
   "source": [
    "#在PVE系统中，不付费玩家主动发起战斗的概率\n",
    "(data[data[\"付费金额\"] == 0][\"主动发起PVE次数\"]/data[data[\"付费金额\"] ==0][\"PVE次数\"]).describe()"
   ]
  },
  {
   "cell_type": "markdown",
   "id": "f49a679c-7e6d-497d-8d4e-a3373c29ffae",
   "metadata": {},
   "source": [
    "氪金与不氪金玩家主动放弃PVE的可能性都非常高，几乎所有人都是主动发起PVE战斗，这可能说明PVE战斗是发展城市必须的环节（比如收集资源肉类需要猎杀野猪等生物、获取魔法道具需要猎杀龙、哥布林等生物）。从分析的结果来看，氪金并不会对PVE战斗有影响，主要是影响PVP。\n",
    "\n",
    "《野蛮时代》中玩家或许可以夺取其他玩家的领地和城池，因此PVP对战的平衡性对玩家流失有重要的影响。前期留存下来，但后期逐渐流失的非氪金用户有一定的可能是因为PVP胜率太低而离开"
   ]
  },
  {
   "cell_type": "markdown",
   "id": "d4f410d5-f5b0-4854-9f4f-99a72803d792",
   "metadata": {},
   "source": [
    "### 3.4 左偏带来长尾：谁是异常玩家？\n",
    "在特征高度左偏的情况下，数据中必然含有大量的异常值，这些异常值可能代表着某些特殊的人群，但带入异常值进行建模会严重影响模型的稳定性，导致模型容易过拟合。因此在建模之前，我们需要对异常值进行简单的探索，以确定异常值的处理方法。\n",
    "\n",
    "\n",
    "异常值：\n",
    "- 业务上的异常值\n",
    "- 统计学上的异常值\n",
    "\n",
    "1. 业务上的异常值\n",
    "\n",
    ">从游戏业务角度而言，所有的资源/人物等级/胜利次数/金额等不应该出现负数，因此首先排查负数\n",
    "\n",
    ">如果存在用户信息，则需要排查年龄不为负，年龄不过高或过低等状况\n",
    "\n",
    ">查看是否有上线时间较短，但是资源量异常丰富的账号，可能是GM，也可能有人作弊"
   ]
  },
  {
   "cell_type": "code",
   "execution_count": 91,
   "id": "ac55d87f-7880-46f0-b7e8-7dd1217fe758",
   "metadata": {
    "tags": []
   },
   "outputs": [
    {
     "data": {
      "text/plain": [
       "Index(['木头获取数量', '木头消耗数量', '石头获取数量', '石头消耗数量', '象牙获取数量', '象牙消耗数量', '肉获取数量',\n",
       "       '肉消耗数量', '魔法获取数量', '魔法消耗数量',\n",
       "       ...\n",
       "       '科研：资源帮助容量', 'PVP次数', '主动发起PVP次数', 'PVP胜利次数', 'PVE次数', '主动发起PVE次数',\n",
       "       'PVE胜利次数', '在线时长', '付费金额', '付费次数'],\n",
       "      dtype='object', name='字段解释', length=106)"
      ]
     },
     "execution_count": 91,
     "metadata": {},
     "output_type": "execute_result"
    }
   ],
   "source": [
    "data.columns[2:-1] \n",
    "# 不对ID，注册时间和标签（45日付费金额）计算异常值"
   ]
  },
  {
   "cell_type": "code",
   "execution_count": 92,
   "id": "1af0addc-b3e1-4cfd-9610-d43d2c09f203",
   "metadata": {
    "tags": []
   },
   "outputs": [],
   "source": [
    "AbnormalCheck = data.iloc[:,2:-1]"
   ]
  },
  {
   "cell_type": "code",
   "execution_count": 93,
   "id": "8eac6f81-574b-4fde-9ab1-77aae6eca503",
   "metadata": {
    "tags": []
   },
   "outputs": [
    {
     "name": "stdout",
     "output_type": "stream",
     "text": [
      "<class 'pandas.core.frame.DataFrame'>\n",
      "RangeIndex: 2288007 entries, 0 to 2288006\n",
      "Columns: 106 entries, 木头获取数量 to 付费次数\n",
      "dtypes: float64(12), int64(94)\n",
      "memory usage: 1.8 GB\n"
     ]
    }
   ],
   "source": [
    "AbnormalCheck.info() #确认已没有任何object对象"
   ]
  },
  {
   "cell_type": "code",
   "execution_count": 94,
   "id": "62e1e532-f52d-4cc5-9e67-b9aab531c34f",
   "metadata": {
    "tags": []
   },
   "outputs": [
    {
     "data": {
      "text/plain": [
       "0"
      ]
     },
     "execution_count": 94,
     "metadata": {},
     "output_type": "execute_result"
    }
   ],
   "source": [
    "# 确认无小于0的值\n",
    "(AbnormalCheck < 0).sum().sum() "
   ]
  },
  {
   "cell_type": "markdown",
   "id": "648e905d-316f-4acb-bd23-2f9f611f9e55",
   "metadata": {
    "tags": []
   },
   "source": [
    "通常我们还会检查在线时间很短但却拥有很多资源的账号，可能是作弊账号\n",
    "\n",
    "但以目前游戏1分钟积累4w资源、3分钟积累十几万资源的状况来看，很难去判断资源出现异常的“阈值”"
   ]
  },
  {
   "cell_type": "code",
   "execution_count": 95,
   "id": "8f881e74-17db-4dd5-b826-72b66ffd6ad2",
   "metadata": {
    "tags": []
   },
   "outputs": [
    {
     "data": {
      "text/html": [
       "<div>\n",
       "<style scoped>\n",
       "    .dataframe tbody tr th:only-of-type {\n",
       "        vertical-align: middle;\n",
       "    }\n",
       "\n",
       "    .dataframe tbody tr th {\n",
       "        vertical-align: top;\n",
       "    }\n",
       "\n",
       "    .dataframe thead th {\n",
       "        text-align: right;\n",
       "    }\n",
       "</style>\n",
       "<table border=\"1\" class=\"dataframe\">\n",
       "  <thead>\n",
       "    <tr style=\"text-align: right;\">\n",
       "      <th>字段解释</th>\n",
       "      <th>木头获取数量</th>\n",
       "      <th>木头消耗数量</th>\n",
       "      <th>石头获取数量</th>\n",
       "      <th>石头消耗数量</th>\n",
       "      <th>象牙获取数量</th>\n",
       "      <th>象牙消耗数量</th>\n",
       "      <th>肉获取数量</th>\n",
       "      <th>肉消耗数量</th>\n",
       "      <th>魔法获取数量</th>\n",
       "      <th>魔法消耗数量</th>\n",
       "      <th>...</th>\n",
       "      <th>科研：资源帮助容量</th>\n",
       "      <th>PVP次数</th>\n",
       "      <th>主动发起PVP次数</th>\n",
       "      <th>PVP胜利次数</th>\n",
       "      <th>PVE次数</th>\n",
       "      <th>主动发起PVE次数</th>\n",
       "      <th>PVE胜利次数</th>\n",
       "      <th>在线时长</th>\n",
       "      <th>付费金额</th>\n",
       "      <th>付费次数</th>\n",
       "    </tr>\n",
       "  </thead>\n",
       "  <tbody>\n",
       "    <tr>\n",
       "      <th>0</th>\n",
       "      <td>20125.000</td>\n",
       "      <td>3700.000</td>\n",
       "      <td>0.000</td>\n",
       "      <td>0.000</td>\n",
       "      <td>0.000</td>\n",
       "      <td>0.000</td>\n",
       "      <td>16375.000</td>\n",
       "      <td>2000.000</td>\n",
       "      <td>0.000</td>\n",
       "      <td>0.000</td>\n",
       "      <td>...</td>\n",
       "      <td>0</td>\n",
       "      <td>0</td>\n",
       "      <td>0</td>\n",
       "      <td>0</td>\n",
       "      <td>0</td>\n",
       "      <td>0</td>\n",
       "      <td>0</td>\n",
       "      <td>0.333</td>\n",
       "      <td>0.000</td>\n",
       "      <td>0</td>\n",
       "    </tr>\n",
       "    <tr>\n",
       "      <th>1</th>\n",
       "      <td>0.000</td>\n",
       "      <td>0.000</td>\n",
       "      <td>0.000</td>\n",
       "      <td>0.000</td>\n",
       "      <td>0.000</td>\n",
       "      <td>0.000</td>\n",
       "      <td>0.000</td>\n",
       "      <td>0.000</td>\n",
       "      <td>0.000</td>\n",
       "      <td>0.000</td>\n",
       "      <td>...</td>\n",
       "      <td>0</td>\n",
       "      <td>0</td>\n",
       "      <td>0</td>\n",
       "      <td>0</td>\n",
       "      <td>0</td>\n",
       "      <td>0</td>\n",
       "      <td>0</td>\n",
       "      <td>0.333</td>\n",
       "      <td>0.000</td>\n",
       "      <td>0</td>\n",
       "    </tr>\n",
       "    <tr>\n",
       "      <th>2</th>\n",
       "      <td>0.000</td>\n",
       "      <td>0.000</td>\n",
       "      <td>0.000</td>\n",
       "      <td>0.000</td>\n",
       "      <td>0.000</td>\n",
       "      <td>0.000</td>\n",
       "      <td>0.000</td>\n",
       "      <td>0.000</td>\n",
       "      <td>0.000</td>\n",
       "      <td>0.000</td>\n",
       "      <td>...</td>\n",
       "      <td>0</td>\n",
       "      <td>0</td>\n",
       "      <td>0</td>\n",
       "      <td>0</td>\n",
       "      <td>0</td>\n",
       "      <td>0</td>\n",
       "      <td>0</td>\n",
       "      <td>1.167</td>\n",
       "      <td>0.000</td>\n",
       "      <td>0</td>\n",
       "    </tr>\n",
       "    <tr>\n",
       "      <th>3</th>\n",
       "      <td>0.000</td>\n",
       "      <td>0.000</td>\n",
       "      <td>0.000</td>\n",
       "      <td>0.000</td>\n",
       "      <td>0.000</td>\n",
       "      <td>0.000</td>\n",
       "      <td>0.000</td>\n",
       "      <td>0.000</td>\n",
       "      <td>0.000</td>\n",
       "      <td>0.000</td>\n",
       "      <td>...</td>\n",
       "      <td>0</td>\n",
       "      <td>0</td>\n",
       "      <td>0</td>\n",
       "      <td>0</td>\n",
       "      <td>0</td>\n",
       "      <td>0</td>\n",
       "      <td>0</td>\n",
       "      <td>3.167</td>\n",
       "      <td>0.000</td>\n",
       "      <td>0</td>\n",
       "    </tr>\n",
       "    <tr>\n",
       "      <th>4</th>\n",
       "      <td>0.000</td>\n",
       "      <td>0.000</td>\n",
       "      <td>0.000</td>\n",
       "      <td>0.000</td>\n",
       "      <td>0.000</td>\n",
       "      <td>0.000</td>\n",
       "      <td>0.000</td>\n",
       "      <td>0.000</td>\n",
       "      <td>0.000</td>\n",
       "      <td>0.000</td>\n",
       "      <td>...</td>\n",
       "      <td>0</td>\n",
       "      <td>0</td>\n",
       "      <td>0</td>\n",
       "      <td>0</td>\n",
       "      <td>0</td>\n",
       "      <td>0</td>\n",
       "      <td>0</td>\n",
       "      <td>2.333</td>\n",
       "      <td>0.000</td>\n",
       "      <td>0</td>\n",
       "    </tr>\n",
       "    <tr>\n",
       "      <th>...</th>\n",
       "      <td>...</td>\n",
       "      <td>...</td>\n",
       "      <td>...</td>\n",
       "      <td>...</td>\n",
       "      <td>...</td>\n",
       "      <td>...</td>\n",
       "      <td>...</td>\n",
       "      <td>...</td>\n",
       "      <td>...</td>\n",
       "      <td>...</td>\n",
       "      <td>...</td>\n",
       "      <td>...</td>\n",
       "      <td>...</td>\n",
       "      <td>...</td>\n",
       "      <td>...</td>\n",
       "      <td>...</td>\n",
       "      <td>...</td>\n",
       "      <td>...</td>\n",
       "      <td>...</td>\n",
       "      <td>...</td>\n",
       "      <td>...</td>\n",
       "    </tr>\n",
       "    <tr>\n",
       "      <th>2288002</th>\n",
       "      <td>15500.000</td>\n",
       "      <td>3700.000</td>\n",
       "      <td>0.000</td>\n",
       "      <td>0.000</td>\n",
       "      <td>0.000</td>\n",
       "      <td>0.000</td>\n",
       "      <td>13000.000</td>\n",
       "      <td>2000.000</td>\n",
       "      <td>0.000</td>\n",
       "      <td>0.000</td>\n",
       "      <td>...</td>\n",
       "      <td>0</td>\n",
       "      <td>0</td>\n",
       "      <td>0</td>\n",
       "      <td>0</td>\n",
       "      <td>0</td>\n",
       "      <td>0</td>\n",
       "      <td>0</td>\n",
       "      <td>0.500</td>\n",
       "      <td>0.000</td>\n",
       "      <td>0</td>\n",
       "    </tr>\n",
       "    <tr>\n",
       "      <th>2288003</th>\n",
       "      <td>10000.000</td>\n",
       "      <td>0.000</td>\n",
       "      <td>0.000</td>\n",
       "      <td>0.000</td>\n",
       "      <td>0.000</td>\n",
       "      <td>0.000</td>\n",
       "      <td>10000.000</td>\n",
       "      <td>0.000</td>\n",
       "      <td>0.000</td>\n",
       "      <td>0.000</td>\n",
       "      <td>...</td>\n",
       "      <td>0</td>\n",
       "      <td>0</td>\n",
       "      <td>0</td>\n",
       "      <td>0</td>\n",
       "      <td>0</td>\n",
       "      <td>0</td>\n",
       "      <td>0</td>\n",
       "      <td>0.833</td>\n",
       "      <td>0.000</td>\n",
       "      <td>0</td>\n",
       "    </tr>\n",
       "    <tr>\n",
       "      <th>2288004</th>\n",
       "      <td>131589.000</td>\n",
       "      <td>71287.000</td>\n",
       "      <td>0.000</td>\n",
       "      <td>0.000</td>\n",
       "      <td>6000.000</td>\n",
       "      <td>0.000</td>\n",
       "      <td>249356.000</td>\n",
       "      <td>39524.000</td>\n",
       "      <td>0.000</td>\n",
       "      <td>0.000</td>\n",
       "      <td>...</td>\n",
       "      <td>0</td>\n",
       "      <td>0</td>\n",
       "      <td>0</td>\n",
       "      <td>0</td>\n",
       "      <td>2</td>\n",
       "      <td>2</td>\n",
       "      <td>2</td>\n",
       "      <td>4.333</td>\n",
       "      <td>0.000</td>\n",
       "      <td>0</td>\n",
       "    </tr>\n",
       "    <tr>\n",
       "      <th>2288005</th>\n",
       "      <td>221984.000</td>\n",
       "      <td>122401.000</td>\n",
       "      <td>0.000</td>\n",
       "      <td>0.000</td>\n",
       "      <td>0.000</td>\n",
       "      <td>0.000</td>\n",
       "      <td>208184.000</td>\n",
       "      <td>74738.000</td>\n",
       "      <td>0.000</td>\n",
       "      <td>0.000</td>\n",
       "      <td>...</td>\n",
       "      <td>0</td>\n",
       "      <td>0</td>\n",
       "      <td>0</td>\n",
       "      <td>0</td>\n",
       "      <td>1</td>\n",
       "      <td>1</td>\n",
       "      <td>1</td>\n",
       "      <td>2.833</td>\n",
       "      <td>0.000</td>\n",
       "      <td>0</td>\n",
       "    </tr>\n",
       "    <tr>\n",
       "      <th>2288006</th>\n",
       "      <td>15500.000</td>\n",
       "      <td>3700.000</td>\n",
       "      <td>0.000</td>\n",
       "      <td>0.000</td>\n",
       "      <td>0.000</td>\n",
       "      <td>0.000</td>\n",
       "      <td>13000.000</td>\n",
       "      <td>2000.000</td>\n",
       "      <td>0.000</td>\n",
       "      <td>0.000</td>\n",
       "      <td>...</td>\n",
       "      <td>0</td>\n",
       "      <td>0</td>\n",
       "      <td>0</td>\n",
       "      <td>0</td>\n",
       "      <td>0</td>\n",
       "      <td>0</td>\n",
       "      <td>0</td>\n",
       "      <td>0.667</td>\n",
       "      <td>0.000</td>\n",
       "      <td>0</td>\n",
       "    </tr>\n",
       "  </tbody>\n",
       "</table>\n",
       "<p>2144942 rows × 106 columns</p>\n",
       "</div>"
      ],
      "text/plain": [
       "字段解释        木头获取数量     木头消耗数量  石头获取数量  石头消耗数量   象牙获取数量  象牙消耗数量      肉获取数量  \\\n",
       "0        20125.000   3700.000   0.000   0.000    0.000   0.000  16375.000   \n",
       "1            0.000      0.000   0.000   0.000    0.000   0.000      0.000   \n",
       "2            0.000      0.000   0.000   0.000    0.000   0.000      0.000   \n",
       "3            0.000      0.000   0.000   0.000    0.000   0.000      0.000   \n",
       "4            0.000      0.000   0.000   0.000    0.000   0.000      0.000   \n",
       "...            ...        ...     ...     ...      ...     ...        ...   \n",
       "2288002  15500.000   3700.000   0.000   0.000    0.000   0.000  13000.000   \n",
       "2288003  10000.000      0.000   0.000   0.000    0.000   0.000  10000.000   \n",
       "2288004 131589.000  71287.000   0.000   0.000 6000.000   0.000 249356.000   \n",
       "2288005 221984.000 122401.000   0.000   0.000    0.000   0.000 208184.000   \n",
       "2288006  15500.000   3700.000   0.000   0.000    0.000   0.000  13000.000   \n",
       "\n",
       "字段解释        肉消耗数量  魔法获取数量  魔法消耗数量  ...  科研：资源帮助容量  PVP次数  主动发起PVP次数  PVP胜利次数  \\\n",
       "0        2000.000   0.000   0.000  ...          0      0          0        0   \n",
       "1           0.000   0.000   0.000  ...          0      0          0        0   \n",
       "2           0.000   0.000   0.000  ...          0      0          0        0   \n",
       "3           0.000   0.000   0.000  ...          0      0          0        0   \n",
       "4           0.000   0.000   0.000  ...          0      0          0        0   \n",
       "...           ...     ...     ...  ...        ...    ...        ...      ...   \n",
       "2288002  2000.000   0.000   0.000  ...          0      0          0        0   \n",
       "2288003     0.000   0.000   0.000  ...          0      0          0        0   \n",
       "2288004 39524.000   0.000   0.000  ...          0      0          0        0   \n",
       "2288005 74738.000   0.000   0.000  ...          0      0          0        0   \n",
       "2288006  2000.000   0.000   0.000  ...          0      0          0        0   \n",
       "\n",
       "字段解释     PVE次数  主动发起PVE次数  PVE胜利次数  在线时长  付费金额  付费次数  \n",
       "0            0          0        0 0.333 0.000     0  \n",
       "1            0          0        0 0.333 0.000     0  \n",
       "2            0          0        0 1.167 0.000     0  \n",
       "3            0          0        0 3.167 0.000     0  \n",
       "4            0          0        0 2.333 0.000     0  \n",
       "...        ...        ...      ...   ...   ...   ...  \n",
       "2288002      0          0        0 0.500 0.000     0  \n",
       "2288003      0          0        0 0.833 0.000     0  \n",
       "2288004      2          2        2 4.333 0.000     0  \n",
       "2288005      1          1        1 2.833 0.000     0  \n",
       "2288006      0          0        0 0.667 0.000     0  \n",
       "\n",
       "[2144942 rows x 106 columns]"
      ]
     },
     "execution_count": 95,
     "metadata": {},
     "output_type": "execute_result"
    }
   ],
   "source": [
    "AbnormalCheck.loc[AbnormalCheck[\"在线时长\"] < 30,:]"
   ]
  },
  {
   "cell_type": "markdown",
   "id": "96881920-2407-4225-8764-86c59d9df0d9",
   "metadata": {},
   "source": [
    "2. 统计上的异常值\n",
    " > 数据正态分布，异常数据落在正态分布区域外、尾巴上<br>\n",
    " > 异常值识别规则：\n",
    " >- 箱线图法则\n",
    " >- 3sigma法则\n",
    " \n",
    "通常我们倾向于使用箱线图来查找异常值，但与绘制分布图时的情况一致，**箱线图函数无法处理百万级别数据** <br> 因此我们依然退而求其次，使用计算方式来进行评估"
   ]
  },
  {
   "cell_type": "markdown",
   "id": "d8997caa-b50a-487d-8b5c-ab9dcc425f59",
   "metadata": {},
   "source": [
    "- 箱线图的法则：\n",
    "> **当任意样本的特定特征值超出 [QL-1.5\\*IQR, QU+1.5*IQR]时，则认为该样本的该特征值是异常值**<br>\n",
    "> QL:下四分位数，QU：上四分位数，IQR：QU-QL<br>"
   ]
  },
  {
   "cell_type": "markdown",
   "id": "00aa5522-b37c-4eec-ba66-1c6b62e03840",
   "metadata": {},
   "source": [
    "箱型图识别异常值的依据是依赖四分位数计算，四分位数是比较鲁棒的，因为超出四分位数的那25%的数据无论有多大、多异常都不会影响到四分位数本身。因此箱型图的异常值检测结果比较客观、也比较严格，在识别异常值方面有一定的优越性。但由于该规则比较严格，在极度左偏数据下可能会刷掉大量数据。"
   ]
  },
  {
   "cell_type": "markdown",
   "id": "55053cb1-0156-443b-9b4e-cd7047c4432c",
   "metadata": {},
   "source": [
    "- 3sigma法则：\n",
    "> **(当任意样本的特定特征值 - 该特征的均值) > 3*特征的标准差，则认为该样本的特征值是异常值**<br>"
   ]
  },
  {
   "cell_type": "markdown",
   "id": "0d356aea-aebb-4ac8-864e-627ce33b11e6",
   "metadata": {},
   "source": [
    "在统计学上，任意数据的数据范围位于[-3sigma, 3sigma]之间的概率是99.73%，因此3sigma法则的对异常值的评价标准实际上十分宽松。不过，3sigma假设数据应该满足正态分布，这一点与我们的数据不太相符。"
   ]
  },
  {
   "cell_type": "markdown",
   "id": "9e77671e-6ab3-4fbc-8370-9c337d3a2fa4",
   "metadata": {},
   "source": [
    "- 一定会出现的情况：由于数据高度左偏，因此异常值一定是出现在高于上分位数的方向，也就是玩家资源过多/等级过高时就会被判断为异常。而资源较多、等级较高的玩家也是游戏整体参与度较高的玩家，因此这类玩家很可能就是氪金用户。"
   ]
  },
  {
   "cell_type": "markdown",
   "id": "fa0e1aff-6ab1-44fd-8f86-5c1f7f194d8f",
   "metadata": {
    "jupyter": {
     "outputs_hidden": true
    }
   },
   "source": [
    "[QL - 1.5IQR   ,  QU+1.5IQR]\n",
    "\n",
    "(feature < QL - 1.5IQR).astype(int) #---->布尔值 \n",
    "+\n",
    "(feature > QU + 1.5IQR).astype(int) #---->布尔值"
   ]
  },
  {
   "cell_type": "markdown",
   "id": "490ba1a4-054b-4b1d-8f30-11effbd3fe07",
   "metadata": {},
   "source": [
    "**箱线图法则**\n"
   ]
  },
  {
   "cell_type": "code",
   "execution_count": 96,
   "id": "338e5b0e-b5b7-4c19-b05c-583d33e05392",
   "metadata": {
    "tags": []
   },
   "outputs": [],
   "source": [
    "#打印异常比例，保存异常样本的索引\n",
    "NumOfSamples = data.shape[0]\n",
    "abnormal = pd.DataFrame()\n",
    "DataNoAbnormal = data.copy()\n",
    "BoxAbnormalIdx = [] #列表：用于保存我们的异常值的索引\n",
    "for idx,column in enumerate(data.columns[2:-1]):\n",
    "    feature = data.loc[:,column]\n",
    "    QL = np.quantile(feature,0.25)\n",
    "    QU = np.quantile(feature,0.75)\n",
    "    IQR = QU - QL\n",
    "    #过小或过大的都属于异常值\n",
    "    error = feature[((feature < (QL - 1.5*IQR)).astype(int) + (feature > (QU + 1.5*IQR)).astype(int)) != 0]\n",
    "    BoxAbnormalIdx.extend(error.index)\n",
    "    abnormal.loc[idx,\"特征\"] = column\n",
    "    abnormal.loc[idx,\"异常值数量\"] = error.shape[0]\n",
    "    abnormal.loc[idx,\"异常值比例\"] = \"{:.3f}%\".format(error.shape[0]*100/NumOfSamples)"
   ]
  },
  {
   "cell_type": "code",
   "execution_count": 97,
   "id": "40a79e4e-8af1-4a71-9065-1081ad37f8ea",
   "metadata": {
    "tags": []
   },
   "outputs": [
    {
     "data": {
      "text/plain": [
       "16670991"
      ]
     },
     "execution_count": 97,
     "metadata": {},
     "output_type": "execute_result"
    }
   ],
   "source": [
    "len(BoxAbnormalIdx) #这里面是有重复值的"
   ]
  },
  {
   "cell_type": "code",
   "execution_count": 98,
   "id": "c818b2e9-dda4-45a8-a458-3ce5b3d4128c",
   "metadata": {
    "tags": []
   },
   "outputs": [],
   "source": [
    "BoxAbnormalIdx = set(BoxAbnormalIdx) #利用集合对筛选出的异常值的索引进行去重"
   ]
  },
  {
   "cell_type": "code",
   "execution_count": 99,
   "id": "dec40a55-02e5-4bd6-b91c-20e20a8201df",
   "metadata": {
    "tags": []
   },
   "outputs": [
    {
     "data": {
      "text/plain": [
       "1123706"
      ]
     },
     "execution_count": 99,
     "metadata": {},
     "output_type": "execute_result"
    }
   ],
   "source": [
    "len(BoxAbnormalIdx) #超过100w数据都被归为异常，数量太多无法直接删除，何况在7日内付费的用户只有4w多，很可能被这100多万数据囊括"
   ]
  },
  {
   "cell_type": "code",
   "execution_count": 100,
   "id": "6ab2ca61-6c23-4553-aabc-48a4c744de5b",
   "metadata": {
    "tags": []
   },
   "outputs": [
    {
     "data": {
      "text/html": [
       "<div>\n",
       "<style scoped>\n",
       "    .dataframe tbody tr th:only-of-type {\n",
       "        vertical-align: middle;\n",
       "    }\n",
       "\n",
       "    .dataframe tbody tr th {\n",
       "        vertical-align: top;\n",
       "    }\n",
       "\n",
       "    .dataframe thead th {\n",
       "        text-align: right;\n",
       "    }\n",
       "</style>\n",
       "<table border=\"1\" class=\"dataframe\">\n",
       "  <thead>\n",
       "    <tr style=\"text-align: right;\">\n",
       "      <th></th>\n",
       "      <th>特征</th>\n",
       "      <th>异常值数量</th>\n",
       "      <th>异常值比例</th>\n",
       "    </tr>\n",
       "  </thead>\n",
       "  <tbody>\n",
       "    <tr>\n",
       "      <th>39</th>\n",
       "      <td>建筑：联盟大厅等级</td>\n",
       "      <td>215420.000</td>\n",
       "      <td>9.415%</td>\n",
       "    </tr>\n",
       "    <tr>\n",
       "      <th>15</th>\n",
       "      <td>萨满损失数量</td>\n",
       "      <td>207173.000</td>\n",
       "      <td>9.055%</td>\n",
       "    </tr>\n",
       "    <tr>\n",
       "      <th>26</th>\n",
       "      <td>科研加速获取数量</td>\n",
       "      <td>195901.000</td>\n",
       "      <td>8.562%</td>\n",
       "    </tr>\n",
       "    <tr>\n",
       "      <th>20</th>\n",
       "      <td>萨满伤兵产生数量</td>\n",
       "      <td>183496.000</td>\n",
       "      <td>8.020%</td>\n",
       "    </tr>\n",
       "    <tr>\n",
       "      <th>84</th>\n",
       "      <td>科研：据点耐久</td>\n",
       "      <td>162146.000</td>\n",
       "      <td>7.087%</td>\n",
       "    </tr>\n",
       "    <tr>\n",
       "      <th>43</th>\n",
       "      <td>建筑：战争大厅等级</td>\n",
       "      <td>160448.000</td>\n",
       "      <td>7.013%</td>\n",
       "    </tr>\n",
       "    <tr>\n",
       "      <th>70</th>\n",
       "      <td>科研：建造速度</td>\n",
       "      <td>147491.000</td>\n",
       "      <td>6.446%</td>\n",
       "    </tr>\n",
       "    <tr>\n",
       "      <th>14</th>\n",
       "      <td>萨满招募数量</td>\n",
       "      <td>146429.000</td>\n",
       "      <td>6.400%</td>\n",
       "    </tr>\n",
       "    <tr>\n",
       "      <th>47</th>\n",
       "      <td>建筑：冒险传送门等级</td>\n",
       "      <td>145062.000</td>\n",
       "      <td>6.340%</td>\n",
       "    </tr>\n",
       "    <tr>\n",
       "      <th>17</th>\n",
       "      <td>勇士伤兵恢复数量</td>\n",
       "      <td>131702.000</td>\n",
       "      <td>5.756%</td>\n",
       "    </tr>\n",
       "    <tr>\n",
       "      <th>45</th>\n",
       "      <td>建筑：占卜台等级</td>\n",
       "      <td>128325.000</td>\n",
       "      <td>5.609%</td>\n",
       "    </tr>\n",
       "    <tr>\n",
       "      <th>19</th>\n",
       "      <td>驯兽师伤兵恢复数量</td>\n",
       "      <td>127605.000</td>\n",
       "      <td>5.577%</td>\n",
       "    </tr>\n",
       "    <tr>\n",
       "      <th>46</th>\n",
       "      <td>建筑：祭坛等级</td>\n",
       "      <td>124997.000</td>\n",
       "      <td>5.463%</td>\n",
       "    </tr>\n",
       "    <tr>\n",
       "      <th>32</th>\n",
       "      <td>建筑：士兵小屋等级</td>\n",
       "      <td>122911.000</td>\n",
       "      <td>5.372%</td>\n",
       "    </tr>\n",
       "    <tr>\n",
       "      <th>85</th>\n",
       "      <td>科研：据点二</td>\n",
       "      <td>101483.000</td>\n",
       "      <td>4.435%</td>\n",
       "    </tr>\n",
       "    <tr>\n",
       "      <th>21</th>\n",
       "      <td>萨满伤兵恢复数量</td>\n",
       "      <td>101371.000</td>\n",
       "      <td>4.431%</td>\n",
       "    </tr>\n",
       "    <tr>\n",
       "      <th>3</th>\n",
       "      <td>石头消耗数量</td>\n",
       "      <td>99772.000</td>\n",
       "      <td>4.361%</td>\n",
       "    </tr>\n",
       "    <tr>\n",
       "      <th>24</th>\n",
       "      <td>建筑加速获取数量</td>\n",
       "      <td>84767.000</td>\n",
       "      <td>3.705%</td>\n",
       "    </tr>\n",
       "    <tr>\n",
       "      <th>35</th>\n",
       "      <td>建筑：据点传送门等级</td>\n",
       "      <td>69971.000</td>\n",
       "      <td>3.058%</td>\n",
       "    </tr>\n",
       "    <tr>\n",
       "      <th>11</th>\n",
       "      <td>勇士损失数量</td>\n",
       "      <td>561890.000</td>\n",
       "      <td>24.558%</td>\n",
       "    </tr>\n",
       "    <tr>\n",
       "      <th>23</th>\n",
       "      <td>通用加速使用数量</td>\n",
       "      <td>561811.000</td>\n",
       "      <td>24.555%</td>\n",
       "    </tr>\n",
       "    <tr>\n",
       "      <th>44</th>\n",
       "      <td>建筑：联盟货车等级</td>\n",
       "      <td>518963.000</td>\n",
       "      <td>22.682%</td>\n",
       "    </tr>\n",
       "    <tr>\n",
       "      <th>48</th>\n",
       "      <td>科研：侦查等级</td>\n",
       "      <td>507576.000</td>\n",
       "      <td>22.184%</td>\n",
       "    </tr>\n",
       "    <tr>\n",
       "      <th>8</th>\n",
       "      <td>魔法获取数量</td>\n",
       "      <td>496533.000</td>\n",
       "      <td>21.702%</td>\n",
       "    </tr>\n",
       "    <tr>\n",
       "      <th>25</th>\n",
       "      <td>建筑加速使用数量</td>\n",
       "      <td>485048.000</td>\n",
       "      <td>21.200%</td>\n",
       "    </tr>\n",
       "    <tr>\n",
       "      <th>76</th>\n",
       "      <td>科研：肉类生产</td>\n",
       "      <td>63763.000</td>\n",
       "      <td>2.787%</td>\n",
       "    </tr>\n",
       "    <tr>\n",
       "      <th>50</th>\n",
       "      <td>科研：守护者</td>\n",
       "      <td>54647.000</td>\n",
       "      <td>2.388%</td>\n",
       "    </tr>\n",
       "    <tr>\n",
       "      <th>71</th>\n",
       "      <td>科研：资源保护</td>\n",
       "      <td>53720.000</td>\n",
       "      <td>2.348%</td>\n",
       "    </tr>\n",
       "    <tr>\n",
       "      <th>51</th>\n",
       "      <td>科研：巨兽驯兽师</td>\n",
       "      <td>52503.000</td>\n",
       "      <td>2.295%</td>\n",
       "    </tr>\n",
       "    <tr>\n",
       "      <th>87</th>\n",
       "      <td>科研：领土采集奖励</td>\n",
       "      <td>52150.000</td>\n",
       "      <td>2.279%</td>\n",
       "    </tr>\n",
       "    <tr>\n",
       "      <th>72</th>\n",
       "      <td>科研：部队消耗</td>\n",
       "      <td>48535.000</td>\n",
       "      <td>2.121%</td>\n",
       "    </tr>\n",
       "    <tr>\n",
       "      <th>4</th>\n",
       "      <td>象牙获取数量</td>\n",
       "      <td>419214.000</td>\n",
       "      <td>18.322%</td>\n",
       "    </tr>\n",
       "    <tr>\n",
       "      <th>42</th>\n",
       "      <td>建筑：魔法幸运树等级</td>\n",
       "      <td>390895.000</td>\n",
       "      <td>17.085%</td>\n",
       "    </tr>\n",
       "    <tr>\n",
       "      <th>36</th>\n",
       "      <td>建筑：兵营等级</td>\n",
       "      <td>384549.000</td>\n",
       "      <td>16.807%</td>\n",
       "    </tr>\n",
       "    <tr>\n",
       "      <th>9</th>\n",
       "      <td>魔法消耗数量</td>\n",
       "      <td>376830.000</td>\n",
       "      <td>16.470%</td>\n",
       "    </tr>\n",
       "    <tr>\n",
       "      <th>22</th>\n",
       "      <td>通用加速获取数量</td>\n",
       "      <td>366411.000</td>\n",
       "      <td>16.014%</td>\n",
       "    </tr>\n",
       "    <tr>\n",
       "      <th>30</th>\n",
       "      <td>治疗加速获取数量</td>\n",
       "      <td>364864.000</td>\n",
       "      <td>15.947%</td>\n",
       "    </tr>\n",
       "    <tr>\n",
       "      <th>13</th>\n",
       "      <td>驯兽师损失数量</td>\n",
       "      <td>357644.000</td>\n",
       "      <td>15.631%</td>\n",
       "    </tr>\n",
       "    <tr>\n",
       "      <th>6</th>\n",
       "      <td>肉获取数量</td>\n",
       "      <td>352622.000</td>\n",
       "      <td>15.412%</td>\n",
       "    </tr>\n",
       "    <tr>\n",
       "      <th>28</th>\n",
       "      <td>训练加速获取数量</td>\n",
       "      <td>344160.000</td>\n",
       "      <td>15.042%</td>\n",
       "    </tr>\n",
       "    <tr>\n",
       "      <th>33</th>\n",
       "      <td>建筑：治疗小井等级</td>\n",
       "      <td>343883.000</td>\n",
       "      <td>15.030%</td>\n",
       "    </tr>\n",
       "    <tr>\n",
       "      <th>41</th>\n",
       "      <td>建筑：瞭望塔等级</td>\n",
       "      <td>330854.000</td>\n",
       "      <td>14.460%</td>\n",
       "    </tr>\n",
       "    <tr>\n",
       "      <th>7</th>\n",
       "      <td>肉消耗数量</td>\n",
       "      <td>329349.000</td>\n",
       "      <td>14.395%</td>\n",
       "    </tr>\n",
       "    <tr>\n",
       "      <th>16</th>\n",
       "      <td>勇士伤兵产生数量</td>\n",
       "      <td>322853.000</td>\n",
       "      <td>14.111%</td>\n",
       "    </tr>\n",
       "    <tr>\n",
       "      <th>97</th>\n",
       "      <td>PVP次数</td>\n",
       "      <td>321761.000</td>\n",
       "      <td>14.063%</td>\n",
       "    </tr>\n",
       "    <tr>\n",
       "      <th>37</th>\n",
       "      <td>建筑：治疗之泉等级</td>\n",
       "      <td>319003.000</td>\n",
       "      <td>13.942%</td>\n",
       "    </tr>\n",
       "    <tr>\n",
       "      <th>1</th>\n",
       "      <td>木头消耗数量</td>\n",
       "      <td>307884.000</td>\n",
       "      <td>13.456%</td>\n",
       "    </tr>\n",
       "    <tr>\n",
       "      <th>38</th>\n",
       "      <td>建筑：智慧神庙等级</td>\n",
       "      <td>306720.000</td>\n",
       "      <td>13.406%</td>\n",
       "    </tr>\n",
       "    <tr>\n",
       "      <th>0</th>\n",
       "      <td>木头获取数量</td>\n",
       "      <td>304990.000</td>\n",
       "      <td>13.330%</td>\n",
       "    </tr>\n",
       "    <tr>\n",
       "      <th>40</th>\n",
       "      <td>建筑：仓库等级</td>\n",
       "      <td>302989.000</td>\n",
       "      <td>13.242%</td>\n",
       "    </tr>\n",
       "    <tr>\n",
       "      <th>18</th>\n",
       "      <td>驯兽师伤兵产生数量</td>\n",
       "      <td>297810.000</td>\n",
       "      <td>13.016%</td>\n",
       "    </tr>\n",
       "    <tr>\n",
       "      <th>100</th>\n",
       "      <td>PVE次数</td>\n",
       "      <td>292357.000</td>\n",
       "      <td>12.778%</td>\n",
       "    </tr>\n",
       "    <tr>\n",
       "      <th>101</th>\n",
       "      <td>主动发起PVE次数</td>\n",
       "      <td>291103.000</td>\n",
       "      <td>12.723%</td>\n",
       "    </tr>\n",
       "    <tr>\n",
       "      <th>103</th>\n",
       "      <td>在线时长</td>\n",
       "      <td>289480.000</td>\n",
       "      <td>12.652%</td>\n",
       "    </tr>\n",
       "    <tr>\n",
       "      <th>49</th>\n",
       "      <td>科研：训练速度等级</td>\n",
       "      <td>275800.000</td>\n",
       "      <td>12.054%</td>\n",
       "    </tr>\n",
       "    <tr>\n",
       "      <th>10</th>\n",
       "      <td>勇士招募数量</td>\n",
       "      <td>269616.000</td>\n",
       "      <td>11.784%</td>\n",
       "    </tr>\n",
       "    <tr>\n",
       "      <th>12</th>\n",
       "      <td>驯兽师招募数量</td>\n",
       "      <td>267121.000</td>\n",
       "      <td>11.675%</td>\n",
       "    </tr>\n",
       "    <tr>\n",
       "      <th>102</th>\n",
       "      <td>PVE胜利次数</td>\n",
       "      <td>263136.000</td>\n",
       "      <td>11.501%</td>\n",
       "    </tr>\n",
       "    <tr>\n",
       "      <th>99</th>\n",
       "      <td>PVP胜利次数</td>\n",
       "      <td>262546.000</td>\n",
       "      <td>11.475%</td>\n",
       "    </tr>\n",
       "    <tr>\n",
       "      <th>98</th>\n",
       "      <td>主动发起PVP次数</td>\n",
       "      <td>256948.000</td>\n",
       "      <td>11.230%</td>\n",
       "    </tr>\n",
       "    <tr>\n",
       "      <th>29</th>\n",
       "      <td>训练加速使用数量</td>\n",
       "      <td>255293.000</td>\n",
       "      <td>11.158%</td>\n",
       "    </tr>\n",
       "    <tr>\n",
       "      <th>2</th>\n",
       "      <td>石头获取数量</td>\n",
       "      <td>254439.000</td>\n",
       "      <td>11.121%</td>\n",
       "    </tr>\n",
       "    <tr>\n",
       "      <th>27</th>\n",
       "      <td>科研加速使用数量</td>\n",
       "      <td>254043.000</td>\n",
       "      <td>11.103%</td>\n",
       "    </tr>\n",
       "    <tr>\n",
       "      <th>52</th>\n",
       "      <td>科研：吟唱者</td>\n",
       "      <td>45054.000</td>\n",
       "      <td>1.969%</td>\n",
       "    </tr>\n",
       "    <tr>\n",
       "      <th>73</th>\n",
       "      <td>科研：木材生产</td>\n",
       "      <td>44317.000</td>\n",
       "      <td>1.937%</td>\n",
       "    </tr>\n",
       "    <tr>\n",
       "      <th>86</th>\n",
       "      <td>科研：医院容量</td>\n",
       "      <td>42847.000</td>\n",
       "      <td>1.873%</td>\n",
       "    </tr>\n",
       "    <tr>\n",
       "      <th>104</th>\n",
       "      <td>付费金额</td>\n",
       "      <td>41439.000</td>\n",
       "      <td>1.811%</td>\n",
       "    </tr>\n",
       "    <tr>\n",
       "      <th>105</th>\n",
       "      <td>付费次数</td>\n",
       "      <td>41439.000</td>\n",
       "      <td>1.811%</td>\n",
       "    </tr>\n",
       "    <tr>\n",
       "      <th>88</th>\n",
       "      <td>科研：治疗速度</td>\n",
       "      <td>34083.000</td>\n",
       "      <td>1.490%</td>\n",
       "    </tr>\n",
       "    <tr>\n",
       "      <th>53</th>\n",
       "      <td>科研：勇士攻击</td>\n",
       "      <td>30290.000</td>\n",
       "      <td>1.324%</td>\n",
       "    </tr>\n",
       "    <tr>\n",
       "      <th>77</th>\n",
       "      <td>科研：木材采集</td>\n",
       "      <td>29298.000</td>\n",
       "      <td>1.281%</td>\n",
       "    </tr>\n",
       "    <tr>\n",
       "      <th>54</th>\n",
       "      <td>科研：驯兽师攻击</td>\n",
       "      <td>28455.000</td>\n",
       "      <td>1.244%</td>\n",
       "    </tr>\n",
       "    <tr>\n",
       "      <th>81</th>\n",
       "      <td>科研：部队负重</td>\n",
       "      <td>27689.000</td>\n",
       "      <td>1.210%</td>\n",
       "    </tr>\n",
       "    <tr>\n",
       "      <th>80</th>\n",
       "      <td>科研：肉类采集</td>\n",
       "      <td>27414.000</td>\n",
       "      <td>1.198%</td>\n",
       "    </tr>\n",
       "    <tr>\n",
       "      <th>55</th>\n",
       "      <td>科研：萨满攻击</td>\n",
       "      <td>23208.000</td>\n",
       "      <td>1.014%</td>\n",
       "    </tr>\n",
       "    <tr>\n",
       "      <th>5</th>\n",
       "      <td>象牙消耗数量</td>\n",
       "      <td>20691.000</td>\n",
       "      <td>0.904%</td>\n",
       "    </tr>\n",
       "    <tr>\n",
       "      <th>31</th>\n",
       "      <td>治疗加速使用数量</td>\n",
       "      <td>9512.000</td>\n",
       "      <td>0.416%</td>\n",
       "    </tr>\n",
       "    <tr>\n",
       "      <th>83</th>\n",
       "      <td>科研：魔法生产</td>\n",
       "      <td>9203.000</td>\n",
       "      <td>0.402%</td>\n",
       "    </tr>\n",
       "    <tr>\n",
       "      <th>34</th>\n",
       "      <td>建筑：要塞等级</td>\n",
       "      <td>7196.000</td>\n",
       "      <td>0.315%</td>\n",
       "    </tr>\n",
       "    <tr>\n",
       "      <th>74</th>\n",
       "      <td>科研：石头生产</td>\n",
       "      <td>3399.000</td>\n",
       "      <td>0.149%</td>\n",
       "    </tr>\n",
       "    <tr>\n",
       "      <th>82</th>\n",
       "      <td>科研：魔法采集</td>\n",
       "      <td>2915.000</td>\n",
       "      <td>0.127%</td>\n",
       "    </tr>\n",
       "    <tr>\n",
       "      <th>78</th>\n",
       "      <td>科研：石头采集</td>\n",
       "      <td>2436.000</td>\n",
       "      <td>0.106%</td>\n",
       "    </tr>\n",
       "    <tr>\n",
       "      <th>89</th>\n",
       "      <td>科研：据点三</td>\n",
       "      <td>2011.000</td>\n",
       "      <td>0.088%</td>\n",
       "    </tr>\n",
       "    <tr>\n",
       "      <th>75</th>\n",
       "      <td>科研：象牙生产</td>\n",
       "      <td>923.000</td>\n",
       "      <td>0.040%</td>\n",
       "    </tr>\n",
       "    <tr>\n",
       "      <th>79</th>\n",
       "      <td>科研：象牙采集</td>\n",
       "      <td>686.000</td>\n",
       "      <td>0.030%</td>\n",
       "    </tr>\n",
       "    <tr>\n",
       "      <th>91</th>\n",
       "      <td>科研：战斗行军速度</td>\n",
       "      <td>634.000</td>\n",
       "      <td>0.028%</td>\n",
       "    </tr>\n",
       "    <tr>\n",
       "      <th>56</th>\n",
       "      <td>科研：战斗大师</td>\n",
       "      <td>629.000</td>\n",
       "      <td>0.027%</td>\n",
       "    </tr>\n",
       "    <tr>\n",
       "      <th>57</th>\n",
       "      <td>科研：高阶巨兽骑兵</td>\n",
       "      <td>597.000</td>\n",
       "      <td>0.026%</td>\n",
       "    </tr>\n",
       "    <tr>\n",
       "      <th>92</th>\n",
       "      <td>科研：采集行军速度</td>\n",
       "      <td>600.000</td>\n",
       "      <td>0.026%</td>\n",
       "    </tr>\n",
       "    <tr>\n",
       "      <th>58</th>\n",
       "      <td>科研：图腾大师</td>\n",
       "      <td>535.000</td>\n",
       "      <td>0.023%</td>\n",
       "    </tr>\n",
       "    <tr>\n",
       "      <th>59</th>\n",
       "      <td>科研：部队防御</td>\n",
       "      <td>424.000</td>\n",
       "      <td>0.019%</td>\n",
       "    </tr>\n",
       "    <tr>\n",
       "      <th>90</th>\n",
       "      <td>科研：联盟行军速度</td>\n",
       "      <td>417.000</td>\n",
       "      <td>0.018%</td>\n",
       "    </tr>\n",
       "    <tr>\n",
       "      <th>60</th>\n",
       "      <td>科研：勇士防御</td>\n",
       "      <td>324.000</td>\n",
       "      <td>0.014%</td>\n",
       "    </tr>\n",
       "    <tr>\n",
       "      <th>61</th>\n",
       "      <td>科研：驯兽师防御</td>\n",
       "      <td>306.000</td>\n",
       "      <td>0.013%</td>\n",
       "    </tr>\n",
       "    <tr>\n",
       "      <th>63</th>\n",
       "      <td>科研：勇士生命</td>\n",
       "      <td>293.000</td>\n",
       "      <td>0.013%</td>\n",
       "    </tr>\n",
       "    <tr>\n",
       "      <th>62</th>\n",
       "      <td>科研：萨满防御</td>\n",
       "      <td>283.000</td>\n",
       "      <td>0.012%</td>\n",
       "    </tr>\n",
       "    <tr>\n",
       "      <th>64</th>\n",
       "      <td>科研：驯兽师生命</td>\n",
       "      <td>262.000</td>\n",
       "      <td>0.011%</td>\n",
       "    </tr>\n",
       "    <tr>\n",
       "      <th>65</th>\n",
       "      <td>科研：萨满生命</td>\n",
       "      <td>252.000</td>\n",
       "      <td>0.011%</td>\n",
       "    </tr>\n",
       "    <tr>\n",
       "      <th>66</th>\n",
       "      <td>科研：狂战士</td>\n",
       "      <td>40.000</td>\n",
       "      <td>0.002%</td>\n",
       "    </tr>\n",
       "    <tr>\n",
       "      <th>67</th>\n",
       "      <td>科研：龙骑兵</td>\n",
       "      <td>45.000</td>\n",
       "      <td>0.002%</td>\n",
       "    </tr>\n",
       "    <tr>\n",
       "      <th>93</th>\n",
       "      <td>科研：据点四</td>\n",
       "      <td>13.000</td>\n",
       "      <td>0.001%</td>\n",
       "    </tr>\n",
       "    <tr>\n",
       "      <th>68</th>\n",
       "      <td>科研：神谕者</td>\n",
       "      <td>34.000</td>\n",
       "      <td>0.001%</td>\n",
       "    </tr>\n",
       "    <tr>\n",
       "      <th>69</th>\n",
       "      <td>科研：部队攻击</td>\n",
       "      <td>9.000</td>\n",
       "      <td>0.000%</td>\n",
       "    </tr>\n",
       "    <tr>\n",
       "      <th>94</th>\n",
       "      <td>科研：增援部队容量</td>\n",
       "      <td>3.000</td>\n",
       "      <td>0.000%</td>\n",
       "    </tr>\n",
       "    <tr>\n",
       "      <th>95</th>\n",
       "      <td>科研：行军大小</td>\n",
       "      <td>7.000</td>\n",
       "      <td>0.000%</td>\n",
       "    </tr>\n",
       "    <tr>\n",
       "      <th>96</th>\n",
       "      <td>科研：资源帮助容量</td>\n",
       "      <td>3.000</td>\n",
       "      <td>0.000%</td>\n",
       "    </tr>\n",
       "  </tbody>\n",
       "</table>\n",
       "</div>"
      ],
      "text/plain": [
       "             特征      异常值数量    异常值比例\n",
       "39    建筑：联盟大厅等级 215420.000   9.415%\n",
       "15       萨满损失数量 207173.000   9.055%\n",
       "26     科研加速获取数量 195901.000   8.562%\n",
       "20     萨满伤兵产生数量 183496.000   8.020%\n",
       "84      科研：据点耐久 162146.000   7.087%\n",
       "43    建筑：战争大厅等级 160448.000   7.013%\n",
       "70      科研：建造速度 147491.000   6.446%\n",
       "14       萨满招募数量 146429.000   6.400%\n",
       "47   建筑：冒险传送门等级 145062.000   6.340%\n",
       "17     勇士伤兵恢复数量 131702.000   5.756%\n",
       "45     建筑：占卜台等级 128325.000   5.609%\n",
       "19    驯兽师伤兵恢复数量 127605.000   5.577%\n",
       "46      建筑：祭坛等级 124997.000   5.463%\n",
       "32    建筑：士兵小屋等级 122911.000   5.372%\n",
       "85       科研：据点二 101483.000   4.435%\n",
       "21     萨满伤兵恢复数量 101371.000   4.431%\n",
       "3        石头消耗数量  99772.000   4.361%\n",
       "24     建筑加速获取数量  84767.000   3.705%\n",
       "35   建筑：据点传送门等级  69971.000   3.058%\n",
       "11       勇士损失数量 561890.000  24.558%\n",
       "23     通用加速使用数量 561811.000  24.555%\n",
       "44    建筑：联盟货车等级 518963.000  22.682%\n",
       "48      科研：侦查等级 507576.000  22.184%\n",
       "8        魔法获取数量 496533.000  21.702%\n",
       "25     建筑加速使用数量 485048.000  21.200%\n",
       "76      科研：肉类生产  63763.000   2.787%\n",
       "50       科研：守护者  54647.000   2.388%\n",
       "71      科研：资源保护  53720.000   2.348%\n",
       "51     科研：巨兽驯兽师  52503.000   2.295%\n",
       "87    科研：领土采集奖励  52150.000   2.279%\n",
       "72      科研：部队消耗  48535.000   2.121%\n",
       "4        象牙获取数量 419214.000  18.322%\n",
       "42   建筑：魔法幸运树等级 390895.000  17.085%\n",
       "36      建筑：兵营等级 384549.000  16.807%\n",
       "9        魔法消耗数量 376830.000  16.470%\n",
       "22     通用加速获取数量 366411.000  16.014%\n",
       "30     治疗加速获取数量 364864.000  15.947%\n",
       "13      驯兽师损失数量 357644.000  15.631%\n",
       "6         肉获取数量 352622.000  15.412%\n",
       "28     训练加速获取数量 344160.000  15.042%\n",
       "33    建筑：治疗小井等级 343883.000  15.030%\n",
       "41     建筑：瞭望塔等级 330854.000  14.460%\n",
       "7         肉消耗数量 329349.000  14.395%\n",
       "16     勇士伤兵产生数量 322853.000  14.111%\n",
       "97        PVP次数 321761.000  14.063%\n",
       "37    建筑：治疗之泉等级 319003.000  13.942%\n",
       "1        木头消耗数量 307884.000  13.456%\n",
       "38    建筑：智慧神庙等级 306720.000  13.406%\n",
       "0        木头获取数量 304990.000  13.330%\n",
       "40      建筑：仓库等级 302989.000  13.242%\n",
       "18    驯兽师伤兵产生数量 297810.000  13.016%\n",
       "100       PVE次数 292357.000  12.778%\n",
       "101   主动发起PVE次数 291103.000  12.723%\n",
       "103        在线时长 289480.000  12.652%\n",
       "49    科研：训练速度等级 275800.000  12.054%\n",
       "10       勇士招募数量 269616.000  11.784%\n",
       "12      驯兽师招募数量 267121.000  11.675%\n",
       "102     PVE胜利次数 263136.000  11.501%\n",
       "99      PVP胜利次数 262546.000  11.475%\n",
       "98    主动发起PVP次数 256948.000  11.230%\n",
       "29     训练加速使用数量 255293.000  11.158%\n",
       "2        石头获取数量 254439.000  11.121%\n",
       "27     科研加速使用数量 254043.000  11.103%\n",
       "52       科研：吟唱者  45054.000   1.969%\n",
       "73      科研：木材生产  44317.000   1.937%\n",
       "86      科研：医院容量  42847.000   1.873%\n",
       "104        付费金额  41439.000   1.811%\n",
       "105        付费次数  41439.000   1.811%\n",
       "88      科研：治疗速度  34083.000   1.490%\n",
       "53      科研：勇士攻击  30290.000   1.324%\n",
       "77      科研：木材采集  29298.000   1.281%\n",
       "54     科研：驯兽师攻击  28455.000   1.244%\n",
       "81      科研：部队负重  27689.000   1.210%\n",
       "80      科研：肉类采集  27414.000   1.198%\n",
       "55      科研：萨满攻击  23208.000   1.014%\n",
       "5        象牙消耗数量  20691.000   0.904%\n",
       "31     治疗加速使用数量   9512.000   0.416%\n",
       "83      科研：魔法生产   9203.000   0.402%\n",
       "34      建筑：要塞等级   7196.000   0.315%\n",
       "74      科研：石头生产   3399.000   0.149%\n",
       "82      科研：魔法采集   2915.000   0.127%\n",
       "78      科研：石头采集   2436.000   0.106%\n",
       "89       科研：据点三   2011.000   0.088%\n",
       "75      科研：象牙生产    923.000   0.040%\n",
       "79      科研：象牙采集    686.000   0.030%\n",
       "91    科研：战斗行军速度    634.000   0.028%\n",
       "56      科研：战斗大师    629.000   0.027%\n",
       "57    科研：高阶巨兽骑兵    597.000   0.026%\n",
       "92    科研：采集行军速度    600.000   0.026%\n",
       "58      科研：图腾大师    535.000   0.023%\n",
       "59      科研：部队防御    424.000   0.019%\n",
       "90    科研：联盟行军速度    417.000   0.018%\n",
       "60      科研：勇士防御    324.000   0.014%\n",
       "61     科研：驯兽师防御    306.000   0.013%\n",
       "63      科研：勇士生命    293.000   0.013%\n",
       "62      科研：萨满防御    283.000   0.012%\n",
       "64     科研：驯兽师生命    262.000   0.011%\n",
       "65      科研：萨满生命    252.000   0.011%\n",
       "66       科研：狂战士     40.000   0.002%\n",
       "67       科研：龙骑兵     45.000   0.002%\n",
       "93       科研：据点四     13.000   0.001%\n",
       "68       科研：神谕者     34.000   0.001%\n",
       "69      科研：部队攻击      9.000   0.000%\n",
       "94    科研：增援部队容量      3.000   0.000%\n",
       "95      科研：行军大小      7.000   0.000%\n",
       "96    科研：资源帮助容量      3.000   0.000%"
      ]
     },
     "execution_count": 100,
     "metadata": {},
     "output_type": "execute_result"
    }
   ],
   "source": [
    "abnormal.sort_values(\"异常值比例\",ascending=False) #左偏比较严重的特征异常值更多"
   ]
  },
  {
   "cell_type": "markdown",
   "id": "acc8c967-c3a6-4090-a140-c164a9918406",
   "metadata": {},
   "source": [
    "**3sigma法则**"
   ]
  },
  {
   "cell_type": "code",
   "execution_count": 101,
   "id": "4876807b-c53d-4dc6-8bd9-2a8041cb1397",
   "metadata": {
    "tags": []
   },
   "outputs": [],
   "source": [
    "#打印异常比例，保存异常样本的索引\n",
    "NumOfSamples = data.shape[0]\n",
    "abnormal = pd.DataFrame()\n",
    "DataNoAbnormal = data.copy()\n",
    "SigmaAbnormalIdx = []\n",
    "for idx,column in enumerate(data.columns[2:-1]):\n",
    "    feature = data.loc[:,column]\n",
    "    mean_ = feature.mean()\n",
    "    std_ = feature.std()\n",
    "    error = feature[feature - mean_ > 3*std_]\n",
    "    SigmaAbnormalIdx.extend(error.index)\n",
    "    abnormal.loc[idx,\"特征\"] = column\n",
    "    abnormal.loc[idx,\"异常值数量\"] = error.shape[0]\n",
    "    abnormal.loc[idx,\"异常值比例\"] = \"{:.3f}%\".format(error.shape[0]*100/NumOfSamples)"
   ]
  },
  {
   "cell_type": "code",
   "execution_count": 102,
   "id": "98c6ec92-d112-4ff3-91bd-14db681f8ffc",
   "metadata": {
    "tags": []
   },
   "outputs": [
    {
     "data": {
      "text/plain": [
       "2580755"
      ]
     },
     "execution_count": 102,
     "metadata": {},
     "output_type": "execute_result"
    }
   ],
   "source": [
    "len(SigmaAbnormalIdx)"
   ]
  },
  {
   "cell_type": "code",
   "execution_count": 103,
   "id": "0fb4fd09-27d4-4944-86c8-08b40cd4cd16",
   "metadata": {
    "tags": []
   },
   "outputs": [],
   "source": [
    "SigmaAbnormalIdx = set(SigmaAbnormalIdx) #对异常样本索引去重"
   ]
  },
  {
   "cell_type": "code",
   "execution_count": 104,
   "id": "4e1962ec-c056-47d6-89e4-bb444e9d7554",
   "metadata": {
    "tags": []
   },
   "outputs": [
    {
     "data": {
      "text/plain": [
       "233350"
      ]
     },
     "execution_count": 104,
     "metadata": {},
     "output_type": "execute_result"
    }
   ],
   "source": [
    "len(SigmaAbnormalIdx) \n",
    "# 23w样本是异常，这是一个可以接受的数字，可以直接删除，但放入模型后的效果不知道怎么样"
   ]
  },
  {
   "cell_type": "markdown",
   "id": "bd8b42be-14ad-4b16-8cae-a2bc365ce967",
   "metadata": {},
   "source": [
    "**在箱线图规则下，我们看看这些异常用户的游戏时间/氪金情况**"
   ]
  },
  {
   "cell_type": "code",
   "execution_count": 105,
   "id": "a6fec17e-ad2f-4224-b856-240b7bc22372",
   "metadata": {
    "tags": []
   },
   "outputs": [
    {
     "data": {
      "text/plain": [
       "2097154     1.167\n",
       "2097155     1.333\n",
       "2097156     2.500\n",
       "2097157     3.833\n",
       "2097160   753.667\n",
       "            ...  \n",
       "2097138     0.500\n",
       "2097143     2.333\n",
       "2097144     2.333\n",
       "2097149    12.167\n",
       "2097151     1.167\n",
       "Name: 在线时长, Length: 1123706, dtype: float64"
      ]
     },
     "execution_count": 105,
     "metadata": {},
     "output_type": "execute_result"
    }
   ],
   "source": [
    "type(BoxAbnormalIdx)\n",
    "\n",
    "data.loc[list(BoxAbnormalIdx),\"在线时长\"]"
   ]
  },
  {
   "cell_type": "code",
   "execution_count": 106,
   "id": "c1a59103-29d0-4ed6-b2a5-0f60129ab560",
   "metadata": {
    "tags": []
   },
   "outputs": [
    {
     "data": {
      "text/plain": [
       "count   1123706.000\n",
       "mean         19.579\n",
       "std          53.996\n",
       "min           0.000\n",
       "25%           2.333\n",
       "50%           4.500\n",
       "75%          11.667\n",
       "max        2049.667\n",
       "Name: 在线时长, dtype: float64"
      ]
     },
     "execution_count": 106,
     "metadata": {},
     "output_type": "execute_result"
    }
   ],
   "source": [
    "data.loc[list(BoxAbnormalIdx),\"在线时长\"].describe() #在在线时长上，表现是位于氪金用户与不可尽用户之间"
   ]
  },
  {
   "cell_type": "code",
   "execution_count": 107,
   "id": "40ad9ccb-4c9b-4d69-b587-192dc72ed7ce",
   "metadata": {
    "tags": []
   },
   "outputs": [
    {
     "data": {
      "text/plain": [
       "41439"
      ]
     },
     "execution_count": 107,
     "metadata": {},
     "output_type": "execute_result"
    }
   ],
   "source": [
    "(data.loc[list(BoxAbnormalIdx),\"付费金额\"] != 0).sum() #在异常用户中，付费用户的数量"
   ]
  },
  {
   "cell_type": "code",
   "execution_count": 108,
   "id": "10a98915-ecaa-4503-b5d3-e4fc476b97a1",
   "metadata": {
    "tags": []
   },
   "outputs": [
    {
     "data": {
      "text/plain": [
       "41439"
      ]
     },
     "execution_count": 108,
     "metadata": {},
     "output_type": "execute_result"
    }
   ],
   "source": [
    "(data.loc[:,\"付费金额\"] != 0).sum() #所有7日付费用户数"
   ]
  },
  {
   "cell_type": "code",
   "execution_count": 109,
   "id": "28ac3889-375c-40ea-b449-976ea98f208c",
   "metadata": {
    "tags": []
   },
   "outputs": [
    {
     "data": {
      "text/plain": [
       "45670"
      ]
     },
     "execution_count": 109,
     "metadata": {},
     "output_type": "execute_result"
    }
   ],
   "source": [
    "(data.loc[list(BoxAbnormalIdx),\"45日付费金额\"] != 0).sum() #在异常用户中，付费用户的数量"
   ]
  },
  {
   "cell_type": "code",
   "execution_count": 110,
   "id": "218b0bfd-645b-402d-97a6-31d83ffc5014",
   "metadata": {
    "tags": []
   },
   "outputs": [
    {
     "data": {
      "text/plain": [
       "45988"
      ]
     },
     "execution_count": 110,
     "metadata": {},
     "output_type": "execute_result"
    }
   ],
   "source": [
    "(data.loc[:,\"45日付费金额\"] != 0).sum() #所有7日付费用户数"
   ]
  },
  {
   "cell_type": "markdown",
   "id": "b9ad36ba-a966-411b-9a3a-1d1932adbfdb",
   "metadata": {},
   "source": [
    "付费用户被100%包含在了异常用户里，这说明：\n",
    "> - 付费用户的数据在现有数据的大背景下（大部分用户短时间快速流失掉）下，在统计上是完全异常的，因此建模时想要辨认出付费用户，模型需要很深入的学习，有很高的过拟合风险<br>\n",
    "> - 异常用户有100w，其中只有4w多付费，即许多与氪金用户行为高度相似的用户都没有氪金，对算法来说这部分用户是很难判断的\n",
    "\n",
    "在进行算法建模时，需要更加灵活的方法来处理这些异常数据。"
   ]
  },
  {
   "cell_type": "code",
   "execution_count": null,
   "id": "e747663c-2c38-427d-bef4-a065d84c756f",
   "metadata": {},
   "outputs": [],
   "source": []
  }
 ],
 "metadata": {
  "kernelspec": {
   "display_name": "Python 3 (ipykernel)",
   "language": "python",
   "name": "python3"
  },
  "language_info": {
   "codemirror_mode": {
    "name": "ipython",
    "version": 3
   },
   "file_extension": ".py",
   "mimetype": "text/x-python",
   "name": "python",
   "nbconvert_exporter": "python",
   "pygments_lexer": "ipython3",
   "version": "3.11.5"
  }
 },
 "nbformat": 4,
 "nbformat_minor": 5
}
